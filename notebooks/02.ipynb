{
  "cells": [
    {
      "cell_type": "markdown",
      "metadata": {
        "id": "nzf-42lVT_4Q"
      },
      "source": [
        "# Sesión 2. Introducción al Deep Learning"
      ]
    },
    {
      "cell_type": "markdown",
      "metadata": {
        "id": "QpU3gbwF15Ep"
      },
      "source": [
        "# Introducción"
      ]
    },
    {
      "cell_type": "markdown",
      "metadata": {
        "id": "vr71NX7aCJqJ"
      },
      "source": [
        "En esta última década el Aprendizaje Profundo (*Deep Learning*) ha impulsado un rápido progreso en campos tan diversos como la visión por ordenador, el procesamiento del lenguaje natural, el reconocimiento automático del habla, el aprendizaje por refuerzo y la informática biomédica. Además, el éxito del aprendizaje profundo en tantas tareas de interés ha catalizado incluso desarrollos en el aprendizaje automático teórico y la estadística. Con estos avances en la mano, ahora podemos construir coches que se conducen solos con más autonomía que nunca (y menos autonomía de lo que algunas empresas podrían hacer creer), sistemas de respuesta inteligente que redactan automáticamente los correos electrónicos más mundanos y máquinas que dominan a los mejores humanos del mundo en juegos de mesa como el Go, una hazaña que antes se creía que estaba a décadas de distancia. Estas herramientas ya ejercen un impacto cada vez mayor en la industria y la sociedad, cambiando la forma de hacer películas, diagnosticar enfermedades y desempeñando un papel cada vez más importante en las ciencias básicas, desde la astrofísica hasta la biología."
      ]
    },
    {
      "cell_type": "markdown",
      "metadata": {
        "id": "NQtzGJnOhhsQ"
      },
      "source": [
        "## Inteligencia Artificial\n",
        "- Machine Learning\n",
        "    - Árboles de decisión / Random Forest\n",
        "    - Support Vector Machines (SVM)\n",
        "    - Algoritmos Gradient Boosting y AdaBoosting\n",
        "- Deep Learning\n",
        "    - Redes Neuronales\n",
        "        - Convolucionales\n",
        "        - Recurrentes\n",
        "        - Transformers\n",
        "- Reinforcement Learning\n",
        "    - State, action, reward, state, action (SARSA)\n",
        "    - Deep Q Network\n",
        "    - Deep Deterministic Policy Gradient\n",
        "    - Asynchronous Advantage Actor-Critic Algorithm"
      ]
    },
    {
      "cell_type": "markdown",
      "metadata": {
        "id": "YKBqs3tRfXnv"
      },
      "source": [
        "## Componentes clave\n",
        "\n",
        "- **Datos** de los que aprender\n",
        "- Un **modelo** para transformar los datos de entrada en las respuestas esperadas\n",
        "- Una **función objetivo** que cuantifique como de bien (o mal) se está comportando el modelo\n",
        "- Un **algoritmo** que ajuste los parámetros de dicho modelo para optimizar la función objetivo"
      ]
    },
    {
      "cell_type": "markdown",
      "metadata": {
        "id": "U2v6Svalg8im"
      },
      "source": [
        "### Dataset"
      ]
    },
    {
      "cell_type": "markdown",
      "metadata": {
        "id": "NBkZN97BulR2"
      },
      "source": [
        "Imágenes, texto, secuencias de datos, series temporales, ..."
      ]
    },
    {
      "cell_type": "markdown",
      "metadata": {
        "id": "xhejrHfZhNBP"
      },
      "source": [
        "### Modelos"
      ]
    },
    {
      "cell_type": "markdown",
      "metadata": {
        "id": "pt8M_UHgvRPN"
      },
      "source": [
        "Por modelo, denotamos la arquitectura computacional que permite recibir datos de un determinado tipo y emitir predicciones de un tipo posiblemente diferente. En particular, nos interesan modelos estadísticos que sean capaces de realizar dicha transformación y que puedan estimarse a partir de los datos"
      ]
    },
    {
      "cell_type": "markdown",
      "metadata": {},
      "source": [
        "<img src=\"https://raw.githubusercontent.com/ramajoballester/UC3M-PIC/main/data/content/mlp.svg\"\n",
        "    style=\"background-color:white; display:block; margin-left:auto; margin-right:auto; height:1000vh; width:auto; max-height:0.8vh;\"/>"
      ]
    },
    {
      "cell_type": "markdown",
      "metadata": {
        "id": "JiAXWiqihPLo"
      },
      "source": [
        "### Funciones objetivo (pérdida)"
      ]
    },
    {
      "cell_type": "markdown",
      "metadata": {
        "id": "HQILRW3a_6DJ"
      },
      "source": [
        "Para desarrollar un sistema matemático formal de aprendizaje automático, necesitamos tener medidas formales de lo buenos (o malos) que son nuestros modelos. En el Deep Learning, y en la optimización en general, las llamamos funciones objetivo. Por convención, solemos definir las funciones objetivo de manera que lo más bajo es lo mejor. Esto no es más que una convención. Se puede tomar cualquier función para la que sea mejor el valor más alto y convertirla en una nueva función cualitativamente idéntica, pero para la que sea mejor el valor más bajo, cambiando el signo. Dado que menor es mejor, estas funciones se denominan a veces funciones de pérdida.\n",
        "\n",
        "Cuando se trata de predecir valores numéricos, la función de pérdida más común es el error cuadrático, es decir, el cuadrado de la diferencia entre la predicción y el valor verdadero. Para la clasificación, el objetivo más común es minimizar la tasa de error, es decir, la fracción de ejemplos en los que nuestras predicciones no coinciden con el valor real. Algunas de estas funciones objetivo (por ejemplo, el error cuadrático) son fáciles de optimizar. Otras (por ejemplo, la tasa de error) son difíciles de optimizar directamente, debido a la no diferenciabilidad u otras dificultades. En estos casos, es habitual optimizar una función objetivo \"surrogada\".\n",
        "\n",
        "Normalmente, la función de pérdida se define con respecto a los parámetros del modelo y depende del conjunto de datos. Se aprenden los mejores valores de los parámetros de nuestro modelo minimizando la pérdida en un conjunto formado por un cierto número de ejemplos recogidos para el entrenamiento. Sin embargo, hacerlo bien en los datos de entrenamiento no garantiza que lo hagamos bien con datos nuevos. Por ello, normalmente conviene dividir los datos disponibles en dos particiones: el conjunto de datos de entrenamiento (para ajustar los parámetros del modelo) y el conjunto de datos de prueba (para la evaluación), mostrando el rendimiento del modelo en ambos."
      ]
    },
    {
      "cell_type": "markdown",
      "metadata": {
        "id": "8gknCphJhWcX"
      },
      "source": [
        "### Algoritmos de optimización"
      ]
    },
    {
      "cell_type": "markdown",
      "metadata": {
        "id": "vgI9uHv0AljC"
      },
      "source": [
        "- Descenso de Gradiente\n",
        "- Descenso de Gradiente Estocástico (SGD)\n",
        "- Adam\n",
        "- RMSProp"
      ]
    },
    {
      "cell_type": "markdown",
      "metadata": {
        "id": "w7q4EisXhZhX"
      },
      "source": [
        "## Tipos de proyectos de Machine / Deep Learning"
      ]
    },
    {
      "cell_type": "markdown",
      "metadata": {
        "id": "nKIguBuUnIqg"
      },
      "source": [
        "### Aprendizaje supervisado"
      ]
    },
    {
      "cell_type": "markdown",
      "metadata": {
        "id": "tOJuw3a9occk"
      },
      "source": [
        "El aprendizaje supervisado se ocupa de la tarea de predecir etiquetas dadas una serie de entradas. Nuestro objetivo es producir un modelo que asigne a cualquier entrada una predicción de etiqueta.\n"
      ]
    },
    {
      "cell_type": "markdown",
      "metadata": {},
      "source": [
        "<img src=\"https://raw.githubusercontent.com/ramajoballester/UC3M-PIC/main/data/content/supervised-learning.svg\" \n",
        "    style=\"background-color:white; display:block; margin-left:auto; margin-right:auto; height:1000vh; width:auto; max-height:0.7vh;\"/>"
      ]
    },
    {
      "cell_type": "markdown",
      "metadata": {
        "id": "Y7A-xXFtR9-Q"
      },
      "source": [
        "\n",
        "Para basar esta descripción en un ejemplo concreto, si trabajáramos en el ámbito de la sanidad, podríamos querer predecir si un paciente va a sufrir o no un ataque al corazón. Esta observación, \"ataque al corazón\" o \"no ataque al corazón\", sería nuestra etiqueta, en este caso, binaria. Las entradas podrían ser los signos vitales, como la frecuencia cardíaca o la presión arterial diastólica y sistólica.\n",
        "\n",
        "La supervisión entra en juego porque, para elegir los parámetros, nosotros (los supervisores) proporcionamos al modelo un conjunto de datos formado por ejemplos etiquetados. En términos probabilísticos, normalmente nos interesa estimar la probabilidad condicional de una etiqueta dadas las características de entrada. Aunque es sólo uno de los paradigmas del aprendizaje automático, el aprendizaje supervisado representa la mayoría de las aplicaciones exitosas del aprendizaje automático en la industria. En parte, esto se debe a que muchas tareas importantes pueden describirse claramente como la estimación de la probabilidad de algo desconocido dado un conjunto particular de datos disponibles.\n",
        "\n",
        "- Regresión lineal / logística\n",
        "- Clasificación\n",
        "- Búsqueda\n",
        "- Sistemas de recomendación\n",
        "- Aprendizaje de secuencias / series temporales\n",
        " - Reconocimiento del habla\n",
        " - Transcripción del discurso\n",
        " - Traducción automática"
      ]
    },
    {
      "cell_type": "markdown",
      "metadata": {
        "id": "GY96K6AoqHUk"
      },
      "source": [
        "### Aprendizaje no supervisado\n",
        "\n"
      ]
    },
    {
      "cell_type": "markdown",
      "metadata": {
        "id": "gPruxlEEqRpw"
      },
      "source": [
        "El aprendizaje no supervisado, en cambio, no dispone de etiquetas para saber cómo debe aprender el modelo. Son problemas del tipo: ¿existe algún número de conjuntos de características que permitan resumir los datos?\n",
        "\n",
        "Por ejemplo, dado un conjunto de imágenes de perros, ¿podríamos extraer alguna característica que nos permita agruparlos, por ejemplo, el color, tamaño, raza,...?\n",
        "\n",
        "¿Existe una representación de objetos (arbitrariamente estructurados) en el espacio euclídeo tal que las propiedades simbólicas puedan emparejarse bien? Esto puede servir para describir entidades y sus relaciones, como \"Roma\" e \"Italia\" o \"Francia\" y \"París\".\n",
        "\n",
        "Otra forma de aprendizaje no supervisado, es el aprendizaje autosupervisado, el cual aprovecha los datos no etiquetados para proporcionar supervisión en el entrenamiento. Por ejemplo, prediciendo alguna parte oculta de los datos utilizando otras partes. En el caso de un texto, podemos entrenar modelos para \"rellenar los espacios en blanco\" mediante la predicción de palabras ocultas al azar utilizando sus palabras cercanas (contexto) en grandes corpus sin ningún esfuerzo de etiquetado. Para las imágenes, podemos entrenar modelos para decir la posición relativa entre dos regiones recortadas de la misma imagen.\n",
        "\n",
        "- K-means clustering\n",
        "- KNN (k-nearest neighbors)\n",
        "- Clustering jerárquico\n",
        "- Detección de anomalías\n",
        "- Análisis de Componentes Principales (PCA)"
      ]
    },
    {
      "cell_type": "markdown",
      "metadata": {},
      "source": [
        "<img src=\"https://raw.githubusercontent.com/ramajoballester/UC3M-PIC/main/data/content/non-supervised.svg\" \n",
        "    style=\"background-color:white; display:block; margin-left:auto; margin-right:auto; height:1000vh; width:auto; max-height:0.8vh;\"/>"
      ]
    },
    {
      "cell_type": "markdown",
      "metadata": {
        "id": "g-LRswoNATYO"
      },
      "source": [
        "# Regresión lineal"
      ]
    },
    {
      "cell_type": "markdown",
      "metadata": {
        "id": "KAM6I1a_LhkU"
      },
      "source": [
        "## Implementación desde cero"
      ]
    },
    {
      "cell_type": "markdown",
      "metadata": {
        "id": "EMu6BcL2_Ac-"
      },
      "source": [
        "La regresión lineal es un modelo matemático que aproxima la relación entre una o más variables independientes y una variable dependiente. En las ciencias naturales y sociales, el objetivo de la regresión suele ser caracterizar la relación entre las entradas y las salidas. El aprendizaje automático, en cambio, se ocupa más a menudo de la predicción.\n",
        "\n",
        "Los problemas de regresión surgen siempre que queremos predecir un valor numérico. Algunos ejemplos comunes son la predicción de precios (de viviendas, acciones, etc.), la predicción de la duración de la estancia (para los pacientes en el hospital), la previsión de la demanda (para las ventas al por menor), entre otros innumerables. No todos los problemas de predicción son problemas clásicos de regresión. En los problemas de clasificación, por ejemplo, el objetivo es predecir la pertenencia a un conjunto de categorías."
      ]
    },
    {
      "cell_type": "markdown",
      "metadata": {},
      "source": [
        "Recordatorio:\n",
        "- Credenciales Google\n",
        "- Login wandb"
      ]
    },
    {
      "cell_type": "code",
      "execution_count": 1,
      "metadata": {},
      "outputs": [],
      "source": [
        "%load_ext autoreload\n",
        "%autoreload 2\n",
        "\n",
        "import os\n",
        "import uc3m_pic\n",
        "import random\n",
        "import torch\n",
        "import wandb\n",
        "import matplotlib.pyplot as plt\n",
        "from matplotlib.colors import hsv_to_rgb"
      ]
    },
    {
      "cell_type": "code",
      "execution_count": 2,
      "metadata": {
        "id": "GzcEopeqenUt"
      },
      "outputs": [],
      "source": [
        "def synthetic_data(w, b, noise, num_examples):\n",
        "    \"\"\"Generar y = Xw + b + ruido\"\"\"\n",
        "    x = torch.normal(0, 1, (num_examples, len(w)))\n",
        "    y = torch.matmul(x, w) + b\n",
        "    y += torch.normal(0, noise, y.shape)\n",
        "    return x, y.reshape((-1, 1))\n",
        "\n",
        "true_w = torch.tensor([2.0])\n",
        "true_b = 4.2\n",
        "noise = 0.5\n",
        "features, labels = synthetic_data(true_w, true_b, noise, 1000)"
      ]
    },
    {
      "cell_type": "code",
      "execution_count": 3,
      "metadata": {
        "colab": {
          "base_uri": "https://localhost:8080/",
          "height": 265
        },
        "id": "-7PPyyyFemkn",
        "outputId": "3ceb2feb-55d2-40a4-ecbe-c3804635901d"
      },
      "outputs": [
        {
          "data": {
            "image/png": "[encoded data removed]",
            "text/plain": [
              "<Figure size 640x480 with 1 Axes>"
            ]
          },
          "metadata": {},
          "output_type": "display_data"
        }
      ],
      "source": [
        "plt.scatter(features[:, 0], labels, 1);"
      ]
    },
    {
      "cell_type": "code",
      "execution_count": 4,
      "metadata": {
        "id": "pxpE59QMlSbg"
      },
      "outputs": [],
      "source": [
        "def data_iter(batch_size, features, labels):\n",
        "    num_examples = len(features)\n",
        "    indices = list(range(num_examples))\n",
        "\n",
        "    # Los ejemplos se leen en orden aleatorio, sin ningun orden en particular\n",
        "    random.shuffle(indices)\n",
        "    for i in range(0, num_examples, batch_size):\n",
        "        batch_indices = torch.tensor(\n",
        "            indices[i: min(i + batch_size, num_examples)])\n",
        "        yield features[batch_indices], labels[batch_indices]"
      ]
    },
    {
      "cell_type": "code",
      "execution_count": 5,
      "metadata": {
        "colab": {
          "base_uri": "https://localhost:8080/"
        },
        "id": "fUYPznlGkwFX",
        "outputId": "82dc280c-38cc-467d-f09f-5a0b2cb62f3d"
      },
      "outputs": [
        {
          "name": "stdout",
          "output_type": "stream",
          "text": [
            "torch.Size([8, 1])\n",
            "torch.Size([8, 1])\n"
          ]
        }
      ],
      "source": [
        "batch_size = 8\n",
        "\n",
        "for x, y in data_iter(batch_size, features, labels):\n",
        "    print(x.shape)\n",
        "    print(y.shape)\n",
        "    break"
      ]
    },
    {
      "cell_type": "code",
      "execution_count": 6,
      "metadata": {
        "id": "KxWgrHTgllBy"
      },
      "outputs": [],
      "source": [
        "def linreg(x, w, b):\n",
        "    # Modelo de regresión lineal\n",
        "    return torch.matmul(x, w) + b"
      ]
    },
    {
      "cell_type": "code",
      "execution_count": 7,
      "metadata": {
        "id": "uRvU2V0YmqTp"
      },
      "outputs": [],
      "source": [
        "def squared_loss(y_pred, y):\n",
        "    # Función de pérdida Squared Loss\n",
        "    return (y_pred - y.reshape(y_pred.shape)) ** 2 / 2"
      ]
    },
    {
      "cell_type": "markdown",
      "metadata": {
        "id": "Ai9r2CZTIXvL"
      },
      "source": [
        "Procesamiento de la entrada $\\mathbf{x}$ para obtener la predicción $\\hat{y}$:\n",
        "\n",
        "$$\\hat{y} = w_1  x_1 + ... + w_d  x_d + b.$$\n",
        "\n",
        "$$\\hat{y} = \\mathbf{w}^\\top \\mathbf{x} + b.$$\n",
        "\n",
        "Función de pérdida\n",
        "$$l^{(i)}(\\mathbf{w}, b) = \\frac{1}{2} \\left(\\hat{y}^{(i)} - y^{(i)}\\right)^2$$\n",
        "\n",
        "$$L(\\mathbf{w}, b) =\\frac{1}{n}\\sum_{i=1}^n l^{(i)}(\\mathbf{w}, b) =\\frac{1}{n} \\sum_{i=1}^n \\frac{1}{2}\\left(\\mathbf{w}^\\top \\mathbf{x}^{(i)} + b - y^{(i)}\\right)^2$$\n",
        "\n",
        "Descenso de gradiente\n",
        "$$(\\mathbf{w},b) \\leftarrow (\\mathbf{w},b) - \\frac{\\alpha}{|\\mathcal{B}|} \\sum_{i \\in \\mathcal{B}} \\partial_{(\\mathbf{w},b)} l^{(i)}(\\mathbf{w},b)$$\n",
        "\n",
        "GD para $w$\n",
        "$$\\mathbf{w} \\leftarrow \\mathbf{w} - \\frac{\\alpha}{|\\mathcal{B}|} \\sum_{i \\in \\mathcal{B}} \\partial_{\\mathbf{w}} l^{(i)}(\\mathbf{w}, b) = \\mathbf{w} - \\frac{\\alpha}{|\\mathcal{B}|} \\sum_{i \\in \\mathcal{B}} \\mathbf{x}^{(i)} \\left(\\mathbf{w}^\\top \\mathbf{x}^{(i)} + b - y^{(i)}\\right)$$\n",
        "\n",
        "GD para $b$\n",
        "$$b \\leftarrow b -  \\frac{\\alpha}{|\\mathcal{B}|} \\sum_{i \\in \\mathcal{B}} \\partial_b l^{(i)}(\\mathbf{w}, b)  = b - \\frac{\\alpha\\\\}{|\\mathcal{B}|} \\sum_{i \\in \\mathcal{B}} \\left(\\mathbf{w}^\\top \\mathbf{x}^{(i)} + b - y^{(i)}\\right)$$"
      ]
    },
    {
      "cell_type": "code",
      "execution_count": 8,
      "metadata": {
        "id": "KfYmP07rmzzY"
      },
      "outputs": [],
      "source": [
        "def sgd(params, lr, batch_size):\n",
        "    # Descenso de gradiente estocástico\n",
        "    with torch.no_grad():\n",
        "        for param in params:\n",
        "            param -= lr * param.grad / batch_size\n",
        "            param.grad.zero_()"
      ]
    },
    {
      "cell_type": "markdown",
      "metadata": {},
      "source": [
        "<img src=\"https://raw.githubusercontent.com/ramajoballester/UC3M-PIC/main/data/content/fit-linreg.svg\" \n",
        "    style=\"background-color:white; display:block; margin-left:auto; margin-right:auto; height:1000vh; width:auto; max-height:0.7vh;\"/>"
      ]
    },
    {
      "cell_type": "code",
      "execution_count": 9,
      "metadata": {
        "colab": {
          "base_uri": "https://localhost:8080/"
        },
        "id": "oZ3gwpe7m8iA",
        "outputId": "ba8940de-994d-41c4-8b11-c12da809a88e"
      },
      "outputs": [
        {
          "name": "stdout",
          "output_type": "stream",
          "text": [
            "Epoch 1, loss 0.9909\n",
            "Epoch 2, loss 0.1974\n",
            "Epoch 3, loss 0.1344\n",
            "Epoch 4, loss 0.1287\n",
            "Epoch 5, loss 0.1283\n"
          ]
        }
      ],
      "source": [
        "# Inicialización de los parámetros del modelo distinta a cero y no uniforme\n",
        "w = torch.normal(0, 0.01, size=(len(true_w),1), requires_grad=True)\n",
        "b = torch.zeros(1, requires_grad=True)\n",
        "\n",
        "# Learning rate\n",
        "lr = 0.01\n",
        "# Número de epochs de entrenamiento\n",
        "num_epochs = 5\n",
        "# Modelo a optimizar\n",
        "model = linreg\n",
        "# Función de pérdida cuadrática\n",
        "loss = squared_loss\n",
        "\n",
        "w_history = [w.item()]\n",
        "b_history = [b.item()]\n",
        "\n",
        "for epoch in range(num_epochs):\n",
        "    for x, y in data_iter(batch_size, features, labels):\n",
        "        # Pérdida entre predicción del modelo y los valores reales y\n",
        "        l = loss(model(x, w, b), y)\n",
        "        # Cálculo de los gradientes (derivadas) de la función de pérdida respecto\n",
        "        # de los parámetros del modelo\n",
        "        l.sum().backward()\n",
        "        # Actualización de los parámetros según sus gradientes\n",
        "        sgd([w, b], lr, batch_size)\n",
        "    with torch.no_grad():\n",
        "        train_l = loss(model(features, w, b), labels)\n",
        "        print(f'Epoch {epoch + 1}, loss {float(train_l.mean()):.4f}')\n",
        "    \n",
        "    w_history.append(w.item())\n",
        "    b_history.append(b.item())"
      ]
    },
    {
      "cell_type": "code",
      "execution_count": 10,
      "metadata": {
        "colab": {
          "base_uri": "https://localhost:8080/"
        },
        "id": "7__tXXWfp5XS",
        "outputId": "50e68d77-2350-4ea3-c834-50425d81cb28"
      },
      "outputs": [
        {
          "name": "stdout",
          "output_type": "stream",
          "text": [
            "Error de estimación w: tensor([-0.0002], grad_fn=<SubBackward0>)\n",
            "Error de estimación b: tensor([-0.0052], grad_fn=<RsubBackward1>)\n"
          ]
        }
      ],
      "source": [
        "print('Error de estimación w: {}'.format(true_w - w.reshape(true_w.shape)))\n",
        "print('Error de estimación b: {}'.format(true_b - b))"
      ]
    },
    {
      "cell_type": "code",
      "execution_count": 11,
      "metadata": {
        "colab": {
          "base_uri": "https://localhost:8080/"
        },
        "id": "7iLQS_kSp9fI",
        "outputId": "909e7de6-1d1b-409e-e71c-a1fffb924f04"
      },
      "outputs": [
        {
          "name": "stdout",
          "output_type": "stream",
          "text": [
            "tensor([[2.0002]], requires_grad=True)\n",
            "tensor([2.])\n"
          ]
        }
      ],
      "source": [
        "print(w)\n",
        "print(true_w)"
      ]
    },
    {
      "cell_type": "code",
      "execution_count": 12,
      "metadata": {
        "colab": {
          "base_uri": "https://localhost:8080/",
          "height": 265
        },
        "id": "Lpym07tD3qot",
        "outputId": "bc45658e-3b24-4c14-f20c-8f0bccb2f42a"
      },
      "outputs": [
        {
          "data": {
            "image/png": "[encoded data removed]",
            "text/plain": [
              "<Figure size 640x480 with 1 Axes>"
            ]
          },
          "metadata": {},
          "output_type": "display_data"
        }
      ],
      "source": [
        "x1 = min(features[:, 0])\n",
        "x2 = max(features[:, 0])\n",
        "fig = plt.figure()\n",
        "plt.scatter(features[:, 0], labels, 1, color='k');\n",
        "for i in range(len(w_history)):\n",
        "    y1, y2 = (w_history[i] * torch.Tensor([[x1], [x2]]) + b_history[i]).detach().numpy()\n",
        "    plt.plot([x1, x2], [y1, y2], color=hsv_to_rgb((0.5*(i/len(w_history)), 1, 0.8)), linewidth=2)\n",
        "plt.show()"
      ]
    },
    {
      "cell_type": "markdown",
      "metadata": {
        "id": "E-hwdwc0LmNM"
      },
      "source": [
        "## Implementación en Pytorch (con TI)"
      ]
    },
    {
      "cell_type": "code",
      "execution_count": 13,
      "metadata": {
        "id": "T4y8b9-pY9y3"
      },
      "outputs": [],
      "source": [
        "import torch.nn.functional as F\n",
        "from torch import nn\n",
        "from torch.nn import Sequential"
      ]
    },
    {
      "cell_type": "code",
      "execution_count": 14,
      "metadata": {
        "id": "lgaPkL3aQfR9"
      },
      "outputs": [],
      "source": [
        "true_w = torch.tensor([2.0])\n",
        "true_b = 4.2\n",
        "noise = 0.5\n",
        "features, labels = synthetic_data(true_w, true_b, noise, 1000)"
      ]
    },
    {
      "cell_type": "code",
      "execution_count": 15,
      "metadata": {
        "id": "l_MBVSLTXmvx"
      },
      "outputs": [],
      "source": [
        "class LinReg(nn.Module):\n",
        "    '''\n",
        "    Modelo de regresión lineal\n",
        "    '''\n",
        "\n",
        "    # Constructor (puede incluir parámetros para la inicialización)\n",
        "    def __init__(self):\n",
        "        super(LinReg, self).__init__()\n",
        "        self.linear = nn.Linear(1, 1)\n",
        "        \n",
        "    def forward(self, x):\n",
        "        out = self.linear(x)\n",
        "        return out"
      ]
    },
    {
      "cell_type": "code",
      "execution_count": 16,
      "metadata": {},
      "outputs": [],
      "source": [
        "# Create the same model as before but using the compile method of pytorch 2.0\n",
        "model = LinReg()"
      ]
    },
    {
      "cell_type": "code",
      "execution_count": 17,
      "metadata": {
        "id": "IiD7zFY9bKUX"
      },
      "outputs": [],
      "source": [
        "# Batch size\n",
        "batch_size = 8\n",
        "# Learning rate\n",
        "lr = 0.01\n",
        "# Número de epochs de entrenamiento\n",
        "num_epochs = 5"
      ]
    },
    {
      "cell_type": "code",
      "execution_count": 18,
      "metadata": {},
      "outputs": [],
      "source": [
        "dataset = torch.utils.data.TensorDataset(features, labels)\n",
        "dataloader = torch.utils.data.DataLoader(dataset, batch_size, shuffle=True)"
      ]
    },
    {
      "cell_type": "code",
      "execution_count": 19,
      "metadata": {
        "id": "Mgcmnq7oayT3"
      },
      "outputs": [],
      "source": [
        "# Función de pérdida\n",
        "loss = nn.MSELoss()\n",
        "# Optimizador\n",
        "optimizer = torch.optim.SGD(model.parameters(), lr=lr)"
      ]
    },
    {
      "cell_type": "code",
      "execution_count": 20,
      "metadata": {
        "colab": {
          "base_uri": "https://localhost:8080/"
        },
        "id": "aMVImhELbVFR",
        "outputId": "7646cdf6-dcf4-47d5-f2ba-aae9369eae41"
      },
      "outputs": [
        {
          "name": "stdout",
          "output_type": "stream",
          "text": [
            "Epoch 1, loss 0.192833\n",
            "Epoch 2, loss 0.121354\n",
            "Epoch 3, loss 0.120800\n",
            "Epoch 4, loss 0.120775\n",
            "Epoch 5, loss 0.120774\n"
          ]
        }
      ],
      "source": [
        "# Inicialización de los parámetros (se inicializan por defecto)\n",
        "model.linear.weight.data.normal_(0, 0.01)\n",
        "model.linear.bias.data.fill_(0)\n",
        "\n",
        "for epoch in range(num_epochs):\n",
        "    # Train loop\n",
        "    for x, y in dataloader:\n",
        "        l = loss(model(x) ,y)\n",
        "        optimizer.zero_grad()\n",
        "        l.backward()\n",
        "        optimizer.step()\n",
        "    \n",
        "    # Test loop\n",
        "    with torch.no_grad():\n",
        "        l = loss(model(features), labels) / 2\n",
        "\n",
        "    print(f'Epoch {epoch + 1}, loss {l:f}')"
      ]
    },
    {
      "cell_type": "code",
      "execution_count": 21,
      "metadata": {},
      "outputs": [
        {
          "name": "stdout",
          "output_type": "stream",
          "text": [
            "Error de estimación w: tensor([-0.0223], grad_fn=<SubBackward0>)\n",
            "Error de estimación b: tensor([0.0132], grad_fn=<RsubBackward1>)\n"
          ]
        }
      ],
      "source": [
        "print('Error de estimación w: {}'.format(true_w - model.linear.weight.reshape(true_w.shape)))\n",
        "print('Error de estimación b: {}'.format(true_b - model.linear.bias))"
      ]
    },
    {
      "cell_type": "code",
      "execution_count": 22,
      "metadata": {
        "colab": {
          "base_uri": "https://localhost:8080/",
          "height": 266
        },
        "id": "E6RolFd84-1R",
        "outputId": "fd6b60db-bb83-4a88-f604-d35419c3ac88"
      },
      "outputs": [
        {
          "data": {
            "image/png": "[encoded data removed]",
            "text/plain": [
              "<Figure size 640x480 with 1 Axes>"
            ]
          },
          "metadata": {},
          "output_type": "display_data"
        }
      ],
      "source": [
        "plt.scatter(features, labels, s=1.5);\n",
        "plt.scatter(features, model(features).detach(), s=1.5);"
      ]
    },
    {
      "cell_type": "markdown",
      "metadata": {
        "id": "CkW3HJhlFKsj"
      },
      "source": [
        "## Ejercicio 0"
      ]
    },
    {
      "cell_type": "code",
      "execution_count": 23,
      "metadata": {
        "id": "mtV1dKJRESdD"
      },
      "outputs": [],
      "source": [
        "import copy"
      ]
    },
    {
      "cell_type": "code",
      "execution_count": 82,
      "metadata": {},
      "outputs": [],
      "source": [
        "import uc3m_pic_enc"
      ]
    },
    {
      "cell_type": "code",
      "execution_count": null,
      "metadata": {},
      "outputs": [],
      "source": [
        "student = uc3m_pic_enc.eval.User('100100100')\n",
        "student.login(os.path.join(uc3m_pic.__path__[0], '..', \n",
        "                           'gsheets', 'creds.json'))\n",
        "student.open_by_url('https://docs.google.com/spreadsheets/d/1sGXOQo0WgKjllJSdE778EBhU63f-wmSrazeINSnl1a0/edit?usp=sharing')"
      ]
    },
    {
      "cell_type": "code",
      "execution_count": 83,
      "metadata": {},
      "outputs": [
        {
          "name": "stdout",
          "output_type": "stream",
          "text": [
            "Please visit this URL: https://accounts.google.com/o/oauth2/auth?response_type=code&client_id=692297904568-btise90r64eqgku08bm84dvabmgf8n2a.apps.googleusercontent.com&redirect_uri=http%3A%2F%2Flocalhost%3A8157%2F&scope=https%3A%2F%2Fwww.googleapis.com%2Fauth%2Fspreadsheets&state=FvqmEI1nXuogPgq5L6UbHQsyXogjtH&access_type=offline\n"
          ]
        }
      ],
      "source": [
        "student = uc3m_pic_enc.eval.User('100440462')\n",
        "student.login_remote(os.path.join(uc3m_pic.__path__[0], '..', \n",
        "                           'gsheets', 'creds.json'))\n"
      ]
    },
    {
      "cell_type": "code",
      "execution_count": 121,
      "metadata": {},
      "outputs": [],
      "source": [
        "student.open_by_url('https://docs.google.com/spreadsheets/d/1sGXOQo0WgKjllJSdE778EBhU63f-wmSrazeINSnl1a0/edit?usp=sharing')"
      ]
    },
    {
      "cell_type": "code",
      "execution_count": 24,
      "metadata": {
        "id": "yfYIYq6Q0HcL"
      },
      "outputs": [],
      "source": [
        "# Replicar el apartado anterior pero con x, x^2 y x^3 como entradas.\n",
        "# 1. Utilizando una aproximación de orden 1\n",
        "# 2. Utilizando una aproximación de orden 2\n",
        "# 3. Utilizando una aproximación de orden a elegir"
      ]
    },
    {
      "cell_type": "code",
      "execution_count": 25,
      "metadata": {
        "id": "bIB7Q_ipNMS9"
      },
      "outputs": [],
      "source": [
        "def synthetic_data2(w, b, noise, num_examples):\n",
        "    x, _ = torch.sort(torch.rand(num_examples))\n",
        "    y = torch.matmul(torch.stack([x, x**2, x**3]).T, w) + b\n",
        "    y += torch.normal(0, noise, y.shape)\n",
        "    return x.unsqueeze(-1), y.unsqueeze(-1)\n",
        "\n",
        "true_w = torch.tensor([5.0, -16.0, 12.0])\n",
        "true_b = torch.Tensor([0.5])\n",
        "noise = 0.1\n",
        "features, labels = synthetic_data2(true_w, true_b, noise, 1000)"
      ]
    },
    {
      "cell_type": "code",
      "execution_count": 26,
      "metadata": {
        "colab": {
          "base_uri": "https://localhost:8080/",
          "height": 265
        },
        "id": "tNbAHnjvOIDH",
        "outputId": "15734b18-aa29-4125-8754-4ed818c6ae42"
      },
      "outputs": [
        {
          "data": {
            "image/png": "[encoded data removed]",
            "text/plain": [
              "<Figure size 640x480 with 1 Axes>"
            ]
          },
          "metadata": {},
          "output_type": "display_data"
        }
      ],
      "source": [
        "plt.scatter(features, labels, s=1.5);"
      ]
    },
    {
      "cell_type": "code",
      "execution_count": 27,
      "metadata": {
        "id": "xlVZM9uPM601"
      },
      "outputs": [],
      "source": [
        "# SOLUCION\n",
        "\n",
        "class LinReg(nn.Module):\n",
        "    '''\n",
        "    Modelo de regresión lineal de orden arbitrario\n",
        "    '''\n",
        "\n",
        "    # Constructor (puede incluir parámetros para la inicialización)\n",
        "    def __init__(self, order):\n",
        "        super(LinReg, self).__init__()\n",
        "        self.order = order\n",
        "        self.linear = nn.Linear(self.order, 1)\n",
        "        \n",
        "    def forward(self, x):\n",
        "        # Equivalente a tener un vector de características [x, x^2, x^3, ..., x^order]\n",
        "        x = torch.cat([x**i for i in range(1, self.order+1)], dim=-1)\n",
        "\n",
        "        # Forward pass\n",
        "        out = self.linear(x)\n",
        "        return out"
      ]
    },
    {
      "cell_type": "code",
      "execution_count": null,
      "metadata": {},
      "outputs": [],
      "source": [
        "class LinReg(nn.Module):\n",
        "    '''\n",
        "    Modelo de regresión lineal de orden arbitrario\n",
        "    '''\n",
        "\n",
        "    # Constructor (puede incluir parámetros para la inicialización)\n",
        "    def __init__(self, order):\n",
        "        super(LinReg, self).__init__()\n",
        "        \n",
        "        # ...\n",
        "        \n",
        "    def forward(self, x):\n",
        "        # Equivalente a tener un vector de características [x, x^2, x^3, ..., x^order]\n",
        "        x = torch.cat([x**i for i in range(1, self.order+1)], dim=-1)\n",
        "        \n",
        "        # out = ...\n",
        "\n",
        "        # return out"
      ]
    },
    {
      "cell_type": "code",
      "execution_count": 104,
      "metadata": {
        "id": "NhacYifJVpcO"
      },
      "outputs": [
        {
          "data": {
            "text/html": [
              "Tracking run with wandb version 0.15.9"
            ],
            "text/plain": [
              "<IPython.core.display.HTML object>"
            ]
          },
          "metadata": {},
          "output_type": "display_data"
        },
        {
          "data": {
            "text/html": [
              "Run data is saved locally in <code>/home/messi/alvaro/UC3M-PIC.private/notebooks/wandb/run-20230830_201615-iodhb0qc</code>"
            ],
            "text/plain": [
              "<IPython.core.display.HTML object>"
            ]
          },
          "metadata": {},
          "output_type": "display_data"
        },
        {
          "data": {
            "text/html": [
              "Syncing run <strong><a href='https://wandb.ai/uc3m-team/uc3m-pic/runs/iodhb0qc' target=\"_blank\">Ejercicio 0</a></strong> to <a href='https://wandb.ai/uc3m-team/uc3m-pic' target=\"_blank\">Weights & Biases</a> (<a href='https://wandb.me/run' target=\"_blank\">docs</a>)<br/>"
            ],
            "text/plain": [
              "<IPython.core.display.HTML object>"
            ]
          },
          "metadata": {},
          "output_type": "display_data"
        },
        {
          "data": {
            "text/html": [
              " View project at <a href='https://wandb.ai/uc3m-team/uc3m-pic' target=\"_blank\">https://wandb.ai/uc3m-team/uc3m-pic</a>"
            ],
            "text/plain": [
              "<IPython.core.display.HTML object>"
            ]
          },
          "metadata": {},
          "output_type": "display_data"
        },
        {
          "data": {
            "text/html": [
              " View run at <a href='https://wandb.ai/uc3m-team/uc3m-pic/runs/iodhb0qc' target=\"_blank\">https://wandb.ai/uc3m-team/uc3m-pic/runs/iodhb0qc</a>"
            ],
            "text/plain": [
              "<IPython.core.display.HTML object>"
            ]
          },
          "metadata": {},
          "output_type": "display_data"
        }
      ],
      "source": [
        "# SOLUCION\n",
        "\n",
        "# Batch size\n",
        "batch_size = 16\n",
        "# Learning rate\n",
        "lr = 0.05\n",
        "# Número de epochs de entrenamiento\n",
        "num_epochs = 100\n",
        "# Orden del polinomio\n",
        "order = 3\n",
        "\n",
        "# Modelo\n",
        "model = LinReg(order)\n",
        "# Función de pérdida\n",
        "loss_fn = nn.MSELoss(reduction='sum')\n",
        "# Optimizador\n",
        "optimizer = torch.optim.Adam(model.parameters(), lr=lr)\n",
        "\n",
        "config = {\n",
        "  'learning_rate':lr,\n",
        "  'epochs': num_epochs,\n",
        "  'batch_size': batch_size,\n",
        "  'optimizer': optimizer.__class__.__name__,\n",
        "  'order': order\n",
        "}\n",
        "\n",
        "# Ejecutar \"wandb login [--relogin]\" antes\n",
        "wandb.init(project=\"uc3m-pic\", name='Ejercicio 0', config=config);"
      ]
    },
    {
      "cell_type": "code",
      "execution_count": null,
      "metadata": {},
      "outputs": [],
      "source": [
        "# Batch size\n",
        "batch_size = ...\n",
        "# Learning rate\n",
        "lr = ...\n",
        "# Número de epochs de entrenamiento\n",
        "num_epochs = ...\n",
        "# Orden del polinomio\n",
        "order = ...\n",
        "# Modelo\n",
        "model = ...\n",
        "# Función de pérdida\n",
        "loss_fn = ...\n",
        "\n",
        "# Optimizador\n",
        "optimizer = ...\n",
        "\n",
        "config = {\n",
        "  'learning_rate':lr,\n",
        "  'epochs': num_epochs,\n",
        "  'batch_size': batch_size,\n",
        "  'optimizer': optimizer.__class__.__name__,\n",
        "  'order': order\n",
        "}\n",
        "\n",
        "# Ejecutar \"wandb login [--relogin]\" antes\n",
        "wandb.init(project=\"uc3m-pic\", name='Ejercicio 0', config=config);"
      ]
    },
    {
      "cell_type": "code",
      "execution_count": 105,
      "metadata": {
        "id": "y_gfG0_xTn8r"
      },
      "outputs": [],
      "source": [
        "dataset = torch.utils.data.TensorDataset(features, labels)\n",
        "dataloader = torch.utils.data.DataLoader(dataset, batch_size=batch_size, shuffle=True)"
      ]
    },
    {
      "cell_type": "code",
      "execution_count": 106,
      "metadata": {
        "id": "5i1d4wctVpcP"
      },
      "outputs": [
        {
          "name": "stdout",
          "output_type": "stream",
          "text": [
            "Epoch 0, loss 0.076125\n",
            "Epoch 1, loss 0.064124\n",
            "Epoch 2, loss 0.051725\n",
            "Epoch 3, loss 0.049949\n",
            "Epoch 4, loss 0.046797\n",
            "Epoch 5, loss 0.047543\n",
            "Epoch 6, loss 0.045179\n"
          ]
        },
        {
          "name": "stdout",
          "output_type": "stream",
          "text": [
            "Epoch 7, loss 0.044158\n",
            "Epoch 8, loss 0.043758\n",
            "Epoch 9, loss 0.043050\n",
            "Epoch 10, loss 0.042893\n",
            "Epoch 11, loss 0.046286\n",
            "Epoch 12, loss 0.041378\n",
            "Epoch 13, loss 0.043765\n",
            "Epoch 14, loss 0.040065\n",
            "Epoch 15, loss 0.039728\n",
            "Epoch 16, loss 0.041046\n",
            "Epoch 17, loss 0.039115\n",
            "Epoch 18, loss 0.037941\n",
            "Epoch 19, loss 0.041324\n",
            "Epoch 20, loss 0.037369\n",
            "Epoch 21, loss 0.044994\n",
            "Epoch 22, loss 0.036484\n",
            "Epoch 23, loss 0.037413\n",
            "Epoch 24, loss 0.035447\n",
            "Epoch 25, loss 0.037559\n",
            "Epoch 26, loss 0.035765\n",
            "Epoch 27, loss 0.039487\n",
            "Epoch 28, loss 0.035667\n",
            "Epoch 29, loss 0.033092\n",
            "Epoch 30, loss 0.032796\n",
            "Epoch 31, loss 0.032487\n",
            "Epoch 32, loss 0.031256\n",
            "Epoch 33, loss 0.031449\n",
            "Epoch 34, loss 0.031508\n",
            "Epoch 35, loss 0.039925\n",
            "Epoch 36, loss 0.035007\n",
            "Epoch 37, loss 0.030646\n",
            "Epoch 38, loss 0.029170\n",
            "Epoch 39, loss 0.030990\n",
            "Epoch 40, loss 0.028032\n",
            "Epoch 41, loss 0.027792\n",
            "Epoch 42, loss 0.030089\n",
            "Epoch 43, loss 0.029390\n",
            "Epoch 44, loss 0.027258\n",
            "Epoch 45, loss 0.028698\n",
            "Epoch 46, loss 0.031272\n",
            "Epoch 47, loss 0.029466\n",
            "Epoch 48, loss 0.025441\n",
            "Epoch 49, loss 0.025187\n",
            "Epoch 50, loss 0.025255\n",
            "Epoch 51, loss 0.028388\n",
            "Epoch 52, loss 0.028021\n",
            "Epoch 53, loss 0.024601\n",
            "Epoch 54, loss 0.024586\n",
            "Epoch 55, loss 0.024310\n",
            "Epoch 56, loss 0.023757\n",
            "Epoch 57, loss 0.023215\n",
            "Epoch 58, loss 0.024460\n",
            "Epoch 59, loss 0.023576\n",
            "Epoch 60, loss 0.022556\n",
            "Epoch 61, loss 0.023315\n",
            "Epoch 62, loss 0.021933\n",
            "Epoch 63, loss 0.022819\n",
            "Epoch 64, loss 0.020751\n",
            "Epoch 65, loss 0.022846\n",
            "Epoch 66, loss 0.021569\n",
            "Epoch 67, loss 0.021521\n",
            "Epoch 68, loss 0.019912\n",
            "Epoch 69, loss 0.021360\n",
            "Epoch 70, loss 0.019955\n",
            "Epoch 71, loss 0.019525\n",
            "Epoch 72, loss 0.020575\n",
            "Epoch 73, loss 0.021396\n",
            "Epoch 74, loss 0.019056\n",
            "Epoch 75, loss 0.022287\n",
            "Epoch 76, loss 0.019874\n",
            "Epoch 77, loss 0.022181\n",
            "Epoch 78, loss 0.019356\n",
            "Epoch 79, loss 0.017655\n",
            "Epoch 80, loss 0.017421\n",
            "Epoch 81, loss 0.017490\n",
            "Epoch 82, loss 0.020271\n",
            "Epoch 83, loss 0.020959\n",
            "Epoch 84, loss 0.016718\n",
            "Epoch 85, loss 0.019194\n",
            "Epoch 86, loss 0.018997\n",
            "Epoch 87, loss 0.016279\n",
            "Epoch 88, loss 0.016121\n",
            "Epoch 89, loss 0.016530\n",
            "Epoch 90, loss 0.016733\n",
            "Epoch 91, loss 0.020624\n",
            "Epoch 92, loss 0.016485\n",
            "Epoch 93, loss 0.015284\n",
            "Epoch 94, loss 0.015677\n",
            "Epoch 95, loss 0.015621\n",
            "Epoch 96, loss 0.018982\n",
            "Epoch 97, loss 0.014914\n",
            "Epoch 98, loss 0.015274\n",
            "Epoch 99, loss 0.014642\n"
          ]
        },
        {
          "data": {
            "text/html": [
              "Waiting for W&B process to finish... <strong style=\"color:green\">(success).</strong>"
            ],
            "text/plain": [
              "<IPython.core.display.HTML object>"
            ]
          },
          "metadata": {},
          "output_type": "display_data"
        },
        {
          "name": "stderr",
          "output_type": "stream",
          "text": [
            "wandb: WARNING Source type is set to 'repo' but some required information is missing from the environment. A job will not be created from this run. See https://docs.wandb.ai/guides/launch/create-job\n"
          ]
        },
        {
          "data": {
            "text/html": [
              "<style>\n",
              "    table.wandb td:nth-child(1) { padding: 0 10px; text-align: left ; width: auto;} td:nth-child(2) {text-align: left ; width: 100%}\n",
              "    .wandb-row { display: flex; flex-direction: row; flex-wrap: wrap; justify-content: flex-start; width: 100% }\n",
              "    .wandb-col { display: flex; flex-direction: column; flex-basis: 100%; flex: 1; padding: 10px; }\n",
              "    </style>\n",
              "<div class=\"wandb-row\"><div class=\"wandb-col\"><h3>Run history:</h3><br/><table class=\"wandb\"><tr><td>loss</td><td>█▅▅▄▄▄▄▄▄▃▄▄▃▃▄▃▃▃▃▂▂▂▂▂▂▂▂▂▂▂▂▂▁▂▁▁▂▁▁▁</td></tr></table><br/></div><div class=\"wandb-col\"><h3>Run summary:</h3><br/><table class=\"wandb\"><tr><td>loss</td><td>0.01464</td></tr></table><br/></div></div>"
            ],
            "text/plain": [
              "<IPython.core.display.HTML object>"
            ]
          },
          "metadata": {},
          "output_type": "display_data"
        },
        {
          "data": {
            "text/html": [
              " View run <strong style=\"color:#cdcd00\">Ejercicio 0</strong> at: <a href='https://wandb.ai/uc3m-team/uc3m-pic/runs/iodhb0qc' target=\"_blank\">https://wandb.ai/uc3m-team/uc3m-pic/runs/iodhb0qc</a><br/>Synced 6 W&B file(s), 0 media file(s), 0 artifact file(s) and 0 other file(s)"
            ],
            "text/plain": [
              "<IPython.core.display.HTML object>"
            ]
          },
          "metadata": {},
          "output_type": "display_data"
        },
        {
          "data": {
            "text/html": [
              "Find logs at: <code>./wandb/run-20230830_201615-iodhb0qc/logs</code>"
            ],
            "text/plain": [
              "<IPython.core.display.HTML object>"
            ]
          },
          "metadata": {},
          "output_type": "display_data"
        }
      ],
      "source": [
        "best_loss = 1000\n",
        "for epoch in range(num_epochs):\n",
        "    # Train loop\n",
        "    model.train()\n",
        "    for x, y in dataloader:\n",
        "        loss = loss_fn(model(x), y)\n",
        "        optimizer.zero_grad()\n",
        "        loss.backward()\n",
        "        optimizer.step()\n",
        "\n",
        "    # Test loop\n",
        "    with torch.no_grad():\n",
        "        model.eval()\n",
        "        total_loss = 0\n",
        "        for x, y in dataloader:\n",
        "            total_loss += loss_fn(model(x), y)\n",
        "        \n",
        "        loss = total_loss / len(dataloader.dataset)\n",
        "    wandb.log({\"loss\": loss})\n",
        "\n",
        "    # Save best model\n",
        "    if best_loss > loss:\n",
        "        best_loss = loss\n",
        "        best_model = copy.deepcopy(model)\n",
        "    print('Epoch {}, loss {:.6f}'.format(epoch, loss))\n",
        "\n",
        "wandb.finish()"
      ]
    },
    {
      "cell_type": "code",
      "execution_count": 124,
      "metadata": {},
      "outputs": [],
      "source": [
        "student.submit(best_model, exercise=0)"
      ]
    },
    {
      "cell_type": "code",
      "execution_count": 116,
      "metadata": {
        "colab": {
          "base_uri": "https://localhost:8080/"
        },
        "id": "AQaWzYc8VpcP",
        "outputId": "fb915bb9-cee1-4298-8196-029aea040f43"
      },
      "outputs": [
        {
          "data": {
            "text/plain": [
              "Parameter containing:\n",
              "tensor([[  2.5888, -10.3867,   8.4261]], requires_grad=True)"
            ]
          },
          "execution_count": 116,
          "metadata": {},
          "output_type": "execute_result"
        }
      ],
      "source": [
        "best_model.linear.weight"
      ]
    },
    {
      "cell_type": "code",
      "execution_count": 72,
      "metadata": {},
      "outputs": [
        {
          "data": {
            "text/plain": [
              "tensor([  5., -16.,  12.])"
            ]
          },
          "execution_count": 72,
          "metadata": {},
          "output_type": "execute_result"
        }
      ],
      "source": [
        "true_w"
      ]
    },
    {
      "cell_type": "code",
      "execution_count": 32,
      "metadata": {
        "colab": {
          "base_uri": "https://localhost:8080/"
        },
        "id": "IXO0pxjiVpcP",
        "outputId": "c782f81f-4585-45a7-c19a-08fb98c05ba9"
      },
      "outputs": [
        {
          "data": {
            "text/plain": [
              "Parameter containing:\n",
              "tensor([0.7669], requires_grad=True)"
            ]
          },
          "execution_count": 32,
          "metadata": {},
          "output_type": "execute_result"
        }
      ],
      "source": [
        "best_model.linear.bias"
      ]
    },
    {
      "cell_type": "code",
      "execution_count": 107,
      "metadata": {
        "colab": {
          "base_uri": "https://localhost:8080/",
          "height": 282
        },
        "id": "UdS7CzkLWGNi",
        "outputId": "73ddd27b-26a7-4b1c-bbaf-a21549ae6102"
      },
      "outputs": [
        {
          "data": {
            "text/plain": [
              "<matplotlib.collections.PathCollection at 0x7f2acc955b50>"
            ]
          },
          "execution_count": 107,
          "metadata": {},
          "output_type": "execute_result"
        },
        {
          "data": {
            "image/png": "[encoded data removed]",
            "text/plain": [
              "<Figure size 640x480 with 1 Axes>"
            ]
          },
          "metadata": {},
          "output_type": "display_data"
        }
      ],
      "source": [
        "plt.scatter(features, labels, s=1.5)\n",
        "plt.scatter(features, best_model(features).detach(), s=1.5)"
      ]
    },
    {
      "cell_type": "code",
      "execution_count": null,
      "metadata": {
        "id": "cLHMjseSKmNh"
      },
      "outputs": [
        {
          "ename": "",
          "evalue": "",
          "output_type": "error",
          "traceback": [
            "\u001b[1;31mnotebook controller is DISPOSED. \n",
            "\u001b[1;31mView Jupyter <a href='command:jupyter.viewOutput'>log</a> for further details."
          ]
        },
        {
          "ename": "",
          "evalue": "",
          "output_type": "error",
          "traceback": [
            "\u001b[1;31mnotebook controller is DISPOSED. \n",
            "\u001b[1;31mView Jupyter <a href='command:jupyter.viewOutput'>log</a> for further details."
          ]
        }
      ],
      "source": [
        "# Ejecutar para subir resultados (value = best_loss)\n",
        "user.leaderboard.update_cell(2, user.row, '1.0')"
      ]
    },
    {
      "cell_type": "markdown",
      "metadata": {
        "id": "Sq6O9Hi473KB"
      },
      "source": [
        "# Regresión softmax"
      ]
    },
    {
      "cell_type": "markdown",
      "metadata": {
        "id": "A-faT0hujuop"
      },
      "source": [
        "## Implementación desde cero"
      ]
    },
    {
      "cell_type": "code",
      "execution_count": null,
      "metadata": {
        "id": "tIkkMk4L8FFx"
      },
      "outputs": [
        {
          "ename": "",
          "evalue": "",
          "output_type": "error",
          "traceback": [
            "\u001b[1;31mnotebook controller is DISPOSED. \n",
            "\u001b[1;31mView Jupyter <a href='command:jupyter.viewOutput'>log</a> for further details."
          ]
        },
        {
          "ename": "",
          "evalue": "",
          "output_type": "error",
          "traceback": [
            "\u001b[1;31mnotebook controller is DISPOSED. \n",
            "\u001b[1;31mView Jupyter <a href='command:jupyter.viewOutput'>log</a> for further details."
          ]
        }
      ],
      "source": [
        "import torchvision"
      ]
    },
    {
      "cell_type": "code",
      "execution_count": null,
      "metadata": {},
      "outputs": [
        {
          "ename": "",
          "evalue": "",
          "output_type": "error",
          "traceback": [
            "\u001b[1;31mnotebook controller is DISPOSED. \n",
            "\u001b[1;31mView Jupyter <a href='command:jupyter.viewOutput'>log</a> for further details."
          ]
        },
        {
          "ename": "",
          "evalue": "",
          "output_type": "error",
          "traceback": [
            "\u001b[1;31mnotebook controller is DISPOSED. \n",
            "\u001b[1;31mView Jupyter <a href='command:jupyter.viewOutput'>log</a> for further details."
          ]
        }
      ],
      "source": []
    },
    {
      "cell_type": "code",
      "execution_count": null,
      "metadata": {
        "id": "XSD0Cvb98WGA"
      },
      "outputs": [
        {
          "ename": "",
          "evalue": "",
          "output_type": "error",
          "traceback": [
            "\u001b[1;31mnotebook controller is DISPOSED. \n",
            "\u001b[1;31mView Jupyter <a href='command:jupyter.viewOutput'>log</a> for further details."
          ]
        },
        {
          "ename": "",
          "evalue": "",
          "output_type": "error",
          "traceback": [
            "\u001b[1;31mnotebook controller is DISPOSED. \n",
            "\u001b[1;31mView Jupyter <a href='command:jupyter.viewOutput'>log</a> for further details."
          ]
        }
      ],
      "source": [
        "# \"ToTensor\" convierte las imágenes de tipo PIL a float32\n",
        "# y divide el resultado entre 255 para restringirlas al rango [0, 1]\n",
        "\n",
        "image_size = 28\n",
        "\n",
        "transf = torchvision.transforms.Compose([\n",
        "    torchvision.transforms.ToTensor(),\n",
        "    torchvision.transforms.Resize((image_size, image_size))\n",
        "])\n",
        "mnist_path = os.path.join(uc3m_pic.__path__[0], '..', 'data', 'mnist')\n",
        "mnist_train = torchvision.datasets.FashionMNIST(\n",
        "    root=mnist_path, train=True, transform=transf, download=True)\n",
        "mnist_test = torchvision.datasets.FashionMNIST(\n",
        "    root=mnist_path, train=False, transform=transf, download=True)"
      ]
    },
    {
      "cell_type": "code",
      "execution_count": null,
      "metadata": {
        "colab": {
          "base_uri": "https://localhost:8080/"
        },
        "id": "YLFiuEdc9CXS",
        "outputId": "d9328eb8-f787-457a-a501-226f20bf5804"
      },
      "outputs": [
        {
          "data": {
            "text/plain": [
              "(60000, 10000)"
            ]
          },
          "execution_count": 6,
          "metadata": {},
          "output_type": "execute_result"
        },
        {
          "ename": "",
          "evalue": "",
          "output_type": "error",
          "traceback": [
            "\u001b[1;31mnotebook controller is DISPOSED. \n",
            "\u001b[1;31mView Jupyter <a href='command:jupyter.viewOutput'>log</a> for further details."
          ]
        },
        {
          "ename": "",
          "evalue": "",
          "output_type": "error",
          "traceback": [
            "\u001b[1;31mnotebook controller is DISPOSED. \n",
            "\u001b[1;31mView Jupyter <a href='command:jupyter.viewOutput'>log</a> for further details."
          ]
        }
      ],
      "source": [
        "len(mnist_train), len(mnist_test)"
      ]
    },
    {
      "cell_type": "code",
      "execution_count": null,
      "metadata": {
        "id": "L8qTOUGv9KxJ"
      },
      "outputs": [
        {
          "ename": "",
          "evalue": "",
          "output_type": "error",
          "traceback": [
            "\u001b[1;31mnotebook controller is DISPOSED. \n",
            "\u001b[1;31mView Jupyter <a href='command:jupyter.viewOutput'>log</a> for further details."
          ]
        },
        {
          "ename": "",
          "evalue": "",
          "output_type": "error",
          "traceback": [
            "\u001b[1;31mnotebook controller is DISPOSED. \n",
            "\u001b[1;31mView Jupyter <a href='command:jupyter.viewOutput'>log</a> for further details."
          ]
        }
      ],
      "source": [
        "labels = ['t-shirt', 'trouser', 'pullover', 'dress', 'coat',\n",
        "          'sandal', 'shirt', 'sneaker', 'bag', 'ankle boot']"
      ]
    },
    {
      "cell_type": "code",
      "execution_count": null,
      "metadata": {
        "id": "C03v58wW9TQo"
      },
      "outputs": [
        {
          "ename": "",
          "evalue": "",
          "output_type": "error",
          "traceback": [
            "\u001b[1;31mnotebook controller is DISPOSED. \n",
            "\u001b[1;31mView Jupyter <a href='command:jupyter.viewOutput'>log</a> for further details."
          ]
        },
        {
          "ename": "",
          "evalue": "",
          "output_type": "error",
          "traceback": [
            "\u001b[1;31mnotebook controller is DISPOSED. \n",
            "\u001b[1;31mView Jupyter <a href='command:jupyter.viewOutput'>log</a> for further details."
          ]
        }
      ],
      "source": [
        "batch_size = 256\n",
        "train_dataloader = torch.utils.data.DataLoader(mnist_train, batch_size,\n",
        "                                               shuffle=True, num_workers=1)\n",
        "test_dataloader = torch.utils.data.DataLoader(mnist_test, batch_size,\n",
        "                                               shuffle=False, num_workers=1)"
      ]
    },
    {
      "cell_type": "markdown",
      "metadata": {
        "id": "rvLhYWkWNW8O"
      },
      "source": [
        "$$\\hat{\\mathbf{y}} = \\mathrm{softmax}(\\mathbf{o})\\quad \\text{donde}\\quad \\hat{y}_j = \\frac{\\exp(o_j)}{\\sum_k \\exp(o_k)}. $$\n"
      ]
    },
    {
      "cell_type": "markdown",
      "metadata": {
        "id": "GPmlJYY9N_vV"
      },
      "source": [
        "$$\n",
        "\\operatorname*{argmax}_j \\hat y_j = \\operatorname*{argmax}_j o_j.\n",
        "$$"
      ]
    },
    {
      "cell_type": "code",
      "execution_count": null,
      "metadata": {
        "id": "05Ab6EDdCl1d"
      },
      "outputs": [
        {
          "ename": "",
          "evalue": "",
          "output_type": "error",
          "traceback": [
            "\u001b[1;31mnotebook controller is DISPOSED. \n",
            "\u001b[1;31mView Jupyter <a href='command:jupyter.viewOutput'>log</a> for further details."
          ]
        },
        {
          "ename": "",
          "evalue": "",
          "output_type": "error",
          "traceback": [
            "\u001b[1;31mnotebook controller is DISPOSED. \n",
            "\u001b[1;31mView Jupyter <a href='command:jupyter.viewOutput'>log</a> for further details."
          ]
        }
      ],
      "source": [
        "def softmax(X):\n",
        "    X_exp = torch.exp(X)\n",
        "    return X_exp / X_exp.sum(1, keepdim=True)"
      ]
    },
    {
      "cell_type": "markdown",
      "metadata": {
        "id": "EntutV2-Oc5P"
      },
      "source": [
        "La función softmax devuelve un vector $\\hat{\\mathbf{y}}$, el cual podemos interpretar como la probabilidad condicionada de cada clase dada una entrada $\\mathbf{x}$, por ejemplo, $\\hat{y}_1$ = $P(y=\\text{clase}_1 \\mid \\mathbf{x})$.\n",
        "\n",
        "Supongamos que todo el dataset $\\{\\mathbf{X}, \\mathbf{Y}\\}$ tiene $n$ ejemplos,\n",
        "donde el ejemplo $i$ consiste en un vector de entrada $\\mathbf{x}^{(i)}$ y un vector de etiqueta one-hot $\\mathbf{y}^{(i)}$. Podemos comparar las  predicciones con la salida real, comprobando cómo de probables son las clases según el modelo:\n",
        "\n",
        "$$\n",
        "P(\\mathbf{Y} \\mid \\mathbf{X}) = \\prod_{i=1}^n P(\\mathbf{y}^{(i)} \\mid \\mathbf{x}^{(i)}).\n",
        "$$\n",
        "\n",
        "Según la estimación de máxima verosimilitud, maximizamos la probabilidad $P(\\mathbf{Y} \\mid \\mathbf{X})$, lo cual es equivalente a minimizar el negativo del logaritmo de la verosimilitud:\n",
        "\n",
        "$$\n",
        "-\\log P(\\mathbf{Y} \\mid \\mathbf{X}) = \\sum_{i=1}^n -\\log P(\\mathbf{y}^{(i)} \\mid \\mathbf{x}^{(i)})\n",
        "= \\sum_{i=1}^n l(\\mathbf{y}^{(i)}, \\hat{\\mathbf{y}}^{(i)}),\n",
        "$$\n",
        "\n",
        "donde para cada pareja de etiqueta $\\mathbf{y}$ y predicción de modelo $\\hat{\\mathbf{y}}$ sobre las $q$ clases, la función de pérdida $l$ (cross-entropy) es:\n",
        "\n",
        "$$ l(\\mathbf{y}, \\hat{\\mathbf{y}}) = - \\sum_{j=1}^q y_j \\log \\hat{y}_j. $$\n",
        "\n",
        "Derivada de la función softmax respecto de los pesos:\n",
        "\n",
        "$$\n",
        "\\partial_{o_j} l(\\mathbf{y}, \\hat{\\mathbf{y}}) = \\frac{\\exp(o_j)}{\\sum_{k=1}^q \\exp(o_k)} - y_j = \\mathrm{softmax}(\\mathbf{o})_j - y_j.\n",
        "$$\n",
        "\n",
        "Regla de la cadena (cálculo de derivadas en capas intermedias)"
      ]
    },
    {
      "cell_type": "code",
      "execution_count": null,
      "metadata": {
        "id": "-GOgv1yyhaDM"
      },
      "outputs": [
        {
          "ename": "",
          "evalue": "",
          "output_type": "error",
          "traceback": [
            "\u001b[1;31mnotebook controller is DISPOSED. \n",
            "\u001b[1;31mView Jupyter <a href='command:jupyter.viewOutput'>log</a> for further details."
          ]
        },
        {
          "ename": "",
          "evalue": "",
          "output_type": "error",
          "traceback": [
            "\u001b[1;31mnotebook controller is DISPOSED. \n",
            "\u001b[1;31mView Jupyter <a href='command:jupyter.viewOutput'>log</a> for further details."
          ]
        }
      ],
      "source": [
        "def cross_entropy(y_pred, y):\n",
        "    return - torch.log(y_pred[range(len(y_pred)), y])"
      ]
    },
    {
      "cell_type": "markdown",
      "metadata": {
        "id": "lkw_DnWicwpt"
      },
      "source": [
        "Red para entrenamiento"
      ]
    },
    {
      "cell_type": "code",
      "execution_count": null,
      "metadata": {
        "id": "aKGai1S6cls-"
      },
      "outputs": [
        {
          "ename": "",
          "evalue": "",
          "output_type": "error",
          "traceback": [
            "\u001b[1;31mnotebook controller is DISPOSED. \n",
            "\u001b[1;31mView Jupyter <a href='command:jupyter.viewOutput'>log</a> for further details."
          ]
        },
        {
          "ename": "",
          "evalue": "",
          "output_type": "error",
          "traceback": [
            "\u001b[1;31mnotebook controller is DISPOSED. \n",
            "\u001b[1;31mView Jupyter <a href='command:jupyter.viewOutput'>log</a> for further details."
          ]
        }
      ],
      "source": [
        "num_inputs = 784\n",
        "num_outputs = 10\n",
        "\n",
        "w = torch.normal(0, 0.01, size=(num_inputs, num_outputs), requires_grad=True)\n",
        "b = torch.zeros(num_outputs, requires_grad=True)\n",
        "\n",
        "def model(x, w, b):\n",
        "    return softmax(torch.matmul(x.reshape((-1, w.shape[0])), w) + b)"
      ]
    },
    {
      "cell_type": "code",
      "execution_count": null,
      "metadata": {
        "id": "-boh-fT4c1jd"
      },
      "outputs": [
        {
          "ename": "",
          "evalue": "",
          "output_type": "error",
          "traceback": [
            "\u001b[1;31mnotebook controller is DISPOSED. \n",
            "\u001b[1;31mView Jupyter <a href='command:jupyter.viewOutput'>log</a> for further details."
          ]
        },
        {
          "ename": "",
          "evalue": "",
          "output_type": "error",
          "traceback": [
            "\u001b[1;31mnotebook controller is DISPOSED. \n",
            "\u001b[1;31mView Jupyter <a href='command:jupyter.viewOutput'>log</a> for further details."
          ]
        }
      ],
      "source": [
        "x, y = next(iter(test_dataloader))"
      ]
    },
    {
      "cell_type": "code",
      "execution_count": null,
      "metadata": {
        "colab": {
          "base_uri": "https://localhost:8080/"
        },
        "id": "DASo38Goe1-F",
        "outputId": "ea04ce56-4a34-4756-e800-7fcc4b6ced68"
      },
      "outputs": [
        {
          "data": {
            "text/plain": [
              "torch.Size([256, 1, 28, 28])"
            ]
          },
          "execution_count": 720,
          "metadata": {},
          "output_type": "execute_result"
        },
        {
          "ename": "",
          "evalue": "",
          "output_type": "error",
          "traceback": [
            "\u001b[1;31mnotebook controller is DISPOSED. \n",
            "\u001b[1;31mView Jupyter <a href='command:jupyter.viewOutput'>log</a> for further details."
          ]
        },
        {
          "ename": "",
          "evalue": "",
          "output_type": "error",
          "traceback": [
            "\u001b[1;31mnotebook controller is DISPOSED. \n",
            "\u001b[1;31mView Jupyter <a href='command:jupyter.viewOutput'>log</a> for further details."
          ]
        }
      ],
      "source": [
        "x.shape"
      ]
    },
    {
      "cell_type": "code",
      "execution_count": null,
      "metadata": {
        "colab": {
          "base_uri": "https://localhost:8080/"
        },
        "id": "uerYc6Sbe5km",
        "outputId": "4fc8ef42-6d38-4055-8b1a-70b5a4aabf93"
      },
      "outputs": [
        {
          "data": {
            "text/plain": [
              "torch.Size([256])"
            ]
          },
          "execution_count": 721,
          "metadata": {},
          "output_type": "execute_result"
        },
        {
          "ename": "",
          "evalue": "",
          "output_type": "error",
          "traceback": [
            "\u001b[1;31mnotebook controller is DISPOSED. \n",
            "\u001b[1;31mView Jupyter <a href='command:jupyter.viewOutput'>log</a> for further details."
          ]
        },
        {
          "ename": "",
          "evalue": "",
          "output_type": "error",
          "traceback": [
            "\u001b[1;31mnotebook controller is DISPOSED. \n",
            "\u001b[1;31mView Jupyter <a href='command:jupyter.viewOutput'>log</a> for further details."
          ]
        }
      ],
      "source": [
        "y.shape"
      ]
    },
    {
      "cell_type": "code",
      "execution_count": null,
      "metadata": {
        "id": "vGOG897OfDfZ"
      },
      "outputs": [
        {
          "ename": "",
          "evalue": "",
          "output_type": "error",
          "traceback": [
            "\u001b[1;31mnotebook controller is DISPOSED. \n",
            "\u001b[1;31mView Jupyter <a href='command:jupyter.viewOutput'>log</a> for further details."
          ]
        },
        {
          "ename": "",
          "evalue": "",
          "output_type": "error",
          "traceback": [
            "\u001b[1;31mnotebook controller is DISPOSED. \n",
            "\u001b[1;31mView Jupyter <a href='command:jupyter.viewOutput'>log</a> for further details."
          ]
        }
      ],
      "source": [
        "y_pred = model(x, w, b)"
      ]
    },
    {
      "cell_type": "code",
      "execution_count": null,
      "metadata": {
        "colab": {
          "base_uri": "https://localhost:8080/"
        },
        "id": "laBf0N1ff6sR",
        "outputId": "67d14f46-7313-47ed-9bb0-5d791d8cc01b"
      },
      "outputs": [
        {
          "data": {
            "text/plain": [
              "torch.Size([256, 10])"
            ]
          },
          "execution_count": 723,
          "metadata": {},
          "output_type": "execute_result"
        },
        {
          "ename": "",
          "evalue": "",
          "output_type": "error",
          "traceback": [
            "\u001b[1;31mnotebook controller is DISPOSED. \n",
            "\u001b[1;31mView Jupyter <a href='command:jupyter.viewOutput'>log</a> for further details."
          ]
        },
        {
          "ename": "",
          "evalue": "",
          "output_type": "error",
          "traceback": [
            "\u001b[1;31mnotebook controller is DISPOSED. \n",
            "\u001b[1;31mView Jupyter <a href='command:jupyter.viewOutput'>log</a> for further details."
          ]
        }
      ],
      "source": [
        "y_pred.shape"
      ]
    },
    {
      "cell_type": "markdown",
      "metadata": {
        "id": "XSD5W408jH3y"
      },
      "source": [
        "Métrica de precisión"
      ]
    },
    {
      "cell_type": "code",
      "execution_count": null,
      "metadata": {
        "id": "oTBFkEx6itya"
      },
      "outputs": [
        {
          "ename": "",
          "evalue": "",
          "output_type": "error",
          "traceback": [
            "\u001b[1;31mnotebook controller is DISPOSED. \n",
            "\u001b[1;31mView Jupyter <a href='command:jupyter.viewOutput'>log</a> for further details."
          ]
        },
        {
          "ename": "",
          "evalue": "",
          "output_type": "error",
          "traceback": [
            "\u001b[1;31mnotebook controller is DISPOSED. \n",
            "\u001b[1;31mView Jupyter <a href='command:jupyter.viewOutput'>log</a> for further details."
          ]
        }
      ],
      "source": [
        "def accuracy(y_pred, y):\n",
        "    \"\"\"\n",
        "    Cálculo del número de predicciones correctas\n",
        "    \"\"\"\n",
        "\n",
        "    if len(y_pred.shape) > 1 and y_pred.shape[1] > 1:\n",
        "        y_pred = y_pred.argmax(axis=1)\n",
        "    tmp = y_pred.type(y.dtype) == y\n",
        "    return int(tmp.type(y.dtype).sum())"
      ]
    },
    {
      "cell_type": "code",
      "execution_count": null,
      "metadata": {
        "colab": {
          "base_uri": "https://localhost:8080/"
        },
        "id": "JVsASb6Ki9Vx",
        "outputId": "2dc8a121-53a8-4431-bd32-b4c6ca7fcddd"
      },
      "outputs": [
        {
          "data": {
            "text/plain": [
              "0.30859375"
            ]
          },
          "execution_count": 21,
          "metadata": {},
          "output_type": "execute_result"
        },
        {
          "ename": "",
          "evalue": "",
          "output_type": "error",
          "traceback": [
            "\u001b[1;31mnotebook controller is DISPOSED. \n",
            "\u001b[1;31mView Jupyter <a href='command:jupyter.viewOutput'>log</a> for further details."
          ]
        },
        {
          "ename": "",
          "evalue": "",
          "output_type": "error",
          "traceback": [
            "\u001b[1;31mnotebook controller is DISPOSED. \n",
            "\u001b[1;31mView Jupyter <a href='command:jupyter.viewOutput'>log</a> for further details."
          ]
        }
      ],
      "source": [
        "accuracy(y_pred, y) / len(y_pred)"
      ]
    },
    {
      "cell_type": "code",
      "execution_count": null,
      "metadata": {
        "colab": {
          "base_uri": "https://localhost:8080/"
        },
        "id": "2j4JhWsujaXp",
        "outputId": "5a14dbdd-10d2-4abc-df86-f3ff3097b15a"
      },
      "outputs": [
        {
          "name": "stdout",
          "output_type": "stream",
          "text": [
            "Epoch 0, Precisión (train): 0.695, Loss (train): 1.0391\n",
            "Epoch 0, Precisión (test): 0.680, Loss (test): 0.9591\n",
            " \n",
            "Epoch 1, Precisión (train): 0.741, Loss (train): 0.8167\n",
            "Epoch 1, Precisión (test): 0.726, Loss (test): 0.7227\n",
            " \n",
            "Epoch 2, Precisión (train): 0.760, Loss (train): 0.7152\n",
            "Epoch 2, Precisión (test): 0.745, Loss (test): 0.6012\n",
            " \n",
            "Epoch 3, Precisión (train): 0.774, Loss (train): 0.7054\n",
            "Epoch 3, Precisión (test): 0.760, Loss (test): 0.5356\n",
            " \n",
            "Epoch 4, Precisión (train): 0.786, Loss (train): 0.6760\n",
            "Epoch 4, Precisión (test): 0.771, Loss (test): 0.4919\n",
            " \n",
            "Epoch 5, Precisión (train): 0.791, Loss (train): 0.6658\n",
            "Epoch 5, Precisión (test): 0.777, Loss (test): 0.4650\n",
            " \n",
            "Epoch 6, Precisión (train): 0.799, Loss (train): 0.5274\n",
            "Epoch 6, Precisión (test): 0.783, Loss (test): 0.4434\n",
            " \n",
            "Epoch 7, Precisión (train): 0.802, Loss (train): 0.5556\n",
            "Epoch 7, Precisión (test): 0.785, Loss (test): 0.4276\n",
            " \n",
            "Epoch 8, Precisión (train): 0.806, Loss (train): 0.5022\n",
            "Epoch 8, Precisión (test): 0.792, Loss (test): 0.4126\n",
            " \n",
            "Epoch 9, Precisión (train): 0.809, Loss (train): 0.6285\n",
            "Epoch 9, Precisión (test): 0.795, Loss (test): 0.3995\n",
            " \n"
          ]
        },
        {
          "ename": "",
          "evalue": "",
          "output_type": "error",
          "traceback": [
            "\u001b[1;31mnotebook controller is DISPOSED. \n",
            "\u001b[1;31mView Jupyter <a href='command:jupyter.viewOutput'>log</a> for further details."
          ]
        },
        {
          "ename": "",
          "evalue": "",
          "output_type": "error",
          "traceback": [
            "\u001b[1;31mnotebook controller is DISPOSED. \n",
            "\u001b[1;31mView Jupyter <a href='command:jupyter.viewOutput'>log</a> for further details."
          ]
        }
      ],
      "source": [
        "# Learning rate\n",
        "lr = 0.01\n",
        "# Número de epochs de entrenamiento\n",
        "num_epochs = 10\n",
        "# Modelo a optimizar\n",
        "model = model\n",
        "# Función de pérdida cross_entropy\n",
        "loss = cross_entropy\n",
        "\n",
        "for epoch in range(num_epochs):\n",
        "    for x, y in train_dataloader:\n",
        "        # Predicción del modelo\n",
        "        y_pred = model(x, w, b)\n",
        "\n",
        "        # Cálculo de la función de pérdida\n",
        "        l = loss(y_pred, y)\n",
        "\n",
        "        # Cálculo de los gradientes (derivadas) de la función de pérdida respecto\n",
        "        # de los parámetros del modelo\n",
        "        l.sum().backward()\n",
        "\n",
        "        # Actualización de los parámetros según sus gradientes\n",
        "        sgd([w, b], lr, batch_size)\n",
        "\n",
        "    # Métrica de precisión del modelo\n",
        "    with torch.no_grad():\n",
        "        n_correct = 0\n",
        "        for x, y in train_dataloader:\n",
        "            y_pred = model(x, w, b)\n",
        "            l = loss(y_pred, y)\n",
        "            n_correct += accuracy(y_pred, y)\n",
        "\n",
        "        print('Epoch {}, Precisión (train): {:.3f}, Loss (train): {:.4f}'.format(epoch,\n",
        "                                                         n_correct/train_dataloader.dataset.data.shape[0],\n",
        "                                                         l.mean()))\n",
        "        n_correct = 0\n",
        "        for x, y in test_dataloader:\n",
        "            y_pred = model(x, w, b)\n",
        "            l = loss(y_pred, y)\n",
        "            n_correct += accuracy(y_pred, y)\n",
        "\n",
        "        print('Epoch {}, Precisión (test): {:.3f}, Loss (test): {:.4f}'.format(epoch,\n",
        "                                                         n_correct/test_dataloader.dataset.data.shape[0],\n",
        "                                                         l.mean()))\n",
        "\n",
        "        print(' ')"
      ]
    },
    {
      "cell_type": "code",
      "execution_count": null,
      "metadata": {
        "id": "_VGdJ3WXniQ6"
      },
      "outputs": [
        {
          "ename": "",
          "evalue": "",
          "output_type": "error",
          "traceback": [
            "\u001b[1;31mnotebook controller is DISPOSED. \n",
            "\u001b[1;31mView Jupyter <a href='command:jupyter.viewOutput'>log</a> for further details."
          ]
        },
        {
          "ename": "",
          "evalue": "",
          "output_type": "error",
          "traceback": [
            "\u001b[1;31mnotebook controller is DISPOSED. \n",
            "\u001b[1;31mView Jupyter <a href='command:jupyter.viewOutput'>log</a> for further details."
          ]
        }
      ],
      "source": [
        "x, y = next(iter(train_dataloader))\n",
        "y_pred = model(x, w, b)"
      ]
    },
    {
      "cell_type": "code",
      "execution_count": null,
      "metadata": {
        "colab": {
          "base_uri": "https://localhost:8080/",
          "height": 300
        },
        "id": "4CvpRQtSro5i",
        "outputId": "a989fc62-b8b7-4f1c-c7dc-e2ea3fb80318"
      },
      "outputs": [
        {
          "name": "stdout",
          "output_type": "stream",
          "text": [
            "Predicción: t-shirt\n",
            "Real: t-shirt\n"
          ]
        },
        {
          "data": {
            "image/png": "[encoded data removed]",
            "text/plain": [
              "<Figure size 432x288 with 1 Axes>"
            ]
          },
          "metadata": {
            "needs_background": "light"
          },
          "output_type": "display_data"
        },
        {
          "ename": "",
          "evalue": "",
          "output_type": "error",
          "traceback": [
            "\u001b[1;31mnotebook controller is DISPOSED. \n",
            "\u001b[1;31mView Jupyter <a href='command:jupyter.viewOutput'>log</a> for further details."
          ]
        },
        {
          "ename": "",
          "evalue": "",
          "output_type": "error",
          "traceback": [
            "\u001b[1;31mnotebook controller is DISPOSED. \n",
            "\u001b[1;31mView Jupyter <a href='command:jupyter.viewOutput'>log</a> for further details."
          ]
        }
      ],
      "source": [
        "i = random.randint(0, len(x)-1)\n",
        "plt.imshow(x[i, 0]);\n",
        "print('Predicción: {}'.format(labels[y_pred.argmax(dim=1)[i]]))\n",
        "print('Real: {}'.format(labels[y[i]]))"
      ]
    },
    {
      "cell_type": "markdown",
      "metadata": {
        "id": "1vwxsN40sL9y"
      },
      "source": [
        "## Implementación en pytorch"
      ]
    },
    {
      "cell_type": "code",
      "execution_count": null,
      "metadata": {
        "id": "NxphPpmH_3Id"
      },
      "outputs": [
        {
          "ename": "",
          "evalue": "",
          "output_type": "error",
          "traceback": [
            "\u001b[1;31mnotebook controller is DISPOSED. \n",
            "\u001b[1;31mView Jupyter <a href='command:jupyter.viewOutput'>log</a> for further details."
          ]
        },
        {
          "ename": "",
          "evalue": "",
          "output_type": "error",
          "traceback": [
            "\u001b[1;31mnotebook controller is DISPOSED. \n",
            "\u001b[1;31mView Jupyter <a href='command:jupyter.viewOutput'>log</a> for further details."
          ]
        }
      ],
      "source": [
        "import torch.nn.functional as F\n",
        "from torch import nn\n",
        "import torch\n",
        "import torchvision\n",
        "import random\n",
        "import matplotlib.pyplot as plt"
      ]
    },
    {
      "cell_type": "code",
      "execution_count": null,
      "metadata": {
        "id": "yjgaAq_hxWVy"
      },
      "outputs": [
        {
          "name": "stdout",
          "output_type": "stream",
          "text": [
            "Downloading https://www.itl.nist.gov/iaui/vip/cs_links/EMNIST/gzip.zip to /home/messi/alvaro/UC3M-PIC.private/uc3m_pic/../data/emnist/EMNIST/raw/gzip.zip\n"
          ]
        },
        {
          "name": "stderr",
          "output_type": "stream",
          "text": [
            "100%|██████████| 561753746/561753746 [00:29<00:00, 19236914.61it/s]\n"
          ]
        },
        {
          "name": "stdout",
          "output_type": "stream",
          "text": [
            "Extracting /home/messi/alvaro/UC3M-PIC.private/uc3m_pic/../data/emnist/EMNIST/raw/gzip.zip to /home/messi/alvaro/UC3M-PIC.private/uc3m_pic/../data/emnist/EMNIST/raw\n"
          ]
        },
        {
          "ename": "",
          "evalue": "",
          "output_type": "error",
          "traceback": [
            "\u001b[1;31mnotebook controller is DISPOSED. \n",
            "\u001b[1;31mView Jupyter <a href='command:jupyter.viewOutput'>log</a> for further details."
          ]
        },
        {
          "ename": "",
          "evalue": "",
          "output_type": "error",
          "traceback": [
            "\u001b[1;31mnotebook controller is DISPOSED. \n",
            "\u001b[1;31mView Jupyter <a href='command:jupyter.viewOutput'>log</a> for further details."
          ]
        }
      ],
      "source": [
        "image_size = 28\n",
        "batch_size = 256\n",
        "\n",
        "# transf = torchvision.transforms.Compose([\n",
        "#     torchvision.transforms.ToTensor()\n",
        "#     # torchvision.transforms.Resize((image_size, image_size))\n",
        "# ])\n",
        "\n",
        "transf = torchvision.transforms.Compose([\n",
        "    lambda img: torchvision.transforms.functional.rotate(img, -90),\n",
        "    lambda img: torchvision.transforms.functional.hflip(img),\n",
        "    torchvision.transforms.ToTensor()\n",
        "])\n",
        "\n",
        "emnist_path = os.path.join(uc3m_pic.__path__[0], '..', 'data', 'emnist')\n",
        "emnist_train = torchvision.datasets.EMNIST(\n",
        "    root=emnist_path, split='balanced', train=True, transform=transf, download=True)\n",
        "emnist_test = torchvision.datasets.EMNIST(\n",
        "    root=emnist_path, split='balanced', train=False, transform=transf, download=True)\n",
        "\n",
        "train_dataloader = torch.utils.data.DataLoader(emnist_train, batch_size,\n",
        "                                               shuffle=True, num_workers=1)\n",
        "test_dataloader = torch.utils.data.DataLoader(emnist_test, batch_size,\n",
        "                                               shuffle=False, num_workers=1)\n",
        "\n",
        "labels = '0123456789ABCDEFGHIJKLMNOPQRSTUVWXYZabdefghnqrt'"
      ]
    },
    {
      "cell_type": "code",
      "execution_count": null,
      "metadata": {
        "colab": {
          "base_uri": "https://localhost:8080/"
        },
        "id": "8F_qeKeQ0ze7",
        "outputId": "75c0f01e-8688-4775-b685-d631e0f9ca66"
      },
      "outputs": [
        {
          "data": {
            "text/plain": [
              "47"
            ]
          },
          "execution_count": 12,
          "metadata": {},
          "output_type": "execute_result"
        },
        {
          "ename": "",
          "evalue": "",
          "output_type": "error",
          "traceback": [
            "\u001b[1;31mnotebook controller is DISPOSED. \n",
            "\u001b[1;31mView Jupyter <a href='command:jupyter.viewOutput'>log</a> for further details."
          ]
        },
        {
          "ename": "",
          "evalue": "",
          "output_type": "error",
          "traceback": [
            "\u001b[1;31mnotebook controller is DISPOSED. \n",
            "\u001b[1;31mView Jupyter <a href='command:jupyter.viewOutput'>log</a> for further details."
          ]
        }
      ],
      "source": [
        "len(list(labels))"
      ]
    },
    {
      "cell_type": "code",
      "execution_count": null,
      "metadata": {
        "id": "CdzLhYF8xRa6"
      },
      "outputs": [
        {
          "ename": "",
          "evalue": "",
          "output_type": "error",
          "traceback": [
            "\u001b[1;31mnotebook controller is DISPOSED. \n",
            "\u001b[1;31mView Jupyter <a href='command:jupyter.viewOutput'>log</a> for further details."
          ]
        },
        {
          "ename": "",
          "evalue": "",
          "output_type": "error",
          "traceback": [
            "\u001b[1;31mnotebook controller is DISPOSED. \n",
            "\u001b[1;31mView Jupyter <a href='command:jupyter.viewOutput'>log</a> for further details."
          ]
        }
      ],
      "source": [
        "class SoftReg(nn.Module):\n",
        "    '''\n",
        "    Modelo de regresión softmax\n",
        "    '''\n",
        "    def __init__(self):\n",
        "        super().__init__()\n",
        "        self.linear1 = nn.Linear(28 ** 2, 256)\n",
        "        self.linear2 = nn.Linear(256, 47)\n",
        "\n",
        "    def forward(self, x):\n",
        "        out = F.relu(self.linear1(x))\n",
        "        out = self.linear2(out)\n",
        "        return out"
      ]
    },
    {
      "cell_type": "code",
      "execution_count": null,
      "metadata": {
        "id": "HSvMNHPS0Qd7"
      },
      "outputs": [
        {
          "ename": "",
          "evalue": "",
          "output_type": "error",
          "traceback": [
            "\u001b[1;31mnotebook controller is DISPOSED. \n",
            "\u001b[1;31mView Jupyter <a href='command:jupyter.viewOutput'>log</a> for further details."
          ]
        },
        {
          "ename": "",
          "evalue": "",
          "output_type": "error",
          "traceback": [
            "\u001b[1;31mnotebook controller is DISPOSED. \n",
            "\u001b[1;31mView Jupyter <a href='command:jupyter.viewOutput'>log</a> for further details."
          ]
        }
      ],
      "source": [
        "x, y = next(iter(train_dataloader))"
      ]
    },
    {
      "cell_type": "code",
      "execution_count": null,
      "metadata": {
        "colab": {
          "base_uri": "https://localhost:8080/",
          "height": 283
        },
        "id": "PbvKez9O0UZy",
        "outputId": "2c138f1a-ea6e-414f-98f2-c1c6c816b0c7"
      },
      "outputs": [
        {
          "name": "stdout",
          "output_type": "stream",
          "text": [
            "W\n"
          ]
        },
        {
          "data": {
            "image/png": "[encoded data removed]",
            "text/plain": [
              "<Figure size 640x480 with 1 Axes>"
            ]
          },
          "metadata": {},
          "output_type": "display_data"
        },
        {
          "ename": "",
          "evalue": "",
          "output_type": "error",
          "traceback": [
            "\u001b[1;31mnotebook controller is DISPOSED. \n",
            "\u001b[1;31mView Jupyter <a href='command:jupyter.viewOutput'>log</a> for further details."
          ]
        },
        {
          "ename": "",
          "evalue": "",
          "output_type": "error",
          "traceback": [
            "\u001b[1;31mnotebook controller is DISPOSED. \n",
            "\u001b[1;31mView Jupyter <a href='command:jupyter.viewOutput'>log</a> for further details."
          ]
        }
      ],
      "source": [
        "i = random.randint(0, len(labels)-1)\n",
        "plt.imshow(x[i, 0]);\n",
        "print(labels[y[i]])"
      ]
    },
    {
      "cell_type": "code",
      "execution_count": null,
      "metadata": {
        "id": "6I-IWeRbz7I9"
      },
      "outputs": [
        {
          "ename": "",
          "evalue": "",
          "output_type": "error",
          "traceback": [
            "\u001b[1;31mnotebook controller is DISPOSED. \n",
            "\u001b[1;31mView Jupyter <a href='command:jupyter.viewOutput'>log</a> for further details."
          ]
        },
        {
          "ename": "",
          "evalue": "",
          "output_type": "error",
          "traceback": [
            "\u001b[1;31mnotebook controller is DISPOSED. \n",
            "\u001b[1;31mView Jupyter <a href='command:jupyter.viewOutput'>log</a> for further details."
          ]
        }
      ],
      "source": [
        "# Learning rate\n",
        "lr = 0.01\n",
        "# Número de epochs de entrenamiento\n",
        "num_epochs = 10"
      ]
    },
    {
      "cell_type": "code",
      "execution_count": null,
      "metadata": {
        "id": "GEVeZ-Lq47JL"
      },
      "outputs": [
        {
          "ename": "",
          "evalue": "",
          "output_type": "error",
          "traceback": [
            "\u001b[1;31mnotebook controller is DISPOSED. \n",
            "\u001b[1;31mView Jupyter <a href='command:jupyter.viewOutput'>log</a> for further details."
          ]
        },
        {
          "ename": "",
          "evalue": "",
          "output_type": "error",
          "traceback": [
            "\u001b[1;31mnotebook controller is DISPOSED. \n",
            "\u001b[1;31mView Jupyter <a href='command:jupyter.viewOutput'>log</a> for further details."
          ]
        }
      ],
      "source": [
        "model = SoftReg()"
      ]
    },
    {
      "cell_type": "code",
      "execution_count": null,
      "metadata": {
        "id": "wk7iuXCwz7JF"
      },
      "outputs": [
        {
          "ename": "",
          "evalue": "",
          "output_type": "error",
          "traceback": [
            "\u001b[1;31mnotebook controller is DISPOSED. \n",
            "\u001b[1;31mView Jupyter <a href='command:jupyter.viewOutput'>log</a> for further details."
          ]
        },
        {
          "ename": "",
          "evalue": "",
          "output_type": "error",
          "traceback": [
            "\u001b[1;31mnotebook controller is DISPOSED. \n",
            "\u001b[1;31mView Jupyter <a href='command:jupyter.viewOutput'>log</a> for further details."
          ]
        }
      ],
      "source": [
        "# Función de pérdida\n",
        "loss = nn.CrossEntropyLoss()\n",
        "# Optimizador\n",
        "optimizer = torch.optim.SGD(model.parameters(), lr=lr)"
      ]
    },
    {
      "cell_type": "code",
      "execution_count": null,
      "metadata": {
        "id": "YnK0ElSzz7JF"
      },
      "outputs": [
        {
          "ename": "",
          "evalue": "",
          "output_type": "error",
          "traceback": [
            "\u001b[1;31mnotebook controller is DISPOSED. \n",
            "\u001b[1;31mView Jupyter <a href='command:jupyter.viewOutput'>log</a> for further details."
          ]
        },
        {
          "ename": "",
          "evalue": "",
          "output_type": "error",
          "traceback": [
            "\u001b[1;31mnotebook controller is DISPOSED. \n",
            "\u001b[1;31mView Jupyter <a href='command:jupyter.viewOutput'>log</a> for further details."
          ]
        }
      ],
      "source": [
        "for epoch in range(num_epochs):\n",
        "    for x, y in train_dataloader:\n",
        "        optimizer.zero_grad()\n",
        "        l = loss(model(x.reshape((-1, 28**2))),y)\n",
        "        l.backward()\n",
        "        optimizer.step()\n",
        "\n",
        "    with torch.no_grad():\n",
        "        n_correct = 0\n",
        "        for x, y in train_dataloader:\n",
        "            y_pred = model(x.reshape((-1, 28**2)))\n",
        "            l = loss(y_pred, y)\n",
        "            n_correct += accuracy(y_pred, y)\n",
        "\n",
        "        print('Epoch {}, Precisión (train): {:.3f}, Loss (train): {:.4f}'.format(epoch,\n",
        "                                                         n_correct/train_dataloader.dataset.data.shape[0],\n",
        "                                                         l.mean()))\n",
        "        \n",
        "        n_correct = 0\n",
        "        for x, y in test_dataloader:\n",
        "            y_pred = model(x.reshape((-1, 28**2)))\n",
        "            l = loss(y_pred, y)\n",
        "            n_correct += accuracy(y_pred, y)\n",
        "\n",
        "        print('Epoch {}, Precisión (test): {:.3f}, Loss (test): {:.4f}'.format(epoch,\n",
        "                                                         n_correct/test_dataloader.dataset.data.shape[0],\n",
        "                                                         l.mean()))\n",
        "\n",
        "        print(' ')"
      ]
    },
    {
      "cell_type": "code",
      "execution_count": null,
      "metadata": {},
      "outputs": [
        {
          "ename": "",
          "evalue": "",
          "output_type": "error",
          "traceback": [
            "\u001b[1;31mnotebook controller is DISPOSED. \n",
            "\u001b[1;31mView Jupyter <a href='command:jupyter.viewOutput'>log</a> for further details."
          ]
        },
        {
          "ename": "",
          "evalue": "",
          "output_type": "error",
          "traceback": [
            "\u001b[1;31mnotebook controller is DISPOSED. \n",
            "\u001b[1;31mView Jupyter <a href='command:jupyter.viewOutput'>log</a> for further details."
          ]
        }
      ],
      "source": [
        "import thop"
      ]
    },
    {
      "cell_type": "code",
      "execution_count": null,
      "metadata": {},
      "outputs": [
        {
          "ename": "",
          "evalue": "",
          "output_type": "error",
          "traceback": [
            "\u001b[1;31mnotebook controller is DISPOSED. \n",
            "\u001b[1;31mView Jupyter <a href='command:jupyter.viewOutput'>log</a> for further details."
          ]
        },
        {
          "ename": "",
          "evalue": "",
          "output_type": "error",
          "traceback": [
            "\u001b[1;31mnotebook controller is DISPOSED. \n",
            "\u001b[1;31mView Jupyter <a href='command:jupyter.viewOutput'>log</a> for further details."
          ]
        }
      ],
      "source": [
        "from torchsummary import summary"
      ]
    },
    {
      "cell_type": "code",
      "execution_count": null,
      "metadata": {},
      "outputs": [
        {
          "name": "stdout",
          "output_type": "stream",
          "text": [
            "----------------------------------------------------------------\n",
            "        Layer (type)               Output Shape         Param #\n",
            "================================================================\n",
            "            Linear-1               [-1, 1, 256]         200,960\n",
            "            Linear-2                [-1, 1, 47]          12,079\n",
            "================================================================\n",
            "Total params: 213,039\n",
            "Trainable params: 213,039\n",
            "Non-trainable params: 0\n",
            "----------------------------------------------------------------\n",
            "Input size (MB): 0.00\n",
            "Forward/backward pass size (MB): 0.00\n",
            "Params size (MB): 0.81\n",
            "Estimated Total Size (MB): 0.82\n",
            "----------------------------------------------------------------\n"
          ]
        },
        {
          "ename": "",
          "evalue": "",
          "output_type": "error",
          "traceback": [
            "\u001b[1;31mnotebook controller is DISPOSED. \n",
            "\u001b[1;31mView Jupyter <a href='command:jupyter.viewOutput'>log</a> for further details."
          ]
        },
        {
          "ename": "",
          "evalue": "",
          "output_type": "error",
          "traceback": [
            "\u001b[1;31mnotebook controller is DISPOSED. \n",
            "\u001b[1;31mView Jupyter <a href='command:jupyter.viewOutput'>log</a> for further details."
          ]
        }
      ],
      "source": [
        "a = summary(model, (1, 28*28), device='cpu')"
      ]
    },
    {
      "cell_type": "code",
      "execution_count": null,
      "metadata": {},
      "outputs": [
        {
          "name": "stdout",
          "output_type": "stream",
          "text": [
            "[INFO] Register count_linear() for <class 'torch.nn.modules.linear.Linear'>.\n"
          ]
        },
        {
          "ename": "",
          "evalue": "",
          "output_type": "error",
          "traceback": [
            "\u001b[1;31mnotebook controller is DISPOSED. \n",
            "\u001b[1;31mView Jupyter <a href='command:jupyter.viewOutput'>log</a> for further details."
          ]
        },
        {
          "ename": "",
          "evalue": "",
          "output_type": "error",
          "traceback": [
            "\u001b[1;31mnotebook controller is DISPOSED. \n",
            "\u001b[1;31mView Jupyter <a href='command:jupyter.viewOutput'>log</a> for further details."
          ]
        }
      ],
      "source": [
        "# Calculate FLOPs\n",
        "flops, params = thop.profile(model, inputs=(torch.randn(1, 28*28), ))"
      ]
    },
    {
      "cell_type": "code",
      "execution_count": null,
      "metadata": {},
      "outputs": [
        {
          "data": {
            "text/plain": [
              "212736.0"
            ]
          },
          "execution_count": 50,
          "metadata": {},
          "output_type": "execute_result"
        },
        {
          "ename": "",
          "evalue": "",
          "output_type": "error",
          "traceback": [
            "\u001b[1;31mnotebook controller is DISPOSED. \n",
            "\u001b[1;31mView Jupyter <a href='command:jupyter.viewOutput'>log</a> for further details."
          ]
        },
        {
          "ename": "",
          "evalue": "",
          "output_type": "error",
          "traceback": [
            "\u001b[1;31mnotebook controller is DISPOSED. \n",
            "\u001b[1;31mView Jupyter <a href='command:jupyter.viewOutput'>log</a> for further details."
          ]
        }
      ],
      "source": [
        "flops"
      ]
    },
    {
      "cell_type": "code",
      "execution_count": null,
      "metadata": {},
      "outputs": [
        {
          "data": {
            "text/plain": [
              "213039.0"
            ]
          },
          "execution_count": 49,
          "metadata": {},
          "output_type": "execute_result"
        },
        {
          "ename": "",
          "evalue": "",
          "output_type": "error",
          "traceback": [
            "\u001b[1;31mnotebook controller is DISPOSED. \n",
            "\u001b[1;31mView Jupyter <a href='command:jupyter.viewOutput'>log</a> for further details."
          ]
        },
        {
          "ename": "",
          "evalue": "",
          "output_type": "error",
          "traceback": [
            "\u001b[1;31mnotebook controller is DISPOSED. \n",
            "\u001b[1;31mView Jupyter <a href='command:jupyter.viewOutput'>log</a> for further details."
          ]
        }
      ],
      "source": [
        "params"
      ]
    },
    {
      "cell_type": "markdown",
      "metadata": {
        "id": "3xLntDD4Wjf7"
      },
      "source": [
        "## Trabajo individual multicapa"
      ]
    },
    {
      "cell_type": "code",
      "execution_count": null,
      "metadata": {
        "id": "ytmucdYgK2Uq"
      },
      "outputs": [
        {
          "ename": "",
          "evalue": "",
          "output_type": "error",
          "traceback": [
            "\u001b[1;31mnotebook controller is DISPOSED. \n",
            "\u001b[1;31mView Jupyter <a href='command:jupyter.viewOutput'>log</a> for further details."
          ]
        },
        {
          "ename": "",
          "evalue": "",
          "output_type": "error",
          "traceback": [
            "\u001b[1;31mnotebook controller is DISPOSED. \n",
            "\u001b[1;31mView Jupyter <a href='command:jupyter.viewOutput'>log</a> for further details."
          ]
        }
      ],
      "source": [
        "# Ejecutar para subir resultados (value = best_loss)\n",
        "value = best_loss\n",
        "col = \n",
        "worksheet.sheet2.update_cell(row, col, value);"
      ]
    },
    {
      "cell_type": "markdown",
      "metadata": {
        "id": "dk_IqzYkC8sU"
      },
      "source": [
        "https://playground.tensorflow.org/"
      ]
    },
    {
      "cell_type": "markdown",
      "metadata": {
        "id": "3DI6YDZ4XyRI"
      },
      "source": [
        "# Guardado y carga de modelos"
      ]
    },
    {
      "cell_type": "code",
      "execution_count": null,
      "metadata": {
        "id": "PZo7i_v3-Flg"
      },
      "outputs": [
        {
          "ename": "",
          "evalue": "",
          "output_type": "error",
          "traceback": [
            "\u001b[1;31mnotebook controller is DISPOSED. \n",
            "\u001b[1;31mView Jupyter <a href='command:jupyter.viewOutput'>log</a> for further details."
          ]
        },
        {
          "ename": "",
          "evalue": "",
          "output_type": "error",
          "traceback": [
            "\u001b[1;31mnotebook controller is DISPOSED. \n",
            "\u001b[1;31mView Jupyter <a href='command:jupyter.viewOutput'>log</a> for further details."
          ]
        }
      ],
      "source": [
        "import random\n",
        "import torch\n",
        "import os\n",
        "from torchsummary import summary"
      ]
    },
    {
      "cell_type": "code",
      "execution_count": null,
      "metadata": {
        "id": "Qr9qVvk5cbpq"
      },
      "outputs": [
        {
          "ename": "",
          "evalue": "",
          "output_type": "error",
          "traceback": [
            "\u001b[1;31mnotebook controller is DISPOSED. \n",
            "\u001b[1;31mView Jupyter <a href='command:jupyter.viewOutput'>log</a> for further details."
          ]
        },
        {
          "ename": "",
          "evalue": "",
          "output_type": "error",
          "traceback": [
            "\u001b[1;31mnotebook controller is DISPOSED. \n",
            "\u001b[1;31mView Jupyter <a href='command:jupyter.viewOutput'>log</a> for further details."
          ]
        }
      ],
      "source": [
        "os.makedirs('models', exist_ok=True)"
      ]
    },
    {
      "cell_type": "code",
      "execution_count": null,
      "metadata": {
        "id": "cOgIgzwcbVri"
      },
      "outputs": [
        {
          "ename": "",
          "evalue": "",
          "output_type": "error",
          "traceback": [
            "\u001b[1;31mnotebook controller is DISPOSED. \n",
            "\u001b[1;31mView Jupyter <a href='command:jupyter.viewOutput'>log</a> for further details."
          ]
        },
        {
          "ename": "",
          "evalue": "",
          "output_type": "error",
          "traceback": [
            "\u001b[1;31mnotebook controller is DISPOSED. \n",
            "\u001b[1;31mView Jupyter <a href='command:jupyter.viewOutput'>log</a> for further details."
          ]
        }
      ],
      "source": [
        "torch.save(model, 'models/softmax_reg.pth')"
      ]
    },
    {
      "cell_type": "code",
      "execution_count": null,
      "metadata": {
        "id": "OptkHbeNcX-b"
      },
      "outputs": [
        {
          "ename": "",
          "evalue": "",
          "output_type": "error",
          "traceback": [
            "\u001b[1;31mnotebook controller is DISPOSED. \n",
            "\u001b[1;31mView Jupyter <a href='command:jupyter.viewOutput'>log</a> for further details."
          ]
        },
        {
          "ename": "",
          "evalue": "",
          "output_type": "error",
          "traceback": [
            "\u001b[1;31mnotebook controller is DISPOSED. \n",
            "\u001b[1;31mView Jupyter <a href='command:jupyter.viewOutput'>log</a> for further details."
          ]
        }
      ],
      "source": [
        "model2 = torch.load('models/softmax_reg.pth')"
      ]
    },
    {
      "cell_type": "code",
      "execution_count": null,
      "metadata": {
        "colab": {
          "base_uri": "https://localhost:8080/"
        },
        "id": "hrWcs0EIcsRU",
        "outputId": "64e3473f-17f1-4850-a965-22b5df731e0e"
      },
      "outputs": [
        {
          "name": "stdout",
          "output_type": "stream",
          "text": [
            "----------------------------------------------------------------\n",
            "        Layer (type)               Output Shape         Param #\n",
            "================================================================\n",
            "            Linear-1                [-1, 1, 47]          36,895\n",
            "================================================================\n",
            "Total params: 36,895\n",
            "Trainable params: 36,895\n",
            "Non-trainable params: 0\n",
            "----------------------------------------------------------------\n",
            "Input size (MB): 0.00\n",
            "Forward/backward pass size (MB): 0.00\n",
            "Params size (MB): 0.14\n",
            "Estimated Total Size (MB): 0.14\n",
            "----------------------------------------------------------------\n"
          ]
        },
        {
          "ename": "",
          "evalue": "",
          "output_type": "error",
          "traceback": [
            "\u001b[1;31mnotebook controller is DISPOSED. \n",
            "\u001b[1;31mView Jupyter <a href='command:jupyter.viewOutput'>log</a> for further details."
          ]
        },
        {
          "ename": "",
          "evalue": "",
          "output_type": "error",
          "traceback": [
            "\u001b[1;31mnotebook controller is DISPOSED. \n",
            "\u001b[1;31mView Jupyter <a href='command:jupyter.viewOutput'>log</a> for further details."
          ]
        }
      ],
      "source": [
        "summary(model2, input_size=(1, 28*28))"
      ]
    },
    {
      "cell_type": "code",
      "execution_count": null,
      "metadata": {
        "colab": {
          "base_uri": "https://localhost:8080/"
        },
        "id": "Fcfm9Spxc95y",
        "outputId": "14151c67-c73a-43da-fe37-17e66e40ba14"
      },
      "outputs": [
        {
          "data": {
            "text/plain": [
              "36895"
            ]
          },
          "execution_count": 22,
          "metadata": {},
          "output_type": "execute_result"
        },
        {
          "ename": "",
          "evalue": "",
          "output_type": "error",
          "traceback": [
            "\u001b[1;31mnotebook controller is DISPOSED. \n",
            "\u001b[1;31mView Jupyter <a href='command:jupyter.viewOutput'>log</a> for further details."
          ]
        },
        {
          "ename": "",
          "evalue": "",
          "output_type": "error",
          "traceback": [
            "\u001b[1;31mnotebook controller is DISPOSED. \n",
            "\u001b[1;31mView Jupyter <a href='command:jupyter.viewOutput'>log</a> for further details."
          ]
        }
      ],
      "source": [
        "28*28*47 + 47"
      ]
    }
  ],
  "metadata": {
    "colab": {
      "authorship_tag": "ABX9TyNPWm/sGB0+Rj9olv8I18a9",
      "collapsed_sections": [],
      "include_colab_link": true,
      "mount_file_id": "1EwZLwXCFp8ydXWaMIIAnq-m0v_Jj_qY0",
      "name": "1_introduccion.ipynb",
      "provenance": [],
      "toc_visible": true
    },
    "kernelspec": {
      "display_name": "Python 3",
      "name": "python3"
    },
    "language_info": {
      "codemirror_mode": {
        "name": "ipython",
        "version": 3
      },
      "file_extension": ".py",
      "mimetype": "text/x-python",
      "name": "python",
      "nbconvert_exporter": "python",
      "pygments_lexer": "ipython3",
      "version": "3.9.17"
    }
  },
  "nbformat": 4,
  "nbformat_minor": 0
}
