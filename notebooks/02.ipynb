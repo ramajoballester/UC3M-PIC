{
 "cells": [
  {
   "cell_type": "markdown",
   "metadata": {
    "id": "nzf-42lVT_4Q"
   },
   "source": [
    "# Sesión 2. Introducción al Deep Learning"
   ]
  },
  {
   "cell_type": "markdown",
   "metadata": {
    "id": "QpU3gbwF15Ep"
   },
   "source": [
    "# Introducción\n",
    "\n",
    "En esta última década el Aprendizaje Profundo (*Deep Learning*) ha impulsado un rápido progreso en campos tan diversos como la visión por ordenador, el procesamiento del lenguaje natural, el reconocimiento automático del habla, el aprendizaje por refuerzo y la informática biomédica. Además, el éxito del aprendizaje profundo en tantas tareas de interés ha catalizado incluso desarrollos en el aprendizaje automático teórico y la estadística. Con estos avances en la mano, ahora podemos construir coches que se conducen solos con más autonomía que nunca (y menos autonomía de lo que algunas empresas podrían hacer creer), sistemas de respuesta inteligente que redactan automáticamente los correos electrónicos más mundanos y máquinas que dominan a los mejores humanos del mundo en juegos de mesa como el Go, una hazaña que antes se creía que estaba a décadas de distancia. Estas herramientas ya ejercen un impacto cada vez mayor en la industria y la sociedad, cambiando la forma de hacer películas, diagnosticar enfermedades y desempeñando un papel cada vez más importante en las ciencias básicas, desde la astrofísica hasta la biología."
   ]
  },
  {
   "cell_type": "markdown",
   "metadata": {
    "id": "NQtzGJnOhhsQ"
   },
   "source": [
    "## Inteligencia Artificial\n",
    "- Machine Learning\n",
    "    - Árboles de decisión / Random Forest\n",
    "    - Support Vector Machines (SVM)\n",
    "    - Algoritmos Gradient Boosting y AdaBoosting\n",
    "- Deep Learning\n",
    "    - Redes Neuronales\n",
    "        - Convolucionales\n",
    "        - Recurrentes\n",
    "        - Transformers\n",
    "- Reinforcement Learning\n",
    "    - State, action, reward, state, action (SARSA)\n",
    "    - Deep Q Network\n",
    "    - Deep Deterministic Policy Gradient\n",
    "    - Asynchronous Advantage Actor-Critic Algorithm"
   ]
  },
  {
   "cell_type": "markdown",
   "metadata": {
    "id": "YKBqs3tRfXnv"
   },
   "source": [
    "## Componentes clave\n",
    "\n",
    "- **Datos** de los que aprender\n",
    "- Un **modelo** para transformar los datos de entrada en las respuestas esperadas\n",
    "- Una **función objetivo** que cuantifique como de bien (o mal) se está comportando el modelo\n",
    "- Un **algoritmo** que ajuste los parámetros de dicho modelo para optimizar la función objetivo"
   ]
  },
  {
   "cell_type": "markdown",
   "metadata": {
    "id": "U2v6Svalg8im"
   },
   "source": [
    "### Dataset\n",
    "\n",
    "Imágenes, texto, secuencias de datos, series temporales, ..."
   ]
  },
  {
   "cell_type": "markdown",
   "metadata": {
    "id": "xhejrHfZhNBP"
   },
   "source": [
    "### Modelos\n",
    "\n",
    "Por modelo, denotamos la arquitectura computacional que permite recibir datos de un determinado tipo y emitir predicciones de un tipo posiblemente diferente. En particular, nos interesan modelos estadísticos que sean capaces de realizar dicha transformación y que puedan estimarse a partir de los datos\n",
    "\n",
    "<img src=\"https://raw.githubusercontent.com/ramajoballester/UC3M-PIC/main/data/content/mlp.svg\"\n",
    "    style=\"background-color:white; display:block; margin-left:auto; margin-right:auto; height:1000vh; width:auto; max-height:0.8vh;\"/>"
   ]
  },
  {
   "cell_type": "markdown",
   "metadata": {
    "id": "JiAXWiqihPLo"
   },
   "source": [
    "### Funciones objetivo (funciones de pérdida)\n",
    "\n",
    "Para desarrollar un sistema matemático formal de aprendizaje automático, necesitamos tener medidas formales de lo buenos (o malos) que son nuestros modelos. En el Deep Learning, y en la optimización en general, las llamamos funciones objetivo. Por convención, solemos definir las funciones objetivo de manera que lo más bajo es lo mejor. Esto no es más que una convención. Se puede tomar cualquier función para la que sea mejor el valor más alto y convertirla en una nueva función cualitativamente idéntica, pero para la que sea mejor el valor más bajo, cambiando el signo. Dado que menor es mejor, estas funciones se denominan a veces funciones de pérdida.\n",
    "\n",
    "Cuando se trata de predecir valores numéricos, la función de pérdida más común es el error cuadrático, es decir, el cuadrado de la diferencia entre la predicción y el valor verdadero. Para la clasificación, el objetivo más común es minimizar la tasa de error, es decir, la fracción de ejemplos en los que nuestras predicciones no coinciden con el valor real. Algunas de estas funciones objetivo (por ejemplo, el error cuadrático) son fáciles de optimizar. Otras (por ejemplo, la tasa de error) son difíciles de optimizar directamente, debido a la no diferenciabilidad u otras dificultades. En estos casos, es habitual optimizar una función objetivo \"surrogada\".\n",
    "\n",
    "Normalmente, la función de pérdida se define con respecto a los parámetros del modelo y depende del conjunto de datos. Se aprenden los mejores valores de los parámetros de nuestro modelo minimizando la pérdida en un conjunto formado por un cierto número de ejemplos recogidos para el entrenamiento. Sin embargo, hacerlo bien en los datos de entrenamiento no garantiza que lo hagamos bien con datos nuevos. Por ello, normalmente conviene dividir los datos disponibles en dos particiones: el conjunto de datos de entrenamiento (para ajustar los parámetros del modelo) y el conjunto de datos de prueba (para la evaluación), mostrando el rendimiento del modelo en ambos."
   ]
  },
  {
   "cell_type": "markdown",
   "metadata": {
    "id": "8gknCphJhWcX"
   },
   "source": [
    "### Algoritmos de optimización\n",
    "\n",
    "- Descenso de Gradiente\n",
    "- Descenso de Gradiente Estocástico (SGD)\n",
    "- Adam\n",
    "- RMSProp"
   ]
  },
  {
   "cell_type": "markdown",
   "metadata": {
    "id": "w7q4EisXhZhX"
   },
   "source": [
    "## Tipos de proyectos de Machine / Deep Learning"
   ]
  },
  {
   "cell_type": "markdown",
   "metadata": {
    "id": "nKIguBuUnIqg"
   },
   "source": [
    "### Aprendizaje supervisado\n",
    "\n",
    "El aprendizaje supervisado se ocupa de la tarea de predecir etiquetas dadas una serie de entradas. Nuestro objetivo es producir un modelo que asigne a cualquier entrada una predicción de etiqueta.\n",
    "\n",
    "<img src=\"https://raw.githubusercontent.com/ramajoballester/UC3M-PIC/main/data/content/supervised-learning.svg\" \n",
    "    style=\"background-color:white; display:block; margin-left:auto; margin-right:auto; height:1000vh; width:auto; max-height:0.7vh;\"/>\n",
    "\n",
    "Para basar esta descripción en un ejemplo concreto, si trabajáramos en el ámbito de la sanidad, podríamos querer predecir si un paciente va a sufrir o no un ataque al corazón. Esta observación, \"ataque al corazón\" o \"no ataque al corazón\", sería nuestra etiqueta, en este caso, binaria. Las entradas podrían ser los signos vitales, como la frecuencia cardíaca o la presión arterial diastólica y sistólica.\n",
    "\n",
    "La supervisión entra en juego porque, para elegir los parámetros, nosotros (los supervisores) proporcionamos al modelo un conjunto de datos formado por ejemplos etiquetados. En términos probabilísticos, normalmente nos interesa estimar la probabilidad condicional de una etiqueta dadas las características de entrada. Aunque es sólo uno de los paradigmas del aprendizaje automático, el aprendizaje supervisado representa la mayoría de las aplicaciones exitosas del aprendizaje automático en la industria. En parte, esto se debe a que muchas tareas importantes pueden describirse claramente como la estimación de la probabilidad de algo desconocido dado un conjunto particular de datos disponibles.\n",
    "\n",
    "- Regresión lineal / logística\n",
    "- Clasificación\n",
    "- Búsqueda\n",
    "- Sistemas de recomendación\n",
    "- Aprendizaje de secuencias / series temporales\n",
    " - Reconocimiento del habla\n",
    " - Transcripción del discurso\n",
    " - Traducción automática"
   ]
  },
  {
   "cell_type": "markdown",
   "metadata": {
    "id": "GY96K6AoqHUk"
   },
   "source": [
    "### Aprendizaje no supervisado\n",
    "\n",
    "El aprendizaje no supervisado, en cambio, no dispone de etiquetas para saber cómo debe aprender el modelo. Son problemas del tipo: ¿existe algún número de conjuntos de características que permitan resumir los datos?\n",
    "\n",
    "Por ejemplo, dado un conjunto de imágenes de perros, ¿podríamos extraer alguna característica que nos permita agruparlos, por ejemplo, el color, tamaño, raza,...?\n",
    "\n",
    "¿Existe una representación de objetos (arbitrariamente estructurados) en el espacio euclídeo tal que las propiedades simbólicas puedan emparejarse bien? Esto puede servir para describir entidades y sus relaciones, como \"Roma\" e \"Italia\" o \"Francia\" y \"París\".\n",
    "\n",
    "Otra forma de aprendizaje no supervisado, es el aprendizaje autosupervisado, el cual aprovecha los datos no etiquetados para proporcionar supervisión en el entrenamiento. Por ejemplo, prediciendo alguna parte oculta de los datos utilizando otras partes. En el caso de un texto, podemos entrenar modelos para \"rellenar los espacios en blanco\" mediante la predicción de palabras ocultas al azar utilizando sus palabras cercanas (contexto) en grandes corpus sin ningún esfuerzo de etiquetado. Para las imágenes, podemos entrenar modelos para decir la posición relativa entre dos regiones recortadas de la misma imagen.\n",
    "\n",
    "- K-means clustering\n",
    "- KNN (k-nearest neighbors)\n",
    "- Clustering jerárquico\n",
    "- Detección de anomalías\n",
    "- Análisis de Componentes Principales (PCA)\n",
    "\n",
    "<img src=\"https://raw.githubusercontent.com/ramajoballester/UC3M-PIC/main/data/content/non-supervised.svg\" \n",
    "    style=\"background-color:white; display:block; margin-left:auto; margin-right:auto; height:1000vh; width:auto; max-height:0.8vh;\"/>"
   ]
  },
  {
   "cell_type": "markdown",
   "metadata": {
    "id": "g-LRswoNATYO"
   },
   "source": [
    "# Regresión lineal\n",
    "\n",
    "https://playground.tensorflow.org/"
   ]
  },
  {
   "cell_type": "markdown",
   "metadata": {
    "id": "KAM6I1a_LhkU"
   },
   "source": [
    "## Implementación desde cero\n",
    "\n",
    "La regresión lineal es un modelo matemático que aproxima la relación entre una o más variables independientes y una variable dependiente. En las ciencias naturales y sociales, el objetivo de la regresión suele ser caracterizar la relación entre las entradas y las salidas. El aprendizaje automático, en cambio, se ocupa más a menudo de la predicción.\n",
    "\n",
    "Los problemas de regresión surgen siempre que se busca predecir un valor numérico. Algunos ejemplos comunes son la predicción de precios (de viviendas, acciones, etc.), la predicción de la duración de la estancia para los pacientes en el hospital, la previsión de la demanda para las ventas al por menor, entre otros innumerables. No todos los problemas de predicción son problemas clásicos de regresión. En los problemas de clasificación, por ejemplo, el objetivo es predecir la pertenencia a un conjunto de categorías.\n",
    "\n",
    "Recordatorio:\n",
    "- Credenciales Google\n",
    "- Login wandb"
   ]
  },
  {
   "cell_type": "code",
   "execution_count": null,
   "metadata": {},
   "outputs": [],
   "source": [
    "%load_ext autoreload\n",
    "%autoreload 2\n",
    "\n",
    "import os\n",
    "import uc3m_pic\n",
    "import random\n",
    "import torch\n",
    "import torchvision\n",
    "import copy\n",
    "import torchmetrics\n",
    "import wandb\n",
    "import matplotlib.pyplot as plt\n",
    "import numpy as np\n",
    "from matplotlib.colors import hsv_to_rgb\n",
    "import torch.nn.functional as F\n",
    "from torch import nn"
   ]
  },
  {
   "cell_type": "code",
   "execution_count": 4,
   "metadata": {
    "id": "GzcEopeqenUt"
   },
   "outputs": [],
   "source": [
    "def synthetic_data(w, b, noise, num_examples):\n",
    "    \"\"\"Generar y = Xw + b + ruido\"\"\"\n",
    "    x = torch.normal(0, 1, (num_examples, len(w)))\n",
    "    y = torch.matmul(x, w) + b\n",
    "    y += torch.normal(0, noise, y.shape)\n",
    "    return x, y.reshape((-1, 1))\n",
    "\n",
    "true_w = torch.tensor([2.0])\n",
    "true_b = 4.2\n",
    "noise = 0.5\n",
    "features, labels = synthetic_data(true_w, true_b, noise, 1000)"
   ]
  },
  {
   "cell_type": "code",
   "execution_count": 3,
   "metadata": {
    "colab": {
     "base_uri": "https://localhost:8080/",
     "height": 265
    },
    "id": "-7PPyyyFemkn",
    "outputId": "3ceb2feb-55d2-40a4-ecbe-c3804635901d"
   },
   "outputs": [
    {
     "data": {
      "image/png": "[encoded data removed]",
      "text/plain": [
       "<Figure size 640x480 with 1 Axes>"
      ]
     },
     "metadata": {},
     "output_type": "display_data"
    }
   ],
   "source": [
    "plt.scatter(features[:, 0], labels, 1);"
   ]
  },
  {
   "cell_type": "code",
   "execution_count": 4,
   "metadata": {
    "id": "pxpE59QMlSbg"
   },
   "outputs": [],
   "source": [
    "# Iterador de datos\n",
    "def data_iter(batch_size, features, labels):\n",
    "    num_examples = len(features)\n",
    "    indices = list(range(num_examples))\n",
    "\n",
    "    # Los ejemplos se leen en orden aleatorio, sin ningun orden en particular\n",
    "    random.shuffle(indices)\n",
    "    for i in range(0, num_examples, batch_size):\n",
    "        batch_indices = torch.tensor(\n",
    "            indices[i: min(i + batch_size, num_examples)])\n",
    "        yield features[batch_indices], labels[batch_indices]"
   ]
  },
  {
   "cell_type": "code",
   "execution_count": 5,
   "metadata": {
    "colab": {
     "base_uri": "https://localhost:8080/"
    },
    "id": "fUYPznlGkwFX",
    "outputId": "82dc280c-38cc-467d-f09f-5a0b2cb62f3d"
   },
   "outputs": [
    {
     "name": "stdout",
     "output_type": "stream",
     "text": [
      "torch.Size([8, 1])\n",
      "torch.Size([8, 1])\n"
     ]
    }
   ],
   "source": [
    "batch_size = 8\n",
    "\n",
    "for x, y in data_iter(batch_size, features, labels):\n",
    "    print(x.shape)\n",
    "    print(y.shape)\n",
    "    break"
   ]
  },
  {
   "cell_type": "markdown",
   "metadata": {
    "id": "Ai9r2CZTIXvL"
   },
   "source": [
    "La notación para expresar la predicción $\\hat{y}$ a partir de la entrada $x$ es:\n",
    "\n",
    "$$\\hat{y} = w_1  x_1 + ... + w_d  x_d + b.$$\n",
    "\n",
    "$$\\hat{y} = w^\\top x + b$$\n",
    "\n",
    "donde $w$ es el vector de pesos (o coeficientes) y $b$ es el sesgo (o *bias*). En el caso de que $d=1$, es decir, que sólo haya una variable independiente, se puede representar la regresión lineal como una recta en el plano. En el caso de que $d>1$, la regresión lineal es un hiperplano en un espacio de dimensión $d$."
   ]
  },
  {
   "cell_type": "code",
   "execution_count": 6,
   "metadata": {
    "id": "KxWgrHTgllBy"
   },
   "outputs": [],
   "source": [
    "def linreg(x, w, b):\n",
    "    # Modelo de regresión lineal\n",
    "    return torch.matmul(x, w) + b"
   ]
  },
  {
   "cell_type": "markdown",
   "metadata": {},
   "source": [
    "\n",
    "Naturalmente, ajustar un modelo a los datos requiere alguna forma de medir la *idoneidad* o cómo de bien se está llevando a cabo. Las *funciones de pérdida* cuantifican la distancia entre los valores *reales* y las *predicciones*. La pérdida será normalmente un número no negativo donde los valores más pequeños son mejores y las predicciones perfectas incurren en una pérdida de 0. Para problemas de regresión, la función de pérdida más común es el error cuadrático. Cuando la predicción para un ejemplo $i$ es $\\hat{y}^{(i)}$ y la etiqueta verdadera correspondiente es $y^{(i)}$, el *error al cuadrado* viene dado por:\n",
    "$$l^{(i)}(w, b) = \\frac{1}{2} \\left(\\hat{y}^{(i)} - y^{(i)}\\right)^2$$\n",
    "\n",
    "$$L(w, b) =\\frac{1}{n}\\sum_{i=1}^n l^{(i)}(w, b) =\\frac{1}{n} \\sum_{i=1}^n \\frac{1}{2}\\left(w^\\top x^{(i)} + b - y^{(i)}\\right)^2$$\n",
    "\n",
    "La constante $\\frac{1}{2}$ no supone ninguna diferencia, pero resulta conveniente desde el punto de vista de la notación, ya que se anula cuando se calcula la derivada de la función de pérdida. Debido a que el conjunto de datos de entrenamiento viene impuesto, y por lo tanto, fuera de control, el error empírico es sólo una función de los parámetros del modelo.\n",
    "\n",
    "<img src=\"https://raw.githubusercontent.com/ramajoballester/UC3M-PIC/main/data/content/fit-linreg.svg\" \n",
    "    style=\"background-color:white; display:block; margin-left:auto; margin-right:auto; height:1000vh; width:auto; max-height:0.6vh;\"/>"
   ]
  },
  {
   "cell_type": "code",
   "execution_count": null,
   "metadata": {},
   "outputs": [],
   "source": [
    "def squared_loss(y_pred, y):\n",
    "    # Función de pérdida Squared Loss\n",
    "    return (y_pred - y.reshape(y_pred.shape)) ** 2 / 2"
   ]
  },
  {
   "cell_type": "markdown",
   "metadata": {},
   "source": [
    "Este error es utilizado por el descenso de gradiente (*gradient descent*). Este algoritmo tiene como objetivo reducir iterativamente el error actualizando los parámetros en la dirección que disminuye progresivamente la función de pérdida. \n",
    "\n",
    "En resumen, el SGD (*[stochastic gradient descent](https://d2l.ai/chapter_linear-regression/linear-regression.html#minibatch-stochastic-gradient-descent)*) –o descenso de gradiente por batches– funciona del siguiente modo: \n",
    "- En primer lugar, se inicializan los valores de los parámetros del modelo, normalmente de forma aleatoria\n",
    "- Posteriormente se muestrean iterativamente subconjuntos de datos o *batches*, actualizando los parámetros en la dirección del gradiente negativo. Cada uno de estos *batches* es un subconjunto aleatorio sin reemplazamiento de $|\\mathcal{B}|$ ejemplos del dataset de entrenamiento. Esta extracción se realiza hasta agotar el conjunto de datos. Cada iteración completa del dataset se denomina *epoch*.\n",
    "\n",
    "$$(w,b) \\leftarrow (w,b) - \\frac{\\alpha}{|\\mathcal{B}|} \\sum_{i \\in \\mathcal{B}} \\partial_{(w,b)} l^{(i)}(w,b)$$\n",
    "\n",
    "SGD para $w$\n",
    "$$w \\leftarrow w - \\frac{\\alpha}{|\\mathcal{B}|} \\sum_{i \\in \\mathcal{B}} \\partial_{w} l^{(i)}(w, b) = w - \\frac{\\alpha}{|\\mathcal{B}|} \\sum_{i \\in \\mathcal{B}} x^{(i)} \\left(w^\\top x^{(i)} + b - y^{(i)}\\right)$$\n",
    "\n",
    "SGD para $b$\n",
    "$$b \\leftarrow b -  \\frac{\\alpha}{|\\mathcal{B}|} \\sum_{i \\in \\mathcal{B}} \\partial_b l^{(i)}(w, b)  = b - \\frac{\\alpha\\\\}{|\\mathcal{B}|} \\sum_{i \\in \\mathcal{B}} \\left(w^\\top x^{(i)} + b - y^{(i)}\\right)$$"
   ]
  },
  {
   "cell_type": "code",
   "execution_count": 109,
   "metadata": {
    "id": "KfYmP07rmzzY"
   },
   "outputs": [],
   "source": [
    "def sgd(params, lr, batch_size):\n",
    "    # Descenso de gradiente estocástico\n",
    "    with torch.no_grad():\n",
    "        for param in params:\n",
    "            param -= lr * param.grad / batch_size\n",
    "            param.grad.zero_()"
   ]
  },
  {
   "cell_type": "code",
   "execution_count": 9,
   "metadata": {
    "colab": {
     "base_uri": "https://localhost:8080/"
    },
    "id": "oZ3gwpe7m8iA",
    "outputId": "ba8940de-994d-41c4-8b11-c12da809a88e"
   },
   "outputs": [
    {
     "name": "stdout",
     "output_type": "stream",
     "text": [
      "Epoch 1, loss 0.9745\n",
      "Epoch 2, loss 0.1945\n",
      "Epoch 3, loss 0.1331\n",
      "Epoch 4, loss 0.1284\n",
      "Epoch 5, loss 0.1280\n"
     ]
    }
   ],
   "source": [
    "# Inicialización de los parámetros del modelo distinta a cero y no uniforme\n",
    "w = torch.normal(0, 0.01, size=(len(true_w),1), requires_grad=True)\n",
    "b = torch.zeros(1, requires_grad=True)\n",
    "\n",
    "# Learning rate\n",
    "lr = 0.01\n",
    "# Número de epochs de entrenamiento\n",
    "num_epochs = 5\n",
    "# Modelo a optimizar\n",
    "model = linreg\n",
    "# Función de pérdida cuadrática\n",
    "loss = squared_loss\n",
    "\n",
    "w_history = [w.item()]\n",
    "b_history = [b.item()]\n",
    "\n",
    "for epoch in range(num_epochs):\n",
    "    for x, y in data_iter(batch_size, features, labels):\n",
    "        # Pérdida entre predicción del modelo y los valores reales y\n",
    "        l = loss(model(x, w, b), y)\n",
    "        # Cálculo de los gradientes (derivadas) de la función de pérdida respecto\n",
    "        # de los parámetros del modelo\n",
    "        l.sum().backward()\n",
    "        # Actualización de los parámetros según sus gradientes\n",
    "        sgd([w, b], lr, batch_size)\n",
    "    with torch.no_grad():\n",
    "        train_l = loss(model(features, w, b), labels)\n",
    "        print(f'Epoch {epoch + 1}, loss {float(train_l.mean()):.4f}')\n",
    "    \n",
    "    w_history.append(w.item())\n",
    "    b_history.append(b.item())"
   ]
  },
  {
   "cell_type": "code",
   "execution_count": 10,
   "metadata": {
    "colab": {
     "base_uri": "https://localhost:8080/"
    },
    "id": "7__tXXWfp5XS",
    "outputId": "50e68d77-2350-4ea3-c834-50425d81cb28"
   },
   "outputs": [
    {
     "name": "stdout",
     "output_type": "stream",
     "text": [
      "Error de estimación w: tensor([0.0092], grad_fn=<SubBackward0>)\n",
      "Error de estimación b: tensor([-0.0015], grad_fn=<RsubBackward1>)\n"
     ]
    }
   ],
   "source": [
    "print('Error de estimación w: {}'.format(true_w - w.reshape(true_w.shape)))\n",
    "print('Error de estimación b: {}'.format(true_b - b))"
   ]
  },
  {
   "cell_type": "code",
   "execution_count": 11,
   "metadata": {
    "colab": {
     "base_uri": "https://localhost:8080/"
    },
    "id": "7iLQS_kSp9fI",
    "outputId": "909e7de6-1d1b-409e-e71c-a1fffb924f04"
   },
   "outputs": [
    {
     "name": "stdout",
     "output_type": "stream",
     "text": [
      "tensor([[1.9908]], requires_grad=True)\n",
      "tensor([2.])\n"
     ]
    }
   ],
   "source": [
    "print(w)\n",
    "print(true_w)"
   ]
  },
  {
   "cell_type": "code",
   "execution_count": 12,
   "metadata": {
    "colab": {
     "base_uri": "https://localhost:8080/",
     "height": 265
    },
    "id": "Lpym07tD3qot",
    "outputId": "bc45658e-3b24-4c14-f20c-8f0bccb2f42a"
   },
   "outputs": [
    {
     "data": {
      "image/png": "[encoded data removed]",
      "text/plain": [
       "<Figure size 640x480 with 1 Axes>"
      ]
     },
     "metadata": {},
     "output_type": "display_data"
    }
   ],
   "source": [
    "x1 = min(features[:, 0])\n",
    "x2 = max(features[:, 0])\n",
    "fig = plt.figure()\n",
    "plt.scatter(features[:, 0], labels, 1, color='k');\n",
    "for i in range(len(w_history)):\n",
    "    y1, y2 = (w_history[i] * torch.Tensor([[x1], [x2]]) + b_history[i]).detach().numpy()\n",
    "    plt.plot([x1, x2], [y1, y2], color=hsv_to_rgb((0.5*(i/len(w_history)), 1, 0.8)), linewidth=2)\n",
    "plt.show()"
   ]
  },
  {
   "cell_type": "markdown",
   "metadata": {},
   "source": [
    "Hasta ahora se ha dado una motivación bastante funcional del objetivo del error cuadrático: los parámetros óptimos devuelven la [expectativa](https://d2l.ai/chapter_preliminaries/probability.html#expectations) condicional $E[Y\\mid X]$ siempre que el patrón subyacente sea realmente lineal, y la pérdida asigna grandes penalizaciones para los valores atípicos (_outliers_). Sin embargo, también se puede proporcionar una [motivación más formal](https://d2l.ai/chapter_linear-regression/linear-regression.html#the-normal-distribution-and-squared-loss) para la función de pérdida del error cuadráttico haciendo suposiciones probabilísticas sobre la distribución del ruido. \n",
    "\n",
    "Para empezar, una distribución normal con media $\\mu$ y varianza $\\sigma^2$ (desviación típica $\\sigma$) viene dada como\n",
    "\n",
    "$$p(x) = \\frac{1}{\\sqrt{2 \\pi \\sigma^2}} \\exp\\left(-\\frac{1}{2 \\sigma^2} (x - \\mu)^2\\right).$$\n",
    "\n",
    "<img src=\"https://raw.githubusercontent.com/ramajoballester/UC3M-PIC/main/data/content/normal_distribution.svg\" \n",
    "    style=\"background-color:white; display:block; margin-left:auto; margin-right:auto; height:1000vh; width:auto; max-height:0.7vh;\"/>\n",
    "    \n",
    "Un cambio en la media correspondería a un desplazamiento a lo largo del eje $x$, y el aumento de la varianza dispersaría la distribución, reduciendo su valor máximo.\n",
    "\n",
    "Una forma de motivar la regresión lineal con la función de pérdida del error cuadrático es suponer que las observaciones proceden de mediciones ruidosas, donde el ruido $\\varepsilon$ sigue la distribución normal $\\mathcal{N}(0, \\sigma^2)$:\n",
    "\n",
    "$$y = w^\\top x + b + \\varepsilon \\textrm{ donde } \\varepsilon \\sim \\mathcal{N}(0, \\sigma^2)$$\n",
    "\n",
    "Por lo tanto, ahora podemos escribir la *probabilidad* de ver un $y$ concreto para un $x$ dado mediante\n",
    "\n",
    "$$P(y \\mid x) = \\frac{1}{\\sqrt{2 \\pi \\sigma^2}} \\exp\\left(-\\frac{1}{2 \\sigma^2} (y - w^\\top x - b)^2\\right)$$\n",
    "\n",
    "Como tal, esta probabilidad se factoriza. Según *el principio de máxima verosimilitud*, los mejores valores de los parámetros $w$ y $b$ son los que maximizan la *probabilidad* de todo el conjunto de datos:\n",
    "\n",
    "$$P(y \\mid X) = P(y^{(0)} \\mid x^{(0)}) \\cdot P(y^{(1)} \\mid x^{(1)}) \\cdot \\ldots \\cdot P(y^{(n)} \\mid x^{(n)}) = \\prod_{i=1}^{n} P(y^{(i)} \\mid x^{(i)})$$\n",
    "\n",
    "La igualdad se deduce ya que todos los pares $(x^{(i)}, y^{(i)})$ fueron extraídos independientemente unos de otros. Mientras que maximizar el producto de muchas funciones exponenciales puede parecer difícil, se pueden simplificar las operaciones significativamente, sin cambiar el objetivo, maximizando el logaritmo de la probabilidad. Por razones históricas, las optimizaciones se expresan más a menudo como minimización que como maximización. Así que, sin cambiar nada, podemos *minimizar* el *negativo del logaritmo de la probabilidad*, que podemos expresar de la siguiente manera:\n",
    "\n",
    "$$-\\log P(y \\mid X) = \\sum_{i=1}^n \\frac{1}{2} \\log(2 \\pi \\sigma^2) + \\frac{1}{2 \\sigma^2} \\left(y^{(i)} - w^\\top x^{(i)} - b\\right)^2$$\n",
    "\n",
    "Si suponemos que $\\sigma$ es fijo, se puede ignorar el primer término, porque no depende de $w$ o $b$. El segundo término es idéntico al error cuadrático introducido anteriormente, excepto para la constante $\\frac{1}{\\sigma^2}$. Afortunadamente, la solución no depende de $\\sigma$ tampoco. De ello se desprende que la minimización del error cuadrático medio es equivalente a la estimación de máxima verosimilitud de un modelo lineal bajo el supuesto de la adición de ruido gaussiano."
   ]
  },
  {
   "cell_type": "markdown",
   "metadata": {
    "id": "E-hwdwc0LmNM"
   },
   "source": [
    "## Implementación en Pytorch"
   ]
  },
  {
   "cell_type": "code",
   "execution_count": 5,
   "metadata": {
    "id": "lgaPkL3aQfR9"
   },
   "outputs": [],
   "source": [
    "true_w = torch.tensor([2.0])\n",
    "true_b = 4.2\n",
    "noise = 0.5\n",
    "features, labels = synthetic_data(true_w, true_b, noise, 1000)"
   ]
  },
  {
   "cell_type": "code",
   "execution_count": 6,
   "metadata": {
    "id": "l_MBVSLTXmvx"
   },
   "outputs": [],
   "source": [
    "class LinReg(torch.nn.Module):\n",
    "    '''\n",
    "    Modelo de regresión lineal\n",
    "    '''\n",
    "\n",
    "    # Constructor. Inicializa los parámetros del modelo\n",
    "    def __init__(self):\n",
    "        super(LinReg, self).__init__()\n",
    "        self.linear = nn.Linear(1, 1)\n",
    "        \n",
    "    def forward(self, x):\n",
    "        out = self.linear(x)\n",
    "        return out"
   ]
  },
  {
   "cell_type": "code",
   "execution_count": 7,
   "metadata": {},
   "outputs": [],
   "source": [
    "# Modelo de regresión lineal\n",
    "model = LinReg()"
   ]
  },
  {
   "cell_type": "code",
   "execution_count": 8,
   "metadata": {
    "id": "IiD7zFY9bKUX"
   },
   "outputs": [],
   "source": [
    "# Batch size\n",
    "batch_size = 8\n",
    "# Learning rate\n",
    "lr = 0.01\n",
    "# Número de epochs de entrenamiento\n",
    "num_epochs = 5"
   ]
  },
  {
   "cell_type": "code",
   "execution_count": 9,
   "metadata": {},
   "outputs": [],
   "source": [
    "dataset = torch.utils.data.TensorDataset(features, labels)\n",
    "dataloader = torch.utils.data.DataLoader(dataset, batch_size, shuffle=True)"
   ]
  },
  {
   "cell_type": "code",
   "execution_count": 10,
   "metadata": {
    "id": "Mgcmnq7oayT3"
   },
   "outputs": [],
   "source": [
    "# Función de pérdida\n",
    "loss = nn.MSELoss()\n",
    "# Optimizador\n",
    "optimizer = torch.optim.SGD(model.parameters(), lr=lr)"
   ]
  },
  {
   "cell_type": "code",
   "execution_count": 11,
   "metadata": {
    "colab": {
     "base_uri": "https://localhost:8080/"
    },
    "id": "aMVImhELbVFR",
    "outputId": "7646cdf6-dcf4-47d5-f2ba-aae9369eae41"
   },
   "outputs": [
    {
     "name": "stdout",
     "output_type": "stream",
     "text": [
      "Epoch 1, loss 0.194198\n",
      "Epoch 2, loss 0.122392\n",
      "Epoch 3, loss 0.122004\n",
      "Epoch 4, loss 0.121865\n",
      "Epoch 5, loss 0.121915\n"
     ]
    }
   ],
   "source": [
    "# Inicialización de los parámetros (no es necesario, se inicializan por defecto)\n",
    "model.linear.weight.data.normal_(0, 0.01)\n",
    "model.linear.bias.data.fill_(0)\n",
    "\n",
    "for epoch in range(num_epochs):\n",
    "    # Train loop\n",
    "    for x, y in dataloader:\n",
    "        l = loss(model(x) ,y)\n",
    "        optimizer.zero_grad()\n",
    "        l.backward()\n",
    "        optimizer.step()\n",
    "    \n",
    "    # Test loop\n",
    "    with torch.no_grad():\n",
    "        l = loss(model(features), labels) / 2\n",
    "\n",
    "    print(f'Epoch {epoch + 1}, loss {l:f}')"
   ]
  },
  {
   "cell_type": "code",
   "execution_count": 12,
   "metadata": {},
   "outputs": [
    {
     "name": "stdout",
     "output_type": "stream",
     "text": [
      "Error de estimación w: tensor([0.0103], grad_fn=<SubBackward0>)\n",
      "Error de estimación b: tensor([0.0075], grad_fn=<RsubBackward1>)\n"
     ]
    }
   ],
   "source": [
    "print('Error de estimación w: {}'.format(true_w - model.linear.weight.reshape(true_w.shape)))\n",
    "print('Error de estimación b: {}'.format(true_b - model.linear.bias))"
   ]
  },
  {
   "cell_type": "code",
   "execution_count": 13,
   "metadata": {
    "colab": {
     "base_uri": "https://localhost:8080/",
     "height": 266
    },
    "id": "E6RolFd84-1R",
    "outputId": "fd6b60db-bb83-4a88-f604-d35419c3ac88"
   },
   "outputs": [
    {
     "data": {
      "image/png": "[encoded data removed]",
      "text/plain": [
       "<Figure size 640x480 with 1 Axes>"
      ]
     },
     "metadata": {},
     "output_type": "display_data"
    }
   ],
   "source": [
    "plt.scatter(features, labels, s=1.5);\n",
    "plt.scatter(features, model(features).detach(), s=1.5);"
   ]
  },
  {
   "cell_type": "markdown",
   "metadata": {
    "id": "CkW3HJhlFKsj"
   },
   "source": [
    "# Ejercicio 0"
   ]
  },
  {
   "cell_type": "code",
   "execution_count": null,
   "metadata": {},
   "outputs": [],
   "source": [
    "student = uc3m_pic.eval.User('100100100')\n",
    "student.login(os.path.join(uc3m_pic.__path__[0], '..', \n",
    "                           'gsheets', 'credentials.json'))\n",
    "student.open_by_url('https://docs.google.com/spreadsheets/d/1sGXOQo0WgKjllJSdE778EBhU63f-wmSrazeINSnl1a0/edit?usp=sharing')"
   ]
  },
  {
   "cell_type": "markdown",
   "metadata": {},
   "source": [
    "Replicar el apartado anterior pero con x, x^2 y x^3 como entradas y:\n",
    "1. Utilizando una aproximación de orden 1\n",
    "2. Utilizando una aproximación de orden 2\n",
    "3. Utilizando una aproximación de orden a elegir"
   ]
  },
  {
   "cell_type": "code",
   "execution_count": 16,
   "metadata": {
    "id": "bIB7Q_ipNMS9"
   },
   "outputs": [],
   "source": [
    "def synthetic_data2(w, b, noise, num_examples):\n",
    "    x, _ = torch.sort(torch.rand(num_examples))\n",
    "    y = torch.matmul(torch.stack([x, x**2, x**3]).T, w) + b\n",
    "    y += torch.normal(0, noise, y.shape)\n",
    "    return x.unsqueeze(-1), y.unsqueeze(-1)\n",
    "\n",
    "true_w = torch.tensor([5.0, -16.0, 12.0])\n",
    "true_b = torch.Tensor([0.5])\n",
    "noise = 0.1\n",
    "features, labels = synthetic_data2(true_w, true_b, noise, 1000)"
   ]
  },
  {
   "cell_type": "code",
   "execution_count": 17,
   "metadata": {
    "colab": {
     "base_uri": "https://localhost:8080/",
     "height": 265
    },
    "id": "tNbAHnjvOIDH",
    "outputId": "15734b18-aa29-4125-8754-4ed818c6ae42"
   },
   "outputs": [
    {
     "data": {
      "image/png": "[encoded data removed]",
      "text/plain": [
       "<Figure size 640x480 with 1 Axes>"
      ]
     },
     "metadata": {},
     "output_type": "display_data"
    }
   ],
   "source": [
    "plt.scatter(features, labels, s=1.5)\n",
    "plt.show()"
   ]
  },
  {
   "cell_type": "code",
   "execution_count": 18,
   "metadata": {
    "id": "xlVZM9uPM601"
   },
   "outputs": [],
   "source": [
    "# SOLUCIÓN:\n"
   ]
  },
  {
   "cell_type": "code",
   "execution_count": null,
   "metadata": {},
   "outputs": [],
   "source": [
    "class LinReg(torch.nn.Module):\n",
    "    '''\n",
    "    Modelo de regresión lineal de orden arbitrario\n",
    "    '''\n",
    "\n",
    "    # Constructor (puede incluir parámetros para la inicialización)\n",
    "    def __init__(self, order):\n",
    "        super(LinReg, self).__init__()\n",
    "        self.order = order\n",
    "        \n",
    "        # ...\n",
    "        \n",
    "    def forward(self, x):\n",
    "        # Equivalente a tener un vector de características [x, x^2, x^3, ..., x^order]\n",
    "        x = torch.cat([x**i for i in range(1, self.order+1)], dim=-1)\n",
    "        \n",
    "        # out = ...\n",
    "\n",
    "        # return out"
   ]
  },
  {
   "cell_type": "code",
   "execution_count": 20,
   "metadata": {
    "id": "NhacYifJVpcO"
   },
   "outputs": [],
   "source": [
    "# SOLUCIÓN:\n"
   ]
  },
  {
   "cell_type": "code",
   "execution_count": null,
   "metadata": {},
   "outputs": [],
   "source": [
    "# Batch size\n",
    "batch_size = ...\n",
    "# Learning rate\n",
    "lr = ...\n",
    "# Número de epochs de entrenamiento\n",
    "num_epochs = ...\n",
    "# Orden del polinomio\n",
    "order = ...\n",
    "# Modelo\n",
    "model = ...\n",
    "# Función de pérdida\n",
    "loss_fn = ...\n",
    "\n",
    "# Optimizador\n",
    "optimizer = ...\n",
    "\n",
    "config = {\n",
    "  'learning_rate':lr,\n",
    "  'epochs': num_epochs,\n",
    "  'batch_size': batch_size,\n",
    "  'optimizer': optimizer.__class__.__name__,\n",
    "  'order': order\n",
    "}"
   ]
  },
  {
   "cell_type": "code",
   "execution_count": 21,
   "metadata": {
    "id": "y_gfG0_xTn8r"
   },
   "outputs": [],
   "source": [
    "# Creación de objeto dataloader\n",
    "dataset = torch.utils.data.TensorDataset(features, labels)\n",
    "dataloader = torch.utils.data.DataLoader(dataset, batch_size=batch_size, shuffle=True)"
   ]
  },
  {
   "cell_type": "code",
   "execution_count": null,
   "metadata": {
    "id": "5i1d4wctVpcP"
   },
   "outputs": [],
   "source": [
    "# SOLUCIÓN:\n"
   ]
  },
  {
   "cell_type": "code",
   "execution_count": null,
   "metadata": {},
   "outputs": [],
   "source": [
    "# Recordatorio: ejecutar \"wandb login\"\n",
    "wandb.init(project=\"uc3m-pic\", name='Ejercicio 0', config=config);\n",
    "\n",
    "# Entrenamiento\n",
    "best_loss = 1000\n",
    "for epoch in range(num_epochs):\n",
    "    # Train loop\n",
    "    # ...\n",
    "\n",
    "    # Test loop\n",
    "    # ...\n",
    "\n",
    "    # Save best model\n",
    "    # ...\n",
    "\n",
    "    # Print loss\n",
    "    # ...\n",
    "\n",
    "wandb.finish()"
   ]
  },
  {
   "cell_type": "code",
   "execution_count": 25,
   "metadata": {
    "colab": {
     "base_uri": "https://localhost:8080/",
     "height": 282
    },
    "id": "UdS7CzkLWGNi",
    "outputId": "73ddd27b-26a7-4b1c-bbaf-a21549ae6102"
   },
   "outputs": [
    {
     "data": {
      "text/plain": [
       "<matplotlib.collections.PathCollection at 0x7f82dc589190>"
      ]
     },
     "execution_count": 25,
     "metadata": {},
     "output_type": "execute_result"
    },
    {
     "data": {
      "image/png": "[encoded data removed]",
      "text/plain": [
       "<Figure size 640x480 with 1 Axes>"
      ]
     },
     "metadata": {},
     "output_type": "display_data"
    }
   ],
   "source": [
    "# Gráfica de los datos reales y la predicción del mejor modelo\n",
    "plt.scatter(features, labels, s=1.5)\n",
    "plt.scatter(features, best_model(features).detach(), s=1.5)"
   ]
  },
  {
   "cell_type": "code",
   "execution_count": null,
   "metadata": {},
   "outputs": [],
   "source": [
    "# Evaluar modelo y subir resultados al leaderboard\n",
    "student.submit(best_model, exercise=0)"
   ]
  },
  {
   "cell_type": "markdown",
   "metadata": {
    "id": "Sq6O9Hi473KB"
   },
   "source": [
    "# Regresión softmax\n",
    "\n",
    "Suponiendo una función de pérdida adecuada podríamos intentar, directamente, minimizar la diferencia entre las salidas $o$ y las etiquetas $y$. Aunque resulta que tratar la clasificación como un problema de regresión vectorial funciona sorprendentemente bien, no deja de resultar insuficiente en los siguientes aspectos: \n",
    "* No hay garantía de que las salidas $o_i$ sumen $1$ en la forma en que se espera que se comporten las probabilidades. \n",
    "* No hay garantía de que las salidas $o_i$ sean siquiera no negativas, aunque sus salidas sumen $1$, o de que no superen $1$. \n",
    "\n",
    "Ambos aspectos hacen que el problema de estimación sea difícil de resolver y la solución muy frágil a los valores atípicos.\n",
    "\n",
    "Una forma de lograr este objetivo (y garantizar la no negatividad) es utilizar la función exponencial $P(y = i) \\propto \\exp o_i$. Esto sí satisface el requisito de que la probabilidad condicionada de clase aumenta con el incremento de $o_i$, es monótona y todas las probabilidades son no negativas. A continuación, se pueden transformar estos valores para que sumen $1$ dividiendo cada uno por su suma. Este proceso se llama *normalización*. Juntando estas dos piezas se obtiene la función *softmax*:\n",
    "\n",
    "$$\\hat{y} = \\mathrm{softmax}(o)\\quad \\text{donde}\\quad \\hat{y}_j = \\frac{\\exp(o_j)}{\\sum_k \\exp(o_k)} $$\n",
    "\n",
    "Nótese que la coordenada mayor de $o$ corresponde a la clase más probable según $\\hat{y}$. Además, como la operación softmax conserva el orden entre sus argumentos, no es necesario calcular el softmax para determinar a qué clase se le ha asignado la probabilidad más alta. Por lo tanto,\n",
    "\n",
    "$$\n",
    "\\operatorname*{argmax}_j \\hat y_j = \\operatorname*{argmax}_j o_j\n",
    "$$"
   ]
  },
  {
   "cell_type": "markdown",
   "metadata": {
    "id": "A-faT0hujuop"
   },
   "source": [
    "## Implementación desde cero"
   ]
  },
  {
   "cell_type": "code",
   "execution_count": 75,
   "metadata": {
    "id": "XSD0Cvb98WGA"
   },
   "outputs": [],
   "source": [
    "# \"ToTensor\" convierte las imágenes de tipo PIL a float32\n",
    "# y divide el resultado entre 255 para restringirlas al rango [0, 1]\n",
    "\n",
    "transf = torchvision.transforms.Compose([\n",
    "    torchvision.transforms.ToTensor()\n",
    "])\n",
    "\n",
    "mnist_path = os.path.join(uc3m_pic.__path__[0], '..', 'data')\n",
    "mnist_train = torchvision.datasets.FashionMNIST(\n",
    "    root=mnist_path, train=True, transform=transf, download=True)\n",
    "mnist_test = torchvision.datasets.FashionMNIST(\n",
    "    root=mnist_path, train=False, transform=transf, download=True)\n",
    "\n",
    "train_dataloader = torch.utils.data.DataLoader(mnist_train, batch_size, \n",
    "                                                shuffle=True, num_workers=2)\n",
    "test_dataloader = torch.utils.data.DataLoader(mnist_test, batch_size,\n",
    "                                                shuffle=False, num_workers=2)\n",
    "labels = mnist_train.classes"
   ]
  },
  {
   "cell_type": "code",
   "execution_count": 70,
   "metadata": {
    "colab": {
     "base_uri": "https://localhost:8080/"
    },
    "id": "YLFiuEdc9CXS",
    "outputId": "d9328eb8-f787-457a-a501-226f20bf5804"
   },
   "outputs": [
    {
     "data": {
      "text/plain": [
       "(60000, 10000)"
      ]
     },
     "execution_count": 70,
     "metadata": {},
     "output_type": "execute_result"
    }
   ],
   "source": [
    "len(mnist_train), len(mnist_test)"
   ]
  },
  {
   "cell_type": "code",
   "execution_count": 76,
   "metadata": {},
   "outputs": [],
   "source": [
    "x, y = next(iter(train_dataloader))"
   ]
  },
  {
   "cell_type": "code",
   "execution_count": 94,
   "metadata": {},
   "outputs": [
    {
     "name": "stdout",
     "output_type": "stream",
     "text": [
      "Sandal\n"
     ]
    },
    {
     "data": {
      "image/png": "[encoded data removed]",
      "text/plain": [
       "<Figure size 640x480 with 1 Axes>"
      ]
     },
     "metadata": {},
     "output_type": "display_data"
    }
   ],
   "source": [
    "# Visualización del dataset\n",
    "idx = np.random.randint(0, len(x))\n",
    "plt.imshow(x[idx].permute(1, 2, 0), cmap='gray')\n",
    "print(labels[y[idx]])"
   ]
  },
  {
   "cell_type": "markdown",
   "metadata": {},
   "source": [
    "### Función softmax\n",
    "\n",
    "$$ \\hat{y}_j = \\mathrm{softmax}(o) = \\frac{\\exp(o_j)}{\\sum_k \\exp(o_k)} $$"
   ]
  },
  {
   "cell_type": "code",
   "execution_count": 95,
   "metadata": {
    "id": "05Ab6EDdCl1d"
   },
   "outputs": [],
   "source": [
    "def softmax(X):\n",
    "    X_exp = torch.exp(X)\n",
    "    return X_exp / X_exp.sum(1, keepdim=True)"
   ]
  },
  {
   "cell_type": "markdown",
   "metadata": {},
   "source": [
    "Ahora que existe un mapeo de las entradas $x$ a probabilidades $\\hat{y}$, se necesita una forma de optimizar la precisión de este mapeo. Para ello se recurrirá a la estimación de máxima verosimilitud, el mismo método que se utilizó para justificar probabilísticamente la función de pérdida del error cuadrático medio.\n",
    "\n",
    "La función softmax devuelve un vector $\\hat{y}$, el cual se puede interpretar como la probabilidad condicionada de cada clase dada una entrada $x$, por ejemplo, $\\hat{y}_1$ = $P(y=\\text{clase}_1 \\mid x)$.\n",
    "\n",
    "Supongamos que todo el dataset $\\{X, Y\\}$ tiene $n$ ejemplos, donde el ejemplo $i$ consiste en un vector de entrada $x^{(i)}$ y un vector de etiqueta one-hot $y^{(i)}$. Se pueden comparar las predicciones con la salida real, comprobando cómo de probables son las clases según el modelo:\n",
    "\n",
    "$$\n",
    "P(Y \\mid X) = \\prod_{i=1}^n P(y^{(i)} \\mid x^{(i)}).\n",
    "$$\n",
    "\n",
    "Según la estimación de máxima verosimilitud (_maximum likelihood estimation_), se maximiza la probabilidad $P(Y \\mid X)$, lo cual es equivalente a minimizar el negativo del logaritmo de la verosimilitud, ya que, al ser la función $\\log(x)$ monótona estríctamente creciente, el máximo de una función es el máximo de su logaritmo (y mínimo del logaritmo negativo):\n",
    "\n",
    "$$\n",
    "x_1 > x_2 \\iff \\log (x_1) > \\log (x_2)\n",
    "$$\n",
    "\n",
    "por tanto,\n",
    "\n",
    "$$\n",
    "-\\log P(Y \\mid X) = \\sum_{i=1}^n -\\log P(y^{(i)} \\mid x^{(i)})\n",
    "= \\sum_{i=1}^n l(y^{(i)}, \\hat{y}^{(i)}),\n",
    "$$\n",
    "\n",
    "donde para cada pareja de etiqueta $y$ y predicción de modelo $\\hat{y}$ sobre las $q$ clases, la función de pérdida $l$ (cross-entropy) es:\n",
    "\n",
    "$$ l(y, \\hat{y}) = - \\sum_{j=1}^q y_j \\log \\hat{y}_j. $$\n",
    "\n",
    "Derivada de la función softmax respecto de los pesos:\n",
    "\n",
    "$$\n",
    "\\partial_{o_j} l(y, \\hat{y}) = \\frac{\\exp(o_j)}{\\sum_{k=1}^q \\exp(o_k)} - y_j = \\mathrm{softmax}(o)_j - y_j.\n",
    "$$\n",
    "\n",
    "<!-- Regla de la cadena (cálculo de derivadas en capas intermedias) -->"
   ]
  },
  {
   "cell_type": "code",
   "execution_count": 96,
   "metadata": {
    "id": "-GOgv1yyhaDM"
   },
   "outputs": [],
   "source": [
    "# Crear vectores one-hot no es escalable con el aumento del número de clases\n",
    "\n",
    "# def cross_entropy(y_pred, y):\n",
    "#     return - y * torch.log(y_pred)\n",
    "\n",
    "def cross_entropy(y_pred, y):\n",
    "    return - torch.log(y_pred[range(len(y_pred)), y])"
   ]
  },
  {
   "cell_type": "markdown",
   "metadata": {},
   "source": [
    "Dado que $y$ es un vector one-hot de longitud $q$, la suma sobre todas sus coordenadas $j$ desaparece para todos los términos excepto uno. Obsérvese que la pérdida $l(y, \\hat{y})$ está limitada inferiormente por $0$ siempre que $\\hat{y}$ sea un vector de probabilidad: ninguna entrada es mayor que $1$, por lo que su logaritmo negativo no puede ser menor que $0$; $l(y, \\hat{y}) = 0$ sólo si predecimos la etiqueta real con *certeza*. Esto nunca puede suceder para cualquier ajuste finito de los pesos porque llevar una salida softmax hacia $1$ requiere llevar la entrada correspondiente $o_i$ al infinito (o todas las demás salidas $o_j$ para $j \\neq i$ al infinito negativo). Incluso si el modelo pudiera asignar una probabilidad de salida de $0$, cualquier error cometido al asignar una confianza tan alta supondría una pérdida infinita ($-\\log 0 = \\infty$)."
   ]
  },
  {
   "cell_type": "code",
   "execution_count": 97,
   "metadata": {
    "id": "aKGai1S6cls-"
   },
   "outputs": [],
   "source": [
    "num_inputs = 28**2\n",
    "num_outputs = 10\n",
    "\n",
    "w = torch.normal(0, 0.01, size=(num_inputs, num_outputs), requires_grad=True)\n",
    "b = torch.zeros(num_outputs, requires_grad=True)\n",
    "\n",
    "# Modelo de regresión softmax\n",
    "def softmax_model(x, w, b):\n",
    "    return softmax(torch.matmul(x.reshape((-1, w.shape[0])), w) + b)"
   ]
  },
  {
   "cell_type": "code",
   "execution_count": 99,
   "metadata": {
    "id": "-boh-fT4c1jd"
   },
   "outputs": [],
   "source": [
    "x, y = next(iter(test_dataloader))"
   ]
  },
  {
   "cell_type": "code",
   "execution_count": 100,
   "metadata": {
    "colab": {
     "base_uri": "https://localhost:8080/"
    },
    "id": "DASo38Goe1-F",
    "outputId": "ea04ce56-4a34-4756-e800-7fcc4b6ced68"
   },
   "outputs": [
    {
     "data": {
      "text/plain": [
       "torch.Size([16, 1, 28, 28])"
      ]
     },
     "execution_count": 100,
     "metadata": {},
     "output_type": "execute_result"
    }
   ],
   "source": [
    "x.shape"
   ]
  },
  {
   "cell_type": "code",
   "execution_count": 101,
   "metadata": {
    "colab": {
     "base_uri": "https://localhost:8080/"
    },
    "id": "uerYc6Sbe5km",
    "outputId": "4fc8ef42-6d38-4055-8b1a-70b5a4aabf93"
   },
   "outputs": [
    {
     "data": {
      "text/plain": [
       "torch.Size([16])"
      ]
     },
     "execution_count": 101,
     "metadata": {},
     "output_type": "execute_result"
    }
   ],
   "source": [
    "y.shape"
   ]
  },
  {
   "cell_type": "code",
   "execution_count": 102,
   "metadata": {
    "id": "vGOG897OfDfZ"
   },
   "outputs": [],
   "source": [
    "model = softmax_model\n",
    "y_pred = model(x, w, b)"
   ]
  },
  {
   "cell_type": "code",
   "execution_count": 104,
   "metadata": {},
   "outputs": [
    {
     "data": {
      "text/plain": [
       "tensor([[0, 0, 0, 0, 0, 0, 0, 0, 0, 1],\n",
       "        [0, 0, 1, 0, 0, 0, 0, 0, 0, 0],\n",
       "        [0, 1, 0, 0, 0, 0, 0, 0, 0, 0],\n",
       "        [0, 1, 0, 0, 0, 0, 0, 0, 0, 0],\n",
       "        [0, 0, 0, 0, 0, 0, 1, 0, 0, 0],\n",
       "        [0, 1, 0, 0, 0, 0, 0, 0, 0, 0],\n",
       "        [0, 0, 0, 0, 1, 0, 0, 0, 0, 0],\n",
       "        [0, 0, 0, 0, 0, 0, 1, 0, 0, 0],\n",
       "        [0, 0, 0, 0, 0, 1, 0, 0, 0, 0],\n",
       "        [0, 0, 0, 0, 0, 0, 0, 1, 0, 0],\n",
       "        [0, 0, 0, 0, 1, 0, 0, 0, 0, 0],\n",
       "        [0, 0, 0, 0, 0, 1, 0, 0, 0, 0],\n",
       "        [0, 0, 0, 0, 0, 0, 0, 1, 0, 0],\n",
       "        [0, 0, 0, 1, 0, 0, 0, 0, 0, 0],\n",
       "        [0, 0, 0, 0, 1, 0, 0, 0, 0, 0],\n",
       "        [0, 1, 0, 0, 0, 0, 0, 0, 0, 0]])"
      ]
     },
     "execution_count": 104,
     "metadata": {},
     "output_type": "execute_result"
    }
   ],
   "source": [
    "F.one_hot(y, num_outputs)"
   ]
  },
  {
   "cell_type": "code",
   "execution_count": 106,
   "metadata": {
    "id": "oTBFkEx6itya"
   },
   "outputs": [],
   "source": [
    "# Métrica de precisión\n",
    "def accuracy(y_pred, y):\n",
    "    \"\"\"\n",
    "    Cálculo del número de predicciones correctas\n",
    "    \"\"\"\n",
    "\n",
    "    if len(y_pred.shape) > 1 and y_pred.shape[1] > 1:\n",
    "        y_pred = y_pred.argmax(axis=1)\n",
    "    if len(y.shape) > 1 and y.shape[1] > 1:\n",
    "        y = y.argmax(axis=1)\n",
    "    tmp = y_pred.type(y.dtype) == y\n",
    "    return int(tmp.type(y.dtype).sum())"
   ]
  },
  {
   "cell_type": "code",
   "execution_count": 107,
   "metadata": {
    "colab": {
     "base_uri": "https://localhost:8080/"
    },
    "id": "JVsASb6Ki9Vx",
    "outputId": "2dc8a121-53a8-4431-bd32-b4c6ca7fcddd"
   },
   "outputs": [
    {
     "data": {
      "text/plain": [
       "0.0"
      ]
     },
     "execution_count": 107,
     "metadata": {},
     "output_type": "execute_result"
    }
   ],
   "source": [
    "accuracy(y_pred, y) / len(y_pred)"
   ]
  },
  {
   "cell_type": "code",
   "execution_count": 110,
   "metadata": {
    "colab": {
     "base_uri": "https://localhost:8080/"
    },
    "id": "2j4JhWsujaXp",
    "outputId": "5a14dbdd-10d2-4abc-df86-f3ff3097b15a"
   },
   "outputs": [
    {
     "name": "stdout",
     "output_type": "stream",
     "text": [
      "Epoch 0, Precisión (train): 0.818, Loss (train): 0.000142\n",
      "Epoch 0, Precisión (test):  0.806, Loss (test):  0.000606\n",
      "Epoch 1, Precisión (train): 0.831, Loss (train): 0.000114\n",
      "Epoch 1, Precisión (test):  0.819, Loss (test):  0.000529\n",
      "Epoch 2, Precisión (train): 0.837, Loss (train): 0.000202\n",
      "Epoch 2, Precisión (test):  0.824, Loss (test):  0.000528\n",
      "Epoch 3, Precisión (train): 0.845, Loss (train): 0.000117\n",
      "Epoch 3, Precisión (test):  0.829, Loss (test):  0.000557\n",
      "Epoch 4, Precisión (train): 0.848, Loss (train): 0.000097\n",
      "Epoch 4, Precisión (test):  0.833, Loss (test):  0.000516\n",
      "Epoch 5, Precisión (train): 0.850, Loss (train): 0.000084\n",
      "Epoch 5, Precisión (test):  0.832, Loss (test):  0.000525\n",
      "Epoch 6, Precisión (train): 0.851, Loss (train): 0.000042\n",
      "Epoch 6, Precisión (test):  0.836, Loss (test):  0.000530\n",
      "Epoch 7, Precisión (train): 0.854, Loss (train): 0.000122\n",
      "Epoch 7, Precisión (test):  0.839, Loss (test):  0.000519\n",
      "Epoch 8, Precisión (train): 0.853, Loss (train): 0.000084\n",
      "Epoch 8, Precisión (test):  0.836, Loss (test):  0.000561\n",
      "Epoch 9, Precisión (train): 0.857, Loss (train): 0.000054\n",
      "Epoch 9, Precisión (test):  0.838, Loss (test):  0.000538\n"
     ]
    }
   ],
   "source": [
    "# Learning rate\n",
    "lr = 0.01\n",
    "# Número de epochs de entrenamiento\n",
    "num_epochs = 10\n",
    "# Modelo a optimizar\n",
    "model = softmax_model\n",
    "# Función de pérdida cross_entropy\n",
    "loss = cross_entropy\n",
    "\n",
    "for epoch in range(num_epochs):\n",
    "    for x, y in train_dataloader:\n",
    "\n",
    "        # Convertir etiquetas a one-hot\n",
    "        # y = F.one_hot(y, num_outputs)\n",
    "\n",
    "        # Predicción del modelo\n",
    "        y_pred = model(x, w, b)\n",
    "\n",
    "        # Cálculo de la función de pérdida\n",
    "        l = loss(y_pred, y)\n",
    "\n",
    "        # Cálculo de los gradientes (derivadas) de la función de pérdida respecto\n",
    "        # de los parámetros del modelo\n",
    "        l.sum().backward()\n",
    "\n",
    "        # Actualización de los parámetros según sus gradientes\n",
    "        sgd([w, b], lr, batch_size)\n",
    "\n",
    "    # Métrica de precisión del modelo\n",
    "    with torch.no_grad():\n",
    "        n_correct = 0\n",
    "        total_loss = 0\n",
    "        for x, y in train_dataloader:\n",
    "            # Convertir etiquetas a one-hot\n",
    "            # y = F.one_hot(y, num_outputs)\n",
    "            y_pred = model(x, w, b)\n",
    "            total_loss = loss(y_pred, y).sum()\n",
    "            n_correct += accuracy(y_pred, y)\n",
    "\n",
    "        precision = n_correct / len(train_dataloader.dataset)\n",
    "        total_loss = total_loss / len(train_dataloader.dataset)\n",
    "        print(f'Epoch {epoch}, Precisión (train): {precision:.3f}, Loss (train): {total_loss:.6f}')\n",
    "\n",
    "        n_correct = 0\n",
    "        for x, y in test_dataloader:\n",
    "            # Convertir etiquetas a one-hot\n",
    "            # y = F.one_hot(y, num_outputs)\n",
    "            y_pred = model(x, w, b)\n",
    "            total_loss = loss(y_pred, y).sum()\n",
    "            n_correct += accuracy(y_pred, y)\n",
    "\n",
    "        precision = n_correct / len(test_dataloader.dataset)\n",
    "        total_loss = total_loss / len(test_dataloader.dataset)\n",
    "        print(f'Epoch {epoch}, Precisión (test):  {precision:.3f}, Loss (test):  {total_loss:.6f}')"
   ]
  },
  {
   "cell_type": "code",
   "execution_count": 111,
   "metadata": {
    "id": "_VGdJ3WXniQ6"
   },
   "outputs": [],
   "source": [
    "x, y = next(iter(test_dataloader))\n",
    "y_pred = model(x, w, b)"
   ]
  },
  {
   "cell_type": "code",
   "execution_count": 121,
   "metadata": {
    "colab": {
     "base_uri": "https://localhost:8080/",
     "height": 300
    },
    "id": "4CvpRQtSro5i",
    "outputId": "a989fc62-b8b7-4f1c-c7dc-e2ea3fb80318"
   },
   "outputs": [
    {
     "name": "stdout",
     "output_type": "stream",
     "text": [
      "Predicción: Ankle boot\n",
      "Real: Ankle boot\n"
     ]
    },
    {
     "data": {
      "image/png": "[encoded data removed]",
      "text/plain": [
       "<Figure size 640x480 with 1 Axes>"
      ]
     },
     "metadata": {},
     "output_type": "display_data"
    }
   ],
   "source": [
    "i = random.randint(0, len(x)-1)\n",
    "plt.imshow(x[i, 0], cmap='gray');\n",
    "print('Predicción: {}'.format(labels[y_pred.argmax(dim=1)[i]]))\n",
    "print('Real: {}'.format(labels[y[i]]))"
   ]
  },
  {
   "cell_type": "markdown",
   "metadata": {
    "id": "1vwxsN40sL9y"
   },
   "source": [
    "## Implementación en pytorch"
   ]
  },
  {
   "cell_type": "code",
   "execution_count": 127,
   "metadata": {},
   "outputs": [],
   "source": [
    "batch_size = 512\n",
    "num_outputs = 10\n",
    "\n",
    "transf = torchvision.transforms.Compose([\n",
    "    torchvision.transforms.ToTensor()\n",
    "])\n",
    "\n",
    "mnist_path = os.path.join(uc3m_pic.__path__[0], '..', 'data')\n",
    "mnist_train = torchvision.datasets.FashionMNIST(\n",
    "    root=mnist_path, train=True, transform=transf, download=True)\n",
    "mnist_test = torchvision.datasets.FashionMNIST(\n",
    "    root=mnist_path, train=False, transform=transf, download=True)\n",
    "\n",
    "train_dataloader = torch.utils.data.DataLoader(mnist_train, batch_size, \n",
    "                                                shuffle=True, num_workers=2)\n",
    "test_dataloader = torch.utils.data.DataLoader(mnist_test, batch_size,\n",
    "                                                shuffle=False, num_workers=2)\n",
    "labels = mnist_train.classes"
   ]
  },
  {
   "cell_type": "code",
   "execution_count": 128,
   "metadata": {
    "colab": {
     "base_uri": "https://localhost:8080/"
    },
    "id": "8F_qeKeQ0ze7",
    "outputId": "75c0f01e-8688-4775-b685-d631e0f9ca66"
   },
   "outputs": [
    {
     "data": {
      "text/plain": [
       "10"
      ]
     },
     "execution_count": 128,
     "metadata": {},
     "output_type": "execute_result"
    }
   ],
   "source": [
    "len(list(labels))"
   ]
  },
  {
   "cell_type": "code",
   "execution_count": 143,
   "metadata": {
    "id": "CdzLhYF8xRa6"
   },
   "outputs": [],
   "source": [
    "class SoftReg(torch.nn.Module):\n",
    "    '''\n",
    "    Modelo de regresión softmax\n",
    "    '''\n",
    "    def __init__(self):\n",
    "        super().__init__()\n",
    "        self.linear1 = nn.Linear(28 ** 2, 10)\n",
    "\n",
    "    def forward(self, x):\n",
    "        # Flatten x with torch.flatten\n",
    "        x = torch.flatten(x, start_dim=1)\n",
    "        out = self.linear1(x)\n",
    "        out = F.softmax(out, dim=-1)\n",
    "        return out"
   ]
  },
  {
   "cell_type": "code",
   "execution_count": 17,
   "metadata": {},
   "outputs": [],
   "source": [
    "def train(model, dataloader, loss_fn, optimizer):\n",
    "    \n",
    "    '''\n",
    "    Training loop\n",
    "\n",
    "    Parameters\n",
    "    ----------\n",
    "    model : torch.nn.Module\n",
    "        Model to train\n",
    "    dataloader : torch.utils.data.DataLoader\n",
    "        Dataloader with the training data\n",
    "    loss_fn : torch.nn.Module\n",
    "        Loss function\n",
    "    optimizer : torch.optim.Optimizer\n",
    "        Optimizer\n",
    "\n",
    "    Returns\n",
    "    -------\n",
    "    None\n",
    "    '''\n",
    "\n",
    "    device = next(model.parameters()).device\n",
    "    model.train()\n",
    "    for x, y in dataloader:\n",
    "        x, y = x.to(device), y.to(device)\n",
    "        optimizer.zero_grad()\n",
    "        y_pred = model(x)\n",
    "        loss = loss_fn(y_pred, y)\n",
    "        loss.backward()\n",
    "        optimizer.step()\n",
    "\n",
    "\n",
    "def test(model, dataloader, loss_fn, metrics_fn):\n",
    "\n",
    "    '''\n",
    "    Test loop\n",
    "\n",
    "    Parameters\n",
    "    ----------\n",
    "    model : torch.nn.Module\n",
    "        Model to test\n",
    "    dataloader : torch.utils.data.DataLoader\n",
    "        Dataloader with the testing data\n",
    "    loss_fn : torch.nn.Module\n",
    "        Loss function\n",
    "    metrics_fn : torchmetrics.Metric\n",
    "        Metric function\n",
    "\n",
    "    Returns\n",
    "    -------\n",
    "    loss_fn : float\n",
    "        Loss value\n",
    "    metrics_fn : float\n",
    "        Metric value\n",
    "    '''\n",
    "    \n",
    "    device = next(model.parameters()).device\n",
    "    model.eval()\n",
    "    metrics_fn = metrics_fn.to(device)\n",
    "    metrics_fn.reset()\n",
    "    with torch.no_grad():\n",
    "        loss = 0\n",
    "        for x, y in dataloader:\n",
    "            x, y = x.to(device), y.to(device)\n",
    "            y_pred = model(x)\n",
    "            loss += loss_fn(y_pred, y).sum()\n",
    "            metrics_fn.update(y_pred, y)\n",
    "        \n",
    "        loss = loss / len(dataloader.dataset)\n",
    "        metrics = metrics_fn.compute()\n",
    "\n",
    "    return loss, metrics"
   ]
  },
  {
   "cell_type": "code",
   "execution_count": 145,
   "metadata": {
    "id": "6I-IWeRbz7I9"
   },
   "outputs": [],
   "source": [
    "# GPU o CPU\n",
    "device = torch.device('cuda' if torch.cuda.is_available() else 'cpu')\n",
    "# Learning rate\n",
    "lr = 0.01\n",
    "# Número de epochs de entrenamiento\n",
    "num_epochs = 10\n",
    "# Modelo de regresión softmax\n",
    "model = SoftReg().to(device)\n",
    "\n",
    "# Función de pérdida\n",
    "loss_fn = nn.CrossEntropyLoss(reduction='sum')\n",
    "# Métrica de precisión\n",
    "metrics_fn = torchmetrics.classification.MulticlassAccuracy(\n",
    "    num_classes=num_outputs, average='micro').to(device)\n",
    "# Optimizador\n",
    "optimizer = torch.optim.SGD(model.parameters(), lr=lr)"
   ]
  },
  {
   "cell_type": "code",
   "execution_count": 146,
   "metadata": {
    "id": "YnK0ElSzz7JF"
   },
   "outputs": [
    {
     "name": "stdout",
     "output_type": "stream",
     "text": [
      "Epoch 0, Precisión (train): 0.611, Loss (train): 1.8562\n",
      "Epoch 0, Precisión (test):  0.605, Loss (test):  1.8614\n",
      "Epoch 1, Precisión (train): 0.624, Loss (train): 1.8434\n",
      "Epoch 1, Precisión (test):  0.618, Loss (test):  1.8488\n",
      "Epoch 2, Precisión (train): 0.628, Loss (train): 1.8373\n",
      "Epoch 2, Precisión (test):  0.622, Loss (test):  1.8446\n",
      "Epoch 3, Precisión (train): 0.631, Loss (train): 1.8347\n",
      "Epoch 3, Precisión (test):  0.622, Loss (test):  1.8431\n",
      "Epoch 4, Precisión (train): 0.631, Loss (train): 1.8323\n",
      "Epoch 4, Precisión (test):  0.623, Loss (test):  1.8397\n",
      "Epoch 5, Precisión (train): 0.632, Loss (train): 1.8307\n",
      "Epoch 5, Precisión (test):  0.624, Loss (test):  1.8383\n",
      "Epoch 6, Precisión (train): 0.633, Loss (train): 1.8303\n",
      "Epoch 6, Precisión (test):  0.623, Loss (test):  1.8388\n",
      "Epoch 7, Precisión (train): 0.635, Loss (train): 1.8284\n",
      "Epoch 7, Precisión (test):  0.626, Loss (test):  1.8365\n",
      "Epoch 8, Precisión (train): 0.638, Loss (train): 1.8267\n",
      "Epoch 8, Precisión (test):  0.627, Loss (test):  1.8359\n",
      "Epoch 9, Precisión (train): 0.639, Loss (train): 1.8238\n",
      "Epoch 9, Precisión (test):  0.628, Loss (test):  1.8330\n"
     ]
    }
   ],
   "source": [
    "model.to(device)\n",
    "for epoch in range(num_epochs):\n",
    "    train(model, train_dataloader, loss_fn, optimizer)\n",
    "\n",
    "    train_loss, train_acc = test(model, train_dataloader, loss_fn, \n",
    "        metrics_fn)\n",
    "    test_loss, test_acc = test(model, test_dataloader, loss_fn, \n",
    "        metrics_fn)\n",
    "\n",
    "    print(f'Epoch {epoch}, Precisión (train): {train_acc:.3f}, Loss (train): {train_loss:.4f}')\n",
    "    print(f'Epoch {epoch}, Precisión (test):  {test_acc:.3f}, Loss (test):  {test_loss:.4f}')"
   ]
  },
  {
   "cell_type": "markdown",
   "metadata": {},
   "source": [
    "# Ejercicio 1"
   ]
  },
  {
   "cell_type": "code",
   "execution_count": 8,
   "metadata": {},
   "outputs": [],
   "source": [
    "batch_size = 512\n",
    "\n",
    "transf = torchvision.transforms.Compose([\n",
    "    torchvision.transforms.ToTensor()\n",
    "])\n",
    "\n",
    "mnist_path = os.path.join(uc3m_pic.__path__[0], '..', 'data')\n",
    "mnist_train = torchvision.datasets.FashionMNIST(\n",
    "    root=mnist_path, train=True, transform=transf, download=True)\n",
    "mnist_test = torchvision.datasets.FashionMNIST(\n",
    "    root=mnist_path, train=False, transform=transf, download=True)\n",
    "\n",
    "train_dataloader = torch.utils.data.DataLoader(mnist_train, batch_size, \n",
    "                                                shuffle=True, num_workers=4)\n",
    "test_dataloader = torch.utils.data.DataLoader(mnist_test, batch_size,\n",
    "                                                shuffle=False, num_workers=4)\n",
    "labels = mnist_train.classes"
   ]
  },
  {
   "cell_type": "code",
   "execution_count": 9,
   "metadata": {},
   "outputs": [],
   "source": [
    "# SOLUCIÓN:\n"
   ]
  },
  {
   "cell_type": "code",
   "execution_count": null,
   "metadata": {},
   "outputs": [],
   "source": [
    "class SoftReg(torch.nn.Module):\n",
    "    '''\n",
    "    Modelo de regresión softmax\n",
    "    '''\n",
    "    def __init__(self):\n",
    "        super().__init__()\n",
    "        # ...\n",
    "\n",
    "    def forward(self, x):\n",
    "        # ...\n",
    "        \n",
    "        return out"
   ]
  },
  {
   "cell_type": "code",
   "execution_count": 15,
   "metadata": {},
   "outputs": [],
   "source": [
    "# SOLUCIÓN:\n"
   ]
  },
  {
   "cell_type": "code",
   "execution_count": null,
   "metadata": {},
   "outputs": [],
   "source": [
    "# GPU o CPU\n",
    "device = torch.device('cuda' if torch.cuda.is_available() else 'cpu')\n",
    "# Learning rate\n",
    "lr = ...\n",
    "# Número de epochs de entrenamiento\n",
    "num_epochs = ...\n",
    "# Modelo de regresión softmax\n",
    "model = ...\n",
    "\n",
    "# Función de pérdida\n",
    "loss_fn = ...\n",
    "# Métrica de precisión\n",
    "metrics_fn = ...\n",
    "# Optimizador\n",
    "optimizer = ...\n",
    "\n",
    "config = {\n",
    "    ...\n",
    "}\n",
    "\n",
    "wandb.init(project=\"uc3m-pic\", name='Ejercicio 1', config=config);"
   ]
  },
  {
   "cell_type": "code",
   "execution_count": null,
   "metadata": {},
   "outputs": [],
   "source": [
    "# SOLUCIÓN:\n"
   ]
  },
  {
   "cell_type": "code",
   "execution_count": null,
   "metadata": {},
   "outputs": [],
   "source": [
    "wandb.init(project=\"uc3m-pic\", name='Ejercicio 1', config=config);\n",
    "model.to(device)\n",
    "best_acc = 0\n",
    "for epoch in range(num_epochs):\n",
    "    train(...)\n",
    "\n",
    "    train_loss, train_acc = test(...)\n",
    "    test_loss, test_acc = test(...)\n",
    "\n",
    "    print(f'Epoch {epoch}, Precisión (train): {train_acc:.4f}, Loss (train): {train_loss:.4f}')\n",
    "    print(f'Epoch {epoch}, Precisión (test):  {test_acc:.4f}, Loss (test):  {test_loss:.4f}')\n",
    "    \n",
    "    wandb.log({\"Train loss\": train_loss})\n",
    "    wandb.log({\"Train accuracy\": train_acc})\n",
    "    wandb.log({\"Test loss\": test_loss})\n",
    "    wandb.log({\"Test accuracy\": test_acc})\n",
    "\n",
    "    if best_acc <= test_acc:\n",
    "        best_acc = test_acc\n",
    "        best_model = copy.deepcopy(model)\n",
    "\n",
    "wandb.finish()"
   ]
  },
  {
   "cell_type": "code",
   "execution_count": 20,
   "metadata": {},
   "outputs": [
    {
     "name": "stdout",
     "output_type": "stream",
     "text": [
      "Evaluating...\n"
     ]
    },
    {
     "name": "stderr",
     "output_type": "stream",
     "text": [
      "100%|██████████| 313/313 [00:00<00:00, 516.38it/s]\n"
     ]
    },
    {
     "name": "stdout",
     "output_type": "stream",
     "text": [
      "Score: 0.55680 submitted to exercise 1\n"
     ]
    }
   ],
   "source": [
    "# Evaluar modelo y subir resultados al leaderboard\n",
    "student.submit(best_model, exercise=1)"
   ]
  },
  {
   "cell_type": "markdown",
   "metadata": {
    "id": "3xLntDD4Wjf7"
   },
   "source": [
    "# Redes neuronales profundas\n",
    "\n",
    "Los modelos anteriores se caracterizan por ser lineales. Esta linealidad implica la suposición de *monotonicidad* de la función objetivo, es decir, que cualquier aumento en la entrada debe causar siempre un aumento en el resultado del modelo (si el peso correspondiente es positivo), o causar siempre una disminución en el resultado del modelo (si el peso correspondiente es negativo). Aunque pueda tener sentido en ciertos contextos, esta suposición es demasiado restrictiva para la mayoría de los problemas del mundo real y limita enormemente la clase de funciones que se pueden aproximar, y por tanto, la capacidad de aprendizaje del modelo. Por ejemplo, no sería posible modelar relaciones no lineales como $y = x^2$, $y = |x|$, o funciones más complejas como $y = \\sin(x)$ o $y = \\cos(x)$.\n",
    "\n",
    "Se pueden superar las limitaciones de los modelos lineales incorporando una o más capas ocultas. La forma más sencilla de hacerlo es apilar varias capas totalmente conectadas una encima de otra. Cada capa alimenta a la capa superior, hasta que se generan las salidas. Se pueden concebir las primeras capas $L-1$ como una representación interna de la información y la capa final como un predictor lineal. Esta arquitectura se suele llamar *perceptrón multicapa*.\n",
    "\n",
    "<img src=\"https://raw.githubusercontent.com/ramajoballester/UC3M-PIC/main/data/content/mlp.svg\" \n",
    "    style=\"background-color:white; display:block; margin-left:auto; margin-right:auto; height:1000vh; width:auto; max-height:0.7vh;\"/>\n",
    "  \n",
    "Como antes, se denota mediante la matriz $X \\in \\mathbb{R}^{n \\times d}$ un batch de $n$ ejemplos donde cada ejemplo tiene $d$ entradas (características). Para un MLP con una capa oculta que tiene $h$ unidades ocultas, se denota con $H \\in \\mathbb{R}^{n \\times h}$ las salidas de la capa oculta, que son *representaciones ocultas*. Dado que las capas ocultas y de salida están completamente conectadas, se obtienen pesos de la capa oculta $W^{(1)} \\in \\mathbb{R}^{d \\times h}$ y bias $b^{(1)} \\in \\mathbb{R}^{1 \\times h}$ y pesos de la capa de salida $W^{(1)} \\in \\mathbb{R}^{1 \\times h}$. de salida $W^{(2)} \\in \\mathbb{R}^{h \\times q}$ y biases $b^{(2)} \\in \\mathbb{R}^{1 \\times q}$. Esto permite calcular los resultados $O \\in \\mathbb{R}^{n \\times q}$ del MLP de una capa oculta como sigue:\n",
    "\n",
    "$$\n",
    "\\begin{aligned}\n",
    "    H & = X W^{(1)} + b^{(1)} \\\\\n",
    "    O & = HW^{(2)} + b^{(2)}\n",
    "\\end{aligned}\n",
    "$$\n",
    "\n",
    "Sin embargo, añadir capas ocultas no es suficiente para modelar funciones no lineales, puesto que se puede obtener un modelo de una capa equivalente:\n",
    "\n",
    "$$\n",
    "\\begin{aligned}\n",
    "    O & = (X W^{(1)} + b^{(1)}) W^{(2)} + b^{(2)} \n",
    "     = X W^{(1)} W^{(2)} + b^{(1)} W^{(2)} + b^{(2)} \n",
    "     = X W + b\n",
    "\\end{aligned}\n",
    "$$"
   ]
  },
  {
   "cell_type": "markdown",
   "metadata": {},
   "source": [
    "## Funciones de activación\n",
    "\n",
    "Para aprovechar el potencial de las arquitecturas multicapa, se necesita un componente clave más: una *función de activación no lineal* $\\sigma$ que se aplique a cada unidad oculta tras la transformación afín. Por ejemplo, una opción popular es la función de activación ReLU (unidad lineal rectificada) $\\sigma(x) = \\mathrm{max}(0, x)$ que opera sobre sus argumentos de forma elemental. En general, con las funciones de activación implementadas, ya no es posible reducir un MLP a un modelo lineal:\n",
    "\n",
    "$$\n",
    "\\begin{aligned}\n",
    "    H & = \\sigma(X W^{(1)} + b^{(1)}) \\\\\n",
    "    O & = HW^{(2)} + b^{(2)} \\\\\n",
    "\\end{aligned}\n",
    "$$"
   ]
  },
  {
   "cell_type": "markdown",
   "metadata": {},
   "source": [
    "### ReLU function\n",
    "\n",
    "$$\\operatorname{ReLU}(x) = \\max(x, 0)$$"
   ]
  },
  {
   "cell_type": "code",
   "execution_count": 64,
   "metadata": {},
   "outputs": [
    {
     "data": {
      "image/png": "[encoded data removed]",
      "text/plain": [
       "<Figure size 640x480 with 1 Axes>"
      ]
     },
     "metadata": {},
     "output_type": "display_data"
    }
   ],
   "source": [
    "# Plot relu activation function\n",
    "x = torch.linspace(-10, 10, 100)\n",
    "y = torch.relu(x)\n",
    "plt.plot(x, y)\n",
    "plt.xlabel('x')\n",
    "plt.ylabel('relu(x)')\n",
    "plt.grid()\n",
    "plt.show()"
   ]
  },
  {
   "cell_type": "markdown",
   "metadata": {},
   "source": [
    "### Sigmoid function\n",
    "\n",
    "$$\\operatorname{sigmoid}(x) = \\frac{1}{1 + \\exp(-x)}$$"
   ]
  },
  {
   "cell_type": "code",
   "execution_count": 65,
   "metadata": {},
   "outputs": [
    {
     "data": {
      "image/png": "[encoded data removed]",
      "text/plain": [
       "<Figure size 640x480 with 1 Axes>"
      ]
     },
     "metadata": {},
     "output_type": "display_data"
    }
   ],
   "source": [
    "# Plot sigmoid activation function\n",
    "x = torch.linspace(-10, 10, 100)\n",
    "y = torch.sigmoid(x)\n",
    "plt.plot(x, y)\n",
    "plt.xlabel('x')\n",
    "plt.ylabel('sigmoid(x)')\n",
    "plt.grid()\n",
    "plt.show()"
   ]
  },
  {
   "cell_type": "markdown",
   "metadata": {},
   "source": [
    "### Tanh function\n",
    "\n",
    "$$\\operatorname{tanh}(x) = \\frac{1 - \\exp(-2x)}{1 + \\exp(-2x)}$$"
   ]
  },
  {
   "cell_type": "code",
   "execution_count": 66,
   "metadata": {},
   "outputs": [
    {
     "data": {
      "image/png": "[encoded data removed]",
      "text/plain": [
       "<Figure size 640x480 with 1 Axes>"
      ]
     },
     "metadata": {},
     "output_type": "display_data"
    }
   ],
   "source": [
    "# Plot tanh activation function\n",
    "x = torch.linspace(-10, 10, 100)\n",
    "y = torch.tanh(x)\n",
    "plt.plot(x, y)\n",
    "plt.xlabel('x')\n",
    "plt.ylabel('tanh(x)')\n",
    "plt.grid()\n",
    "plt.show()"
   ]
  },
  {
   "cell_type": "markdown",
   "metadata": {},
   "source": [
    "# Ejercicio 2"
   ]
  },
  {
   "cell_type": "code",
   "execution_count": 166,
   "metadata": {},
   "outputs": [],
   "source": [
    "batch_size = 1024\n",
    "num_outputs = 47\n",
    "\n",
    "transform = torchvision.transforms.Compose([\n",
    "    lambda img: torchvision.transforms.functional.rotate(img, -90),\n",
    "    lambda img: torchvision.transforms.functional.hflip(img),\n",
    "    torchvision.transforms.ToTensor()\n",
    "])\n",
    "\n",
    "emnist_path = os.path.join(uc3m_pic.__path__[0], '..', 'data')\n",
    "emnist_train = torchvision.datasets.EMNIST(\n",
    "    root=emnist_path, split='balanced', train=True, transform=transform, \n",
    "    download=True)\n",
    "emnist_test = torchvision.datasets.EMNIST(\n",
    "    root=emnist_path, split='balanced', train=False, transform=transform, \n",
    "    download=True)\n",
    "\n",
    "train_dataloader = torch.utils.data.DataLoader(emnist_train, batch_size,\n",
    "                                               shuffle=True, num_workers=8)\n",
    "test_dataloader = torch.utils.data.DataLoader(emnist_test, batch_size,\n",
    "                                               shuffle=False, num_workers=8)\n",
    "labels = emnist_train.classes"
   ]
  },
  {
   "cell_type": "code",
   "execution_count": 168,
   "metadata": {},
   "outputs": [],
   "source": [
    "# SOLUCIÓN:\n"
   ]
  },
  {
   "cell_type": "code",
   "execution_count": null,
   "metadata": {},
   "outputs": [],
   "source": [
    "class SoftReg(torch.nn.Module):\n",
    "    '''\n",
    "    Modelo de regresión softmax\n",
    "    '''\n",
    "    def __init__(self):\n",
    "        super().__init__()\n",
    "        self.linear1 = ...\n",
    "        self.linear2 = ...\n",
    "\n",
    "    def forward(self, x):\n",
    "        # Concatenar en una dimensión\n",
    "        x = torch.flatten(x, start_dim=1)\n",
    "        x = ...\n",
    "        out = F.softmax(self.linear2(x), dim=-1)\n",
    "        return out"
   ]
  },
  {
   "cell_type": "code",
   "execution_count": 170,
   "metadata": {},
   "outputs": [],
   "source": [
    "# SOLUCIÓN:\n"
   ]
  },
  {
   "cell_type": "code",
   "execution_count": null,
   "metadata": {},
   "outputs": [],
   "source": [
    "# GPU o CPU\n",
    "device = torch.device('cuda' if torch.cuda.is_available() else 'cpu')\n",
    "# Learning rate\n",
    "lr = ...\n",
    "# Número de epochs de entrenamiento\n",
    "num_epochs = ...\n",
    "# Modelo de regresión softmax\n",
    "model = ...\n",
    "\n",
    "# Función de pérdida\n",
    "loss_fn = ...\n",
    "# Métrica de precisión\n",
    "metrics_fn = ...\n",
    "# Optimizador\n",
    "optimizer = ...\n",
    "\n",
    "config = {\n",
    "  'learning_rate':lr,\n",
    "  'epochs': num_epochs,\n",
    "  'batch_size': batch_size,\n",
    "  'optimizer': optimizer.__class__.__name__\n",
    "}"
   ]
  },
  {
   "cell_type": "code",
   "execution_count": null,
   "metadata": {},
   "outputs": [],
   "source": [
    "# SOLUCIÓN:\n"
   ]
  },
  {
   "cell_type": "code",
   "execution_count": null,
   "metadata": {},
   "outputs": [],
   "source": [
    "wandb.init(project=\"uc3m-pic\", name='Ejercicio 2', config=config);\n",
    "model.to(device)\n",
    "best_acc = 0\n",
    "for epoch in range(num_epochs):\n",
    "\n",
    "    ...\n",
    "\n",
    "\n",
    "wandb.finish()"
   ]
  },
  {
   "cell_type": "code",
   "execution_count": 172,
   "metadata": {},
   "outputs": [
    {
     "name": "stdout",
     "output_type": "stream",
     "text": [
      "Evaluating...\n"
     ]
    },
    {
     "name": "stderr",
     "output_type": "stream",
     "text": [
      " 13%|█▎        | 39/294 [00:00<00:01, 192.18it/s]"
     ]
    },
    {
     "name": "stderr",
     "output_type": "stream",
     "text": [
      "100%|██████████| 294/294 [00:01<00:00, 195.86it/s]\n"
     ]
    },
    {
     "name": "stdout",
     "output_type": "stream",
     "text": [
      "Score: 0.63957 submitted to exercise 2\n"
     ]
    }
   ],
   "source": [
    "# Evaluar modelo y subir resultados al leaderboard\n",
    "student.submit(best_model, exercise=2)"
   ]
  },
  {
   "cell_type": "markdown",
   "metadata": {
    "id": "3DI6YDZ4XyRI"
   },
   "source": [
    "# Guardado y carga de modelos"
   ]
  },
  {
   "cell_type": "code",
   "execution_count": 21,
   "metadata": {
    "id": "Qr9qVvk5cbpq"
   },
   "outputs": [],
   "source": [
    "models_path = os.path.join(uc3m_pic.__path__[0], '..', 'models')\n",
    "os.makedirs(models_path, exist_ok=True)"
   ]
  },
  {
   "cell_type": "code",
   "execution_count": 22,
   "metadata": {
    "id": "cOgIgzwcbVri"
   },
   "outputs": [],
   "source": [
    "torch.save(model, os.path.join(models_path, 'softreg.pt'))"
   ]
  },
  {
   "cell_type": "code",
   "execution_count": 25,
   "metadata": {
    "id": "OptkHbeNcX-b"
   },
   "outputs": [],
   "source": [
    "model = torch.load(os.path.join(models_path, 'softreg.pt')).to(device)"
   ]
  },
  {
   "cell_type": "markdown",
   "metadata": {},
   "source": [
    "# Eficiencia computacional"
   ]
  },
  {
   "cell_type": "code",
   "execution_count": 180,
   "metadata": {},
   "outputs": [],
   "source": [
    "import thop\n",
    "from torchsummary import summary"
   ]
  },
  {
   "cell_type": "code",
   "execution_count": 182,
   "metadata": {},
   "outputs": [
    {
     "name": "stdout",
     "output_type": "stream",
     "text": [
      "----------------------------------------------------------------\n",
      "        Layer (type)               Output Shape         Param #\n",
      "================================================================\n",
      "            Linear-1                  [-1, 256]         200,960\n",
      "            Linear-2                   [-1, 47]          12,079\n",
      "================================================================\n",
      "Total params: 213,039\n",
      "Trainable params: 213,039\n",
      "Non-trainable params: 0\n",
      "----------------------------------------------------------------\n",
      "Input size (MB): 0.00\n",
      "Forward/backward pass size (MB): 0.00\n",
      "Params size (MB): 0.81\n",
      "Estimated Total Size (MB): 0.82\n",
      "----------------------------------------------------------------\n",
      "FLOPs: 212.74K, params: 213.04K\n"
     ]
    }
   ],
   "source": [
    "model = SoftReg().to(device)\n",
    "a = summary(model, (1, 28*28), device=device.type)\n",
    "flops, params = thop.profile(model, verbose=False,\n",
    "                             inputs=(torch.randn(1, 1, 28, 28).to(device),))\n",
    "(flops, params) = thop.clever_format([flops, params])\n",
    "print(f'FLOPs: {flops}, params: {params}')"
   ]
  },
  {
   "cell_type": "code",
   "execution_count": 176,
   "metadata": {
    "colab": {
     "base_uri": "https://localhost:8080/"
    },
    "id": "Fcfm9Spxc95y",
    "outputId": "14151c67-c73a-43da-fe37-17e66e40ba14"
   },
   "outputs": [
    {
     "data": {
      "text/plain": [
       "213039"
      ]
     },
     "execution_count": 176,
     "metadata": {},
     "output_type": "execute_result"
    }
   ],
   "source": [
    "28*28*256 + 256 + 256 * 47 + 47"
   ]
  },
  {
   "cell_type": "markdown",
   "metadata": {},
   "source": [
    "## Referencias\n",
    "\n",
    "- Eficiencia computacional de los modelos de Deep Learning: [FLOPs y MACs](https://www.kdnuggets.com/2023/06/calculate-computational-efficiency-deep-learning-models-flops-macs.html#:~:text=FLOPs%20(Floating%20Point%20Operations)%20and,to%20perform%20a%20given%20computation.)\n",
    "\n",
    "- Set de instrucciones [FMA](https://en.wikipedia.org/wiki/FMA_instruction_set)\n",
    "\n",
    "- [FLOPs vs número de parámetros](https://github.com/AbhijeetBhilare777/MACC-FLOPS/blob/main/madd_flops.PNG)"
   ]
  }
 ],
 "metadata": {
  "colab": {
   "authorship_tag": "ABX9TyNPWm/sGB0+Rj9olv8I18a9",
   "collapsed_sections": [],
   "include_colab_link": true,
   "mount_file_id": "1EwZLwXCFp8ydXWaMIIAnq-m0v_Jj_qY0",
   "name": "1_introduccion.ipynb",
   "provenance": [],
   "toc_visible": true
  },
  "kernelspec": {
   "display_name": "Python 3",
   "name": "python3"
  },
  "language_info": {
   "codemirror_mode": {
    "name": "ipython",
    "version": 3
   },
   "file_extension": ".py",
   "mimetype": "text/x-python",
   "name": "python",
   "nbconvert_exporter": "python",
   "pygments_lexer": "ipython3",
   "version": "3.9.17"
  }
 },
 "nbformat": 4,
 "nbformat_minor": 0
}
