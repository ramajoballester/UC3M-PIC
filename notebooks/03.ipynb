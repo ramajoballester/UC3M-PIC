{
 "cells": [
  {
   "cell_type": "markdown",
   "metadata": {
    "id": "DESRjwwltfHJ"
   },
   "source": [
    "# Sesión 3. Deep Learning aplicado a Visión Artificial"
   ]
  },
  {
   "cell_type": "markdown",
   "metadata": {
    "colab_type": "text",
    "id": "view-in-github"
   },
   "source": [
    "<a href=\"https://colab.research.google.com/github/ramajoballester/UC3M-PIC/blob/main/notebooks/03.ipynb\" target=\"_parent\"><img src=\"https://colab.research.google.com/assets/colab-badge.svg\" alt=\"Open In Colab\"/></a>"
   ]
  },
  {
   "cell_type": "markdown",
   "metadata": {
    "id": "GSoJG-HJUfkt"
   },
   "source": [
    "# Redes Neuronales Convolucionales (CNN) clásicas"
   ]
  },
  {
   "cell_type": "code",
   "execution_count": null,
   "metadata": {},
   "outputs": [],
   "source": [
    "# Ejecutar esta celda ÚNICAMENTE si se está trabajando en GOOGLE COLAB\n",
    "\n",
    "if 'google.colab' in str(get_ipython()):\n",
    "    import os\n",
    "    ! git clone https://github.com/ramajoballester/UC3M-PIC.git\n",
    "    os.chdir('UC3M-PIC')\n",
    "    ! pip install .\n",
    "    print('UC3M-PIC instalado en Colab')\n",
    "else:\n",
    "    print('Ejecutando en local')"
   ]
  },
  {
   "cell_type": "code",
   "execution_count": null,
   "metadata": {
    "id": "Itw6aCoQomK6"
   },
   "outputs": [],
   "source": [
    "%load_ext autoreload\n",
    "%autoreload 2\n",
    "\n",
    "import os\n",
    "import thop\n",
    "import torch\n",
    "import copy\n",
    "import matplotlib.pyplot as plt\n",
    "import numpy as np\n",
    "import torch.nn.functional as F\n",
    "import torchvision\n",
    "import torchmetrics\n",
    "import wandb\n",
    "import uc3m_pic\n",
    "from torch import nn\n",
    "from torchsummary import summary\n",
    "from tqdm.auto import tqdm\n",
    "from sklearn.model_selection import StratifiedShuffleSplit\n",
    "import matplotlib_inline\n",
    "matplotlib_inline.backend_inline.set_matplotlib_formats('svg')"
   ]
  },
  {
   "cell_type": "code",
   "execution_count": null,
   "metadata": {},
   "outputs": [],
   "source": [
    "student = uc3m_pic.eval.User('100100100')\n",
    "student.login(os.path.join('gsheets', 'credentials.json'))\n",
    "student.open_by_url('https://docs.google.com/spreadsheets/d/1sGXOQo0WgKjllJSdE778EBhU63f-wmSrazeINSnl1a0/edit?usp=sharing')"
   ]
  },
  {
   "cell_type": "markdown",
   "metadata": {
    "id": "haElbQFqe-wY"
   },
   "source": [
    "## Operación de convolución\n",
    "\n",
    "Las capas totalmente conectadas (*fully-connected*) que se estudiaron previamente tienen una serie de problemas inherentes a su naturaleza. Por ejemplo, si los datos de entrada fueran fotografías de un megapíxel, significaría que cada entrada a la red tendría un millón de dimensiones. Incluso una reducción agresiva a mil dimensiones ocultas requeriría una capa totalmente conectada caracterizada por $10^6 \\times 10^3 = 10^9$ parámetros. A menos que se disponga de un gran número de GPU y una extraordinaria paciencia, aprender los parámetros de esta red puede resultar inviable.\n",
    "\n",
    "Además de ello, un método para reconocer objetos en una imagen debería ser capaz de reconocerlos independientemente de su posición en la imagen. Por ejemplo, si se tiene una imagen de un gato, debería ser capaz de reconocerlo independientemente de si se encuentra en la esquina superior izquierda o en la esquina inferior derecha o de si se encuentra rotado. Es decir, debería ser invariante a la traslación y a la rotación. Por otro lado, normalmente los objetos están definidos principalmente por los elementos más próximos a ellos en lugar de los más alejados, por lo que sería deseable que también se cumpliera el principio de localidad, es decir, que el modelo se centrara en las características locales en un entorno de rango $\\pm\\Delta$\n",
    "\n",
    "En matemáticas, la *convolución* entre dos funciones, por ejemplo, $f, g: \\mathbb{R}^d \\to \\mathbb{R}$ se define como:\n",
    "\n",
    "$$(f * g)(x) = \\int f(z) g(x-z) dz$$\n",
    "\n",
    "Siempre que se tengan elementos discretos, la integral se convierte en una suma. Por ejemplo, para vectores del conjunto de vectores de dimensión infinita con índice $a \\in \\mathbb{Z}_0^{+}$ se obtiene la siguiente definición:\n",
    "\n",
    "$$(f * g)(i) = \\sum_a f(a) g(i-a)$$\n",
    "\n",
    "Para tensores bidimensionales, se tiene un sumatorio correspondiente con índices $(a, b)$ para $f$ y $(i-a, j-b)$ para $g$, respectivamente:\n",
    "\n",
    "$$(f * g)(i, j) = \\sum_a\\sum_b f(a, b) g(i-a, j-b)$$\n",
    "\n",
    "Sólo hay un problema con este enfoque. Hasta ahora, se ha ignorado por completo que las imágenes constan de tres canales: rojo, verde y azul. En resumen, las imágenes no son objetos bidimensionales, sino tensores de tercer orden, caracterizados por una altura, una anchura y un número de canales. Para permitir múltiples canales tanto en las entradas ($\\mathsf{X}$) como en las representaciones ocultas (o *feature maps*) ($\\mathsf{H}$), se puede añadir una cuarta coordenada a $\\mathsf{V}$: $[\\mathsf{V}]_{a, b, c, d}$. Juntando todo, incluyendo el rango $\\Delta$ en el cual se desea aplicar esta convolución se obtiene:\n",
    "\n",
    "$$[\\mathsf{H}]_{i,j,d} = \\sum_{a = -\\Delta}^{\\Delta} \\sum_{b = -\\Delta}^{\\Delta} \\sum_c [\\mathsf{V}]_{a, b, c, d} [\\mathsf{X}]_{i+a, j+b, c}$$"
   ]
  },
  {
   "cell_type": "code",
   "execution_count": 2,
   "metadata": {
    "colab": {
     "base_uri": "https://localhost:8080/"
    },
    "id": "tmZoJ4-ge95o",
    "outputId": "a9f997a2-3a95-4abe-d2e0-69e2a7a7a5ba"
   },
   "outputs": [
    {
     "data": {
      "text/plain": [
       "tensor([[0, 1, 2],\n",
       "        [3, 4, 5],\n",
       "        [6, 7, 8]])"
      ]
     },
     "execution_count": 2,
     "metadata": {},
     "output_type": "execute_result"
    }
   ],
   "source": [
    "a = torch.arange(0, 9).reshape(3, 3)\n",
    "a"
   ]
  },
  {
   "cell_type": "code",
   "execution_count": 3,
   "metadata": {
    "colab": {
     "base_uri": "https://localhost:8080/"
    },
    "id": "Z80Kx_bfw2RR",
    "outputId": "f262cbd3-b46c-4493-8bd2-7f0ad92eb7a3"
   },
   "outputs": [
    {
     "data": {
      "text/plain": [
       "tensor([[0, 1],\n",
       "        [2, 3]])"
      ]
     },
     "execution_count": 3,
     "metadata": {},
     "output_type": "execute_result"
    }
   ],
   "source": [
    "kernel = torch.arange(0, 4).reshape(2, 2)\n",
    "kernel"
   ]
  },
  {
   "cell_type": "markdown",
   "metadata": {},
   "source": [
    "<img src=\"https://raw.githubusercontent.com/ramajoballester/UC3M-PIC/main/data/content/correlation.svg\"\n",
    "    style=\"background-color:white; display:block; margin-left:auto; margin-right:auto; width:50vw\"/>"
   ]
  },
  {
   "cell_type": "code",
   "execution_count": 4,
   "metadata": {
    "colab": {
     "base_uri": "https://localhost:8080/"
    },
    "id": "ZAJaI37uh4VP",
    "outputId": "106094e5-4ccd-489c-c305-6defba788ab2"
   },
   "outputs": [
    {
     "data": {
      "text/plain": [
       "19"
      ]
     },
     "execution_count": 4,
     "metadata": {},
     "output_type": "execute_result"
    }
   ],
   "source": [
    "0*0 + 1*1 + 3*2 + 4*3"
   ]
  },
  {
   "cell_type": "code",
   "execution_count": 5,
   "metadata": {
    "colab": {
     "base_uri": "https://localhost:8080/"
    },
    "id": "blPLrQF7K4f1",
    "outputId": "d4fc5827-f8eb-44d8-beb5-55e393130c08"
   },
   "outputs": [
    {
     "data": {
      "text/plain": [
       "tensor([[[[19, 25],\n",
       "          [37, 43]]]])"
      ]
     },
     "execution_count": 5,
     "metadata": {},
     "output_type": "execute_result"
    }
   ],
   "source": [
    "F.conv2d(a.view(1, 1, a.shape[0], a.shape[1]), kernel.view(1, 1, kernel.shape[0], kernel.shape[1]))"
   ]
  },
  {
   "cell_type": "code",
   "execution_count": 6,
   "metadata": {
    "colab": {
     "base_uri": "https://localhost:8080/"
    },
    "id": "BmdlMaM6Ov1l",
    "outputId": "80f51944-0d81-4cd3-957e-9a0f9bce3146"
   },
   "outputs": [
    {
     "data": {
      "text/plain": [
       "torch.Size([1, 1, 3, 3])"
      ]
     },
     "execution_count": 6,
     "metadata": {},
     "output_type": "execute_result"
    }
   ],
   "source": [
    "a.reshape((1, 1, 3, 3)).shape"
   ]
  },
  {
   "cell_type": "markdown",
   "metadata": {
    "id": "4y2ol_onR72l"
   },
   "source": [
    "## Detección de bordes"
   ]
  },
  {
   "cell_type": "markdown",
   "metadata": {},
   "source": [
    "### Verticales"
   ]
  },
  {
   "cell_type": "code",
   "execution_count": 7,
   "metadata": {
    "colab": {
     "base_uri": "https://localhost:8080/"
    },
    "id": "S5farhXpT9uM",
    "outputId": "8bc98a5d-4bc6-4da5-943b-94cb40986cfb"
   },
   "outputs": [
    {
     "data": {
      "text/plain": [
       "tensor([[1., 1., 0., 0., 0., 0., 1., 1.],\n",
       "        [1., 1., 0., 0., 0., 0., 1., 1.],\n",
       "        [1., 1., 0., 0., 0., 0., 1., 1.],\n",
       "        [1., 1., 0., 0., 0., 0., 1., 1.],\n",
       "        [1., 1., 0., 0., 0., 0., 1., 1.],\n",
       "        [1., 1., 0., 0., 0., 0., 1., 1.]])"
      ]
     },
     "execution_count": 7,
     "metadata": {},
     "output_type": "execute_result"
    }
   ],
   "source": [
    "x = torch.ones((6, 8))\n",
    "x[:, 2:6] = 0\n",
    "x"
   ]
  },
  {
   "cell_type": "code",
   "execution_count": 38,
   "metadata": {
    "colab": {
     "base_uri": "https://localhost:8080/"
    },
    "id": "Ucje_Z0SUpw8",
    "outputId": "6d3e68d0-06ec-4a43-81f4-87a24afa04fd"
   },
   "outputs": [
    {
     "data": {
      "text/plain": [
       "tensor([[ 1., -1.]])"
      ]
     },
     "execution_count": 38,
     "metadata": {},
     "output_type": "execute_result"
    }
   ],
   "source": [
    "kernel_v = torch.tensor([[1.0, -1.0]])\n",
    "kernel_v"
   ]
  },
  {
   "cell_type": "code",
   "execution_count": 48,
   "metadata": {},
   "outputs": [
    {
     "name": "stdout",
     "output_type": "stream",
     "text": [
      "torch.Size([6, 8])\n",
      "torch.Size([1, 1, 6, 8])\n"
     ]
    }
   ],
   "source": [
    "# Añadimos dos dimensiones (requisito de conv2d)\n",
    "print(x.shape)\n",
    "print(x.expand(1, 1, -1, -1).shape)"
   ]
  },
  {
   "cell_type": "code",
   "execution_count": 69,
   "metadata": {
    "colab": {
     "base_uri": "https://localhost:8080/"
    },
    "id": "gG2vJcsQUzcN",
    "outputId": "c2f6291b-4536-4647-aa25-4f456c0d7399"
   },
   "outputs": [
    {
     "data": {
      "text/plain": [
       "tensor([[[[ 0.,  1.,  0.,  0.,  0., -1.,  0.],\n",
       "          [ 0.,  1.,  0.,  0.,  0., -1.,  0.],\n",
       "          [ 0.,  1.,  0.,  0.,  0., -1.,  0.],\n",
       "          [ 0.,  1.,  0.,  0.,  0., -1.,  0.],\n",
       "          [ 0.,  1.,  0.,  0.,  0., -1.,  0.],\n",
       "          [ 0.,  1.,  0.,  0.,  0., -1.,  0.]]]])"
      ]
     },
     "execution_count": 69,
     "metadata": {},
     "output_type": "execute_result"
    }
   ],
   "source": [
    "F.conv2d(x.expand(1, 1, -1, -1), kernel_v.expand(1, 1, -1, -1))"
   ]
  },
  {
   "cell_type": "code",
   "execution_count": 52,
   "metadata": {},
   "outputs": [
    {
     "data": {
      "text/plain": [
       "tensor([[[[ 0.,  1.,  0.,  0.,  0., -1.,  0.],\n",
       "          [ 0.,  1.,  0.,  0.,  0., -1.,  0.],\n",
       "          [ 0.,  1.,  0.,  0.,  0., -1.,  0.],\n",
       "          [ 0.,  1.,  0.,  0.,  0., -1.,  0.],\n",
       "          [ 0.,  1.,  0.,  0.,  0., -1.,  0.],\n",
       "          [ 0.,  1.,  0.,  0.,  0., -1.,  0.]]]])"
      ]
     },
     "execution_count": 52,
     "metadata": {},
     "output_type": "execute_result"
    }
   ],
   "source": [
    "# Equivalente\n",
    "F.conv2d(x.view(1, 1, x.shape[0], x.shape[1]), kernel_v.view(1, 1, kernel_v.shape[0], kernel_v.shape[1]))"
   ]
  },
  {
   "cell_type": "markdown",
   "metadata": {
    "id": "GNZJKFk1aeaU"
   },
   "source": [
    "### Horizontales"
   ]
  },
  {
   "cell_type": "code",
   "execution_count": 53,
   "metadata": {
    "colab": {
     "base_uri": "https://localhost:8080/"
    },
    "id": "DL9RU0-nYHi2",
    "outputId": "cdb10c83-7860-42b1-f2b8-a08ded49eb27"
   },
   "outputs": [
    {
     "data": {
      "text/plain": [
       "tensor([[ 1.],\n",
       "        [-1.]])"
      ]
     },
     "execution_count": 53,
     "metadata": {},
     "output_type": "execute_result"
    }
   ],
   "source": [
    "kernel_h = torch.tensor([[1.0],  [-1.0]])\n",
    "kernel_h"
   ]
  },
  {
   "cell_type": "code",
   "execution_count": 56,
   "metadata": {
    "colab": {
     "base_uri": "https://localhost:8080/"
    },
    "id": "rNRPkNjEKv1r",
    "outputId": "b566e15a-dcc5-4a58-9faf-e05ed6f40673"
   },
   "outputs": [
    {
     "data": {
      "text/plain": [
       "tensor([[[[ 0.,  0.,  0.,  0.,  0.,  0.],\n",
       "          [ 1.,  1.,  1.,  1.,  1.,  1.],\n",
       "          [ 0.,  0.,  0.,  0.,  0.,  0.],\n",
       "          [ 0.,  0.,  0.,  0.,  0.,  0.],\n",
       "          [ 0.,  0.,  0.,  0.,  0.,  0.],\n",
       "          [-1., -1., -1., -1., -1., -1.],\n",
       "          [ 0.,  0.,  0.,  0.,  0.,  0.]]]])"
      ]
     },
     "execution_count": 56,
     "metadata": {},
     "output_type": "execute_result"
    }
   ],
   "source": [
    "x_transp = x.T\n",
    "F.conv2d(x_transp.expand(1, 1, -1, -1), kernel_h.expand(1, 1, -1, -1))"
   ]
  },
  {
   "cell_type": "markdown",
   "metadata": {
    "id": "cnaqiq0Tahit"
   },
   "source": [
    "### Diagonales"
   ]
  },
  {
   "cell_type": "code",
   "execution_count": 59,
   "metadata": {
    "colab": {
     "base_uri": "https://localhost:8080/"
    },
    "id": "hSPGoQRbayvM",
    "outputId": "abb91239-0897-4a94-d504-059789f7cae1"
   },
   "outputs": [
    {
     "data": {
      "text/plain": [
       "tensor([[1., 0., 0., 0., 0., 0.],\n",
       "        [0., 1., 0., 0., 0., 0.],\n",
       "        [0., 0., 1., 0., 0., 0.],\n",
       "        [0., 0., 0., 1., 0., 0.],\n",
       "        [0., 0., 0., 0., 1., 0.],\n",
       "        [0., 0., 0., 0., 0., 1.]])"
      ]
     },
     "execution_count": 59,
     "metadata": {},
     "output_type": "execute_result"
    }
   ],
   "source": [
    "x_ident = torch.eye(6)\n",
    "x_ident"
   ]
  },
  {
   "cell_type": "code",
   "execution_count": 57,
   "metadata": {
    "colab": {
     "base_uri": "https://localhost:8080/"
    },
    "id": "2k9GrutBa_MN",
    "outputId": "6c7ed471-db4e-4734-dd99-a3778540d3e2"
   },
   "outputs": [
    {
     "data": {
      "text/plain": [
       "tensor([[ 0.,  1.],\n",
       "        [-1.,  0.]])"
      ]
     },
     "execution_count": 57,
     "metadata": {},
     "output_type": "execute_result"
    }
   ],
   "source": [
    "# SOLUCIÓN:\n"
   ]
  },
  {
   "cell_type": "code",
   "execution_count": null,
   "metadata": {},
   "outputs": [
    {
     "data": {
      "text/plain": [
       "tensor([[ 0.,  1.],\n",
       "        [-1.,  0.]])"
      ]
     },
     "metadata": {},
     "output_type": "display_data"
    }
   ],
   "source": [
    "kernel_d = ...\n",
    "kernel_d"
   ]
  },
  {
   "cell_type": "code",
   "execution_count": 60,
   "metadata": {
    "colab": {
     "base_uri": "https://localhost:8080/"
    },
    "id": "qAMlwyR9bNyM",
    "outputId": "0aa3e33a-3ed0-4803-dc3a-916a1653122a"
   },
   "outputs": [
    {
     "data": {
      "text/plain": [
       "tensor([[[[ 0., -1.,  0.,  0.,  0.],\n",
       "          [ 1.,  0., -1.,  0.,  0.],\n",
       "          [ 0.,  1.,  0., -1.,  0.],\n",
       "          [ 0.,  0.,  1.,  0., -1.],\n",
       "          [ 0.,  0.,  0.,  1.,  0.]]]])"
      ]
     },
     "execution_count": 60,
     "metadata": {},
     "output_type": "execute_result"
    }
   ],
   "source": [
    "F.conv2d(x_ident.expand(1, 1, -1, -1), kernel_d.expand(1, 1, -1, -1))"
   ]
  },
  {
   "cell_type": "code",
   "execution_count": 2,
   "metadata": {},
   "outputs": [],
   "source": [
    "batch_size = 512\n",
    "num_outputs = 47\n",
    "\n",
    "transform = torchvision.transforms.Compose([\n",
    "    lambda img: torchvision.transforms.functional.rotate(img, -90),\n",
    "    lambda img: torchvision.transforms.functional.hflip(img),\n",
    "    torchvision.transforms.ToTensor()\n",
    "])\n",
    "# target_transform = lambda x: F.one_hot(torch.tensor(x), num_outputs).type(torch.float32)\n",
    "\n",
    "emnist_path = os.path.join('data', 'emnist')\n",
    "emnist_train = torchvision.datasets.EMNIST(\n",
    "    root=emnist_path, split='balanced', train=True, transform=transform, \n",
    "    download=True)\n",
    "emnist_test = torchvision.datasets.EMNIST(\n",
    "    root=emnist_path, split='balanced', train=False, transform=transform, \n",
    "    download=True)\n",
    "\n",
    "train_dataloader = torch.utils.data.DataLoader(emnist_train, batch_size,\n",
    "                                               shuffle=True, num_workers=0)\n",
    "test_dataloader = torch.utils.data.DataLoader(emnist_test, batch_size,\n",
    "                                               shuffle=False, num_workers=0)\n",
    "\n",
    "labels = '0123456789ABCDEFGHIJKLMNOPQRSTUVWXYZabdefghnqrt'"
   ]
  },
  {
   "cell_type": "code",
   "execution_count": 9,
   "metadata": {
    "id": "mqhNLAXxT8Zd"
   },
   "outputs": [],
   "source": [
    "x_train, y_train = next(iter(test_dataloader))"
   ]
  },
  {
   "cell_type": "code",
   "execution_count": 77,
   "metadata": {
    "colab": {
     "base_uri": "https://localhost:8080/",
     "height": 282
    },
    "id": "yybxAttLXm4t",
    "outputId": "522cb423-4408-4f08-d87c-46550ccc48e9"
   },
   "outputs": [
    {
     "data": {
      "image/png": "[encoded data removed]",
      "text/plain": [
       "<Figure size 640x480 with 1 Axes>"
      ]
     },
     "metadata": {},
     "output_type": "display_data"
    }
   ],
   "source": [
    "plt.imshow(x_train[2, 0], cmap='gray')\n",
    "plt.show()"
   ]
  },
  {
   "cell_type": "code",
   "execution_count": 79,
   "metadata": {
    "colab": {
     "base_uri": "https://localhost:8080/",
     "height": 282
    },
    "id": "YOhFKW_5brZ9",
    "outputId": "b737db38-4ca5-4eb8-effc-6568d9f96e34"
   },
   "outputs": [
    {
     "data": {
      "text/plain": [
       "<matplotlib.image.AxesImage at 0x7fd0540d3a60>"
      ]
     },
     "execution_count": 79,
     "metadata": {},
     "output_type": "execute_result"
    },
    {
     "data": {
      "image/png": "[encoded data removed]",
      "text/plain": [
       "<Figure size 640x480 with 1 Axes>"
      ]
     },
     "metadata": {},
     "output_type": "display_data"
    }
   ],
   "source": [
    "img = F.conv2d(x_train[2, 0].view(1, 1, x_train[2, 0].shape[0], x_train[2, 0].shape[1]),\n",
    "               kernel_v.view(1, 1, kernel_v.shape[0], kernel_v.shape[1]))\n",
    "plt.imshow(img[0, 0], cmap='gray')"
   ]
  },
  {
   "cell_type": "markdown",
   "metadata": {
    "id": "Xq4H-gMhKSBT"
   },
   "source": [
    "## Padding"
   ]
  },
  {
   "cell_type": "code",
   "execution_count": 2,
   "metadata": {
    "colab": {
     "base_uri": "https://localhost:8080/"
    },
    "id": "edglWAJDOYqQ",
    "outputId": "20d7ee2e-170b-4621-a519-4ed3683efd2c"
   },
   "outputs": [
    {
     "data": {
      "text/plain": [
       "tensor([[0, 1, 2],\n",
       "        [3, 4, 5],\n",
       "        [6, 7, 8]])"
      ]
     },
     "execution_count": 2,
     "metadata": {},
     "output_type": "execute_result"
    }
   ],
   "source": [
    "a = torch.arange(0, 9).reshape(3, 3)\n",
    "a"
   ]
  },
  {
   "cell_type": "code",
   "execution_count": 3,
   "metadata": {
    "colab": {
     "base_uri": "https://localhost:8080/"
    },
    "id": "Zfh0UkgIOaa-",
    "outputId": "80aa011d-26ea-4c86-f655-68a21701f4d7"
   },
   "outputs": [
    {
     "data": {
      "text/plain": [
       "tensor([[0, 0, 0, 0, 0],\n",
       "        [0, 0, 1, 2, 0],\n",
       "        [0, 3, 4, 5, 0],\n",
       "        [0, 6, 7, 8, 0],\n",
       "        [0, 0, 0, 0, 0]])"
      ]
     },
     "execution_count": 3,
     "metadata": {},
     "output_type": "execute_result"
    }
   ],
   "source": [
    "# Izquierda, derecha, arriba, abajo\n",
    "a_pad = F.pad(a, (1, 1, 1, 1))\n",
    "a_pad"
   ]
  },
  {
   "cell_type": "code",
   "execution_count": 4,
   "metadata": {
    "colab": {
     "base_uri": "https://localhost:8080/"
    },
    "id": "gHCOKGHlOYqc",
    "outputId": "367fc415-3166-407f-be99-86709672a5e9"
   },
   "outputs": [
    {
     "data": {
      "text/plain": [
       "tensor([[0, 1],\n",
       "        [2, 3]])"
      ]
     },
     "execution_count": 4,
     "metadata": {},
     "output_type": "execute_result"
    }
   ],
   "source": [
    "kernel = torch.arange(0, 4).reshape(2, 2)\n",
    "kernel"
   ]
  },
  {
   "cell_type": "code",
   "execution_count": 5,
   "metadata": {
    "colab": {
     "base_uri": "https://localhost:8080/"
    },
    "id": "EeOEWueiO7wA",
    "outputId": "787c82b4-cfb2-47f2-899f-73879ae4e278"
   },
   "outputs": [
    {
     "data": {
      "text/plain": [
       "tensor([[[[ 0,  3,  8,  4],\n",
       "          [ 9, 19, 25, 10],\n",
       "          [21, 37, 43, 16],\n",
       "          [ 6,  7,  8,  0]]]])"
      ]
     },
     "execution_count": 5,
     "metadata": {},
     "output_type": "execute_result"
    }
   ],
   "source": [
    "F.conv2d(a_pad.view(1, 1, a_pad.shape[0], a_pad.shape[1]), kernel.view(1, 1, kernel.shape[0], kernel.shape[1]))"
   ]
  },
  {
   "cell_type": "markdown",
   "metadata": {},
   "source": [
    "<img src=\"https://raw.githubusercontent.com/ramajoballester/UC3M-PIC/main/data/content/conv-pad.svg\"\n",
    "    style=\"background-color:white; display:block; margin-left:auto; margin-right:auto; width:60vw\"/>"
   ]
  },
  {
   "cell_type": "code",
   "execution_count": 6,
   "metadata": {
    "colab": {
     "base_uri": "https://localhost:8080/"
    },
    "id": "VC6qaWzxPGoH",
    "outputId": "77ce20d5-39cd-411e-f5fa-b7a24fbe410c"
   },
   "outputs": [
    {
     "data": {
      "text/plain": [
       "tensor([[[[ 0,  3,  8,  4],\n",
       "          [ 9, 19, 25, 10],\n",
       "          [21, 37, 43, 16],\n",
       "          [ 6,  7,  8,  0]]]])"
      ]
     },
     "execution_count": 6,
     "metadata": {},
     "output_type": "execute_result"
    }
   ],
   "source": [
    "F.conv2d(a.view(1, 1, a.shape[0], a.shape[1]), kernel.view(1, 1, kernel.shape[0], kernel.shape[1]),\n",
    "         padding=(1, 1))"
   ]
  },
  {
   "cell_type": "code",
   "execution_count": 7,
   "metadata": {
    "colab": {
     "base_uri": "https://localhost:8080/"
    },
    "id": "MeNC0ptwPypZ",
    "outputId": "141e7ab5-e7aa-4d7d-dad2-fefe38eb8c0f"
   },
   "outputs": [
    {
     "name": "stderr",
     "output_type": "stream",
     "text": [
      "/tmp/ipykernel_366083/2887868998.py:1: UserWarning: Using padding='same' with even kernel lengths and odd dilation may require a zero-padded copy of the input be created (Triggered internally at /opt/conda/conda-bld/pytorch_1682343964576/work/aten/src/ATen/native/Convolution.cpp:1003.)\n",
      "  F.conv2d(a.view(1, 1, a.shape[0], a.shape[1]), kernel.view(1, 1, kernel.shape[0], kernel.shape[1]),\n"
     ]
    },
    {
     "data": {
      "text/plain": [
       "tensor([[[[19, 25, 10],\n",
       "          [37, 43, 16],\n",
       "          [ 7,  8,  0]]]])"
      ]
     },
     "execution_count": 7,
     "metadata": {},
     "output_type": "execute_result"
    }
   ],
   "source": [
    "F.conv2d(a.view(1, 1, a.shape[0], a.shape[1]), kernel.view(1, 1, kernel.shape[0], kernel.shape[1]),\n",
    "         padding='same')"
   ]
  },
  {
   "cell_type": "markdown",
   "metadata": {
    "id": "QM7P1WDrP6YO"
   },
   "source": [
    "## Stride"
   ]
  },
  {
   "cell_type": "code",
   "execution_count": 8,
   "metadata": {
    "colab": {
     "base_uri": "https://localhost:8080/"
    },
    "id": "CqW6Gm8gSRFK",
    "outputId": "88196dc7-e582-4f01-a0a5-4a7b2b036c70"
   },
   "outputs": [
    {
     "data": {
      "text/plain": [
       "tensor([[[[0, 8],\n",
       "          [6, 8]]]])"
      ]
     },
     "execution_count": 8,
     "metadata": {},
     "output_type": "execute_result"
    }
   ],
   "source": [
    "F.conv2d(a_pad.view(1, 1, a_pad.shape[0], a_pad.shape[1]), kernel.view(1, 1, kernel.shape[0], kernel.shape[1]),\n",
    "         stride=(3, 2))"
   ]
  },
  {
   "cell_type": "markdown",
   "metadata": {},
   "source": [
    "<img src=\"https://raw.githubusercontent.com/ramajoballester/UC3M-PIC/main/data/content/conv-stride.svg\"\n",
    "    style=\"background-color:white; display:block; margin-left:auto; margin-right:auto; width:50vw\"/>"
   ]
  },
  {
   "cell_type": "code",
   "execution_count": 20,
   "metadata": {
    "id": "dPAmDISOTG_b"
   },
   "outputs": [],
   "source": [
    "class ConvModelStride(nn.Module):\n",
    "    def __init__(self):\n",
    "        super().__init__()\n",
    "        self.conv1 = nn.Conv2d(1, 16, 5, stride=2, padding=2)\n",
    "        self.conv2 = nn.Conv2d(16, 64, 5, stride=2, padding=2)\n",
    "        self.conv3 = nn.Conv2d(64, 8, 3)\n",
    "        self.flat = nn.Flatten()\n",
    "        self.linear = nn.Linear(8*5*5, 47)\n",
    "\n",
    "    def forward(self, x):\n",
    "        x = F.relu(self.conv1(x))\n",
    "        x = F.relu(self.conv2(x))\n",
    "        x = F.relu(self.conv3(x))\n",
    "        x = self.flat(x)\n",
    "        x = self.linear(x)\n",
    "\n",
    "        return x"
   ]
  },
  {
   "cell_type": "code",
   "execution_count": 22,
   "metadata": {
    "id": "r8u9AFAPTB0H"
   },
   "outputs": [],
   "source": [
    "model_stride = ConvModelStride()"
   ]
  },
  {
   "cell_type": "code",
   "execution_count": 14,
   "metadata": {},
   "outputs": [],
   "source": [
    "# Calcular tamaño de salida de una capa convolucional a partir del \n",
    "# tamaño de entrada, tamaño del kernel, padding y stride\n",
    "def conv2d_output_size(input_size, kernel_size, padding=0, stride=1):\n",
    "    return (input_size + 2*padding - kernel_size) // stride + 1"
   ]
  },
  {
   "cell_type": "code",
   "execution_count": 16,
   "metadata": {},
   "outputs": [
    {
     "data": {
      "text/plain": [
       "14"
      ]
     },
     "execution_count": 16,
     "metadata": {},
     "output_type": "execute_result"
    }
   ],
   "source": [
    "# Salida primera capa\n",
    "conv2d_output_size(input_size=28, kernel_size=5, padding=2, stride=2)"
   ]
  },
  {
   "cell_type": "code",
   "execution_count": 17,
   "metadata": {},
   "outputs": [
    {
     "data": {
      "text/plain": [
       "7"
      ]
     },
     "execution_count": 17,
     "metadata": {},
     "output_type": "execute_result"
    }
   ],
   "source": [
    "# Salida segunda capa\n",
    "conv2d_output_size(input_size=14, kernel_size=5, padding=2, stride=2)"
   ]
  },
  {
   "cell_type": "code",
   "execution_count": 18,
   "metadata": {},
   "outputs": [
    {
     "data": {
      "text/plain": [
       "5"
      ]
     },
     "execution_count": 18,
     "metadata": {},
     "output_type": "execute_result"
    }
   ],
   "source": [
    "# Salida tercera capa\n",
    "conv2d_output_size(input_size=7, kernel_size=3)"
   ]
  },
  {
   "cell_type": "code",
   "execution_count": 24,
   "metadata": {
    "colab": {
     "base_uri": "https://localhost:8080/"
    },
    "id": "Va9t_g1kTBtn",
    "outputId": "979a844a-e5c1-4e95-f78a-b23fc77d65e6"
   },
   "outputs": [
    {
     "name": "stdout",
     "output_type": "stream",
     "text": [
      "----------------------------------------------------------------\n",
      "        Layer (type)               Output Shape         Param #\n",
      "================================================================\n",
      "            Conv2d-1           [-1, 16, 14, 14]             416\n",
      "            Conv2d-2             [-1, 64, 7, 7]          25,664\n",
      "            Conv2d-3              [-1, 8, 5, 5]           4,616\n",
      "           Flatten-4                  [-1, 200]               0\n",
      "            Linear-5                   [-1, 47]           9,447\n",
      "================================================================\n",
      "Total params: 40,143\n",
      "Trainable params: 40,143\n",
      "Non-trainable params: 0\n",
      "----------------------------------------------------------------\n",
      "Input size (MB): 0.00\n",
      "Forward/backward pass size (MB): 0.05\n",
      "Params size (MB): 0.15\n",
      "Estimated Total Size (MB): 0.21\n",
      "----------------------------------------------------------------\n",
      "FLOPs: 1.46M, params: 40.14K\n"
     ]
    }
   ],
   "source": [
    "device = torch.device('cuda' if torch.cuda.is_available() else 'cpu')\n",
    "summary(model_stride.to(device), (1, 28, 28))\n",
    "flops, params = thop.profile(model_stride, verbose=False,\n",
    "                             inputs=(torch.randn(1, 1, 28, 28).to(device),))\n",
    "(flops, params) = thop.clever_format([flops, params])\n",
    "print(f'FLOPs: {flops}, params: {params}')"
   ]
  },
  {
   "cell_type": "markdown",
   "metadata": {
    "id": "u6fIiPDnaCjv"
   },
   "source": [
    "## Pooling"
   ]
  },
  {
   "cell_type": "code",
   "execution_count": 25,
   "metadata": {
    "colab": {
     "base_uri": "https://localhost:8080/"
    },
    "id": "Gwx_JMm4aM-J",
    "outputId": "af8690f8-40bd-461d-8ada-d19db9e1e7af"
   },
   "outputs": [
    {
     "data": {
      "text/plain": [
       "tensor([[0., 1., 2.],\n",
       "        [3., 4., 5.],\n",
       "        [6., 7., 8.]])"
      ]
     },
     "execution_count": 25,
     "metadata": {},
     "output_type": "execute_result"
    }
   ],
   "source": [
    "a = torch.arange(0, 9, dtype=torch.float32).reshape(3, 3)\n",
    "a"
   ]
  },
  {
   "cell_type": "code",
   "execution_count": 26,
   "metadata": {
    "colab": {
     "base_uri": "https://localhost:8080/"
    },
    "id": "r2KESpvWbEzh",
    "outputId": "fb7bc63a-897f-43fc-a567-6c404f80add7"
   },
   "outputs": [
    {
     "data": {
      "text/plain": [
       "tensor([[[4., 5.],\n",
       "         [7., 8.]]])"
      ]
     },
     "execution_count": 26,
     "metadata": {},
     "output_type": "execute_result"
    }
   ],
   "source": [
    "F.max_pool2d(a.unsqueeze(0), (2, 2), stride=1)"
   ]
  },
  {
   "cell_type": "markdown",
   "metadata": {},
   "source": [
    "<img src=\"https://raw.githubusercontent.com/ramajoballester/UC3M-PIC/main/data/content/pooling.svg\"\n",
    "    style=\"background-color:white; display:block; margin-left:auto; margin-right:auto; width:50vw\"/>"
   ]
  },
  {
   "cell_type": "markdown",
   "metadata": {
    "id": "eEss9qEzTBlf"
   },
   "source": [
    "## Múltiples canales de entrada y salida"
   ]
  },
  {
   "cell_type": "code",
   "execution_count": 27,
   "metadata": {
    "colab": {
     "base_uri": "https://localhost:8080/"
    },
    "id": "ab8bHChJX_Fp",
    "outputId": "5d3a5608-0a36-4fdf-ed74-c6a6a68c2c03"
   },
   "outputs": [
    {
     "data": {
      "text/plain": [
       "tensor([[[0, 1, 2],\n",
       "         [3, 4, 5],\n",
       "         [6, 7, 8]],\n",
       "\n",
       "        [[1, 2, 3],\n",
       "         [4, 5, 6],\n",
       "         [7, 8, 9]]])"
      ]
     },
     "execution_count": 27,
     "metadata": {},
     "output_type": "execute_result"
    }
   ],
   "source": [
    "a = torch.stack([torch.arange(0, 9).reshape(3, 3), torch.arange(1, 10).reshape(3, 3)])\n",
    "a"
   ]
  },
  {
   "cell_type": "code",
   "execution_count": 28,
   "metadata": {
    "colab": {
     "base_uri": "https://localhost:8080/"
    },
    "id": "DvzqqIiyYH7y",
    "outputId": "ce65a4b1-2772-493b-a758-c0fd6e3c4a94"
   },
   "outputs": [
    {
     "data": {
      "text/plain": [
       "tensor([[[0, 1],\n",
       "         [2, 3]],\n",
       "\n",
       "        [[1, 2],\n",
       "         [3, 4]]])"
      ]
     },
     "execution_count": 28,
     "metadata": {},
     "output_type": "execute_result"
    }
   ],
   "source": [
    "kernel = torch.stack([torch.arange(0, 4).reshape(2, 2), torch.arange(1, 5).reshape(2, 2)])\n",
    "kernel"
   ]
  },
  {
   "cell_type": "code",
   "execution_count": 29,
   "metadata": {
    "colab": {
     "base_uri": "https://localhost:8080/"
    },
    "id": "Rag5R3jKZYnZ",
    "outputId": "2ed3075b-e0cd-42fd-a8e3-b37c796502e0"
   },
   "outputs": [
    {
     "data": {
      "text/plain": [
       "tensor([[[[ 56,  72],\n",
       "          [104, 120]]]])"
      ]
     },
     "execution_count": 29,
     "metadata": {},
     "output_type": "execute_result"
    }
   ],
   "source": [
    "F.conv2d(a.unsqueeze(0), kernel.unsqueeze(0))"
   ]
  },
  {
   "cell_type": "markdown",
   "metadata": {},
   "source": [
    "<img src=\"https://raw.githubusercontent.com/ramajoballester/UC3M-PIC/main/data/content/conv-multi-in.svg\"\n",
    "    style=\"background-color:white; display:block; margin-left:auto; margin-right:auto; width:60vw\"/>"
   ]
  },
  {
   "cell_type": "markdown",
   "metadata": {
    "id": "9QjsbFZpdyYv"
   },
   "source": [
    "## Convolución 1x1"
   ]
  },
  {
   "cell_type": "code",
   "execution_count": null,
   "metadata": {
    "colab": {
     "base_uri": "https://localhost:8080/"
    },
    "id": "TPNo5UrOhIde",
    "outputId": "b4401160-6ab0-44b8-b761-d28bcdfe4d84"
   },
   "outputs": [
    {
     "data": {
      "text/plain": [
       "tensor([[[ 0,  1,  2],\n",
       "         [ 3,  4,  5],\n",
       "         [ 6,  7,  8]],\n",
       "\n",
       "        [[ 9, 10, 11],\n",
       "         [12, 13, 14],\n",
       "         [15, 16, 17]],\n",
       "\n",
       "        [[18, 19, 20],\n",
       "         [21, 22, 23],\n",
       "         [24, 25, 26]]])"
      ]
     },
     "execution_count": 135,
     "metadata": {},
     "output_type": "execute_result"
    }
   ],
   "source": [
    "a = torch.arange(0, 3*3*3).reshape(3, 3, 3)\n",
    "a"
   ]
  },
  {
   "cell_type": "code",
   "execution_count": null,
   "metadata": {
    "colab": {
     "base_uri": "https://localhost:8080/"
    },
    "id": "pzQTjdkYfPEe",
    "outputId": "9fe5539c-db32-43a9-c62e-ec983295c0b7"
   },
   "outputs": [
    {
     "data": {
      "text/plain": [
       "tensor([[[[0]],\n",
       "\n",
       "         [[1]],\n",
       "\n",
       "         [[2]]],\n",
       "\n",
       "\n",
       "        [[[3]],\n",
       "\n",
       "         [[4]],\n",
       "\n",
       "         [[5]]]])"
      ]
     },
     "execution_count": 138,
     "metadata": {},
     "output_type": "execute_result"
    }
   ],
   "source": [
    "kernel = torch.arange(0, 6).reshape(2, 3, 1, 1)\n",
    "kernel"
   ]
  },
  {
   "cell_type": "code",
   "execution_count": null,
   "metadata": {
    "colab": {
     "base_uri": "https://localhost:8080/"
    },
    "id": "5wRbz90FfW7u",
    "outputId": "678fd849-626f-464e-89d6-bc5ee72eb037"
   },
   "outputs": [
    {
     "data": {
      "text/plain": [
       "tensor([[[[ 45,  48,  51],\n",
       "          [ 54,  57,  60],\n",
       "          [ 63,  66,  69]],\n",
       "\n",
       "         [[126, 138, 150],\n",
       "          [162, 174, 186],\n",
       "          [198, 210, 222]]]])"
      ]
     },
     "execution_count": 139,
     "metadata": {},
     "output_type": "execute_result"
    }
   ],
   "source": [
    "F.conv2d(a.unsqueeze(0), kernel)"
   ]
  },
  {
   "cell_type": "markdown",
   "metadata": {},
   "source": [
    "<img src=\"https://raw.githubusercontent.com/ramajoballester/UC3M-PIC/main/data/content/conv-1x1.svg\"\n",
    "    style=\"background-color:white; display:block; margin-left:auto; margin-right:auto; width:50vw\"/>"
   ]
  },
  {
   "cell_type": "markdown",
   "metadata": {},
   "source": [
    "# Optimización del entrenamiento"
   ]
  },
  {
   "cell_type": "markdown",
   "metadata": {},
   "source": [
    "## Paralelización y velocidad de entrenamiento\n",
    "\n",
    "- GPU\n",
    "- num_workers (ejemplo tortilla de patatas)\n",
    "- batch_size"
   ]
  },
  {
   "cell_type": "code",
   "execution_count": 63,
   "metadata": {},
   "outputs": [],
   "source": [
    "batch_size = 256\n",
    "\n",
    "transf = torchvision.transforms.Compose([\n",
    "    lambda img: torchvision.transforms.functional.rotate(img, -90),\n",
    "    lambda img: torchvision.transforms.functional.hflip(img),\n",
    "    torchvision.transforms.ToTensor()\n",
    "])\n",
    "\n",
    "emnist_train = torchvision.datasets.EMNIST(\n",
    "    root='data', split='balanced', train=True, transform=transf, download=True)\n",
    "emnist_test = torchvision.datasets.EMNIST(\n",
    "    root='data', split='balanced', train=False, transform=transf, download=True)\n",
    "\n",
    "train_dataloader = torch.utils.data.DataLoader(emnist_train, batch_size,\n",
    "                                               shuffle=True, num_workers=8,\n",
    "                                               pin_memory=True)\n",
    "test_dataloader = torch.utils.data.DataLoader(emnist_test, batch_size,\n",
    "                                              shuffle=False, num_workers=8,\n",
    "                                              pin_memory=True)\n",
    "\n",
    "labels = '0123456789ABCDEFGHIJKLMNOPQRSTUVWXYZabdefghnqrt'"
   ]
  },
  {
   "cell_type": "code",
   "execution_count": 53,
   "metadata": {},
   "outputs": [],
   "source": [
    "class CNN(nn.Module):\n",
    "    def __init__(self):\n",
    "        super().__init__()\n",
    "        self.conv1 = nn.Conv2d(1, 16, 5)\n",
    "        self.conv2 = nn.Conv2d(16, 64, 5)\n",
    "        self.conv3 = nn.Conv2d(64, 8, 5)\n",
    "        self.flat = nn.Flatten()\n",
    "        self.linear = nn.Linear(8*16*16, 47)\n",
    "\n",
    "    def forward(self, x):\n",
    "        x = F.relu(self.conv1(x))\n",
    "        x = F.relu(self.conv2(x))\n",
    "        x = F.relu(self.conv3(x))\n",
    "        x = self.flat(x)\n",
    "        x = self.linear(x)\n",
    "\n",
    "        return x"
   ]
  },
  {
   "cell_type": "markdown",
   "metadata": {},
   "source": [
    "### CPU"
   ]
  },
  {
   "cell_type": "code",
   "execution_count": 59,
   "metadata": {},
   "outputs": [],
   "source": [
    "device = torch.device('cpu')\n",
    "model = CNN().to(device)\n",
    "\n",
    "lr = 0.0001\n",
    "loss_fn = nn.CrossEntropyLoss(reduction='sum')\n",
    "optimizer = torch.optim.Adam(model.parameters(), lr=lr)"
   ]
  },
  {
   "cell_type": "code",
   "execution_count": null,
   "metadata": {},
   "outputs": [
    {
     "name": "stdout",
     "output_type": "stream",
     "text": [
      "1 loop, best of 1: 3min 21s per loop\n"
     ]
    }
   ],
   "source": [
    "%%timeit -n 1 -r 1\n",
    "# batch_size = 16, num_workers = 1\n",
    "model = CNN().to(device)\n",
    "for x, y in train_dataloader:\n",
    "    x, y = x.to(device), y.to(device)\n",
    "    optimizer.zero_grad()\n",
    "    y_pred = model(x)\n",
    "    l = loss_fn(y_pred, y)\n",
    "    l.backward()\n",
    "    optimizer.step()"
   ]
  },
  {
   "cell_type": "code",
   "execution_count": null,
   "metadata": {},
   "outputs": [
    {
     "name": "stdout",
     "output_type": "stream",
     "text": [
      "1 loop, best of 1: 3min 18s per loop\n"
     ]
    }
   ],
   "source": [
    "%%timeit -n 1 -r 1\n",
    "# batch_size = 256, num_workers = 1\n",
    "for x, y in train_dataloader:\n",
    "    x, y = x.to(device), y.to(device)\n",
    "    optimizer.zero_grad()\n",
    "    y_pred = model(x)\n",
    "    l = loss_fn(y_pred, y)\n",
    "    l.backward()\n",
    "    optimizer.step()"
   ]
  },
  {
   "cell_type": "markdown",
   "metadata": {},
   "source": [
    "### GPU"
   ]
  },
  {
   "cell_type": "code",
   "execution_count": 60,
   "metadata": {},
   "outputs": [],
   "source": [
    "device = torch.device('cuda')\n",
    "model = CNN().to(device)\n",
    "\n",
    "lr = 0.0001\n",
    "loss_fn = nn.CrossEntropyLoss(reduction='sum')\n",
    "optimizer = torch.optim.Adam(model.parameters(), lr=lr)"
   ]
  },
  {
   "cell_type": "code",
   "execution_count": null,
   "metadata": {},
   "outputs": [
    {
     "name": "stdout",
     "output_type": "stream",
     "text": [
      "1 loop, best of 1: 41.7 s per loop\n"
     ]
    }
   ],
   "source": [
    "%%timeit -n 1 -r 1\n",
    "# batch_size = 16, num_workers = 1\n",
    "for x, y in train_dataloader:\n",
    "    x, y = x.to(device), y.to(device)\n",
    "    optimizer.zero_grad()\n",
    "    y_pred = model(x)\n",
    "    l = loss_fn(y_pred, y)\n",
    "    l.backward()\n",
    "    optimizer.step()"
   ]
  },
  {
   "cell_type": "code",
   "execution_count": 62,
   "metadata": {},
   "outputs": [
    {
     "name": "stdout",
     "output_type": "stream",
     "text": [
      "8.76 s ± 0 ns per loop (mean ± std. dev. of 1 run, 1 loop each)\n"
     ]
    }
   ],
   "source": [
    "%%timeit -n 1 -r 1\n",
    "# batch_size = 256, num_workers = 1\n",
    "for x, y in train_dataloader:\n",
    "    x, y = x.to(device), y.to(device)\n",
    "    optimizer.zero_grad()\n",
    "    y_pred = model(x)\n",
    "    l = loss_fn(y_pred, y)\n",
    "    l.backward()\n",
    "    optimizer.step()"
   ]
  },
  {
   "cell_type": "code",
   "execution_count": 64,
   "metadata": {},
   "outputs": [
    {
     "name": "stdout",
     "output_type": "stream",
     "text": [
      "2.25 s ± 0 ns per loop (mean ± std. dev. of 1 run, 1 loop each)\n"
     ]
    }
   ],
   "source": [
    "%%timeit -n 1 -r 1\n",
    "# batch_size = 256, num_workers = 8\n",
    "for x, y in train_dataloader:\n",
    "    x, y = x.to(device), y.to(device)\n",
    "    optimizer.zero_grad()\n",
    "    y_pred = model(x)\n",
    "    l = loss_fn(y_pred, y)\n",
    "    l.backward()\n",
    "    optimizer.step()"
   ]
  },
  {
   "cell_type": "markdown",
   "metadata": {},
   "source": [
    "### Número de parámetros"
   ]
  },
  {
   "cell_type": "code",
   "execution_count": null,
   "metadata": {},
   "outputs": [],
   "source": [
    "model = CNN()"
   ]
  },
  {
   "cell_type": "code",
   "execution_count": null,
   "metadata": {},
   "outputs": [
    {
     "name": "stdout",
     "output_type": "stream",
     "text": [
      "----------------------------------------------------------------\n",
      "        Layer (type)               Output Shape         Param #\n",
      "================================================================\n",
      "            Conv2d-1           [-1, 16, 24, 24]             416\n",
      "            Conv2d-2           [-1, 64, 20, 20]          25,664\n",
      "            Conv2d-3            [-1, 8, 16, 16]          12,808\n",
      "           Flatten-4                 [-1, 2048]               0\n",
      "            Linear-5                   [-1, 47]          96,303\n",
      "================================================================\n",
      "Total params: 135,191\n",
      "Trainable params: 135,191\n",
      "Non-trainable params: 0\n",
      "----------------------------------------------------------------\n",
      "Input size (MB): 0.00\n",
      "Forward/backward pass size (MB): 0.30\n",
      "Params size (MB): 0.52\n",
      "Estimated Total Size (MB): 0.82\n",
      "----------------------------------------------------------------\n"
     ]
    }
   ],
   "source": [
    "summary(model.to(torch.device('cuda')), (1, 28, 28))"
   ]
  },
  {
   "cell_type": "code",
   "execution_count": null,
   "metadata": {},
   "outputs": [
    {
     "data": {
      "text/plain": [
       "416"
      ]
     },
     "metadata": {},
     "output_type": "display_data"
    }
   ],
   "source": [
    "w1 = 1*16*5*5 + 16\n",
    "w1"
   ]
  },
  {
   "cell_type": "code",
   "execution_count": null,
   "metadata": {},
   "outputs": [
    {
     "data": {
      "text/plain": [
       "25664"
      ]
     },
     "metadata": {},
     "output_type": "display_data"
    }
   ],
   "source": [
    "w2 = 16*64*5*5 + 64\n",
    "w2"
   ]
  },
  {
   "cell_type": "code",
   "execution_count": null,
   "metadata": {},
   "outputs": [
    {
     "data": {
      "text/plain": [
       "12808"
      ]
     },
     "metadata": {},
     "output_type": "display_data"
    }
   ],
   "source": [
    "w3 = 64*8*5*5 + 8\n",
    "w3"
   ]
  },
  {
   "cell_type": "code",
   "execution_count": null,
   "metadata": {},
   "outputs": [
    {
     "data": {
      "text/plain": [
       "96303"
      ]
     },
     "metadata": {},
     "output_type": "display_data"
    }
   ],
   "source": [
    "w4 = 8*16*16*47 + 47\n",
    "w4"
   ]
  },
  {
   "cell_type": "code",
   "execution_count": null,
   "metadata": {},
   "outputs": [
    {
     "data": {
      "text/plain": [
       "135191"
      ]
     },
     "metadata": {},
     "output_type": "display_data"
    }
   ],
   "source": [
    "w1 + w2 + w3 + w4"
   ]
  },
  {
   "cell_type": "markdown",
   "metadata": {},
   "source": [
    "# Ejercicio 3: EuroSAT"
   ]
  },
  {
   "cell_type": "code",
   "execution_count": 92,
   "metadata": {},
   "outputs": [],
   "source": [
    "# SOLUCIÓN:\n"
   ]
  },
  {
   "cell_type": "code",
   "execution_count": null,
   "metadata": {},
   "outputs": [],
   "source": [
    "def train(model, dataloader, loss_fn, optimizer):\n",
    "    \n",
    "    '''\n",
    "    Training loop\n",
    "\n",
    "    Parameters\n",
    "    ----------\n",
    "    model : torch.nn.Module\n",
    "        Model to train\n",
    "    dataloader : torch.utils.data.DataLoader\n",
    "        Dataloader with the training data\n",
    "    loss_fn : torch.nn.Module\n",
    "        Loss function\n",
    "    optimizer : torch.optim.Optimizer\n",
    "        Optimizer\n",
    "\n",
    "    Returns\n",
    "    -------\n",
    "    None\n",
    "    '''\n",
    "    \n",
    "    ...\n",
    "\n",
    "\n",
    "def test(model, dataloader, loss_fn, metrics_fn):\n",
    "    \n",
    "    '''\n",
    "    Test loop\n",
    "\n",
    "    Parameters\n",
    "    ----------\n",
    "    model : torch.nn.Module\n",
    "        Model to test\n",
    "    dataloader : torch.utils.data.DataLoader\n",
    "        Dataloader with the testing data\n",
    "    loss_fn : torch.nn.Module\n",
    "        Loss function\n",
    "    metrics_fn : torchmetrics.Metric\n",
    "        Metric function\n",
    "\n",
    "    Returns\n",
    "    -------\n",
    "    loss : float\n",
    "        Loss value\n",
    "    metrics : float\n",
    "        Metric value\n",
    "    '''\n",
    "    \n",
    "    ..."
   ]
  },
  {
   "cell_type": "code",
   "execution_count": 82,
   "metadata": {},
   "outputs": [],
   "source": [
    "# SOLUCIÓN:\n"
   ]
  },
  {
   "cell_type": "code",
   "execution_count": null,
   "metadata": {},
   "outputs": [],
   "source": [
    "class EuroSATModel(nn.Module):\n",
    "    def __init__(self, num_outputs):\n",
    "        super().__init__()\n",
    "        ...\n",
    "\n",
    "    def forward(self, x):\n",
    "        ...\n",
    "\n",
    "        return out"
   ]
  },
  {
   "cell_type": "code",
   "execution_count": 13,
   "metadata": {},
   "outputs": [],
   "source": [
    "# Calculo del tamaño de salida de una capa convolucional a partir del tamaño\n",
    "# de entrada, tamaño del kernel, padding y stride de las capas convolucionales\n",
    "# y pooling\n",
    "def conv2d_output_size(input_size, kernel_size, padding=0, stride=1,\n",
    "                          pool_kernel_size=1, pool_stride=1):\n",
    "    \n",
    "    conv_output = (input_size + 2*padding - kernel_size) // stride + 1\n",
    "    pool_output = (conv_output - pool_kernel_size) // pool_stride + 1\n",
    "\n",
    "    return pool_output"
   ]
  },
  {
   "cell_type": "code",
   "execution_count": 57,
   "metadata": {},
   "outputs": [
    {
     "data": {
      "text/plain": [
       "29"
      ]
     },
     "execution_count": 57,
     "metadata": {},
     "output_type": "execute_result"
    }
   ],
   "source": [
    "conv2d_output_size(input_size=64, kernel_size=5, padding=0, stride=1, \n",
    "                   pool_kernel_size=3, pool_stride=2)"
   ]
  },
  {
   "cell_type": "code",
   "execution_count": 81,
   "metadata": {},
   "outputs": [
    {
     "name": "stdout",
     "output_type": "stream",
     "text": [
      "----------------------------------------------------------------\n",
      "        Layer (type)               Output Shape         Param #\n",
      "================================================================\n",
      "            Conv2d-1           [-1, 16, 60, 60]           1,216\n",
      "            Conv2d-2           [-1, 64, 13, 13]          25,664\n",
      "            Conv2d-3            [-1, 128, 5, 5]          73,856\n",
      "            Linear-4                  [-1, 256]         819,456\n",
      "            Linear-5                   [-1, 10]           2,570\n",
      "================================================================\n",
      "Total params: 922,762\n",
      "Trainable params: 922,762\n",
      "Non-trainable params: 0\n",
      "----------------------------------------------------------------\n",
      "Input size (MB): 0.05\n",
      "Forward/backward pass size (MB): 0.55\n",
      "Params size (MB): 3.52\n",
      "Estimated Total Size (MB): 4.12\n",
      "----------------------------------------------------------------\n",
      "FLOPs: 11.31M, params: 922.76K\n"
     ]
    }
   ],
   "source": [
    "# Probar que las dimensiones de las capas son correctas\n",
    "device = torch.device('cuda' if torch.cuda.is_available() else 'cpu')\n",
    "model = EuroSATModel().to(device)\n",
    "summary(model, (3, 64, 64))\n",
    "# Calcular FLOPs\n",
    "flops, params = thop.profile(model, verbose=False,\n",
    "                             inputs=(torch.randn(1, 3, 64, 64).to(device),))\n",
    "(flops, params) = thop.clever_format([flops, params])\n",
    "print(f'FLOPs: {flops}, params: {params}')"
   ]
  },
  {
   "cell_type": "code",
   "execution_count": 88,
   "metadata": {},
   "outputs": [],
   "source": [
    "# Carga del dataset\n",
    "\n",
    "batch_size = 256\n",
    "num_outputs = 10\n",
    "\n",
    "transform = torchvision.transforms.Compose([\n",
    "    torchvision.transforms.ToTensor()\n",
    "])\n",
    "\n",
    "eurosat_dataset = torchvision.datasets.EuroSAT(\n",
    "    root='data', transform=transform, \n",
    "    download=True)\n",
    "\n",
    "# No modificar la semilla de aleatoriedad (random_state)\n",
    "strat_split = StratifiedShuffleSplit(n_splits=1, test_size=0.2, random_state=0)\n",
    "train_idx, test_idx = next(strat_split.split(eurosat_dataset, eurosat_dataset.targets))\n",
    "train_dataset = torch.utils.data.Subset(eurosat_dataset, train_idx)\n",
    "test_dataset = torch.utils.data.Subset(eurosat_dataset, test_idx)\n",
    "\n",
    "train_dataloader = torch.utils.data.DataLoader(train_dataset, batch_size,\n",
    "                                                shuffle=True, num_workers=8)\n",
    "test_dataloader = torch.utils.data.DataLoader(test_dataset, batch_size,\n",
    "                                                shuffle=False, num_workers=8)\n",
    "\n",
    "labels = eurosat_dataset.classes"
   ]
  },
  {
   "cell_type": "code",
   "execution_count": 28,
   "metadata": {},
   "outputs": [],
   "source": [
    "x, y = next(iter(train_dataloader))"
   ]
  },
  {
   "cell_type": "code",
   "execution_count": 49,
   "metadata": {},
   "outputs": [
    {
     "name": "stdout",
     "output_type": "stream",
     "text": [
      "Industrial\n"
     ]
    },
    {
     "data": {
      "image/png": "[encoded data removed]",
      "text/plain": [
       "<Figure size 640x480 with 1 Axes>"
      ]
     },
     "metadata": {},
     "output_type": "display_data"
    }
   ],
   "source": [
    "# Visualización del dataset\n",
    "idx = np.random.randint(0, len(x))\n",
    "plt.imshow(x[idx].permute(1, 2, 0))\n",
    "print(labels[y[idx]])"
   ]
  },
  {
   "cell_type": "code",
   "execution_count": 95,
   "metadata": {},
   "outputs": [],
   "source": [
    "# SOLUCIÓN:\n"
   ]
  },
  {
   "cell_type": "code",
   "execution_count": null,
   "metadata": {},
   "outputs": [],
   "source": [
    "# GPU o CPU\n",
    "device = torch.device('cuda' if torch.cuda.is_available() else 'cpu')\n",
    "# Learning rate\n",
    "lr = ...\n",
    "# Número de epochs de entrenamiento\n",
    "num_epochs = ...\n",
    "# Modelo de regresión softmax\n",
    "model = ...\n",
    "\n",
    "\n",
    "# Función de pérdida\n",
    "loss_fn = ...\n",
    "# Métrica de precisión\n",
    "metrics_fn = ...\n",
    "# Optimizador\n",
    "optimizer = ...\n",
    "\n",
    "config = {\n",
    "  'learning_rate':lr,\n",
    "  'epochs': num_epochs,\n",
    "  'batch_size': batch_size,\n",
    "  'optimizer': optimizer.__class__.__name__\n",
    "}"
   ]
  },
  {
   "cell_type": "code",
   "execution_count": null,
   "metadata": {},
   "outputs": [],
   "source": [
    "# SOLUCIÓN:\n"
   ]
  },
  {
   "cell_type": "code",
   "execution_count": null,
   "metadata": {},
   "outputs": [],
   "source": [
    "wandb.init(project=\"uc3m-pic\", name='Ejercicio 3', config=config);\n",
    "\n",
    "best_acc = 0\n",
    "for epoch in range(1, num_epochs):\n",
    "    \n",
    "    ...\n",
    "\n",
    "\n",
    "wandb.finish()"
   ]
  },
  {
   "cell_type": "code",
   "execution_count": 107,
   "metadata": {},
   "outputs": [
    {
     "name": "stdout",
     "output_type": "stream",
     "text": [
      "Score: 0.6796296238899231 submitted to exercise 3\n"
     ]
    }
   ],
   "source": [
    "# Evaluar modelo y subir resultados al leaderboard\n",
    "student.submit(best_model, exercise=3)"
   ]
  },
  {
   "cell_type": "markdown",
   "metadata": {
    "id": "Gbo-NbZLWLWO"
   },
   "source": [
    "# Mejora del rendimiento"
   ]
  },
  {
   "cell_type": "markdown",
   "metadata": {
    "id": "KswiYTTdWLJn"
   },
   "source": [
    "## LR scheduler"
   ]
  },
  {
   "cell_type": "markdown",
   "metadata": {
    "id": "9nhsbMnBvSmX"
   },
   "source": [
    "[LR schedulers Pytorch](https://pytorch.org/docs/stable/optim.html#how-to-adjust-learning-rate)"
   ]
  },
  {
   "cell_type": "code",
   "execution_count": null,
   "metadata": {
    "id": "IOuF3H5Dn-gv"
   },
   "outputs": [],
   "source": [
    "lr_scheduler = torch.optim.lr_scheduler.StepLR(optimizer=optimizer, step_size=10, gamma=0.1)\n",
    "lr_scheduler = torch.optim.lr_scheduler.ExponentialLR(optimizer=optimizer, gamma=0.95)"
   ]
  },
  {
   "cell_type": "code",
   "execution_count": null,
   "metadata": {},
   "outputs": [],
   "source": [
    "# Integración en el bucle de entrenamiento\n",
    "for x, y in train_dataloader:\n",
    "    x, y = x.to(device), y.to(device)\n",
    "    optimizer.zero_grad()\n",
    "    y_pred = model(x)\n",
    "    loss = loss_fn(y_pred, y)\n",
    "    loss.backward()\n",
    "    optimizer.step()\n",
    "### LR scheduler fuera del bucle\n",
    "lr_scheduler.step()\n",
    "###"
   ]
  },
  {
   "cell_type": "markdown",
   "metadata": {
    "id": "qBe_omwtn6Tn"
   },
   "source": [
    "## Optimizadores "
   ]
  },
  {
   "cell_type": "markdown",
   "metadata": {
    "id": "nldZ4y0xsrPH"
   },
   "source": [
    "[Optimizadores Pytorch](https://pytorch.org/docs/stable/optim.html#algorithms)\n",
    "\n",
    "\n",
    "Choi, D., Shallue, C. J., Nado, Z., Lee, J., Maddison, C. J., & Dahl, G. E. (2019). **On empirical comparisons of optimizers for deep learning.**  arXiv preprint arXiv:1910.05446. [Paper](https://arxiv.org/pdf/1910.05446.pdf)"
   ]
  },
  {
   "cell_type": "markdown",
   "metadata": {},
   "source": [
    "<img src=\"https://raw.githubusercontent.com/ramajoballester/UC3M-PIC/main/data/content/optimizers.png\"\n",
    "    style=\"background-color:white; display:block; margin-left:auto; margin-right:auto; width:90vw\"/>"
   ]
  },
  {
   "cell_type": "markdown",
   "metadata": {
    "id": "UANzHz-YXBDT"
   },
   "source": [
    "## Aumentación de datos"
   ]
  },
  {
   "cell_type": "code",
   "execution_count": null,
   "metadata": {
    "colab": {
     "base_uri": "https://localhost:8080/"
    },
    "id": "vIWuP1ozZVi3",
    "outputId": "9ecd238c-b05b-4a57-91a7-3c7e1f46d70f"
   },
   "outputs": [
    {
     "data": {
      "text/plain": [
       "Compose(\n",
       "    RandomResizedCrop(size=(18, 18), scale=(0.08, 1.0), ratio=(0.75, 1.3333), interpolation=bilinear)\n",
       "    RandomHorizontalFlip(p=0.25)\n",
       "    RandomVerticalFlip(p=0.25)\n",
       "    RandomAffine(degrees=[-15.0, 15.0])\n",
       "    Normalize(mean=[0.485, 0.456, 0.406], std=[0.229, 0.224, 0.225])\n",
       "    ToTensor()\n",
       ")"
      ]
     },
     "execution_count": 16,
     "metadata": {},
     "output_type": "execute_result"
    }
   ],
   "source": [
    "# Diferentes transforms en train y test\n",
    "torchvision.transforms.Compose([\n",
    "    torchvision.transforms.RandomResizedCrop(18),\n",
    "    torchvision.transforms.RandomHorizontalFlip(0.25),\n",
    "    torchvision.transforms.RandomVerticalFlip(0.25),\n",
    "    torchvision.transforms.RandomAffine(15),\n",
    "    torchvision.transforms.Normalize([0.485, 0.456, 0.406], [0.229, 0.224, 0.225]),\n",
    "    torchvision.transforms.ToTensor()\n",
    "])"
   ]
  },
  {
   "cell_type": "markdown",
   "metadata": {},
   "source": [
    "## Regularización"
   ]
  },
  {
   "cell_type": "markdown",
   "metadata": {},
   "source": [
    "### L1, L2"
   ]
  },
  {
   "cell_type": "code",
   "execution_count": null,
   "metadata": {},
   "outputs": [],
   "source": [
    "optimizer = torch.optim.Adam(model.parameters(), lr=lr, weight_decay=0.1)"
   ]
  },
  {
   "cell_type": "markdown",
   "metadata": {},
   "source": [
    "### Dropout"
   ]
  },
  {
   "cell_type": "code",
   "execution_count": 4,
   "metadata": {},
   "outputs": [],
   "source": [
    "class ConvModel(nn.Module):\n",
    "    def __init__(self):\n",
    "        super().__init__()\n",
    "        self.conv1 = nn.Conv2d(1, 16, 5)\n",
    "        self.conv2 = nn.Conv2d(16, 64, 5)\n",
    "        self.conv3 = nn.Conv2d(64, 8, 5)\n",
    "        self.flat = nn.Flatten()\n",
    "        self.linear = nn.Linear(8*16*16, 47)\n",
    "        self.dropout = nn.Dropout(0.5)\n",
    "\n",
    "    def forward(self, x):\n",
    "        x = F.relu(self.conv1(x))\n",
    "        x = F.relu(self.conv2(x))\n",
    "        x = self.dropout(x)\n",
    "        # Equivalente con API funcional\n",
    "        # x = F.dropout2d(x, p=0.5)\n",
    "        x = F.relu(self.conv3(x))\n",
    "        x = self.flat(x)\n",
    "        x = self.linear(x)\n",
    "\n",
    "        return x"
   ]
  },
  {
   "cell_type": "code",
   "execution_count": 6,
   "metadata": {},
   "outputs": [
    {
     "name": "stdout",
     "output_type": "stream",
     "text": [
      "----------------------------------------------------------------\n",
      "        Layer (type)               Output Shape         Param #\n",
      "================================================================\n",
      "            Conv2d-1           [-1, 16, 24, 24]             416\n",
      "            Conv2d-2           [-1, 64, 20, 20]          25,664\n",
      "           Dropout-3           [-1, 64, 20, 20]               0\n",
      "            Conv2d-4            [-1, 8, 16, 16]          12,808\n",
      "           Flatten-5                 [-1, 2048]               0\n",
      "            Linear-6                   [-1, 47]          96,303\n",
      "================================================================\n",
      "Total params: 135,191\n",
      "Trainable params: 135,191\n",
      "Non-trainable params: 0\n",
      "----------------------------------------------------------------\n",
      "Input size (MB): 0.00\n",
      "Forward/backward pass size (MB): 0.49\n",
      "Params size (MB): 0.52\n",
      "Estimated Total Size (MB): 1.01\n",
      "----------------------------------------------------------------\n"
     ]
    }
   ],
   "source": [
    "device = torch.device('cuda' if torch.cuda.is_available() else 'cpu')\n",
    "summary(ConvModel().to(device), (1, 28, 28))"
   ]
  },
  {
   "cell_type": "markdown",
   "metadata": {},
   "source": [
    "### Batch normalization"
   ]
  },
  {
   "cell_type": "code",
   "execution_count": 9,
   "metadata": {},
   "outputs": [],
   "source": [
    "# Create the same model with batch normalization\n",
    "class ConvModelBN(nn.Module):\n",
    "    def __init__(self):\n",
    "        super().__init__()\n",
    "        self.conv1 = nn.Conv2d(1, 16, 5)\n",
    "        self.bn1 = nn.BatchNorm2d(16)\n",
    "        self.conv2 = nn.Conv2d(16, 64, 5)\n",
    "        self.bn2 = nn.BatchNorm2d(64)\n",
    "        self.conv3 = nn.Conv2d(64, 8, 5)\n",
    "        self.bn3 = nn.BatchNorm2d(8)\n",
    "        self.flat = nn.Flatten()\n",
    "        self.linear = nn.Linear(8*16*16, 47)\n",
    "\n",
    "    def forward(self, x):\n",
    "        x = F.relu(self.bn1(self.conv1(x)))\n",
    "        x = F.relu(self.bn2(self.conv2(x)))\n",
    "        x = F.relu(self.bn3(self.conv3(x)))\n",
    "        x = self.flat(x)\n",
    "        x = self.linear(x)\n",
    "\n",
    "        return x"
   ]
  },
  {
   "cell_type": "code",
   "execution_count": 10,
   "metadata": {},
   "outputs": [
    {
     "name": "stdout",
     "output_type": "stream",
     "text": [
      "----------------------------------------------------------------\n",
      "        Layer (type)               Output Shape         Param #\n",
      "================================================================\n",
      "            Conv2d-1           [-1, 16, 24, 24]             416\n",
      "       BatchNorm2d-2           [-1, 16, 24, 24]              32\n",
      "            Conv2d-3           [-1, 64, 20, 20]          25,664\n",
      "       BatchNorm2d-4           [-1, 64, 20, 20]             128\n",
      "            Conv2d-5            [-1, 8, 16, 16]          12,808\n",
      "       BatchNorm2d-6            [-1, 8, 16, 16]              16\n",
      "           Flatten-7                 [-1, 2048]               0\n",
      "            Linear-8                   [-1, 47]          96,303\n",
      "================================================================\n",
      "Total params: 135,367\n",
      "Trainable params: 135,367\n",
      "Non-trainable params: 0\n",
      "----------------------------------------------------------------\n",
      "Input size (MB): 0.00\n",
      "Forward/backward pass size (MB): 0.58\n",
      "Params size (MB): 0.52\n",
      "Estimated Total Size (MB): 1.10\n",
      "----------------------------------------------------------------\n"
     ]
    }
   ],
   "source": [
    "device = torch.device('cuda' if torch.cuda.is_available() else 'cpu')\n",
    "summary(ConvModelBN().to(device), (1, 28, 28))"
   ]
  },
  {
   "cell_type": "markdown",
   "metadata": {},
   "source": [
    "## Campo receptivo y mapa de características\n",
    "\n",
    "Normalmente, al procesar las imágenes, se busca reducir gradualmente la resolución espacial de las representaciones ocultas, agregando la información de forma que, cuanto más subimos en la red, mayor es el campo receptivo (en la entrada) al que es sensible cada neurona.\n",
    "\n",
    "- Receptive field\n",
    "- Feature map"
   ]
  },
  {
   "cell_type": "markdown",
   "metadata": {},
   "source": [
    "# Ejercicio 4: Imagenette"
   ]
  },
  {
   "cell_type": "markdown",
   "metadata": {},
   "source": [
    "Descargar dataset [Imagenette-320px](https://s3.amazonaws.com/fast-ai-imageclas/imagenette2-320.tgz), guardar en la carpeta `data` y extraer (`tar zxvf imagenette2-320.tgz` desde la línea de comandos en Linux / Mac)."
   ]
  },
  {
   "cell_type": "code",
   "execution_count": 11,
   "metadata": {},
   "outputs": [],
   "source": [
    "# SOLUCIÓN:\n"
   ]
  },
  {
   "cell_type": "code",
   "execution_count": null,
   "metadata": {},
   "outputs": [],
   "source": [
    "# Redefinir si es necesario\n",
    "def train(model, dataloader, loss_fn, optimizer, scheduler=None):\n",
    "    \n",
    "    '''\n",
    "    Training loop\n",
    "\n",
    "    Parameters\n",
    "    ----------\n",
    "    model : torch.nn.Module\n",
    "        Model to train\n",
    "    dataloader : torch.utils.data.DataLoader\n",
    "        Dataloader with the training data\n",
    "    loss_fn : torch.nn.Module\n",
    "        Loss function\n",
    "    optimizer : torch.optim.Optimizer\n",
    "        Optimizer\n",
    "    scheduler : torch.optim.lr_scheduler\n",
    "        Learning rate scheduler\n",
    "\n",
    "    Returns\n",
    "    -------\n",
    "    None\n",
    "    '''\n",
    "    \n",
    "    ...\n",
    "\n",
    "def test(model, dataloader, loss_fn, metrics_fn):\n",
    "    \n",
    "    '''\n",
    "    Test loop\n",
    "\n",
    "    Parameters\n",
    "    ----------\n",
    "    model : torch.nn.Module\n",
    "        Model to test\n",
    "    dataloader : torch.utils.data.DataLoader\n",
    "        Dataloader with the testing data\n",
    "    loss_fn : torch.nn.Module\n",
    "        Loss function\n",
    "    metrics_fn : torchmetrics.Metric\n",
    "        Metric function\n",
    "\n",
    "    Returns\n",
    "    -------\n",
    "    loss : float\n",
    "        Loss value\n",
    "    metrics : float\n",
    "        Metric value\n",
    "    '''\n",
    "    \n",
    "    ..."
   ]
  },
  {
   "cell_type": "code",
   "execution_count": 12,
   "metadata": {},
   "outputs": [],
   "source": [
    "# SOLUCIÓN:\n"
   ]
  },
  {
   "cell_type": "code",
   "execution_count": null,
   "metadata": {},
   "outputs": [],
   "source": [
    "class ImagenetteModel(nn.Module):\n",
    "    def __init__(self, num_outputs):\n",
    "        super().__init__()\n",
    "        ...\n",
    "\n",
    "    def forward(self, x):\n",
    "        ...\n",
    "\n",
    "        return out"
   ]
  },
  {
   "cell_type": "code",
   "execution_count": 19,
   "metadata": {},
   "outputs": [
    {
     "data": {
      "text/plain": [
       "34"
      ]
     },
     "execution_count": 19,
     "metadata": {},
     "output_type": "execute_result"
    }
   ],
   "source": [
    "conv2d_output_size(input_size=425, kernel_size=11, padding=0, stride=4, \n",
    "                   pool_kernel_size=5, pool_stride=3)"
   ]
  },
  {
   "cell_type": "code",
   "execution_count": 20,
   "metadata": {},
   "outputs": [
    {
     "data": {
      "text/plain": [
       "34"
      ]
     },
     "execution_count": 20,
     "metadata": {},
     "output_type": "execute_result"
    }
   ],
   "source": [
    "conv2d_output_size(input_size=320, kernel_size=11, padding=0, stride=3, \n",
    "                   pool_kernel_size=5, pool_stride=3)"
   ]
  },
  {
   "cell_type": "code",
   "execution_count": 13,
   "metadata": {},
   "outputs": [
    {
     "name": "stdout",
     "output_type": "stream",
     "text": [
      "----------------------------------------------------------------\n",
      "        Layer (type)               Output Shape         Param #\n",
      "================================================================\n",
      "            Conv2d-1         [-1, 64, 104, 104]          23,296\n",
      "            Conv2d-2          [-1, 256, 15, 15]         409,856\n",
      "            Conv2d-3           [-1, 1024, 5, 5]       2,360,320\n",
      "            Linear-4                  [-1, 256]       1,048,832\n",
      "            Linear-5                   [-1, 10]           2,570\n",
      "================================================================\n",
      "Total params: 3,844,874\n",
      "Trainable params: 3,844,874\n",
      "Non-trainable params: 0\n",
      "----------------------------------------------------------------\n",
      "Input size (MB): 1.56\n",
      "Forward/backward pass size (MB): 5.92\n",
      "Params size (MB): 14.67\n",
      "Estimated Total Size (MB): 22.14\n",
      "----------------------------------------------------------------\n",
      "FLOPs: 403.47M, params: 3.84M\n"
     ]
    }
   ],
   "source": [
    "# Probar que las dimensiones de las capas son correctas\n",
    "device = torch.device('cuda' if torch.cuda.is_available() else 'cpu')\n",
    "model = ImagenetteModel(10).to(device)\n",
    "summary(model, (3, 320, 425))\n",
    "# Calcular FLOPs\n",
    "flops, params = thop.profile(model, verbose=False,\n",
    "                             inputs=(torch.randn(1, 3, 320, 425).to(device),))\n",
    "(flops, params) = thop.clever_format([flops, params])\n",
    "print(f'FLOPs: {flops}, params: {params}')"
   ]
  },
  {
   "cell_type": "code",
   "execution_count": 14,
   "metadata": {},
   "outputs": [],
   "source": [
    "batch_size = 64\n",
    "\n",
    "transform = torchvision.transforms.Compose([\n",
    "    torchvision.transforms.ToTensor(),\n",
    "    torchvision.transforms.Resize((320, 425), antialias=True)\n",
    "])\n",
    "\n",
    "# Load imagenette dataset from local files\n",
    "train_path = os.path.join('data', 'imagenette2-320', 'train')\n",
    "test_path = os.path.join('data', 'imagenette2-320', 'val')\n",
    "train_dataset = torchvision.datasets.ImageFolder(\n",
    "    root=train_path, transform=transform)\n",
    "test_dataset = torchvision.datasets.ImageFolder(\n",
    "    root=test_path, transform=transform)\n",
    "\n",
    "train_dataloader = torch.utils.data.DataLoader(train_dataset, batch_size,\n",
    "                                                shuffle=True, num_workers=4)\n",
    "test_dataloader = torch.utils.data.DataLoader(test_dataset, batch_size,\n",
    "                                                shuffle=False, num_workers=4)\n",
    "\n",
    "labels = ['tench', 'English springer', 'cassette player', 'chain saw', 'church',\n",
    "          'French horn', 'garbage truck', 'gas pump', 'golf ball', 'parachute']"
   ]
  },
  {
   "cell_type": "code",
   "execution_count": 7,
   "metadata": {},
   "outputs": [],
   "source": [
    "x, y = next(iter(train_dataloader))"
   ]
  },
  {
   "cell_type": "code",
   "execution_count": 18,
   "metadata": {},
   "outputs": [
    {
     "name": "stdout",
     "output_type": "stream",
     "text": [
      "3.09 s ± 0 ns per loop (mean ± std. dev. of 1 run, 1 loop each)\n"
     ]
    }
   ],
   "source": [
    "%%timeit -n 1 -r 1\n",
    "x, y = next(iter(train_dataloader))"
   ]
  },
  {
   "cell_type": "code",
   "execution_count": 11,
   "metadata": {},
   "outputs": [
    {
     "name": "stdout",
     "output_type": "stream",
     "text": [
      "gas pump\n"
     ]
    },
    {
     "data": {
      "image/png": "[encoded data removed]",
      "text/plain": [
       "<Figure size 640x480 with 1 Axes>"
      ]
     },
     "metadata": {},
     "output_type": "display_data"
    }
   ],
   "source": [
    "# Visualización del dataset\n",
    "idx = np.random.randint(0, len(x))\n",
    "plt.imshow(x[idx].permute(1, 2, 0))\n",
    "print(labels[y[idx]])"
   ]
  },
  {
   "cell_type": "code",
   "execution_count": 17,
   "metadata": {},
   "outputs": [],
   "source": [
    "# SOLUCIÓN:\n"
   ]
  },
  {
   "cell_type": "code",
   "execution_count": null,
   "metadata": {},
   "outputs": [],
   "source": [
    "# GPU o CPU\n",
    "device = torch.device('cuda' if torch.cuda.is_available() else 'cpu')\n",
    "# Número de clases\n",
    "num_outputs = len(labels)\n",
    "# Learning rate\n",
    "lr = ...\n",
    "# Número de epochs de entrenamiento\n",
    "num_epochs = ...\n",
    "# Modelo de regresión softmax\n",
    "model = ...\n",
    "\n",
    "# Función de pérdida\n",
    "loss_fn = ...\n",
    "# Métrica de precisión\n",
    "metrics_fn = ...\n",
    "# Optimizador\n",
    "optimizer = ...\n",
    "# LR scheduler\n",
    "lr_scheduler = ...\n",
    "\n",
    "config = {\n",
    "  'learning_rate':lr,\n",
    "  'epochs': num_epochs,\n",
    "  'batch_size': batch_size,\n",
    "  'optimizer': optimizer.__class__.__name__,\n",
    "  'lr_scheduler': lr_scheduler.__class__.__name__\n",
    "}"
   ]
  },
  {
   "cell_type": "code",
   "execution_count": null,
   "metadata": {},
   "outputs": [],
   "source": [
    "# SOLUCIÓN:\n"
   ]
  },
  {
   "cell_type": "code",
   "execution_count": null,
   "metadata": {},
   "outputs": [],
   "source": [
    "wandb.init(project=\"uc3m-pic\", name='Ejercicio 4', config=config);\n",
    "\n",
    "best_acc = 0\n",
    "for epoch in range(1, num_epochs):\n",
    "    \n",
    "    ...\n",
    "\n",
    "wandb.finish()"
   ]
  },
  {
   "cell_type": "code",
   "execution_count": null,
   "metadata": {},
   "outputs": [],
   "source": [
    "# Evaluar modelo y subir resultados al leaderboard\n",
    "student.submit(best_model, exercise=4)"
   ]
  },
  {
   "cell_type": "markdown",
   "metadata": {
    "id": "Tmp9jJ6-w3AV"
   },
   "source": [
    "# LeNet: el primer modelo de CNN"
   ]
  },
  {
   "cell_type": "markdown",
   "metadata": {
    "id": "gOn8g82zxTAX"
   },
   "source": [
    "LeCun, Y., Bottou, L., Bengio, Y., & Haffner, P. (1998). Gradient-based learning applied to document recognition. Proceedings of the IEEE, 86(11), 2278-2324. [Paper](https://ieeexplore.ieee.org/stamp/stamp.jsp?arnumber=726791&casa_token=kyltN8hTCx0AAAAA:uFdBXu6A_S6S4cpFwgx2_d3tAosoljC-2VWHpvIB8nCIlUbHAaxNO_3iZkeNgEUDVbvmlGJeVQ&tag=1)"
   ]
  },
  {
   "cell_type": "markdown",
   "metadata": {},
   "source": [
    "<img src=\"https://raw.githubusercontent.com/ramajoballester/UC3M-PIC/main/data/content/lenet-vert.svg\"\n",
    "    style=\"background-color:white; display:block; margin-left:auto; margin-right:auto; width:15vw\"/>"
   ]
  },
  {
   "cell_type": "markdown",
   "metadata": {
    "id": "IfxogzYW0AFH"
   },
   "source": [
    "- Entrada (28 x 28)\n",
    "- 6 filtros convolucionales, kernel 5 x 5, padding=2\n",
    " - Función de activación sigmoide\n",
    " - Average pooling 2 x 2, stride=2\n",
    "- 16 filtros convolucionales, kernel 5 x 5\n",
    " - Función de activación sigmoide\n",
    " - Average pooling 2 x 2, stride=2\n",
    "- Lineal 120 neuronas\n",
    "  - Función de activación sigmoide\n",
    "- Lineal 84 neuronas\n",
    "  - Función de activación sigmoide\n",
    "- Lineal num_clases neuronas"
   ]
  },
  {
   "cell_type": "code",
   "execution_count": null,
   "metadata": {
    "id": "PHg5kY8uygdq"
   },
   "outputs": [],
   "source": [
    "model = nn.Sequential(\n",
    "    nn.Conv2d(1, 6, kernel_size=5, padding=2), nn.Sigmoid(),\n",
    "    nn.AvgPool2d(kernel_size=2, stride=2),\n",
    "    nn.Conv2d(6, 16, kernel_size=5), nn.Sigmoid(),\n",
    "    nn.AvgPool2d(kernel_size=2, stride=2),\n",
    "    nn.Flatten(),\n",
    "    nn.Linear(16 * 5 * 5, 120), nn.Sigmoid(),\n",
    "    nn.Linear(120, 84), nn.Sigmoid(),\n",
    "    nn.Linear(84, 47)\n",
    ")"
   ]
  },
  {
   "cell_type": "code",
   "execution_count": null,
   "metadata": {
    "colab": {
     "base_uri": "https://localhost:8080/"
    },
    "id": "ewmpsBRFyuQS",
    "outputId": "8132fc67-430f-4c01-ad89-2a1e2db6f333"
   },
   "outputs": [
    {
     "name": "stdout",
     "output_type": "stream",
     "text": [
      "----------------------------------------------------------------\n",
      "        Layer (type)               Output Shape         Param #\n",
      "================================================================\n",
      "            Conv2d-1            [-1, 6, 28, 28]             156\n",
      "           Sigmoid-2            [-1, 6, 28, 28]               0\n",
      "         AvgPool2d-3            [-1, 6, 14, 14]               0\n",
      "            Conv2d-4           [-1, 16, 10, 10]           2,416\n",
      "           Sigmoid-5           [-1, 16, 10, 10]               0\n",
      "         AvgPool2d-6             [-1, 16, 5, 5]               0\n",
      "           Flatten-7                  [-1, 400]               0\n",
      "            Linear-8                  [-1, 120]          48,120\n",
      "           Sigmoid-9                  [-1, 120]               0\n",
      "           Linear-10                   [-1, 84]          10,164\n",
      "          Sigmoid-11                   [-1, 84]               0\n",
      "           Linear-12                   [-1, 47]           3,995\n",
      "================================================================\n",
      "Total params: 64,851\n",
      "Trainable params: 64,851\n",
      "Non-trainable params: 0\n",
      "----------------------------------------------------------------\n",
      "Input size (MB): 0.00\n",
      "Forward/backward pass size (MB): 0.11\n",
      "Params size (MB): 0.25\n",
      "Estimated Total Size (MB): 0.37\n",
      "----------------------------------------------------------------\n"
     ]
    }
   ],
   "source": [
    "summary(model, (1, 28, 28))"
   ]
  },
  {
   "cell_type": "markdown",
   "metadata": {
    "id": "7leQiAnKwxd9"
   },
   "source": [
    "# CNN modernas"
   ]
  },
  {
   "cell_type": "markdown",
   "metadata": {
    "id": "WBZEA6ldLwbE"
   },
   "source": [
    "## AlexNet"
   ]
  },
  {
   "cell_type": "markdown",
   "metadata": {
    "id": "me4vrwwwlFEY"
   },
   "source": [
    "Krizhevsky, A., Sutskever, I., & Hinton, G. E. (2012). Imagenet classification with deep convolutional neural networks. Advances in neural information processing systems, 25.\n",
    "\n",
    "[Paper](https://proceedings.neurips.cc/paper/2012/file/c399862d3b9d6b76c8436e924a68c45b-Paper.pdf)"
   ]
  },
  {
   "cell_type": "markdown",
   "metadata": {},
   "source": [
    "<img src=\"https://raw.githubusercontent.com/ramajoballester/UC3M-PIC/main/data/content/alexnet.svg\"\n",
    "    style=\"background-color:white; display:block; margin-left:auto; margin-right:auto; width:30vw\"/>"
   ]
  },
  {
   "cell_type": "markdown",
   "metadata": {
    "id": "4FeQmUThDunT"
   },
   "source": [
    "## VGG (transfer learning)"
   ]
  },
  {
   "cell_type": "markdown",
   "metadata": {},
   "source": [
    "<img src=\"https://raw.githubusercontent.com/ramajoballester/UC3M-PIC/main/data/content/vgg.svg\"\n",
    "    style=\"background-color:white; display:block; margin-left:auto; margin-right:auto; width:40vw\"/>"
   ]
  },
  {
   "cell_type": "code",
   "execution_count": null,
   "metadata": {
    "colab": {
     "base_uri": "https://localhost:8080/",
     "height": 67,
     "referenced_widgets": [
      "94f7994d8f2b43b0a0241bcfb55e91f3",
      "d518c1d4e82c41aeb83003fd4b6c9e7c",
      "05c2a8064b2b4159aec6ecf70f75a03f",
      "41da8e50a117413dace193ee6cfda16f",
      "ab0fac12e6114cfe91728cae6f1a232f",
      "8ee1ccbddbba4fca9ab1f6702143fd09",
      "407e2e26f7954dc69eced74f6f86a9bf",
      "2dadfb0f7fff4ec3927c3d1eaceeb411",
      "88f1e5979675429d82976df59eeddf93",
      "212d1ac3f01b48c5986baf606a9e16b9",
      "0bccde76a82c4e29b256f2f5c3870af4"
     ]
    },
    "id": "OK6cbFxXiFI8",
    "outputId": "abe0c80b-df1d-43b7-f451-bf5da4fbed73"
   },
   "outputs": [],
   "source": [
    "model = torchvision.models.vgg16(pretrained=True)"
   ]
  },
  {
   "cell_type": "code",
   "execution_count": null,
   "metadata": {
    "colab": {
     "base_uri": "https://localhost:8080/"
    },
    "id": "WaXuvbJ1qF2H",
    "outputId": "d16b22e9-7c14-4162-e7ed-0136a57a4bbb"
   },
   "outputs": [
    {
     "name": "stdout",
     "output_type": "stream",
     "text": [
      "----------------------------------------------------------------\n",
      "        Layer (type)               Output Shape         Param #\n",
      "================================================================\n",
      "            Conv2d-1         [-1, 64, 224, 224]           1,792\n",
      "              ReLU-2         [-1, 64, 224, 224]               0\n",
      "            Conv2d-3         [-1, 64, 224, 224]          36,928\n",
      "              ReLU-4         [-1, 64, 224, 224]               0\n",
      "         MaxPool2d-5         [-1, 64, 112, 112]               0\n",
      "            Conv2d-6        [-1, 128, 112, 112]          73,856\n",
      "              ReLU-7        [-1, 128, 112, 112]               0\n",
      "            Conv2d-8        [-1, 128, 112, 112]         147,584\n",
      "              ReLU-9        [-1, 128, 112, 112]               0\n",
      "        MaxPool2d-10          [-1, 128, 56, 56]               0\n",
      "           Conv2d-11          [-1, 256, 56, 56]         295,168\n",
      "             ReLU-12          [-1, 256, 56, 56]               0\n",
      "           Conv2d-13          [-1, 256, 56, 56]         590,080\n",
      "             ReLU-14          [-1, 256, 56, 56]               0\n",
      "           Conv2d-15          [-1, 256, 56, 56]         590,080\n",
      "             ReLU-16          [-1, 256, 56, 56]               0\n",
      "        MaxPool2d-17          [-1, 256, 28, 28]               0\n",
      "           Conv2d-18          [-1, 512, 28, 28]       1,180,160\n",
      "             ReLU-19          [-1, 512, 28, 28]               0\n",
      "           Conv2d-20          [-1, 512, 28, 28]       2,359,808\n",
      "             ReLU-21          [-1, 512, 28, 28]               0\n",
      "           Conv2d-22          [-1, 512, 28, 28]       2,359,808\n",
      "             ReLU-23          [-1, 512, 28, 28]               0\n",
      "        MaxPool2d-24          [-1, 512, 14, 14]               0\n",
      "           Conv2d-25          [-1, 512, 14, 14]       2,359,808\n",
      "             ReLU-26          [-1, 512, 14, 14]               0\n",
      "           Conv2d-27          [-1, 512, 14, 14]       2,359,808\n",
      "             ReLU-28          [-1, 512, 14, 14]               0\n",
      "           Conv2d-29          [-1, 512, 14, 14]       2,359,808\n",
      "             ReLU-30          [-1, 512, 14, 14]               0\n",
      "        MaxPool2d-31            [-1, 512, 7, 7]               0\n",
      "AdaptiveAvgPool2d-32            [-1, 512, 7, 7]               0\n",
      "           Linear-33                 [-1, 4096]     102,764,544\n",
      "             ReLU-34                 [-1, 4096]               0\n",
      "          Dropout-35                 [-1, 4096]               0\n",
      "           Linear-36                 [-1, 4096]      16,781,312\n",
      "             ReLU-37                 [-1, 4096]               0\n",
      "          Dropout-38                 [-1, 4096]               0\n",
      "           Linear-39                 [-1, 1000]       4,097,000\n",
      "================================================================\n",
      "Total params: 138,357,544\n",
      "Trainable params: 138,357,544\n",
      "Non-trainable params: 0\n",
      "----------------------------------------------------------------\n",
      "Input size (MB): 0.57\n",
      "Forward/backward pass size (MB): 218.78\n",
      "Params size (MB): 527.79\n",
      "Estimated Total Size (MB): 747.15\n",
      "----------------------------------------------------------------\n"
     ]
    }
   ],
   "source": [
    "summary(model.to(device), (3, 224, 224))"
   ]
  },
  {
   "cell_type": "markdown",
   "metadata": {
    "id": "Rt6jPToYqrE3"
   },
   "source": [
    "## ResNet"
   ]
  },
  {
   "cell_type": "code",
   "execution_count": null,
   "metadata": {
    "colab": {
     "base_uri": "https://localhost:8080/",
     "height": 67,
     "referenced_widgets": [
      "c3b80ec2a7bb4f8b9dc922900fdce9b4",
      "ba1a7787ef4e44688aea67b81b07ddd4",
      "de9ae309f7374bcc8d789b16b17094b5",
      "437adbdb0cb449a0aa0d082f47a8d0f7",
      "4ec3a133b54842d792849092d868f434",
      "412d5ef16d3a4ab7b1a23995f1a26036",
      "535bfc8fdd1844f2bb12579e78d849a3",
      "56fece85c87644318e58fb4c697d6033",
      "43ffcff9ee0845f49a2d183e9995cdf1",
      "460249cf03454225a0484c282b1867f6",
      "c7a64d9169814e6691280a9fde9c619d"
     ]
    },
    "id": "rCcO6PeXqobx",
    "outputId": "f6854b36-8dff-441a-f914-ccc762c81076"
   },
   "outputs": [],
   "source": [
    "model = torchvision.models.resnet152(pretrained=True)"
   ]
  },
  {
   "cell_type": "code",
   "execution_count": null,
   "metadata": {
    "colab": {
     "base_uri": "https://localhost:8080/"
    },
    "id": "gW0t5-F-qp12",
    "outputId": "09c953a7-664b-4166-e1f8-085613a62106"
   },
   "outputs": [
    {
     "name": "stdout",
     "output_type": "stream",
     "text": [
      "----------------------------------------------------------------\n",
      "        Layer (type)               Output Shape         Param #\n",
      "================================================================\n",
      "            Conv2d-1         [-1, 64, 112, 112]           9,408\n",
      "       BatchNorm2d-2         [-1, 64, 112, 112]             128\n",
      "              ReLU-3         [-1, 64, 112, 112]               0\n",
      "         MaxPool2d-4           [-1, 64, 56, 56]               0\n",
      "            Conv2d-5           [-1, 64, 56, 56]           4,096\n",
      "       BatchNorm2d-6           [-1, 64, 56, 56]             128\n",
      "              ReLU-7           [-1, 64, 56, 56]               0\n",
      "            Conv2d-8           [-1, 64, 56, 56]          36,864\n",
      "       BatchNorm2d-9           [-1, 64, 56, 56]             128\n",
      "             ReLU-10           [-1, 64, 56, 56]               0\n",
      "           Conv2d-11          [-1, 256, 56, 56]          16,384\n",
      "      BatchNorm2d-12          [-1, 256, 56, 56]             512\n",
      "           Conv2d-13          [-1, 256, 56, 56]          16,384\n",
      "      BatchNorm2d-14          [-1, 256, 56, 56]             512\n",
      "             ReLU-15          [-1, 256, 56, 56]               0\n",
      "       Bottleneck-16          [-1, 256, 56, 56]               0\n",
      "           Conv2d-17           [-1, 64, 56, 56]          16,384\n",
      "      BatchNorm2d-18           [-1, 64, 56, 56]             128\n",
      "             ReLU-19           [-1, 64, 56, 56]               0\n",
      "           Conv2d-20           [-1, 64, 56, 56]          36,864\n",
      "      BatchNorm2d-21           [-1, 64, 56, 56]             128\n",
      "             ReLU-22           [-1, 64, 56, 56]               0\n",
      "           Conv2d-23          [-1, 256, 56, 56]          16,384\n",
      "      BatchNorm2d-24          [-1, 256, 56, 56]             512\n",
      "             ReLU-25          [-1, 256, 56, 56]               0\n",
      "       Bottleneck-26          [-1, 256, 56, 56]               0\n",
      "           Conv2d-27           [-1, 64, 56, 56]          16,384\n",
      "      BatchNorm2d-28           [-1, 64, 56, 56]             128\n",
      "             ReLU-29           [-1, 64, 56, 56]               0\n",
      "           Conv2d-30           [-1, 64, 56, 56]          36,864\n",
      "      BatchNorm2d-31           [-1, 64, 56, 56]             128\n",
      "             ReLU-32           [-1, 64, 56, 56]               0\n",
      "           Conv2d-33          [-1, 256, 56, 56]          16,384\n",
      "      BatchNorm2d-34          [-1, 256, 56, 56]             512\n",
      "             ReLU-35          [-1, 256, 56, 56]               0\n",
      "       Bottleneck-36          [-1, 256, 56, 56]               0\n",
      "           Conv2d-37          [-1, 128, 56, 56]          32,768\n",
      "      BatchNorm2d-38          [-1, 128, 56, 56]             256\n",
      "             ReLU-39          [-1, 128, 56, 56]               0\n",
      "           Conv2d-40          [-1, 128, 28, 28]         147,456\n",
      "      BatchNorm2d-41          [-1, 128, 28, 28]             256\n",
      "             ReLU-42          [-1, 128, 28, 28]               0\n",
      "           Conv2d-43          [-1, 512, 28, 28]          65,536\n",
      "      BatchNorm2d-44          [-1, 512, 28, 28]           1,024\n",
      "           Conv2d-45          [-1, 512, 28, 28]         131,072\n",
      "      BatchNorm2d-46          [-1, 512, 28, 28]           1,024\n",
      "             ReLU-47          [-1, 512, 28, 28]               0\n",
      "       Bottleneck-48          [-1, 512, 28, 28]               0\n",
      "           Conv2d-49          [-1, 128, 28, 28]          65,536\n",
      "      BatchNorm2d-50          [-1, 128, 28, 28]             256\n",
      "             ReLU-51          [-1, 128, 28, 28]               0\n",
      "           Conv2d-52          [-1, 128, 28, 28]         147,456\n",
      "      BatchNorm2d-53          [-1, 128, 28, 28]             256\n",
      "             ReLU-54          [-1, 128, 28, 28]               0\n",
      "           Conv2d-55          [-1, 512, 28, 28]          65,536\n",
      "      BatchNorm2d-56          [-1, 512, 28, 28]           1,024\n",
      "             ReLU-57          [-1, 512, 28, 28]               0\n",
      "       Bottleneck-58          [-1, 512, 28, 28]               0\n",
      "           Conv2d-59          [-1, 128, 28, 28]          65,536\n",
      "      BatchNorm2d-60          [-1, 128, 28, 28]             256\n",
      "             ReLU-61          [-1, 128, 28, 28]               0\n",
      "           Conv2d-62          [-1, 128, 28, 28]         147,456\n",
      "      BatchNorm2d-63          [-1, 128, 28, 28]             256\n",
      "             ReLU-64          [-1, 128, 28, 28]               0\n",
      "           Conv2d-65          [-1, 512, 28, 28]          65,536\n",
      "      BatchNorm2d-66          [-1, 512, 28, 28]           1,024\n",
      "             ReLU-67          [-1, 512, 28, 28]               0\n",
      "       Bottleneck-68          [-1, 512, 28, 28]               0\n",
      "           Conv2d-69          [-1, 128, 28, 28]          65,536\n",
      "      BatchNorm2d-70          [-1, 128, 28, 28]             256\n",
      "             ReLU-71          [-1, 128, 28, 28]               0\n",
      "           Conv2d-72          [-1, 128, 28, 28]         147,456\n",
      "      BatchNorm2d-73          [-1, 128, 28, 28]             256\n",
      "             ReLU-74          [-1, 128, 28, 28]               0\n",
      "           Conv2d-75          [-1, 512, 28, 28]          65,536\n",
      "      BatchNorm2d-76          [-1, 512, 28, 28]           1,024\n",
      "             ReLU-77          [-1, 512, 28, 28]               0\n",
      "       Bottleneck-78          [-1, 512, 28, 28]               0\n",
      "           Conv2d-79          [-1, 128, 28, 28]          65,536\n",
      "      BatchNorm2d-80          [-1, 128, 28, 28]             256\n",
      "             ReLU-81          [-1, 128, 28, 28]               0\n",
      "           Conv2d-82          [-1, 128, 28, 28]         147,456\n",
      "      BatchNorm2d-83          [-1, 128, 28, 28]             256\n",
      "             ReLU-84          [-1, 128, 28, 28]               0\n",
      "           Conv2d-85          [-1, 512, 28, 28]          65,536\n",
      "      BatchNorm2d-86          [-1, 512, 28, 28]           1,024\n",
      "             ReLU-87          [-1, 512, 28, 28]               0\n",
      "       Bottleneck-88          [-1, 512, 28, 28]               0\n",
      "           Conv2d-89          [-1, 128, 28, 28]          65,536\n",
      "      BatchNorm2d-90          [-1, 128, 28, 28]             256\n",
      "             ReLU-91          [-1, 128, 28, 28]               0\n",
      "           Conv2d-92          [-1, 128, 28, 28]         147,456\n",
      "      BatchNorm2d-93          [-1, 128, 28, 28]             256\n",
      "             ReLU-94          [-1, 128, 28, 28]               0\n",
      "           Conv2d-95          [-1, 512, 28, 28]          65,536\n",
      "      BatchNorm2d-96          [-1, 512, 28, 28]           1,024\n",
      "             ReLU-97          [-1, 512, 28, 28]               0\n",
      "       Bottleneck-98          [-1, 512, 28, 28]               0\n",
      "           Conv2d-99          [-1, 128, 28, 28]          65,536\n",
      "     BatchNorm2d-100          [-1, 128, 28, 28]             256\n",
      "            ReLU-101          [-1, 128, 28, 28]               0\n",
      "          Conv2d-102          [-1, 128, 28, 28]         147,456\n",
      "     BatchNorm2d-103          [-1, 128, 28, 28]             256\n",
      "            ReLU-104          [-1, 128, 28, 28]               0\n",
      "          Conv2d-105          [-1, 512, 28, 28]          65,536\n",
      "     BatchNorm2d-106          [-1, 512, 28, 28]           1,024\n",
      "            ReLU-107          [-1, 512, 28, 28]               0\n",
      "      Bottleneck-108          [-1, 512, 28, 28]               0\n",
      "          Conv2d-109          [-1, 128, 28, 28]          65,536\n",
      "     BatchNorm2d-110          [-1, 128, 28, 28]             256\n",
      "            ReLU-111          [-1, 128, 28, 28]               0\n",
      "          Conv2d-112          [-1, 128, 28, 28]         147,456\n",
      "     BatchNorm2d-113          [-1, 128, 28, 28]             256\n",
      "            ReLU-114          [-1, 128, 28, 28]               0\n",
      "          Conv2d-115          [-1, 512, 28, 28]          65,536\n",
      "     BatchNorm2d-116          [-1, 512, 28, 28]           1,024\n",
      "            ReLU-117          [-1, 512, 28, 28]               0\n",
      "      Bottleneck-118          [-1, 512, 28, 28]               0\n",
      "          Conv2d-119          [-1, 256, 28, 28]         131,072\n",
      "     BatchNorm2d-120          [-1, 256, 28, 28]             512\n",
      "            ReLU-121          [-1, 256, 28, 28]               0\n",
      "          Conv2d-122          [-1, 256, 14, 14]         589,824\n",
      "     BatchNorm2d-123          [-1, 256, 14, 14]             512\n",
      "            ReLU-124          [-1, 256, 14, 14]               0\n",
      "          Conv2d-125         [-1, 1024, 14, 14]         262,144\n",
      "     BatchNorm2d-126         [-1, 1024, 14, 14]           2,048\n",
      "          Conv2d-127         [-1, 1024, 14, 14]         524,288\n",
      "     BatchNorm2d-128         [-1, 1024, 14, 14]           2,048\n",
      "            ReLU-129         [-1, 1024, 14, 14]               0\n",
      "      Bottleneck-130         [-1, 1024, 14, 14]               0\n",
      "          Conv2d-131          [-1, 256, 14, 14]         262,144\n",
      "     BatchNorm2d-132          [-1, 256, 14, 14]             512\n",
      "            ReLU-133          [-1, 256, 14, 14]               0\n",
      "          Conv2d-134          [-1, 256, 14, 14]         589,824\n",
      "     BatchNorm2d-135          [-1, 256, 14, 14]             512\n",
      "            ReLU-136          [-1, 256, 14, 14]               0\n",
      "          Conv2d-137         [-1, 1024, 14, 14]         262,144\n",
      "     BatchNorm2d-138         [-1, 1024, 14, 14]           2,048\n",
      "            ReLU-139         [-1, 1024, 14, 14]               0\n",
      "      Bottleneck-140         [-1, 1024, 14, 14]               0\n",
      "          Conv2d-141          [-1, 256, 14, 14]         262,144\n",
      "     BatchNorm2d-142          [-1, 256, 14, 14]             512\n",
      "            ReLU-143          [-1, 256, 14, 14]               0\n",
      "          Conv2d-144          [-1, 256, 14, 14]         589,824\n",
      "     BatchNorm2d-145          [-1, 256, 14, 14]             512\n",
      "            ReLU-146          [-1, 256, 14, 14]               0\n",
      "          Conv2d-147         [-1, 1024, 14, 14]         262,144\n",
      "     BatchNorm2d-148         [-1, 1024, 14, 14]           2,048\n",
      "            ReLU-149         [-1, 1024, 14, 14]               0\n",
      "      Bottleneck-150         [-1, 1024, 14, 14]               0\n",
      "          Conv2d-151          [-1, 256, 14, 14]         262,144\n",
      "     BatchNorm2d-152          [-1, 256, 14, 14]             512\n",
      "            ReLU-153          [-1, 256, 14, 14]               0\n",
      "          Conv2d-154          [-1, 256, 14, 14]         589,824\n",
      "     BatchNorm2d-155          [-1, 256, 14, 14]             512\n",
      "            ReLU-156          [-1, 256, 14, 14]               0\n",
      "          Conv2d-157         [-1, 1024, 14, 14]         262,144\n",
      "     BatchNorm2d-158         [-1, 1024, 14, 14]           2,048\n",
      "            ReLU-159         [-1, 1024, 14, 14]               0\n",
      "      Bottleneck-160         [-1, 1024, 14, 14]               0\n",
      "          Conv2d-161          [-1, 256, 14, 14]         262,144\n",
      "     BatchNorm2d-162          [-1, 256, 14, 14]             512\n",
      "            ReLU-163          [-1, 256, 14, 14]               0\n",
      "          Conv2d-164          [-1, 256, 14, 14]         589,824\n",
      "     BatchNorm2d-165          [-1, 256, 14, 14]             512\n",
      "            ReLU-166          [-1, 256, 14, 14]               0\n",
      "          Conv2d-167         [-1, 1024, 14, 14]         262,144\n",
      "     BatchNorm2d-168         [-1, 1024, 14, 14]           2,048\n",
      "            ReLU-169         [-1, 1024, 14, 14]               0\n",
      "      Bottleneck-170         [-1, 1024, 14, 14]               0\n",
      "          Conv2d-171          [-1, 256, 14, 14]         262,144\n",
      "     BatchNorm2d-172          [-1, 256, 14, 14]             512\n",
      "            ReLU-173          [-1, 256, 14, 14]               0\n",
      "          Conv2d-174          [-1, 256, 14, 14]         589,824\n",
      "     BatchNorm2d-175          [-1, 256, 14, 14]             512\n",
      "            ReLU-176          [-1, 256, 14, 14]               0\n",
      "          Conv2d-177         [-1, 1024, 14, 14]         262,144\n",
      "     BatchNorm2d-178         [-1, 1024, 14, 14]           2,048\n",
      "            ReLU-179         [-1, 1024, 14, 14]               0\n",
      "      Bottleneck-180         [-1, 1024, 14, 14]               0\n",
      "          Conv2d-181          [-1, 256, 14, 14]         262,144\n",
      "     BatchNorm2d-182          [-1, 256, 14, 14]             512\n",
      "            ReLU-183          [-1, 256, 14, 14]               0\n",
      "          Conv2d-184          [-1, 256, 14, 14]         589,824\n",
      "     BatchNorm2d-185          [-1, 256, 14, 14]             512\n",
      "            ReLU-186          [-1, 256, 14, 14]               0\n",
      "          Conv2d-187         [-1, 1024, 14, 14]         262,144\n",
      "     BatchNorm2d-188         [-1, 1024, 14, 14]           2,048\n",
      "            ReLU-189         [-1, 1024, 14, 14]               0\n",
      "      Bottleneck-190         [-1, 1024, 14, 14]               0\n",
      "          Conv2d-191          [-1, 256, 14, 14]         262,144\n",
      "     BatchNorm2d-192          [-1, 256, 14, 14]             512\n",
      "            ReLU-193          [-1, 256, 14, 14]               0\n",
      "          Conv2d-194          [-1, 256, 14, 14]         589,824\n",
      "     BatchNorm2d-195          [-1, 256, 14, 14]             512\n",
      "            ReLU-196          [-1, 256, 14, 14]               0\n",
      "          Conv2d-197         [-1, 1024, 14, 14]         262,144\n",
      "     BatchNorm2d-198         [-1, 1024, 14, 14]           2,048\n",
      "            ReLU-199         [-1, 1024, 14, 14]               0\n",
      "      Bottleneck-200         [-1, 1024, 14, 14]               0\n",
      "          Conv2d-201          [-1, 256, 14, 14]         262,144\n",
      "     BatchNorm2d-202          [-1, 256, 14, 14]             512\n",
      "            ReLU-203          [-1, 256, 14, 14]               0\n",
      "          Conv2d-204          [-1, 256, 14, 14]         589,824\n",
      "     BatchNorm2d-205          [-1, 256, 14, 14]             512\n",
      "            ReLU-206          [-1, 256, 14, 14]               0\n",
      "          Conv2d-207         [-1, 1024, 14, 14]         262,144\n",
      "     BatchNorm2d-208         [-1, 1024, 14, 14]           2,048\n",
      "            ReLU-209         [-1, 1024, 14, 14]               0\n",
      "      Bottleneck-210         [-1, 1024, 14, 14]               0\n",
      "          Conv2d-211          [-1, 256, 14, 14]         262,144\n",
      "     BatchNorm2d-212          [-1, 256, 14, 14]             512\n",
      "            ReLU-213          [-1, 256, 14, 14]               0\n",
      "          Conv2d-214          [-1, 256, 14, 14]         589,824\n",
      "     BatchNorm2d-215          [-1, 256, 14, 14]             512\n",
      "            ReLU-216          [-1, 256, 14, 14]               0\n",
      "          Conv2d-217         [-1, 1024, 14, 14]         262,144\n",
      "     BatchNorm2d-218         [-1, 1024, 14, 14]           2,048\n",
      "            ReLU-219         [-1, 1024, 14, 14]               0\n",
      "      Bottleneck-220         [-1, 1024, 14, 14]               0\n",
      "          Conv2d-221          [-1, 256, 14, 14]         262,144\n",
      "     BatchNorm2d-222          [-1, 256, 14, 14]             512\n",
      "            ReLU-223          [-1, 256, 14, 14]               0\n",
      "          Conv2d-224          [-1, 256, 14, 14]         589,824\n",
      "     BatchNorm2d-225          [-1, 256, 14, 14]             512\n",
      "            ReLU-226          [-1, 256, 14, 14]               0\n",
      "          Conv2d-227         [-1, 1024, 14, 14]         262,144\n",
      "     BatchNorm2d-228         [-1, 1024, 14, 14]           2,048\n",
      "            ReLU-229         [-1, 1024, 14, 14]               0\n",
      "      Bottleneck-230         [-1, 1024, 14, 14]               0\n",
      "          Conv2d-231          [-1, 256, 14, 14]         262,144\n",
      "     BatchNorm2d-232          [-1, 256, 14, 14]             512\n",
      "            ReLU-233          [-1, 256, 14, 14]               0\n",
      "          Conv2d-234          [-1, 256, 14, 14]         589,824\n",
      "     BatchNorm2d-235          [-1, 256, 14, 14]             512\n",
      "            ReLU-236          [-1, 256, 14, 14]               0\n",
      "          Conv2d-237         [-1, 1024, 14, 14]         262,144\n",
      "     BatchNorm2d-238         [-1, 1024, 14, 14]           2,048\n",
      "            ReLU-239         [-1, 1024, 14, 14]               0\n",
      "      Bottleneck-240         [-1, 1024, 14, 14]               0\n",
      "          Conv2d-241          [-1, 256, 14, 14]         262,144\n",
      "     BatchNorm2d-242          [-1, 256, 14, 14]             512\n",
      "            ReLU-243          [-1, 256, 14, 14]               0\n",
      "          Conv2d-244          [-1, 256, 14, 14]         589,824\n",
      "     BatchNorm2d-245          [-1, 256, 14, 14]             512\n",
      "            ReLU-246          [-1, 256, 14, 14]               0\n",
      "          Conv2d-247         [-1, 1024, 14, 14]         262,144\n",
      "     BatchNorm2d-248         [-1, 1024, 14, 14]           2,048\n",
      "            ReLU-249         [-1, 1024, 14, 14]               0\n",
      "      Bottleneck-250         [-1, 1024, 14, 14]               0\n",
      "          Conv2d-251          [-1, 256, 14, 14]         262,144\n",
      "     BatchNorm2d-252          [-1, 256, 14, 14]             512\n",
      "            ReLU-253          [-1, 256, 14, 14]               0\n",
      "          Conv2d-254          [-1, 256, 14, 14]         589,824\n",
      "     BatchNorm2d-255          [-1, 256, 14, 14]             512\n",
      "            ReLU-256          [-1, 256, 14, 14]               0\n",
      "          Conv2d-257         [-1, 1024, 14, 14]         262,144\n",
      "     BatchNorm2d-258         [-1, 1024, 14, 14]           2,048\n",
      "            ReLU-259         [-1, 1024, 14, 14]               0\n",
      "      Bottleneck-260         [-1, 1024, 14, 14]               0\n",
      "          Conv2d-261          [-1, 256, 14, 14]         262,144\n",
      "     BatchNorm2d-262          [-1, 256, 14, 14]             512\n",
      "            ReLU-263          [-1, 256, 14, 14]               0\n",
      "          Conv2d-264          [-1, 256, 14, 14]         589,824\n",
      "     BatchNorm2d-265          [-1, 256, 14, 14]             512\n",
      "            ReLU-266          [-1, 256, 14, 14]               0\n",
      "          Conv2d-267         [-1, 1024, 14, 14]         262,144\n",
      "     BatchNorm2d-268         [-1, 1024, 14, 14]           2,048\n",
      "            ReLU-269         [-1, 1024, 14, 14]               0\n",
      "      Bottleneck-270         [-1, 1024, 14, 14]               0\n",
      "          Conv2d-271          [-1, 256, 14, 14]         262,144\n",
      "     BatchNorm2d-272          [-1, 256, 14, 14]             512\n",
      "            ReLU-273          [-1, 256, 14, 14]               0\n",
      "          Conv2d-274          [-1, 256, 14, 14]         589,824\n",
      "     BatchNorm2d-275          [-1, 256, 14, 14]             512\n",
      "            ReLU-276          [-1, 256, 14, 14]               0\n",
      "          Conv2d-277         [-1, 1024, 14, 14]         262,144\n",
      "     BatchNorm2d-278         [-1, 1024, 14, 14]           2,048\n",
      "            ReLU-279         [-1, 1024, 14, 14]               0\n",
      "      Bottleneck-280         [-1, 1024, 14, 14]               0\n",
      "          Conv2d-281          [-1, 256, 14, 14]         262,144\n",
      "     BatchNorm2d-282          [-1, 256, 14, 14]             512\n",
      "            ReLU-283          [-1, 256, 14, 14]               0\n",
      "          Conv2d-284          [-1, 256, 14, 14]         589,824\n",
      "     BatchNorm2d-285          [-1, 256, 14, 14]             512\n",
      "            ReLU-286          [-1, 256, 14, 14]               0\n",
      "          Conv2d-287         [-1, 1024, 14, 14]         262,144\n",
      "     BatchNorm2d-288         [-1, 1024, 14, 14]           2,048\n",
      "            ReLU-289         [-1, 1024, 14, 14]               0\n",
      "      Bottleneck-290         [-1, 1024, 14, 14]               0\n",
      "          Conv2d-291          [-1, 256, 14, 14]         262,144\n",
      "     BatchNorm2d-292          [-1, 256, 14, 14]             512\n",
      "            ReLU-293          [-1, 256, 14, 14]               0\n",
      "          Conv2d-294          [-1, 256, 14, 14]         589,824\n",
      "     BatchNorm2d-295          [-1, 256, 14, 14]             512\n",
      "            ReLU-296          [-1, 256, 14, 14]               0\n",
      "          Conv2d-297         [-1, 1024, 14, 14]         262,144\n",
      "     BatchNorm2d-298         [-1, 1024, 14, 14]           2,048\n",
      "            ReLU-299         [-1, 1024, 14, 14]               0\n",
      "      Bottleneck-300         [-1, 1024, 14, 14]               0\n",
      "          Conv2d-301          [-1, 256, 14, 14]         262,144\n",
      "     BatchNorm2d-302          [-1, 256, 14, 14]             512\n",
      "            ReLU-303          [-1, 256, 14, 14]               0\n",
      "          Conv2d-304          [-1, 256, 14, 14]         589,824\n",
      "     BatchNorm2d-305          [-1, 256, 14, 14]             512\n",
      "            ReLU-306          [-1, 256, 14, 14]               0\n",
      "          Conv2d-307         [-1, 1024, 14, 14]         262,144\n",
      "     BatchNorm2d-308         [-1, 1024, 14, 14]           2,048\n",
      "            ReLU-309         [-1, 1024, 14, 14]               0\n",
      "      Bottleneck-310         [-1, 1024, 14, 14]               0\n",
      "          Conv2d-311          [-1, 256, 14, 14]         262,144\n",
      "     BatchNorm2d-312          [-1, 256, 14, 14]             512\n",
      "            ReLU-313          [-1, 256, 14, 14]               0\n",
      "          Conv2d-314          [-1, 256, 14, 14]         589,824\n",
      "     BatchNorm2d-315          [-1, 256, 14, 14]             512\n",
      "            ReLU-316          [-1, 256, 14, 14]               0\n",
      "          Conv2d-317         [-1, 1024, 14, 14]         262,144\n",
      "     BatchNorm2d-318         [-1, 1024, 14, 14]           2,048\n",
      "            ReLU-319         [-1, 1024, 14, 14]               0\n",
      "      Bottleneck-320         [-1, 1024, 14, 14]               0\n",
      "          Conv2d-321          [-1, 256, 14, 14]         262,144\n",
      "     BatchNorm2d-322          [-1, 256, 14, 14]             512\n",
      "            ReLU-323          [-1, 256, 14, 14]               0\n",
      "          Conv2d-324          [-1, 256, 14, 14]         589,824\n",
      "     BatchNorm2d-325          [-1, 256, 14, 14]             512\n",
      "            ReLU-326          [-1, 256, 14, 14]               0\n",
      "          Conv2d-327         [-1, 1024, 14, 14]         262,144\n",
      "     BatchNorm2d-328         [-1, 1024, 14, 14]           2,048\n",
      "            ReLU-329         [-1, 1024, 14, 14]               0\n",
      "      Bottleneck-330         [-1, 1024, 14, 14]               0\n",
      "          Conv2d-331          [-1, 256, 14, 14]         262,144\n",
      "     BatchNorm2d-332          [-1, 256, 14, 14]             512\n",
      "            ReLU-333          [-1, 256, 14, 14]               0\n",
      "          Conv2d-334          [-1, 256, 14, 14]         589,824\n",
      "     BatchNorm2d-335          [-1, 256, 14, 14]             512\n",
      "            ReLU-336          [-1, 256, 14, 14]               0\n",
      "          Conv2d-337         [-1, 1024, 14, 14]         262,144\n",
      "     BatchNorm2d-338         [-1, 1024, 14, 14]           2,048\n",
      "            ReLU-339         [-1, 1024, 14, 14]               0\n",
      "      Bottleneck-340         [-1, 1024, 14, 14]               0\n",
      "          Conv2d-341          [-1, 256, 14, 14]         262,144\n",
      "     BatchNorm2d-342          [-1, 256, 14, 14]             512\n",
      "            ReLU-343          [-1, 256, 14, 14]               0\n",
      "          Conv2d-344          [-1, 256, 14, 14]         589,824\n",
      "     BatchNorm2d-345          [-1, 256, 14, 14]             512\n",
      "            ReLU-346          [-1, 256, 14, 14]               0\n",
      "          Conv2d-347         [-1, 1024, 14, 14]         262,144\n",
      "     BatchNorm2d-348         [-1, 1024, 14, 14]           2,048\n",
      "            ReLU-349         [-1, 1024, 14, 14]               0\n",
      "      Bottleneck-350         [-1, 1024, 14, 14]               0\n",
      "          Conv2d-351          [-1, 256, 14, 14]         262,144\n",
      "     BatchNorm2d-352          [-1, 256, 14, 14]             512\n",
      "            ReLU-353          [-1, 256, 14, 14]               0\n",
      "          Conv2d-354          [-1, 256, 14, 14]         589,824\n",
      "     BatchNorm2d-355          [-1, 256, 14, 14]             512\n",
      "            ReLU-356          [-1, 256, 14, 14]               0\n",
      "          Conv2d-357         [-1, 1024, 14, 14]         262,144\n",
      "     BatchNorm2d-358         [-1, 1024, 14, 14]           2,048\n",
      "            ReLU-359         [-1, 1024, 14, 14]               0\n",
      "      Bottleneck-360         [-1, 1024, 14, 14]               0\n",
      "          Conv2d-361          [-1, 256, 14, 14]         262,144\n",
      "     BatchNorm2d-362          [-1, 256, 14, 14]             512\n",
      "            ReLU-363          [-1, 256, 14, 14]               0\n",
      "          Conv2d-364          [-1, 256, 14, 14]         589,824\n",
      "     BatchNorm2d-365          [-1, 256, 14, 14]             512\n",
      "            ReLU-366          [-1, 256, 14, 14]               0\n",
      "          Conv2d-367         [-1, 1024, 14, 14]         262,144\n",
      "     BatchNorm2d-368         [-1, 1024, 14, 14]           2,048\n",
      "            ReLU-369         [-1, 1024, 14, 14]               0\n",
      "      Bottleneck-370         [-1, 1024, 14, 14]               0\n",
      "          Conv2d-371          [-1, 256, 14, 14]         262,144\n",
      "     BatchNorm2d-372          [-1, 256, 14, 14]             512\n",
      "            ReLU-373          [-1, 256, 14, 14]               0\n",
      "          Conv2d-374          [-1, 256, 14, 14]         589,824\n",
      "     BatchNorm2d-375          [-1, 256, 14, 14]             512\n",
      "            ReLU-376          [-1, 256, 14, 14]               0\n",
      "          Conv2d-377         [-1, 1024, 14, 14]         262,144\n",
      "     BatchNorm2d-378         [-1, 1024, 14, 14]           2,048\n",
      "            ReLU-379         [-1, 1024, 14, 14]               0\n",
      "      Bottleneck-380         [-1, 1024, 14, 14]               0\n",
      "          Conv2d-381          [-1, 256, 14, 14]         262,144\n",
      "     BatchNorm2d-382          [-1, 256, 14, 14]             512\n",
      "            ReLU-383          [-1, 256, 14, 14]               0\n",
      "          Conv2d-384          [-1, 256, 14, 14]         589,824\n",
      "     BatchNorm2d-385          [-1, 256, 14, 14]             512\n",
      "            ReLU-386          [-1, 256, 14, 14]               0\n",
      "          Conv2d-387         [-1, 1024, 14, 14]         262,144\n",
      "     BatchNorm2d-388         [-1, 1024, 14, 14]           2,048\n",
      "            ReLU-389         [-1, 1024, 14, 14]               0\n",
      "      Bottleneck-390         [-1, 1024, 14, 14]               0\n",
      "          Conv2d-391          [-1, 256, 14, 14]         262,144\n",
      "     BatchNorm2d-392          [-1, 256, 14, 14]             512\n",
      "            ReLU-393          [-1, 256, 14, 14]               0\n",
      "          Conv2d-394          [-1, 256, 14, 14]         589,824\n",
      "     BatchNorm2d-395          [-1, 256, 14, 14]             512\n",
      "            ReLU-396          [-1, 256, 14, 14]               0\n",
      "          Conv2d-397         [-1, 1024, 14, 14]         262,144\n",
      "     BatchNorm2d-398         [-1, 1024, 14, 14]           2,048\n",
      "            ReLU-399         [-1, 1024, 14, 14]               0\n",
      "      Bottleneck-400         [-1, 1024, 14, 14]               0\n",
      "          Conv2d-401          [-1, 256, 14, 14]         262,144\n",
      "     BatchNorm2d-402          [-1, 256, 14, 14]             512\n",
      "            ReLU-403          [-1, 256, 14, 14]               0\n",
      "          Conv2d-404          [-1, 256, 14, 14]         589,824\n",
      "     BatchNorm2d-405          [-1, 256, 14, 14]             512\n",
      "            ReLU-406          [-1, 256, 14, 14]               0\n",
      "          Conv2d-407         [-1, 1024, 14, 14]         262,144\n",
      "     BatchNorm2d-408         [-1, 1024, 14, 14]           2,048\n",
      "            ReLU-409         [-1, 1024, 14, 14]               0\n",
      "      Bottleneck-410         [-1, 1024, 14, 14]               0\n",
      "          Conv2d-411          [-1, 256, 14, 14]         262,144\n",
      "     BatchNorm2d-412          [-1, 256, 14, 14]             512\n",
      "            ReLU-413          [-1, 256, 14, 14]               0\n",
      "          Conv2d-414          [-1, 256, 14, 14]         589,824\n",
      "     BatchNorm2d-415          [-1, 256, 14, 14]             512\n",
      "            ReLU-416          [-1, 256, 14, 14]               0\n",
      "          Conv2d-417         [-1, 1024, 14, 14]         262,144\n",
      "     BatchNorm2d-418         [-1, 1024, 14, 14]           2,048\n",
      "            ReLU-419         [-1, 1024, 14, 14]               0\n",
      "      Bottleneck-420         [-1, 1024, 14, 14]               0\n",
      "          Conv2d-421          [-1, 256, 14, 14]         262,144\n",
      "     BatchNorm2d-422          [-1, 256, 14, 14]             512\n",
      "            ReLU-423          [-1, 256, 14, 14]               0\n",
      "          Conv2d-424          [-1, 256, 14, 14]         589,824\n",
      "     BatchNorm2d-425          [-1, 256, 14, 14]             512\n",
      "            ReLU-426          [-1, 256, 14, 14]               0\n",
      "          Conv2d-427         [-1, 1024, 14, 14]         262,144\n",
      "     BatchNorm2d-428         [-1, 1024, 14, 14]           2,048\n",
      "            ReLU-429         [-1, 1024, 14, 14]               0\n",
      "      Bottleneck-430         [-1, 1024, 14, 14]               0\n",
      "          Conv2d-431          [-1, 256, 14, 14]         262,144\n",
      "     BatchNorm2d-432          [-1, 256, 14, 14]             512\n",
      "            ReLU-433          [-1, 256, 14, 14]               0\n",
      "          Conv2d-434          [-1, 256, 14, 14]         589,824\n",
      "     BatchNorm2d-435          [-1, 256, 14, 14]             512\n",
      "            ReLU-436          [-1, 256, 14, 14]               0\n",
      "          Conv2d-437         [-1, 1024, 14, 14]         262,144\n",
      "     BatchNorm2d-438         [-1, 1024, 14, 14]           2,048\n",
      "            ReLU-439         [-1, 1024, 14, 14]               0\n",
      "      Bottleneck-440         [-1, 1024, 14, 14]               0\n",
      "          Conv2d-441          [-1, 256, 14, 14]         262,144\n",
      "     BatchNorm2d-442          [-1, 256, 14, 14]             512\n",
      "            ReLU-443          [-1, 256, 14, 14]               0\n",
      "          Conv2d-444          [-1, 256, 14, 14]         589,824\n",
      "     BatchNorm2d-445          [-1, 256, 14, 14]             512\n",
      "            ReLU-446          [-1, 256, 14, 14]               0\n",
      "          Conv2d-447         [-1, 1024, 14, 14]         262,144\n",
      "     BatchNorm2d-448         [-1, 1024, 14, 14]           2,048\n",
      "            ReLU-449         [-1, 1024, 14, 14]               0\n",
      "      Bottleneck-450         [-1, 1024, 14, 14]               0\n",
      "          Conv2d-451          [-1, 256, 14, 14]         262,144\n",
      "     BatchNorm2d-452          [-1, 256, 14, 14]             512\n",
      "            ReLU-453          [-1, 256, 14, 14]               0\n",
      "          Conv2d-454          [-1, 256, 14, 14]         589,824\n",
      "     BatchNorm2d-455          [-1, 256, 14, 14]             512\n",
      "            ReLU-456          [-1, 256, 14, 14]               0\n",
      "          Conv2d-457         [-1, 1024, 14, 14]         262,144\n",
      "     BatchNorm2d-458         [-1, 1024, 14, 14]           2,048\n",
      "            ReLU-459         [-1, 1024, 14, 14]               0\n",
      "      Bottleneck-460         [-1, 1024, 14, 14]               0\n",
      "          Conv2d-461          [-1, 256, 14, 14]         262,144\n",
      "     BatchNorm2d-462          [-1, 256, 14, 14]             512\n",
      "            ReLU-463          [-1, 256, 14, 14]               0\n",
      "          Conv2d-464          [-1, 256, 14, 14]         589,824\n",
      "     BatchNorm2d-465          [-1, 256, 14, 14]             512\n",
      "            ReLU-466          [-1, 256, 14, 14]               0\n",
      "          Conv2d-467         [-1, 1024, 14, 14]         262,144\n",
      "     BatchNorm2d-468         [-1, 1024, 14, 14]           2,048\n",
      "            ReLU-469         [-1, 1024, 14, 14]               0\n",
      "      Bottleneck-470         [-1, 1024, 14, 14]               0\n",
      "          Conv2d-471          [-1, 256, 14, 14]         262,144\n",
      "     BatchNorm2d-472          [-1, 256, 14, 14]             512\n",
      "            ReLU-473          [-1, 256, 14, 14]               0\n",
      "          Conv2d-474          [-1, 256, 14, 14]         589,824\n",
      "     BatchNorm2d-475          [-1, 256, 14, 14]             512\n",
      "            ReLU-476          [-1, 256, 14, 14]               0\n",
      "          Conv2d-477         [-1, 1024, 14, 14]         262,144\n",
      "     BatchNorm2d-478         [-1, 1024, 14, 14]           2,048\n",
      "            ReLU-479         [-1, 1024, 14, 14]               0\n",
      "      Bottleneck-480         [-1, 1024, 14, 14]               0\n",
      "          Conv2d-481          [-1, 512, 14, 14]         524,288\n",
      "     BatchNorm2d-482          [-1, 512, 14, 14]           1,024\n",
      "            ReLU-483          [-1, 512, 14, 14]               0\n",
      "          Conv2d-484            [-1, 512, 7, 7]       2,359,296\n",
      "     BatchNorm2d-485            [-1, 512, 7, 7]           1,024\n",
      "            ReLU-486            [-1, 512, 7, 7]               0\n",
      "          Conv2d-487           [-1, 2048, 7, 7]       1,048,576\n",
      "     BatchNorm2d-488           [-1, 2048, 7, 7]           4,096\n",
      "          Conv2d-489           [-1, 2048, 7, 7]       2,097,152\n",
      "     BatchNorm2d-490           [-1, 2048, 7, 7]           4,096\n",
      "            ReLU-491           [-1, 2048, 7, 7]               0\n",
      "      Bottleneck-492           [-1, 2048, 7, 7]               0\n",
      "          Conv2d-493            [-1, 512, 7, 7]       1,048,576\n",
      "     BatchNorm2d-494            [-1, 512, 7, 7]           1,024\n",
      "            ReLU-495            [-1, 512, 7, 7]               0\n",
      "          Conv2d-496            [-1, 512, 7, 7]       2,359,296\n",
      "     BatchNorm2d-497            [-1, 512, 7, 7]           1,024\n",
      "            ReLU-498            [-1, 512, 7, 7]               0\n",
      "          Conv2d-499           [-1, 2048, 7, 7]       1,048,576\n",
      "     BatchNorm2d-500           [-1, 2048, 7, 7]           4,096\n",
      "            ReLU-501           [-1, 2048, 7, 7]               0\n",
      "      Bottleneck-502           [-1, 2048, 7, 7]               0\n",
      "          Conv2d-503            [-1, 512, 7, 7]       1,048,576\n",
      "     BatchNorm2d-504            [-1, 512, 7, 7]           1,024\n",
      "            ReLU-505            [-1, 512, 7, 7]               0\n",
      "          Conv2d-506            [-1, 512, 7, 7]       2,359,296\n",
      "     BatchNorm2d-507            [-1, 512, 7, 7]           1,024\n",
      "            ReLU-508            [-1, 512, 7, 7]               0\n",
      "          Conv2d-509           [-1, 2048, 7, 7]       1,048,576\n",
      "     BatchNorm2d-510           [-1, 2048, 7, 7]           4,096\n",
      "            ReLU-511           [-1, 2048, 7, 7]               0\n",
      "      Bottleneck-512           [-1, 2048, 7, 7]               0\n",
      "AdaptiveAvgPool2d-513           [-1, 2048, 1, 1]               0\n",
      "          Linear-514                 [-1, 1000]       2,049,000\n",
      "================================================================\n",
      "Total params: 60,192,808\n",
      "Trainable params: 60,192,808\n",
      "Non-trainable params: 0\n",
      "----------------------------------------------------------------\n",
      "Input size (MB): 0.57\n",
      "Forward/backward pass size (MB): 606.59\n",
      "Params size (MB): 229.62\n",
      "Estimated Total Size (MB): 836.78\n",
      "----------------------------------------------------------------\n"
     ]
    }
   ],
   "source": [
    "summary(model.to(device), (3, 224, 224))"
   ]
  },
  {
   "cell_type": "markdown",
   "metadata": {
    "id": "YZ0SxxOQnVZu"
   },
   "source": [
    "## EfficientNet (B0 - B7)"
   ]
  },
  {
   "cell_type": "code",
   "execution_count": null,
   "metadata": {
    "colab": {
     "base_uri": "https://localhost:8080/",
     "height": 87,
     "referenced_widgets": [
      "83948899de4a4719bb7684822259542b",
      "03d9019bef854090a210fe43e0498b7c",
      "747fc31f4ac64a26a66a960d38bb2fc5",
      "c00851dc71364a298918ab2fdf5d7f2a",
      "63c2e10cc74a431d86f81aa372504853",
      "063465cad6674a4ab822346cb0b60e8c",
      "7c64348a7a27470eac71492806834a43",
      "f3d4fef44ff9447fa26f06cf72e33f26",
      "7f479cb92f0d412ca8f7103f9f134b9e",
      "45bd2e39efdd4fb19f319e37480e4488",
      "43e10b35a65f45ef947c39ef9c92178a"
     ]
    },
    "id": "herAtUlIqTy7",
    "outputId": "0503b727-960f-4c5d-9dbe-8ad30c87a6b8"
   },
   "outputs": [],
   "source": [
    "model = torchvision.models.efficientnet_b7(pretrained=True)"
   ]
  },
  {
   "cell_type": "code",
   "execution_count": null,
   "metadata": {
    "colab": {
     "base_uri": "https://localhost:8080/"
    },
    "id": "3kEku6xnqVQv",
    "outputId": "54f2ec8b-ae53-4914-c63c-fbbb8ab77c32"
   },
   "outputs": [
    {
     "name": "stdout",
     "output_type": "stream",
     "text": [
      "----------------------------------------------------------------\n",
      "        Layer (type)               Output Shape         Param #\n",
      "================================================================\n",
      "            Conv2d-1         [-1, 64, 112, 112]           1,728\n",
      "       BatchNorm2d-2         [-1, 64, 112, 112]             128\n",
      "              SiLU-3         [-1, 64, 112, 112]               0\n",
      "            Conv2d-4         [-1, 64, 112, 112]             576\n",
      "       BatchNorm2d-5         [-1, 64, 112, 112]             128\n",
      "              SiLU-6         [-1, 64, 112, 112]               0\n",
      " AdaptiveAvgPool2d-7             [-1, 64, 1, 1]               0\n",
      "            Conv2d-8             [-1, 16, 1, 1]           1,040\n",
      "              SiLU-9             [-1, 16, 1, 1]               0\n",
      "           Conv2d-10             [-1, 64, 1, 1]           1,088\n",
      "          Sigmoid-11             [-1, 64, 1, 1]               0\n",
      "SqueezeExcitation-12         [-1, 64, 112, 112]               0\n",
      "           Conv2d-13         [-1, 32, 112, 112]           2,048\n",
      "      BatchNorm2d-14         [-1, 32, 112, 112]              64\n",
      "           MBConv-15         [-1, 32, 112, 112]               0\n",
      "           Conv2d-16         [-1, 32, 112, 112]             288\n",
      "      BatchNorm2d-17         [-1, 32, 112, 112]              64\n",
      "             SiLU-18         [-1, 32, 112, 112]               0\n",
      "AdaptiveAvgPool2d-19             [-1, 32, 1, 1]               0\n",
      "           Conv2d-20              [-1, 8, 1, 1]             264\n",
      "             SiLU-21              [-1, 8, 1, 1]               0\n",
      "           Conv2d-22             [-1, 32, 1, 1]             288\n",
      "          Sigmoid-23             [-1, 32, 1, 1]               0\n",
      "SqueezeExcitation-24         [-1, 32, 112, 112]               0\n",
      "           Conv2d-25         [-1, 32, 112, 112]           1,024\n",
      "      BatchNorm2d-26         [-1, 32, 112, 112]              64\n",
      "  StochasticDepth-27         [-1, 32, 112, 112]               0\n",
      "           MBConv-28         [-1, 32, 112, 112]               0\n",
      "           Conv2d-29         [-1, 32, 112, 112]             288\n",
      "      BatchNorm2d-30         [-1, 32, 112, 112]              64\n",
      "             SiLU-31         [-1, 32, 112, 112]               0\n",
      "AdaptiveAvgPool2d-32             [-1, 32, 1, 1]               0\n",
      "           Conv2d-33              [-1, 8, 1, 1]             264\n",
      "             SiLU-34              [-1, 8, 1, 1]               0\n",
      "           Conv2d-35             [-1, 32, 1, 1]             288\n",
      "          Sigmoid-36             [-1, 32, 1, 1]               0\n",
      "SqueezeExcitation-37         [-1, 32, 112, 112]               0\n",
      "           Conv2d-38         [-1, 32, 112, 112]           1,024\n",
      "      BatchNorm2d-39         [-1, 32, 112, 112]              64\n",
      "  StochasticDepth-40         [-1, 32, 112, 112]               0\n",
      "           MBConv-41         [-1, 32, 112, 112]               0\n",
      "           Conv2d-42         [-1, 32, 112, 112]             288\n",
      "      BatchNorm2d-43         [-1, 32, 112, 112]              64\n",
      "             SiLU-44         [-1, 32, 112, 112]               0\n",
      "AdaptiveAvgPool2d-45             [-1, 32, 1, 1]               0\n",
      "           Conv2d-46              [-1, 8, 1, 1]             264\n",
      "             SiLU-47              [-1, 8, 1, 1]               0\n",
      "           Conv2d-48             [-1, 32, 1, 1]             288\n",
      "          Sigmoid-49             [-1, 32, 1, 1]               0\n",
      "SqueezeExcitation-50         [-1, 32, 112, 112]               0\n",
      "           Conv2d-51         [-1, 32, 112, 112]           1,024\n",
      "      BatchNorm2d-52         [-1, 32, 112, 112]              64\n",
      "  StochasticDepth-53         [-1, 32, 112, 112]               0\n",
      "           MBConv-54         [-1, 32, 112, 112]               0\n",
      "           Conv2d-55        [-1, 192, 112, 112]           6,144\n",
      "      BatchNorm2d-56        [-1, 192, 112, 112]             384\n",
      "             SiLU-57        [-1, 192, 112, 112]               0\n",
      "           Conv2d-58          [-1, 192, 56, 56]           1,728\n",
      "      BatchNorm2d-59          [-1, 192, 56, 56]             384\n",
      "             SiLU-60          [-1, 192, 56, 56]               0\n",
      "AdaptiveAvgPool2d-61            [-1, 192, 1, 1]               0\n",
      "           Conv2d-62              [-1, 8, 1, 1]           1,544\n",
      "             SiLU-63              [-1, 8, 1, 1]               0\n",
      "           Conv2d-64            [-1, 192, 1, 1]           1,728\n",
      "          Sigmoid-65            [-1, 192, 1, 1]               0\n",
      "SqueezeExcitation-66          [-1, 192, 56, 56]               0\n",
      "           Conv2d-67           [-1, 48, 56, 56]           9,216\n",
      "      BatchNorm2d-68           [-1, 48, 56, 56]              96\n",
      "           MBConv-69           [-1, 48, 56, 56]               0\n",
      "           Conv2d-70          [-1, 288, 56, 56]          13,824\n",
      "      BatchNorm2d-71          [-1, 288, 56, 56]             576\n",
      "             SiLU-72          [-1, 288, 56, 56]               0\n",
      "           Conv2d-73          [-1, 288, 56, 56]           2,592\n",
      "      BatchNorm2d-74          [-1, 288, 56, 56]             576\n",
      "             SiLU-75          [-1, 288, 56, 56]               0\n",
      "AdaptiveAvgPool2d-76            [-1, 288, 1, 1]               0\n",
      "           Conv2d-77             [-1, 12, 1, 1]           3,468\n",
      "             SiLU-78             [-1, 12, 1, 1]               0\n",
      "           Conv2d-79            [-1, 288, 1, 1]           3,744\n",
      "          Sigmoid-80            [-1, 288, 1, 1]               0\n",
      "SqueezeExcitation-81          [-1, 288, 56, 56]               0\n",
      "           Conv2d-82           [-1, 48, 56, 56]          13,824\n",
      "      BatchNorm2d-83           [-1, 48, 56, 56]              96\n",
      "  StochasticDepth-84           [-1, 48, 56, 56]               0\n",
      "           MBConv-85           [-1, 48, 56, 56]               0\n",
      "           Conv2d-86          [-1, 288, 56, 56]          13,824\n",
      "      BatchNorm2d-87          [-1, 288, 56, 56]             576\n",
      "             SiLU-88          [-1, 288, 56, 56]               0\n",
      "           Conv2d-89          [-1, 288, 56, 56]           2,592\n",
      "      BatchNorm2d-90          [-1, 288, 56, 56]             576\n",
      "             SiLU-91          [-1, 288, 56, 56]               0\n",
      "AdaptiveAvgPool2d-92            [-1, 288, 1, 1]               0\n",
      "           Conv2d-93             [-1, 12, 1, 1]           3,468\n",
      "             SiLU-94             [-1, 12, 1, 1]               0\n",
      "           Conv2d-95            [-1, 288, 1, 1]           3,744\n",
      "          Sigmoid-96            [-1, 288, 1, 1]               0\n",
      "SqueezeExcitation-97          [-1, 288, 56, 56]               0\n",
      "           Conv2d-98           [-1, 48, 56, 56]          13,824\n",
      "      BatchNorm2d-99           [-1, 48, 56, 56]              96\n",
      " StochasticDepth-100           [-1, 48, 56, 56]               0\n",
      "          MBConv-101           [-1, 48, 56, 56]               0\n",
      "          Conv2d-102          [-1, 288, 56, 56]          13,824\n",
      "     BatchNorm2d-103          [-1, 288, 56, 56]             576\n",
      "            SiLU-104          [-1, 288, 56, 56]               0\n",
      "          Conv2d-105          [-1, 288, 56, 56]           2,592\n",
      "     BatchNorm2d-106          [-1, 288, 56, 56]             576\n",
      "            SiLU-107          [-1, 288, 56, 56]               0\n",
      "AdaptiveAvgPool2d-108            [-1, 288, 1, 1]               0\n",
      "          Conv2d-109             [-1, 12, 1, 1]           3,468\n",
      "            SiLU-110             [-1, 12, 1, 1]               0\n",
      "          Conv2d-111            [-1, 288, 1, 1]           3,744\n",
      "         Sigmoid-112            [-1, 288, 1, 1]               0\n",
      "SqueezeExcitation-113          [-1, 288, 56, 56]               0\n",
      "          Conv2d-114           [-1, 48, 56, 56]          13,824\n",
      "     BatchNorm2d-115           [-1, 48, 56, 56]              96\n",
      " StochasticDepth-116           [-1, 48, 56, 56]               0\n",
      "          MBConv-117           [-1, 48, 56, 56]               0\n",
      "          Conv2d-118          [-1, 288, 56, 56]          13,824\n",
      "     BatchNorm2d-119          [-1, 288, 56, 56]             576\n",
      "            SiLU-120          [-1, 288, 56, 56]               0\n",
      "          Conv2d-121          [-1, 288, 56, 56]           2,592\n",
      "     BatchNorm2d-122          [-1, 288, 56, 56]             576\n",
      "            SiLU-123          [-1, 288, 56, 56]               0\n",
      "AdaptiveAvgPool2d-124            [-1, 288, 1, 1]               0\n",
      "          Conv2d-125             [-1, 12, 1, 1]           3,468\n",
      "            SiLU-126             [-1, 12, 1, 1]               0\n",
      "          Conv2d-127            [-1, 288, 1, 1]           3,744\n",
      "         Sigmoid-128            [-1, 288, 1, 1]               0\n",
      "SqueezeExcitation-129          [-1, 288, 56, 56]               0\n",
      "          Conv2d-130           [-1, 48, 56, 56]          13,824\n",
      "     BatchNorm2d-131           [-1, 48, 56, 56]              96\n",
      " StochasticDepth-132           [-1, 48, 56, 56]               0\n",
      "          MBConv-133           [-1, 48, 56, 56]               0\n",
      "          Conv2d-134          [-1, 288, 56, 56]          13,824\n",
      "     BatchNorm2d-135          [-1, 288, 56, 56]             576\n",
      "            SiLU-136          [-1, 288, 56, 56]               0\n",
      "          Conv2d-137          [-1, 288, 56, 56]           2,592\n",
      "     BatchNorm2d-138          [-1, 288, 56, 56]             576\n",
      "            SiLU-139          [-1, 288, 56, 56]               0\n",
      "AdaptiveAvgPool2d-140            [-1, 288, 1, 1]               0\n",
      "          Conv2d-141             [-1, 12, 1, 1]           3,468\n",
      "            SiLU-142             [-1, 12, 1, 1]               0\n",
      "          Conv2d-143            [-1, 288, 1, 1]           3,744\n",
      "         Sigmoid-144            [-1, 288, 1, 1]               0\n",
      "SqueezeExcitation-145          [-1, 288, 56, 56]               0\n",
      "          Conv2d-146           [-1, 48, 56, 56]          13,824\n",
      "     BatchNorm2d-147           [-1, 48, 56, 56]              96\n",
      " StochasticDepth-148           [-1, 48, 56, 56]               0\n",
      "          MBConv-149           [-1, 48, 56, 56]               0\n",
      "          Conv2d-150          [-1, 288, 56, 56]          13,824\n",
      "     BatchNorm2d-151          [-1, 288, 56, 56]             576\n",
      "            SiLU-152          [-1, 288, 56, 56]               0\n",
      "          Conv2d-153          [-1, 288, 56, 56]           2,592\n",
      "     BatchNorm2d-154          [-1, 288, 56, 56]             576\n",
      "            SiLU-155          [-1, 288, 56, 56]               0\n",
      "AdaptiveAvgPool2d-156            [-1, 288, 1, 1]               0\n",
      "          Conv2d-157             [-1, 12, 1, 1]           3,468\n",
      "            SiLU-158             [-1, 12, 1, 1]               0\n",
      "          Conv2d-159            [-1, 288, 1, 1]           3,744\n",
      "         Sigmoid-160            [-1, 288, 1, 1]               0\n",
      "SqueezeExcitation-161          [-1, 288, 56, 56]               0\n",
      "          Conv2d-162           [-1, 48, 56, 56]          13,824\n",
      "     BatchNorm2d-163           [-1, 48, 56, 56]              96\n",
      " StochasticDepth-164           [-1, 48, 56, 56]               0\n",
      "          MBConv-165           [-1, 48, 56, 56]               0\n",
      "          Conv2d-166          [-1, 288, 56, 56]          13,824\n",
      "     BatchNorm2d-167          [-1, 288, 56, 56]             576\n",
      "            SiLU-168          [-1, 288, 56, 56]               0\n",
      "          Conv2d-169          [-1, 288, 28, 28]           7,200\n",
      "     BatchNorm2d-170          [-1, 288, 28, 28]             576\n",
      "            SiLU-171          [-1, 288, 28, 28]               0\n",
      "AdaptiveAvgPool2d-172            [-1, 288, 1, 1]               0\n",
      "          Conv2d-173             [-1, 12, 1, 1]           3,468\n",
      "            SiLU-174             [-1, 12, 1, 1]               0\n",
      "          Conv2d-175            [-1, 288, 1, 1]           3,744\n",
      "         Sigmoid-176            [-1, 288, 1, 1]               0\n",
      "SqueezeExcitation-177          [-1, 288, 28, 28]               0\n",
      "          Conv2d-178           [-1, 80, 28, 28]          23,040\n",
      "     BatchNorm2d-179           [-1, 80, 28, 28]             160\n",
      "          MBConv-180           [-1, 80, 28, 28]               0\n",
      "          Conv2d-181          [-1, 480, 28, 28]          38,400\n",
      "     BatchNorm2d-182          [-1, 480, 28, 28]             960\n",
      "            SiLU-183          [-1, 480, 28, 28]               0\n",
      "          Conv2d-184          [-1, 480, 28, 28]          12,000\n",
      "     BatchNorm2d-185          [-1, 480, 28, 28]             960\n",
      "            SiLU-186          [-1, 480, 28, 28]               0\n",
      "AdaptiveAvgPool2d-187            [-1, 480, 1, 1]               0\n",
      "          Conv2d-188             [-1, 20, 1, 1]           9,620\n",
      "            SiLU-189             [-1, 20, 1, 1]               0\n",
      "          Conv2d-190            [-1, 480, 1, 1]          10,080\n",
      "         Sigmoid-191            [-1, 480, 1, 1]               0\n",
      "SqueezeExcitation-192          [-1, 480, 28, 28]               0\n",
      "          Conv2d-193           [-1, 80, 28, 28]          38,400\n",
      "     BatchNorm2d-194           [-1, 80, 28, 28]             160\n",
      " StochasticDepth-195           [-1, 80, 28, 28]               0\n",
      "          MBConv-196           [-1, 80, 28, 28]               0\n",
      "          Conv2d-197          [-1, 480, 28, 28]          38,400\n",
      "     BatchNorm2d-198          [-1, 480, 28, 28]             960\n",
      "            SiLU-199          [-1, 480, 28, 28]               0\n",
      "          Conv2d-200          [-1, 480, 28, 28]          12,000\n",
      "     BatchNorm2d-201          [-1, 480, 28, 28]             960\n",
      "            SiLU-202          [-1, 480, 28, 28]               0\n",
      "AdaptiveAvgPool2d-203            [-1, 480, 1, 1]               0\n",
      "          Conv2d-204             [-1, 20, 1, 1]           9,620\n",
      "            SiLU-205             [-1, 20, 1, 1]               0\n",
      "          Conv2d-206            [-1, 480, 1, 1]          10,080\n",
      "         Sigmoid-207            [-1, 480, 1, 1]               0\n",
      "SqueezeExcitation-208          [-1, 480, 28, 28]               0\n",
      "          Conv2d-209           [-1, 80, 28, 28]          38,400\n",
      "     BatchNorm2d-210           [-1, 80, 28, 28]             160\n",
      " StochasticDepth-211           [-1, 80, 28, 28]               0\n",
      "          MBConv-212           [-1, 80, 28, 28]               0\n",
      "          Conv2d-213          [-1, 480, 28, 28]          38,400\n",
      "     BatchNorm2d-214          [-1, 480, 28, 28]             960\n",
      "            SiLU-215          [-1, 480, 28, 28]               0\n",
      "          Conv2d-216          [-1, 480, 28, 28]          12,000\n",
      "     BatchNorm2d-217          [-1, 480, 28, 28]             960\n",
      "            SiLU-218          [-1, 480, 28, 28]               0\n",
      "AdaptiveAvgPool2d-219            [-1, 480, 1, 1]               0\n",
      "          Conv2d-220             [-1, 20, 1, 1]           9,620\n",
      "            SiLU-221             [-1, 20, 1, 1]               0\n",
      "          Conv2d-222            [-1, 480, 1, 1]          10,080\n",
      "         Sigmoid-223            [-1, 480, 1, 1]               0\n",
      "SqueezeExcitation-224          [-1, 480, 28, 28]               0\n",
      "          Conv2d-225           [-1, 80, 28, 28]          38,400\n",
      "     BatchNorm2d-226           [-1, 80, 28, 28]             160\n",
      " StochasticDepth-227           [-1, 80, 28, 28]               0\n",
      "          MBConv-228           [-1, 80, 28, 28]               0\n",
      "          Conv2d-229          [-1, 480, 28, 28]          38,400\n",
      "     BatchNorm2d-230          [-1, 480, 28, 28]             960\n",
      "            SiLU-231          [-1, 480, 28, 28]               0\n",
      "          Conv2d-232          [-1, 480, 28, 28]          12,000\n",
      "     BatchNorm2d-233          [-1, 480, 28, 28]             960\n",
      "            SiLU-234          [-1, 480, 28, 28]               0\n",
      "AdaptiveAvgPool2d-235            [-1, 480, 1, 1]               0\n",
      "          Conv2d-236             [-1, 20, 1, 1]           9,620\n",
      "            SiLU-237             [-1, 20, 1, 1]               0\n",
      "          Conv2d-238            [-1, 480, 1, 1]          10,080\n",
      "         Sigmoid-239            [-1, 480, 1, 1]               0\n",
      "SqueezeExcitation-240          [-1, 480, 28, 28]               0\n",
      "          Conv2d-241           [-1, 80, 28, 28]          38,400\n",
      "     BatchNorm2d-242           [-1, 80, 28, 28]             160\n",
      " StochasticDepth-243           [-1, 80, 28, 28]               0\n",
      "          MBConv-244           [-1, 80, 28, 28]               0\n",
      "          Conv2d-245          [-1, 480, 28, 28]          38,400\n",
      "     BatchNorm2d-246          [-1, 480, 28, 28]             960\n",
      "            SiLU-247          [-1, 480, 28, 28]               0\n",
      "          Conv2d-248          [-1, 480, 28, 28]          12,000\n",
      "     BatchNorm2d-249          [-1, 480, 28, 28]             960\n",
      "            SiLU-250          [-1, 480, 28, 28]               0\n",
      "AdaptiveAvgPool2d-251            [-1, 480, 1, 1]               0\n",
      "          Conv2d-252             [-1, 20, 1, 1]           9,620\n",
      "            SiLU-253             [-1, 20, 1, 1]               0\n",
      "          Conv2d-254            [-1, 480, 1, 1]          10,080\n",
      "         Sigmoid-255            [-1, 480, 1, 1]               0\n",
      "SqueezeExcitation-256          [-1, 480, 28, 28]               0\n",
      "          Conv2d-257           [-1, 80, 28, 28]          38,400\n",
      "     BatchNorm2d-258           [-1, 80, 28, 28]             160\n",
      " StochasticDepth-259           [-1, 80, 28, 28]               0\n",
      "          MBConv-260           [-1, 80, 28, 28]               0\n",
      "          Conv2d-261          [-1, 480, 28, 28]          38,400\n",
      "     BatchNorm2d-262          [-1, 480, 28, 28]             960\n",
      "            SiLU-263          [-1, 480, 28, 28]               0\n",
      "          Conv2d-264          [-1, 480, 28, 28]          12,000\n",
      "     BatchNorm2d-265          [-1, 480, 28, 28]             960\n",
      "            SiLU-266          [-1, 480, 28, 28]               0\n",
      "AdaptiveAvgPool2d-267            [-1, 480, 1, 1]               0\n",
      "          Conv2d-268             [-1, 20, 1, 1]           9,620\n",
      "            SiLU-269             [-1, 20, 1, 1]               0\n",
      "          Conv2d-270            [-1, 480, 1, 1]          10,080\n",
      "         Sigmoid-271            [-1, 480, 1, 1]               0\n",
      "SqueezeExcitation-272          [-1, 480, 28, 28]               0\n",
      "          Conv2d-273           [-1, 80, 28, 28]          38,400\n",
      "     BatchNorm2d-274           [-1, 80, 28, 28]             160\n",
      " StochasticDepth-275           [-1, 80, 28, 28]               0\n",
      "          MBConv-276           [-1, 80, 28, 28]               0\n",
      "          Conv2d-277          [-1, 480, 28, 28]          38,400\n",
      "     BatchNorm2d-278          [-1, 480, 28, 28]             960\n",
      "            SiLU-279          [-1, 480, 28, 28]               0\n",
      "          Conv2d-280          [-1, 480, 14, 14]           4,320\n",
      "     BatchNorm2d-281          [-1, 480, 14, 14]             960\n",
      "            SiLU-282          [-1, 480, 14, 14]               0\n",
      "AdaptiveAvgPool2d-283            [-1, 480, 1, 1]               0\n",
      "          Conv2d-284             [-1, 20, 1, 1]           9,620\n",
      "            SiLU-285             [-1, 20, 1, 1]               0\n",
      "          Conv2d-286            [-1, 480, 1, 1]          10,080\n",
      "         Sigmoid-287            [-1, 480, 1, 1]               0\n",
      "SqueezeExcitation-288          [-1, 480, 14, 14]               0\n",
      "          Conv2d-289          [-1, 160, 14, 14]          76,800\n",
      "     BatchNorm2d-290          [-1, 160, 14, 14]             320\n",
      "          MBConv-291          [-1, 160, 14, 14]               0\n",
      "          Conv2d-292          [-1, 960, 14, 14]         153,600\n",
      "     BatchNorm2d-293          [-1, 960, 14, 14]           1,920\n",
      "            SiLU-294          [-1, 960, 14, 14]               0\n",
      "          Conv2d-295          [-1, 960, 14, 14]           8,640\n",
      "     BatchNorm2d-296          [-1, 960, 14, 14]           1,920\n",
      "            SiLU-297          [-1, 960, 14, 14]               0\n",
      "AdaptiveAvgPool2d-298            [-1, 960, 1, 1]               0\n",
      "          Conv2d-299             [-1, 40, 1, 1]          38,440\n",
      "            SiLU-300             [-1, 40, 1, 1]               0\n",
      "          Conv2d-301            [-1, 960, 1, 1]          39,360\n",
      "         Sigmoid-302            [-1, 960, 1, 1]               0\n",
      "SqueezeExcitation-303          [-1, 960, 14, 14]               0\n",
      "          Conv2d-304          [-1, 160, 14, 14]         153,600\n",
      "     BatchNorm2d-305          [-1, 160, 14, 14]             320\n",
      " StochasticDepth-306          [-1, 160, 14, 14]               0\n",
      "          MBConv-307          [-1, 160, 14, 14]               0\n",
      "          Conv2d-308          [-1, 960, 14, 14]         153,600\n",
      "     BatchNorm2d-309          [-1, 960, 14, 14]           1,920\n",
      "            SiLU-310          [-1, 960, 14, 14]               0\n",
      "          Conv2d-311          [-1, 960, 14, 14]           8,640\n",
      "     BatchNorm2d-312          [-1, 960, 14, 14]           1,920\n",
      "            SiLU-313          [-1, 960, 14, 14]               0\n",
      "AdaptiveAvgPool2d-314            [-1, 960, 1, 1]               0\n",
      "          Conv2d-315             [-1, 40, 1, 1]          38,440\n",
      "            SiLU-316             [-1, 40, 1, 1]               0\n",
      "          Conv2d-317            [-1, 960, 1, 1]          39,360\n",
      "         Sigmoid-318            [-1, 960, 1, 1]               0\n",
      "SqueezeExcitation-319          [-1, 960, 14, 14]               0\n",
      "          Conv2d-320          [-1, 160, 14, 14]         153,600\n",
      "     BatchNorm2d-321          [-1, 160, 14, 14]             320\n",
      " StochasticDepth-322          [-1, 160, 14, 14]               0\n",
      "          MBConv-323          [-1, 160, 14, 14]               0\n",
      "          Conv2d-324          [-1, 960, 14, 14]         153,600\n",
      "     BatchNorm2d-325          [-1, 960, 14, 14]           1,920\n",
      "            SiLU-326          [-1, 960, 14, 14]               0\n",
      "          Conv2d-327          [-1, 960, 14, 14]           8,640\n",
      "     BatchNorm2d-328          [-1, 960, 14, 14]           1,920\n",
      "            SiLU-329          [-1, 960, 14, 14]               0\n",
      "AdaptiveAvgPool2d-330            [-1, 960, 1, 1]               0\n",
      "          Conv2d-331             [-1, 40, 1, 1]          38,440\n",
      "            SiLU-332             [-1, 40, 1, 1]               0\n",
      "          Conv2d-333            [-1, 960, 1, 1]          39,360\n",
      "         Sigmoid-334            [-1, 960, 1, 1]               0\n",
      "SqueezeExcitation-335          [-1, 960, 14, 14]               0\n",
      "          Conv2d-336          [-1, 160, 14, 14]         153,600\n",
      "     BatchNorm2d-337          [-1, 160, 14, 14]             320\n",
      " StochasticDepth-338          [-1, 160, 14, 14]               0\n",
      "          MBConv-339          [-1, 160, 14, 14]               0\n",
      "          Conv2d-340          [-1, 960, 14, 14]         153,600\n",
      "     BatchNorm2d-341          [-1, 960, 14, 14]           1,920\n",
      "            SiLU-342          [-1, 960, 14, 14]               0\n",
      "          Conv2d-343          [-1, 960, 14, 14]           8,640\n",
      "     BatchNorm2d-344          [-1, 960, 14, 14]           1,920\n",
      "            SiLU-345          [-1, 960, 14, 14]               0\n",
      "AdaptiveAvgPool2d-346            [-1, 960, 1, 1]               0\n",
      "          Conv2d-347             [-1, 40, 1, 1]          38,440\n",
      "            SiLU-348             [-1, 40, 1, 1]               0\n",
      "          Conv2d-349            [-1, 960, 1, 1]          39,360\n",
      "         Sigmoid-350            [-1, 960, 1, 1]               0\n",
      "SqueezeExcitation-351          [-1, 960, 14, 14]               0\n",
      "          Conv2d-352          [-1, 160, 14, 14]         153,600\n",
      "     BatchNorm2d-353          [-1, 160, 14, 14]             320\n",
      " StochasticDepth-354          [-1, 160, 14, 14]               0\n",
      "          MBConv-355          [-1, 160, 14, 14]               0\n",
      "          Conv2d-356          [-1, 960, 14, 14]         153,600\n",
      "     BatchNorm2d-357          [-1, 960, 14, 14]           1,920\n",
      "            SiLU-358          [-1, 960, 14, 14]               0\n",
      "          Conv2d-359          [-1, 960, 14, 14]           8,640\n",
      "     BatchNorm2d-360          [-1, 960, 14, 14]           1,920\n",
      "            SiLU-361          [-1, 960, 14, 14]               0\n",
      "AdaptiveAvgPool2d-362            [-1, 960, 1, 1]               0\n",
      "          Conv2d-363             [-1, 40, 1, 1]          38,440\n",
      "            SiLU-364             [-1, 40, 1, 1]               0\n",
      "          Conv2d-365            [-1, 960, 1, 1]          39,360\n",
      "         Sigmoid-366            [-1, 960, 1, 1]               0\n",
      "SqueezeExcitation-367          [-1, 960, 14, 14]               0\n",
      "          Conv2d-368          [-1, 160, 14, 14]         153,600\n",
      "     BatchNorm2d-369          [-1, 160, 14, 14]             320\n",
      " StochasticDepth-370          [-1, 160, 14, 14]               0\n",
      "          MBConv-371          [-1, 160, 14, 14]               0\n",
      "          Conv2d-372          [-1, 960, 14, 14]         153,600\n",
      "     BatchNorm2d-373          [-1, 960, 14, 14]           1,920\n",
      "            SiLU-374          [-1, 960, 14, 14]               0\n",
      "          Conv2d-375          [-1, 960, 14, 14]           8,640\n",
      "     BatchNorm2d-376          [-1, 960, 14, 14]           1,920\n",
      "            SiLU-377          [-1, 960, 14, 14]               0\n",
      "AdaptiveAvgPool2d-378            [-1, 960, 1, 1]               0\n",
      "          Conv2d-379             [-1, 40, 1, 1]          38,440\n",
      "            SiLU-380             [-1, 40, 1, 1]               0\n",
      "          Conv2d-381            [-1, 960, 1, 1]          39,360\n",
      "         Sigmoid-382            [-1, 960, 1, 1]               0\n",
      "SqueezeExcitation-383          [-1, 960, 14, 14]               0\n",
      "          Conv2d-384          [-1, 160, 14, 14]         153,600\n",
      "     BatchNorm2d-385          [-1, 160, 14, 14]             320\n",
      " StochasticDepth-386          [-1, 160, 14, 14]               0\n",
      "          MBConv-387          [-1, 160, 14, 14]               0\n",
      "          Conv2d-388          [-1, 960, 14, 14]         153,600\n",
      "     BatchNorm2d-389          [-1, 960, 14, 14]           1,920\n",
      "            SiLU-390          [-1, 960, 14, 14]               0\n",
      "          Conv2d-391          [-1, 960, 14, 14]           8,640\n",
      "     BatchNorm2d-392          [-1, 960, 14, 14]           1,920\n",
      "            SiLU-393          [-1, 960, 14, 14]               0\n",
      "AdaptiveAvgPool2d-394            [-1, 960, 1, 1]               0\n",
      "          Conv2d-395             [-1, 40, 1, 1]          38,440\n",
      "            SiLU-396             [-1, 40, 1, 1]               0\n",
      "          Conv2d-397            [-1, 960, 1, 1]          39,360\n",
      "         Sigmoid-398            [-1, 960, 1, 1]               0\n",
      "SqueezeExcitation-399          [-1, 960, 14, 14]               0\n",
      "          Conv2d-400          [-1, 160, 14, 14]         153,600\n",
      "     BatchNorm2d-401          [-1, 160, 14, 14]             320\n",
      " StochasticDepth-402          [-1, 160, 14, 14]               0\n",
      "          MBConv-403          [-1, 160, 14, 14]               0\n",
      "          Conv2d-404          [-1, 960, 14, 14]         153,600\n",
      "     BatchNorm2d-405          [-1, 960, 14, 14]           1,920\n",
      "            SiLU-406          [-1, 960, 14, 14]               0\n",
      "          Conv2d-407          [-1, 960, 14, 14]           8,640\n",
      "     BatchNorm2d-408          [-1, 960, 14, 14]           1,920\n",
      "            SiLU-409          [-1, 960, 14, 14]               0\n",
      "AdaptiveAvgPool2d-410            [-1, 960, 1, 1]               0\n",
      "          Conv2d-411             [-1, 40, 1, 1]          38,440\n",
      "            SiLU-412             [-1, 40, 1, 1]               0\n",
      "          Conv2d-413            [-1, 960, 1, 1]          39,360\n",
      "         Sigmoid-414            [-1, 960, 1, 1]               0\n",
      "SqueezeExcitation-415          [-1, 960, 14, 14]               0\n",
      "          Conv2d-416          [-1, 160, 14, 14]         153,600\n",
      "     BatchNorm2d-417          [-1, 160, 14, 14]             320\n",
      " StochasticDepth-418          [-1, 160, 14, 14]               0\n",
      "          MBConv-419          [-1, 160, 14, 14]               0\n",
      "          Conv2d-420          [-1, 960, 14, 14]         153,600\n",
      "     BatchNorm2d-421          [-1, 960, 14, 14]           1,920\n",
      "            SiLU-422          [-1, 960, 14, 14]               0\n",
      "          Conv2d-423          [-1, 960, 14, 14]           8,640\n",
      "     BatchNorm2d-424          [-1, 960, 14, 14]           1,920\n",
      "            SiLU-425          [-1, 960, 14, 14]               0\n",
      "AdaptiveAvgPool2d-426            [-1, 960, 1, 1]               0\n",
      "          Conv2d-427             [-1, 40, 1, 1]          38,440\n",
      "            SiLU-428             [-1, 40, 1, 1]               0\n",
      "          Conv2d-429            [-1, 960, 1, 1]          39,360\n",
      "         Sigmoid-430            [-1, 960, 1, 1]               0\n",
      "SqueezeExcitation-431          [-1, 960, 14, 14]               0\n",
      "          Conv2d-432          [-1, 160, 14, 14]         153,600\n",
      "     BatchNorm2d-433          [-1, 160, 14, 14]             320\n",
      " StochasticDepth-434          [-1, 160, 14, 14]               0\n",
      "          MBConv-435          [-1, 160, 14, 14]               0\n",
      "          Conv2d-436          [-1, 960, 14, 14]         153,600\n",
      "     BatchNorm2d-437          [-1, 960, 14, 14]           1,920\n",
      "            SiLU-438          [-1, 960, 14, 14]               0\n",
      "          Conv2d-439          [-1, 960, 14, 14]          24,000\n",
      "     BatchNorm2d-440          [-1, 960, 14, 14]           1,920\n",
      "            SiLU-441          [-1, 960, 14, 14]               0\n",
      "AdaptiveAvgPool2d-442            [-1, 960, 1, 1]               0\n",
      "          Conv2d-443             [-1, 40, 1, 1]          38,440\n",
      "            SiLU-444             [-1, 40, 1, 1]               0\n",
      "          Conv2d-445            [-1, 960, 1, 1]          39,360\n",
      "         Sigmoid-446            [-1, 960, 1, 1]               0\n",
      "SqueezeExcitation-447          [-1, 960, 14, 14]               0\n",
      "          Conv2d-448          [-1, 224, 14, 14]         215,040\n",
      "     BatchNorm2d-449          [-1, 224, 14, 14]             448\n",
      "          MBConv-450          [-1, 224, 14, 14]               0\n",
      "          Conv2d-451         [-1, 1344, 14, 14]         301,056\n",
      "     BatchNorm2d-452         [-1, 1344, 14, 14]           2,688\n",
      "            SiLU-453         [-1, 1344, 14, 14]               0\n",
      "          Conv2d-454         [-1, 1344, 14, 14]          33,600\n",
      "     BatchNorm2d-455         [-1, 1344, 14, 14]           2,688\n",
      "            SiLU-456         [-1, 1344, 14, 14]               0\n",
      "AdaptiveAvgPool2d-457           [-1, 1344, 1, 1]               0\n",
      "          Conv2d-458             [-1, 56, 1, 1]          75,320\n",
      "            SiLU-459             [-1, 56, 1, 1]               0\n",
      "          Conv2d-460           [-1, 1344, 1, 1]          76,608\n",
      "         Sigmoid-461           [-1, 1344, 1, 1]               0\n",
      "SqueezeExcitation-462         [-1, 1344, 14, 14]               0\n",
      "          Conv2d-463          [-1, 224, 14, 14]         301,056\n",
      "     BatchNorm2d-464          [-1, 224, 14, 14]             448\n",
      " StochasticDepth-465          [-1, 224, 14, 14]               0\n",
      "          MBConv-466          [-1, 224, 14, 14]               0\n",
      "          Conv2d-467         [-1, 1344, 14, 14]         301,056\n",
      "     BatchNorm2d-468         [-1, 1344, 14, 14]           2,688\n",
      "            SiLU-469         [-1, 1344, 14, 14]               0\n",
      "          Conv2d-470         [-1, 1344, 14, 14]          33,600\n",
      "     BatchNorm2d-471         [-1, 1344, 14, 14]           2,688\n",
      "            SiLU-472         [-1, 1344, 14, 14]               0\n",
      "AdaptiveAvgPool2d-473           [-1, 1344, 1, 1]               0\n",
      "          Conv2d-474             [-1, 56, 1, 1]          75,320\n",
      "            SiLU-475             [-1, 56, 1, 1]               0\n",
      "          Conv2d-476           [-1, 1344, 1, 1]          76,608\n",
      "         Sigmoid-477           [-1, 1344, 1, 1]               0\n",
      "SqueezeExcitation-478         [-1, 1344, 14, 14]               0\n",
      "          Conv2d-479          [-1, 224, 14, 14]         301,056\n",
      "     BatchNorm2d-480          [-1, 224, 14, 14]             448\n",
      " StochasticDepth-481          [-1, 224, 14, 14]               0\n",
      "          MBConv-482          [-1, 224, 14, 14]               0\n",
      "          Conv2d-483         [-1, 1344, 14, 14]         301,056\n",
      "     BatchNorm2d-484         [-1, 1344, 14, 14]           2,688\n",
      "            SiLU-485         [-1, 1344, 14, 14]               0\n",
      "          Conv2d-486         [-1, 1344, 14, 14]          33,600\n",
      "     BatchNorm2d-487         [-1, 1344, 14, 14]           2,688\n",
      "            SiLU-488         [-1, 1344, 14, 14]               0\n",
      "AdaptiveAvgPool2d-489           [-1, 1344, 1, 1]               0\n",
      "          Conv2d-490             [-1, 56, 1, 1]          75,320\n",
      "            SiLU-491             [-1, 56, 1, 1]               0\n",
      "          Conv2d-492           [-1, 1344, 1, 1]          76,608\n",
      "         Sigmoid-493           [-1, 1344, 1, 1]               0\n",
      "SqueezeExcitation-494         [-1, 1344, 14, 14]               0\n",
      "          Conv2d-495          [-1, 224, 14, 14]         301,056\n",
      "     BatchNorm2d-496          [-1, 224, 14, 14]             448\n",
      " StochasticDepth-497          [-1, 224, 14, 14]               0\n",
      "          MBConv-498          [-1, 224, 14, 14]               0\n",
      "          Conv2d-499         [-1, 1344, 14, 14]         301,056\n",
      "     BatchNorm2d-500         [-1, 1344, 14, 14]           2,688\n",
      "            SiLU-501         [-1, 1344, 14, 14]               0\n",
      "          Conv2d-502         [-1, 1344, 14, 14]          33,600\n",
      "     BatchNorm2d-503         [-1, 1344, 14, 14]           2,688\n",
      "            SiLU-504         [-1, 1344, 14, 14]               0\n",
      "AdaptiveAvgPool2d-505           [-1, 1344, 1, 1]               0\n",
      "          Conv2d-506             [-1, 56, 1, 1]          75,320\n",
      "            SiLU-507             [-1, 56, 1, 1]               0\n",
      "          Conv2d-508           [-1, 1344, 1, 1]          76,608\n",
      "         Sigmoid-509           [-1, 1344, 1, 1]               0\n",
      "SqueezeExcitation-510         [-1, 1344, 14, 14]               0\n",
      "          Conv2d-511          [-1, 224, 14, 14]         301,056\n",
      "     BatchNorm2d-512          [-1, 224, 14, 14]             448\n",
      " StochasticDepth-513          [-1, 224, 14, 14]               0\n",
      "          MBConv-514          [-1, 224, 14, 14]               0\n",
      "          Conv2d-515         [-1, 1344, 14, 14]         301,056\n",
      "     BatchNorm2d-516         [-1, 1344, 14, 14]           2,688\n",
      "            SiLU-517         [-1, 1344, 14, 14]               0\n",
      "          Conv2d-518         [-1, 1344, 14, 14]          33,600\n",
      "     BatchNorm2d-519         [-1, 1344, 14, 14]           2,688\n",
      "            SiLU-520         [-1, 1344, 14, 14]               0\n",
      "AdaptiveAvgPool2d-521           [-1, 1344, 1, 1]               0\n",
      "          Conv2d-522             [-1, 56, 1, 1]          75,320\n",
      "            SiLU-523             [-1, 56, 1, 1]               0\n",
      "          Conv2d-524           [-1, 1344, 1, 1]          76,608\n",
      "         Sigmoid-525           [-1, 1344, 1, 1]               0\n",
      "SqueezeExcitation-526         [-1, 1344, 14, 14]               0\n",
      "          Conv2d-527          [-1, 224, 14, 14]         301,056\n",
      "     BatchNorm2d-528          [-1, 224, 14, 14]             448\n",
      " StochasticDepth-529          [-1, 224, 14, 14]               0\n",
      "          MBConv-530          [-1, 224, 14, 14]               0\n",
      "          Conv2d-531         [-1, 1344, 14, 14]         301,056\n",
      "     BatchNorm2d-532         [-1, 1344, 14, 14]           2,688\n",
      "            SiLU-533         [-1, 1344, 14, 14]               0\n",
      "          Conv2d-534         [-1, 1344, 14, 14]          33,600\n",
      "     BatchNorm2d-535         [-1, 1344, 14, 14]           2,688\n",
      "            SiLU-536         [-1, 1344, 14, 14]               0\n",
      "AdaptiveAvgPool2d-537           [-1, 1344, 1, 1]               0\n",
      "          Conv2d-538             [-1, 56, 1, 1]          75,320\n",
      "            SiLU-539             [-1, 56, 1, 1]               0\n",
      "          Conv2d-540           [-1, 1344, 1, 1]          76,608\n",
      "         Sigmoid-541           [-1, 1344, 1, 1]               0\n",
      "SqueezeExcitation-542         [-1, 1344, 14, 14]               0\n",
      "          Conv2d-543          [-1, 224, 14, 14]         301,056\n",
      "     BatchNorm2d-544          [-1, 224, 14, 14]             448\n",
      " StochasticDepth-545          [-1, 224, 14, 14]               0\n",
      "          MBConv-546          [-1, 224, 14, 14]               0\n",
      "          Conv2d-547         [-1, 1344, 14, 14]         301,056\n",
      "     BatchNorm2d-548         [-1, 1344, 14, 14]           2,688\n",
      "            SiLU-549         [-1, 1344, 14, 14]               0\n",
      "          Conv2d-550         [-1, 1344, 14, 14]          33,600\n",
      "     BatchNorm2d-551         [-1, 1344, 14, 14]           2,688\n",
      "            SiLU-552         [-1, 1344, 14, 14]               0\n",
      "AdaptiveAvgPool2d-553           [-1, 1344, 1, 1]               0\n",
      "          Conv2d-554             [-1, 56, 1, 1]          75,320\n",
      "            SiLU-555             [-1, 56, 1, 1]               0\n",
      "          Conv2d-556           [-1, 1344, 1, 1]          76,608\n",
      "         Sigmoid-557           [-1, 1344, 1, 1]               0\n",
      "SqueezeExcitation-558         [-1, 1344, 14, 14]               0\n",
      "          Conv2d-559          [-1, 224, 14, 14]         301,056\n",
      "     BatchNorm2d-560          [-1, 224, 14, 14]             448\n",
      " StochasticDepth-561          [-1, 224, 14, 14]               0\n",
      "          MBConv-562          [-1, 224, 14, 14]               0\n",
      "          Conv2d-563         [-1, 1344, 14, 14]         301,056\n",
      "     BatchNorm2d-564         [-1, 1344, 14, 14]           2,688\n",
      "            SiLU-565         [-1, 1344, 14, 14]               0\n",
      "          Conv2d-566         [-1, 1344, 14, 14]          33,600\n",
      "     BatchNorm2d-567         [-1, 1344, 14, 14]           2,688\n",
      "            SiLU-568         [-1, 1344, 14, 14]               0\n",
      "AdaptiveAvgPool2d-569           [-1, 1344, 1, 1]               0\n",
      "          Conv2d-570             [-1, 56, 1, 1]          75,320\n",
      "            SiLU-571             [-1, 56, 1, 1]               0\n",
      "          Conv2d-572           [-1, 1344, 1, 1]          76,608\n",
      "         Sigmoid-573           [-1, 1344, 1, 1]               0\n",
      "SqueezeExcitation-574         [-1, 1344, 14, 14]               0\n",
      "          Conv2d-575          [-1, 224, 14, 14]         301,056\n",
      "     BatchNorm2d-576          [-1, 224, 14, 14]             448\n",
      " StochasticDepth-577          [-1, 224, 14, 14]               0\n",
      "          MBConv-578          [-1, 224, 14, 14]               0\n",
      "          Conv2d-579         [-1, 1344, 14, 14]         301,056\n",
      "     BatchNorm2d-580         [-1, 1344, 14, 14]           2,688\n",
      "            SiLU-581         [-1, 1344, 14, 14]               0\n",
      "          Conv2d-582         [-1, 1344, 14, 14]          33,600\n",
      "     BatchNorm2d-583         [-1, 1344, 14, 14]           2,688\n",
      "            SiLU-584         [-1, 1344, 14, 14]               0\n",
      "AdaptiveAvgPool2d-585           [-1, 1344, 1, 1]               0\n",
      "          Conv2d-586             [-1, 56, 1, 1]          75,320\n",
      "            SiLU-587             [-1, 56, 1, 1]               0\n",
      "          Conv2d-588           [-1, 1344, 1, 1]          76,608\n",
      "         Sigmoid-589           [-1, 1344, 1, 1]               0\n",
      "SqueezeExcitation-590         [-1, 1344, 14, 14]               0\n",
      "          Conv2d-591          [-1, 224, 14, 14]         301,056\n",
      "     BatchNorm2d-592          [-1, 224, 14, 14]             448\n",
      " StochasticDepth-593          [-1, 224, 14, 14]               0\n",
      "          MBConv-594          [-1, 224, 14, 14]               0\n",
      "          Conv2d-595         [-1, 1344, 14, 14]         301,056\n",
      "     BatchNorm2d-596         [-1, 1344, 14, 14]           2,688\n",
      "            SiLU-597         [-1, 1344, 14, 14]               0\n",
      "          Conv2d-598           [-1, 1344, 7, 7]          33,600\n",
      "     BatchNorm2d-599           [-1, 1344, 7, 7]           2,688\n",
      "            SiLU-600           [-1, 1344, 7, 7]               0\n",
      "AdaptiveAvgPool2d-601           [-1, 1344, 1, 1]               0\n",
      "          Conv2d-602             [-1, 56, 1, 1]          75,320\n",
      "            SiLU-603             [-1, 56, 1, 1]               0\n",
      "          Conv2d-604           [-1, 1344, 1, 1]          76,608\n",
      "         Sigmoid-605           [-1, 1344, 1, 1]               0\n",
      "SqueezeExcitation-606           [-1, 1344, 7, 7]               0\n",
      "          Conv2d-607            [-1, 384, 7, 7]         516,096\n",
      "     BatchNorm2d-608            [-1, 384, 7, 7]             768\n",
      "          MBConv-609            [-1, 384, 7, 7]               0\n",
      "          Conv2d-610           [-1, 2304, 7, 7]         884,736\n",
      "     BatchNorm2d-611           [-1, 2304, 7, 7]           4,608\n",
      "            SiLU-612           [-1, 2304, 7, 7]               0\n",
      "          Conv2d-613           [-1, 2304, 7, 7]          57,600\n",
      "     BatchNorm2d-614           [-1, 2304, 7, 7]           4,608\n",
      "            SiLU-615           [-1, 2304, 7, 7]               0\n",
      "AdaptiveAvgPool2d-616           [-1, 2304, 1, 1]               0\n",
      "          Conv2d-617             [-1, 96, 1, 1]         221,280\n",
      "            SiLU-618             [-1, 96, 1, 1]               0\n",
      "          Conv2d-619           [-1, 2304, 1, 1]         223,488\n",
      "         Sigmoid-620           [-1, 2304, 1, 1]               0\n",
      "SqueezeExcitation-621           [-1, 2304, 7, 7]               0\n",
      "          Conv2d-622            [-1, 384, 7, 7]         884,736\n",
      "     BatchNorm2d-623            [-1, 384, 7, 7]             768\n",
      " StochasticDepth-624            [-1, 384, 7, 7]               0\n",
      "          MBConv-625            [-1, 384, 7, 7]               0\n",
      "          Conv2d-626           [-1, 2304, 7, 7]         884,736\n",
      "     BatchNorm2d-627           [-1, 2304, 7, 7]           4,608\n",
      "            SiLU-628           [-1, 2304, 7, 7]               0\n",
      "          Conv2d-629           [-1, 2304, 7, 7]          57,600\n",
      "     BatchNorm2d-630           [-1, 2304, 7, 7]           4,608\n",
      "            SiLU-631           [-1, 2304, 7, 7]               0\n",
      "AdaptiveAvgPool2d-632           [-1, 2304, 1, 1]               0\n",
      "          Conv2d-633             [-1, 96, 1, 1]         221,280\n",
      "            SiLU-634             [-1, 96, 1, 1]               0\n",
      "          Conv2d-635           [-1, 2304, 1, 1]         223,488\n",
      "         Sigmoid-636           [-1, 2304, 1, 1]               0\n",
      "SqueezeExcitation-637           [-1, 2304, 7, 7]               0\n",
      "          Conv2d-638            [-1, 384, 7, 7]         884,736\n",
      "     BatchNorm2d-639            [-1, 384, 7, 7]             768\n",
      " StochasticDepth-640            [-1, 384, 7, 7]               0\n",
      "          MBConv-641            [-1, 384, 7, 7]               0\n",
      "          Conv2d-642           [-1, 2304, 7, 7]         884,736\n",
      "     BatchNorm2d-643           [-1, 2304, 7, 7]           4,608\n",
      "            SiLU-644           [-1, 2304, 7, 7]               0\n",
      "          Conv2d-645           [-1, 2304, 7, 7]          57,600\n",
      "     BatchNorm2d-646           [-1, 2304, 7, 7]           4,608\n",
      "            SiLU-647           [-1, 2304, 7, 7]               0\n",
      "AdaptiveAvgPool2d-648           [-1, 2304, 1, 1]               0\n",
      "          Conv2d-649             [-1, 96, 1, 1]         221,280\n",
      "            SiLU-650             [-1, 96, 1, 1]               0\n",
      "          Conv2d-651           [-1, 2304, 1, 1]         223,488\n",
      "         Sigmoid-652           [-1, 2304, 1, 1]               0\n",
      "SqueezeExcitation-653           [-1, 2304, 7, 7]               0\n",
      "          Conv2d-654            [-1, 384, 7, 7]         884,736\n",
      "     BatchNorm2d-655            [-1, 384, 7, 7]             768\n",
      " StochasticDepth-656            [-1, 384, 7, 7]               0\n",
      "          MBConv-657            [-1, 384, 7, 7]               0\n",
      "          Conv2d-658           [-1, 2304, 7, 7]         884,736\n",
      "     BatchNorm2d-659           [-1, 2304, 7, 7]           4,608\n",
      "            SiLU-660           [-1, 2304, 7, 7]               0\n",
      "          Conv2d-661           [-1, 2304, 7, 7]          57,600\n",
      "     BatchNorm2d-662           [-1, 2304, 7, 7]           4,608\n",
      "            SiLU-663           [-1, 2304, 7, 7]               0\n",
      "AdaptiveAvgPool2d-664           [-1, 2304, 1, 1]               0\n",
      "          Conv2d-665             [-1, 96, 1, 1]         221,280\n",
      "            SiLU-666             [-1, 96, 1, 1]               0\n",
      "          Conv2d-667           [-1, 2304, 1, 1]         223,488\n",
      "         Sigmoid-668           [-1, 2304, 1, 1]               0\n",
      "SqueezeExcitation-669           [-1, 2304, 7, 7]               0\n",
      "          Conv2d-670            [-1, 384, 7, 7]         884,736\n",
      "     BatchNorm2d-671            [-1, 384, 7, 7]             768\n",
      " StochasticDepth-672            [-1, 384, 7, 7]               0\n",
      "          MBConv-673            [-1, 384, 7, 7]               0\n",
      "          Conv2d-674           [-1, 2304, 7, 7]         884,736\n",
      "     BatchNorm2d-675           [-1, 2304, 7, 7]           4,608\n",
      "            SiLU-676           [-1, 2304, 7, 7]               0\n",
      "          Conv2d-677           [-1, 2304, 7, 7]          57,600\n",
      "     BatchNorm2d-678           [-1, 2304, 7, 7]           4,608\n",
      "            SiLU-679           [-1, 2304, 7, 7]               0\n",
      "AdaptiveAvgPool2d-680           [-1, 2304, 1, 1]               0\n",
      "          Conv2d-681             [-1, 96, 1, 1]         221,280\n",
      "            SiLU-682             [-1, 96, 1, 1]               0\n",
      "          Conv2d-683           [-1, 2304, 1, 1]         223,488\n",
      "         Sigmoid-684           [-1, 2304, 1, 1]               0\n",
      "SqueezeExcitation-685           [-1, 2304, 7, 7]               0\n",
      "          Conv2d-686            [-1, 384, 7, 7]         884,736\n",
      "     BatchNorm2d-687            [-1, 384, 7, 7]             768\n",
      " StochasticDepth-688            [-1, 384, 7, 7]               0\n",
      "          MBConv-689            [-1, 384, 7, 7]               0\n",
      "          Conv2d-690           [-1, 2304, 7, 7]         884,736\n",
      "     BatchNorm2d-691           [-1, 2304, 7, 7]           4,608\n",
      "            SiLU-692           [-1, 2304, 7, 7]               0\n",
      "          Conv2d-693           [-1, 2304, 7, 7]          57,600\n",
      "     BatchNorm2d-694           [-1, 2304, 7, 7]           4,608\n",
      "            SiLU-695           [-1, 2304, 7, 7]               0\n",
      "AdaptiveAvgPool2d-696           [-1, 2304, 1, 1]               0\n",
      "          Conv2d-697             [-1, 96, 1, 1]         221,280\n",
      "            SiLU-698             [-1, 96, 1, 1]               0\n",
      "          Conv2d-699           [-1, 2304, 1, 1]         223,488\n",
      "         Sigmoid-700           [-1, 2304, 1, 1]               0\n",
      "SqueezeExcitation-701           [-1, 2304, 7, 7]               0\n",
      "          Conv2d-702            [-1, 384, 7, 7]         884,736\n",
      "     BatchNorm2d-703            [-1, 384, 7, 7]             768\n",
      " StochasticDepth-704            [-1, 384, 7, 7]               0\n",
      "          MBConv-705            [-1, 384, 7, 7]               0\n",
      "          Conv2d-706           [-1, 2304, 7, 7]         884,736\n",
      "     BatchNorm2d-707           [-1, 2304, 7, 7]           4,608\n",
      "            SiLU-708           [-1, 2304, 7, 7]               0\n",
      "          Conv2d-709           [-1, 2304, 7, 7]          57,600\n",
      "     BatchNorm2d-710           [-1, 2304, 7, 7]           4,608\n",
      "            SiLU-711           [-1, 2304, 7, 7]               0\n",
      "AdaptiveAvgPool2d-712           [-1, 2304, 1, 1]               0\n",
      "          Conv2d-713             [-1, 96, 1, 1]         221,280\n",
      "            SiLU-714             [-1, 96, 1, 1]               0\n",
      "          Conv2d-715           [-1, 2304, 1, 1]         223,488\n",
      "         Sigmoid-716           [-1, 2304, 1, 1]               0\n",
      "SqueezeExcitation-717           [-1, 2304, 7, 7]               0\n",
      "          Conv2d-718            [-1, 384, 7, 7]         884,736\n",
      "     BatchNorm2d-719            [-1, 384, 7, 7]             768\n",
      " StochasticDepth-720            [-1, 384, 7, 7]               0\n",
      "          MBConv-721            [-1, 384, 7, 7]               0\n",
      "          Conv2d-722           [-1, 2304, 7, 7]         884,736\n",
      "     BatchNorm2d-723           [-1, 2304, 7, 7]           4,608\n",
      "            SiLU-724           [-1, 2304, 7, 7]               0\n",
      "          Conv2d-725           [-1, 2304, 7, 7]          57,600\n",
      "     BatchNorm2d-726           [-1, 2304, 7, 7]           4,608\n",
      "            SiLU-727           [-1, 2304, 7, 7]               0\n",
      "AdaptiveAvgPool2d-728           [-1, 2304, 1, 1]               0\n",
      "          Conv2d-729             [-1, 96, 1, 1]         221,280\n",
      "            SiLU-730             [-1, 96, 1, 1]               0\n",
      "          Conv2d-731           [-1, 2304, 1, 1]         223,488\n",
      "         Sigmoid-732           [-1, 2304, 1, 1]               0\n",
      "SqueezeExcitation-733           [-1, 2304, 7, 7]               0\n",
      "          Conv2d-734            [-1, 384, 7, 7]         884,736\n",
      "     BatchNorm2d-735            [-1, 384, 7, 7]             768\n",
      " StochasticDepth-736            [-1, 384, 7, 7]               0\n",
      "          MBConv-737            [-1, 384, 7, 7]               0\n",
      "          Conv2d-738           [-1, 2304, 7, 7]         884,736\n",
      "     BatchNorm2d-739           [-1, 2304, 7, 7]           4,608\n",
      "            SiLU-740           [-1, 2304, 7, 7]               0\n",
      "          Conv2d-741           [-1, 2304, 7, 7]          57,600\n",
      "     BatchNorm2d-742           [-1, 2304, 7, 7]           4,608\n",
      "            SiLU-743           [-1, 2304, 7, 7]               0\n",
      "AdaptiveAvgPool2d-744           [-1, 2304, 1, 1]               0\n",
      "          Conv2d-745             [-1, 96, 1, 1]         221,280\n",
      "            SiLU-746             [-1, 96, 1, 1]               0\n",
      "          Conv2d-747           [-1, 2304, 1, 1]         223,488\n",
      "         Sigmoid-748           [-1, 2304, 1, 1]               0\n",
      "SqueezeExcitation-749           [-1, 2304, 7, 7]               0\n",
      "          Conv2d-750            [-1, 384, 7, 7]         884,736\n",
      "     BatchNorm2d-751            [-1, 384, 7, 7]             768\n",
      " StochasticDepth-752            [-1, 384, 7, 7]               0\n",
      "          MBConv-753            [-1, 384, 7, 7]               0\n",
      "          Conv2d-754           [-1, 2304, 7, 7]         884,736\n",
      "     BatchNorm2d-755           [-1, 2304, 7, 7]           4,608\n",
      "            SiLU-756           [-1, 2304, 7, 7]               0\n",
      "          Conv2d-757           [-1, 2304, 7, 7]          57,600\n",
      "     BatchNorm2d-758           [-1, 2304, 7, 7]           4,608\n",
      "            SiLU-759           [-1, 2304, 7, 7]               0\n",
      "AdaptiveAvgPool2d-760           [-1, 2304, 1, 1]               0\n",
      "          Conv2d-761             [-1, 96, 1, 1]         221,280\n",
      "            SiLU-762             [-1, 96, 1, 1]               0\n",
      "          Conv2d-763           [-1, 2304, 1, 1]         223,488\n",
      "         Sigmoid-764           [-1, 2304, 1, 1]               0\n",
      "SqueezeExcitation-765           [-1, 2304, 7, 7]               0\n",
      "          Conv2d-766            [-1, 384, 7, 7]         884,736\n",
      "     BatchNorm2d-767            [-1, 384, 7, 7]             768\n",
      " StochasticDepth-768            [-1, 384, 7, 7]               0\n",
      "          MBConv-769            [-1, 384, 7, 7]               0\n",
      "          Conv2d-770           [-1, 2304, 7, 7]         884,736\n",
      "     BatchNorm2d-771           [-1, 2304, 7, 7]           4,608\n",
      "            SiLU-772           [-1, 2304, 7, 7]               0\n",
      "          Conv2d-773           [-1, 2304, 7, 7]          57,600\n",
      "     BatchNorm2d-774           [-1, 2304, 7, 7]           4,608\n",
      "            SiLU-775           [-1, 2304, 7, 7]               0\n",
      "AdaptiveAvgPool2d-776           [-1, 2304, 1, 1]               0\n",
      "          Conv2d-777             [-1, 96, 1, 1]         221,280\n",
      "            SiLU-778             [-1, 96, 1, 1]               0\n",
      "          Conv2d-779           [-1, 2304, 1, 1]         223,488\n",
      "         Sigmoid-780           [-1, 2304, 1, 1]               0\n",
      "SqueezeExcitation-781           [-1, 2304, 7, 7]               0\n",
      "          Conv2d-782            [-1, 384, 7, 7]         884,736\n",
      "     BatchNorm2d-783            [-1, 384, 7, 7]             768\n",
      " StochasticDepth-784            [-1, 384, 7, 7]               0\n",
      "          MBConv-785            [-1, 384, 7, 7]               0\n",
      "          Conv2d-786           [-1, 2304, 7, 7]         884,736\n",
      "     BatchNorm2d-787           [-1, 2304, 7, 7]           4,608\n",
      "            SiLU-788           [-1, 2304, 7, 7]               0\n",
      "          Conv2d-789           [-1, 2304, 7, 7]          57,600\n",
      "     BatchNorm2d-790           [-1, 2304, 7, 7]           4,608\n",
      "            SiLU-791           [-1, 2304, 7, 7]               0\n",
      "AdaptiveAvgPool2d-792           [-1, 2304, 1, 1]               0\n",
      "          Conv2d-793             [-1, 96, 1, 1]         221,280\n",
      "            SiLU-794             [-1, 96, 1, 1]               0\n",
      "          Conv2d-795           [-1, 2304, 1, 1]         223,488\n",
      "         Sigmoid-796           [-1, 2304, 1, 1]               0\n",
      "SqueezeExcitation-797           [-1, 2304, 7, 7]               0\n",
      "          Conv2d-798            [-1, 384, 7, 7]         884,736\n",
      "     BatchNorm2d-799            [-1, 384, 7, 7]             768\n",
      " StochasticDepth-800            [-1, 384, 7, 7]               0\n",
      "          MBConv-801            [-1, 384, 7, 7]               0\n",
      "          Conv2d-802           [-1, 2304, 7, 7]         884,736\n",
      "     BatchNorm2d-803           [-1, 2304, 7, 7]           4,608\n",
      "            SiLU-804           [-1, 2304, 7, 7]               0\n",
      "          Conv2d-805           [-1, 2304, 7, 7]          20,736\n",
      "     BatchNorm2d-806           [-1, 2304, 7, 7]           4,608\n",
      "            SiLU-807           [-1, 2304, 7, 7]               0\n",
      "AdaptiveAvgPool2d-808           [-1, 2304, 1, 1]               0\n",
      "          Conv2d-809             [-1, 96, 1, 1]         221,280\n",
      "            SiLU-810             [-1, 96, 1, 1]               0\n",
      "          Conv2d-811           [-1, 2304, 1, 1]         223,488\n",
      "         Sigmoid-812           [-1, 2304, 1, 1]               0\n",
      "SqueezeExcitation-813           [-1, 2304, 7, 7]               0\n",
      "          Conv2d-814            [-1, 640, 7, 7]       1,474,560\n",
      "     BatchNorm2d-815            [-1, 640, 7, 7]           1,280\n",
      "          MBConv-816            [-1, 640, 7, 7]               0\n",
      "          Conv2d-817           [-1, 3840, 7, 7]       2,457,600\n",
      "     BatchNorm2d-818           [-1, 3840, 7, 7]           7,680\n",
      "            SiLU-819           [-1, 3840, 7, 7]               0\n",
      "          Conv2d-820           [-1, 3840, 7, 7]          34,560\n",
      "     BatchNorm2d-821           [-1, 3840, 7, 7]           7,680\n",
      "            SiLU-822           [-1, 3840, 7, 7]               0\n",
      "AdaptiveAvgPool2d-823           [-1, 3840, 1, 1]               0\n",
      "          Conv2d-824            [-1, 160, 1, 1]         614,560\n",
      "            SiLU-825            [-1, 160, 1, 1]               0\n",
      "          Conv2d-826           [-1, 3840, 1, 1]         618,240\n",
      "         Sigmoid-827           [-1, 3840, 1, 1]               0\n",
      "SqueezeExcitation-828           [-1, 3840, 7, 7]               0\n",
      "          Conv2d-829            [-1, 640, 7, 7]       2,457,600\n",
      "     BatchNorm2d-830            [-1, 640, 7, 7]           1,280\n",
      " StochasticDepth-831            [-1, 640, 7, 7]               0\n",
      "          MBConv-832            [-1, 640, 7, 7]               0\n",
      "          Conv2d-833           [-1, 3840, 7, 7]       2,457,600\n",
      "     BatchNorm2d-834           [-1, 3840, 7, 7]           7,680\n",
      "            SiLU-835           [-1, 3840, 7, 7]               0\n",
      "          Conv2d-836           [-1, 3840, 7, 7]          34,560\n",
      "     BatchNorm2d-837           [-1, 3840, 7, 7]           7,680\n",
      "            SiLU-838           [-1, 3840, 7, 7]               0\n",
      "AdaptiveAvgPool2d-839           [-1, 3840, 1, 1]               0\n",
      "          Conv2d-840            [-1, 160, 1, 1]         614,560\n",
      "            SiLU-841            [-1, 160, 1, 1]               0\n",
      "          Conv2d-842           [-1, 3840, 1, 1]         618,240\n",
      "         Sigmoid-843           [-1, 3840, 1, 1]               0\n",
      "SqueezeExcitation-844           [-1, 3840, 7, 7]               0\n",
      "          Conv2d-845            [-1, 640, 7, 7]       2,457,600\n",
      "     BatchNorm2d-846            [-1, 640, 7, 7]           1,280\n",
      " StochasticDepth-847            [-1, 640, 7, 7]               0\n",
      "          MBConv-848            [-1, 640, 7, 7]               0\n",
      "          Conv2d-849           [-1, 3840, 7, 7]       2,457,600\n",
      "     BatchNorm2d-850           [-1, 3840, 7, 7]           7,680\n",
      "            SiLU-851           [-1, 3840, 7, 7]               0\n",
      "          Conv2d-852           [-1, 3840, 7, 7]          34,560\n",
      "     BatchNorm2d-853           [-1, 3840, 7, 7]           7,680\n",
      "            SiLU-854           [-1, 3840, 7, 7]               0\n",
      "AdaptiveAvgPool2d-855           [-1, 3840, 1, 1]               0\n",
      "          Conv2d-856            [-1, 160, 1, 1]         614,560\n",
      "            SiLU-857            [-1, 160, 1, 1]               0\n",
      "          Conv2d-858           [-1, 3840, 1, 1]         618,240\n",
      "         Sigmoid-859           [-1, 3840, 1, 1]               0\n",
      "SqueezeExcitation-860           [-1, 3840, 7, 7]               0\n",
      "          Conv2d-861            [-1, 640, 7, 7]       2,457,600\n",
      "     BatchNorm2d-862            [-1, 640, 7, 7]           1,280\n",
      " StochasticDepth-863            [-1, 640, 7, 7]               0\n",
      "          MBConv-864            [-1, 640, 7, 7]               0\n",
      "          Conv2d-865           [-1, 2560, 7, 7]       1,638,400\n",
      "     BatchNorm2d-866           [-1, 2560, 7, 7]           5,120\n",
      "            SiLU-867           [-1, 2560, 7, 7]               0\n",
      "AdaptiveAvgPool2d-868           [-1, 2560, 1, 1]               0\n",
      "         Dropout-869                 [-1, 2560]               0\n",
      "          Linear-870                 [-1, 1000]       2,561,000\n",
      "================================================================\n",
      "Total params: 66,347,960\n",
      "Trainable params: 66,347,960\n",
      "Non-trainable params: 0\n",
      "----------------------------------------------------------------\n",
      "Input size (MB): 0.57\n",
      "Forward/backward pass size (MB): 1073.57\n",
      "Params size (MB): 253.10\n",
      "Estimated Total Size (MB): 1327.25\n",
      "----------------------------------------------------------------\n"
     ]
    }
   ],
   "source": [
    "summary(model.to(device), (3, 224, 224))"
   ]
  },
  {
   "cell_type": "markdown",
   "metadata": {},
   "source": [
    "# Referencias\n",
    "\n",
    "- [Guía de diseño](https://d2l.ai/chapter_convolutional-modern/cnn-design.html) de redes neuronales convolucionales\n",
    "- [Stanford CS231n](https://cs231n.github.io/convolutional-networks/): redes neuronales convolucionales\n",
    "- Comparativa de velocidad [Pytorch 2.0 vs 1.x](https://pytorch.org/tutorials/intermediate/torch_compile_tutorial.html#demonstrating-speedups)"
   ]
  }
 ],
 "metadata": {
  "colab": {
   "toc_visible": true
  },
  "kernelspec": {
   "display_name": "Python 3 (ipykernel)",
   "language": "python",
   "name": "python3"
  },
  "language_info": {
   "codemirror_mode": {
    "name": "ipython",
    "version": 3
   },
   "file_extension": ".py",
   "mimetype": "text/x-python",
   "name": "python",
   "nbconvert_exporter": "python",
   "pygments_lexer": "ipython3",
   "version": "3.10.12"
  },
  "orig_nbformat": 4
 },
 "nbformat": 4,
 "nbformat_minor": 4
}
