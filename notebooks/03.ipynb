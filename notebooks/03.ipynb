{
  "cells": [
    {
      "cell_type": "markdown",
      "metadata": {
        "id": "DESRjwwltfHJ"
      },
      "source": [
        "# Sesión 3. Deep Learning"
      ]
    },
    {
      "cell_type": "markdown",
      "metadata": {
        "id": "dk_IqzYkC8sU"
      },
      "source": [
        "Entrenamiento de red neuronal en navegador:\n",
        "\n",
        "https://playground.tensorflow.org/"
      ]
    },
    {
      "cell_type": "code",
      "execution_count": null,
      "metadata": {
        "id": "yUPp9Q46CNzm"
      },
      "outputs": [],
      "source": [
        "!pip install --upgrade -q gspread"
      ]
    },
    {
      "cell_type": "code",
      "execution_count": null,
      "metadata": {
        "id": "epbZLt0x-uaW"
      },
      "outputs": [],
      "source": [
        "import gspread\n",
        "from google.colab import auth\n",
        "auth.authenticate_user()\n",
        "from google.auth import default"
      ]
    },
    {
      "cell_type": "code",
      "execution_count": null,
      "metadata": {
        "id": "NRXSQQ6a-2-m"
      },
      "outputs": [],
      "source": [
        "creds, _ = default()\n",
        "gc = gspread.authorize(creds)"
      ]
    },
    {
      "cell_type": "code",
      "execution_count": null,
      "metadata": {
        "id": "dAZ-u1NgxIKP"
      },
      "outputs": [],
      "source": [
        "url = #\n",
        "worksheet = gc.open_by_url(url)\n",
        "row = 4"
      ]
    },
    {
      "cell_type": "code",
      "execution_count": null,
      "metadata": {
        "id": "tnqg-YeiCEzu"
      },
      "outputs": [],
      "source": [
        "col = 3\n",
        "value = 'X'\n",
        "worksheet.get_worksheet(1).update_cell(row, col, value);"
      ]
    },
    {
      "cell_type": "markdown",
      "metadata": {
        "id": "GSoJG-HJUfkt"
      },
      "source": [
        "# CNN clásicas"
      ]
    },
    {
      "cell_type": "code",
      "execution_count": null,
      "metadata": {
        "id": "FubrL8Ry_3qX"
      },
      "outputs": [],
      "source": [
        "! pip install -q wandb torchmetrics torchsummary"
      ]
    },
    {
      "cell_type": "code",
      "execution_count": null,
      "metadata": {
        "id": "Itw6aCoQomK6"
      },
      "outputs": [],
      "source": [
        "import torch\n",
        "import matplotlib\n",
        "import matplotlib.pyplot as plt\n",
        "import numpy as np\n",
        "import torch.nn.functional as F\n",
        "import torchvision\n",
        "import torchmetrics\n",
        "import wandb\n",
        "from torch import nn\n",
        "from torchsummary import summary\n",
        "from tqdm.auto import tqdm"
      ]
    },
    {
      "cell_type": "markdown",
      "metadata": {
        "id": "haElbQFqe-wY"
      },
      "source": [
        "## Operación de convolución"
      ]
    },
    {
      "cell_type": "markdown",
      "metadata": {
        "id": "6iGTWfbZ34Tm"
      },
      "source": [
        "$$(f * g)(\\mathbf{x}) = \\int f(\\mathbf{z}) g(\\mathbf{x}-\\mathbf{z}) d\\mathbf{z}.$$"
      ]
    },
    {
      "cell_type": "code",
      "execution_count": null,
      "metadata": {
        "colab": {
          "base_uri": "https://localhost:8080/"
        },
        "id": "tmZoJ4-ge95o",
        "outputId": "a9f997a2-3a95-4abe-d2e0-69e2a7a7a5ba"
      },
      "outputs": [
        {
          "data": {
            "text/plain": [
              "tensor([[0, 1, 2],\n",
              "        [3, 4, 5],\n",
              "        [6, 7, 8]])"
            ]
          },
          "execution_count": 10,
          "metadata": {},
          "output_type": "execute_result"
        }
      ],
      "source": [
        "a = torch.arange(0, 9).reshape(3, 3)\n",
        "a"
      ]
    },
    {
      "cell_type": "code",
      "execution_count": null,
      "metadata": {
        "colab": {
          "base_uri": "https://localhost:8080/"
        },
        "id": "Z80Kx_bfw2RR",
        "outputId": "f262cbd3-b46c-4493-8bd2-7f0ad92eb7a3"
      },
      "outputs": [
        {
          "data": {
            "text/plain": [
              "tensor([[0, 1],\n",
              "        [2, 3]])"
            ]
          },
          "execution_count": 11,
          "metadata": {},
          "output_type": "execute_result"
        }
      ],
      "source": [
        "kernel = torch.arange(0, 4).reshape(2, 2)\n",
        "kernel"
      ]
    },
    {
      "cell_type": "markdown",
      "metadata": {},
      "source": [
        "<img src=\"https://raw.githubusercontent.com/ramajoballester/UC3M-PIC/main/data/content/correlation.svg\"\n",
        "    width=\"50%\" style=\"background-color:white; display:block; margin-left:auto; margin-right:auto;\">"
      ]
    },
    {
      "cell_type": "code",
      "execution_count": null,
      "metadata": {
        "colab": {
          "base_uri": "https://localhost:8080/"
        },
        "id": "ZAJaI37uh4VP",
        "outputId": "106094e5-4ccd-489c-c305-6defba788ab2"
      },
      "outputs": [
        {
          "data": {
            "text/plain": [
              "19"
            ]
          },
          "execution_count": 12,
          "metadata": {},
          "output_type": "execute_result"
        }
      ],
      "source": [
        "0*0 + 1*1 + 3*2 + 4*3"
      ]
    },
    {
      "cell_type": "code",
      "execution_count": null,
      "metadata": {
        "colab": {
          "base_uri": "https://localhost:8080/"
        },
        "id": "blPLrQF7K4f1",
        "outputId": "d4fc5827-f8eb-44d8-beb5-55e393130c08"
      },
      "outputs": [
        {
          "data": {
            "text/plain": [
              "tensor([[[[19, 25],\n",
              "          [37, 43]]]])"
            ]
          },
          "execution_count": 15,
          "metadata": {},
          "output_type": "execute_result"
        }
      ],
      "source": [
        "F.conv2d(a.view(1, 1, a.shape[0], a.shape[1]), kernel.view(1, 1, kernel.shape[0], kernel.shape[1]))"
      ]
    },
    {
      "cell_type": "code",
      "execution_count": null,
      "metadata": {
        "colab": {
          "base_uri": "https://localhost:8080/"
        },
        "id": "BmdlMaM6Ov1l",
        "outputId": "80f51944-0d81-4cd3-957e-9a0f9bce3146"
      },
      "outputs": [
        {
          "data": {
            "text/plain": [
              "torch.Size([1, 1, 3, 3])"
            ]
          },
          "execution_count": 16,
          "metadata": {},
          "output_type": "execute_result"
        }
      ],
      "source": [
        "a.reshape((1, 1, 3, 3)).shape"
      ]
    },
    {
      "cell_type": "markdown",
      "metadata": {
        "id": "4y2ol_onR72l"
      },
      "source": [
        "## Detección de bordes"
      ]
    },
    {
      "cell_type": "markdown",
      "metadata": {
        "id": "wBza9CZlacdt"
      },
      "source": [
        "Verticales"
      ]
    },
    {
      "cell_type": "code",
      "execution_count": null,
      "metadata": {
        "colab": {
          "base_uri": "https://localhost:8080/"
        },
        "id": "S5farhXpT9uM",
        "outputId": "8bc98a5d-4bc6-4da5-943b-94cb40986cfb"
      },
      "outputs": [
        {
          "data": {
            "text/plain": [
              "tensor([[1., 1., 0., 0., 0., 0., 1., 1.],\n",
              "        [1., 1., 0., 0., 0., 0., 1., 1.],\n",
              "        [1., 1., 0., 0., 0., 0., 1., 1.],\n",
              "        [1., 1., 0., 0., 0., 0., 1., 1.],\n",
              "        [1., 1., 0., 0., 0., 0., 1., 1.],\n",
              "        [1., 1., 0., 0., 0., 0., 1., 1.]])"
            ]
          },
          "execution_count": 7,
          "metadata": {},
          "output_type": "execute_result"
        }
      ],
      "source": [
        "x = torch.ones((6, 8))\n",
        "x[:, 2:6] = 0\n",
        "x"
      ]
    },
    {
      "cell_type": "code",
      "execution_count": null,
      "metadata": {
        "colab": {
          "base_uri": "https://localhost:8080/"
        },
        "id": "Ucje_Z0SUpw8",
        "outputId": "6d3e68d0-06ec-4a43-81f4-87a24afa04fd"
      },
      "outputs": [
        {
          "data": {
            "text/plain": [
              "tensor([[ 1., -1.]])"
            ]
          },
          "execution_count": 8,
          "metadata": {},
          "output_type": "execute_result"
        }
      ],
      "source": [
        "kernel_v = torch.tensor([[1.0, -1.0]])\n",
        "kernel_v"
      ]
    },
    {
      "cell_type": "code",
      "execution_count": null,
      "metadata": {
        "colab": {
          "base_uri": "https://localhost:8080/"
        },
        "id": "gG2vJcsQUzcN",
        "outputId": "c2f6291b-4536-4647-aa25-4f456c0d7399"
      },
      "outputs": [
        {
          "data": {
            "text/plain": [
              "tensor([[[[ 0.,  1.,  0.,  0.,  0., -1.,  0.],\n",
              "          [ 0.,  1.,  0.,  0.,  0., -1.,  0.],\n",
              "          [ 0.,  1.,  0.,  0.,  0., -1.,  0.],\n",
              "          [ 0.,  1.,  0.,  0.,  0., -1.,  0.],\n",
              "          [ 0.,  1.,  0.,  0.,  0., -1.,  0.],\n",
              "          [ 0.,  1.,  0.,  0.,  0., -1.,  0.]]]])"
            ]
          },
          "execution_count": 9,
          "metadata": {},
          "output_type": "execute_result"
        }
      ],
      "source": [
        "F.conv2d(x.view(1, 1, x.shape[0], x.shape[1]), kernel_v.view(1, 1, kernel_v.shape[0], kernel_v.shape[1]))"
      ]
    },
    {
      "cell_type": "markdown",
      "metadata": {
        "id": "GNZJKFk1aeaU"
      },
      "source": [
        "Horizontales"
      ]
    },
    {
      "cell_type": "code",
      "execution_count": null,
      "metadata": {
        "colab": {
          "base_uri": "https://localhost:8080/"
        },
        "id": "DL9RU0-nYHi2",
        "outputId": "cdb10c83-7860-42b1-f2b8-a08ded49eb27"
      },
      "outputs": [
        {
          "data": {
            "text/plain": [
              "tensor([[ 1.],\n",
              "        [-1.]])"
            ]
          },
          "execution_count": 10,
          "metadata": {},
          "output_type": "execute_result"
        }
      ],
      "source": [
        "kernel_h = torch.tensor([[1.0],  [-1.0]])\n",
        "kernel_h"
      ]
    },
    {
      "cell_type": "code",
      "execution_count": null,
      "metadata": {
        "colab": {
          "base_uri": "https://localhost:8080/"
        },
        "id": "rNRPkNjEKv1r",
        "outputId": "b566e15a-dcc5-4a58-9faf-e05ed6f40673"
      },
      "outputs": [
        {
          "data": {
            "text/plain": [
              "tensor([[[[ 0.,  0.,  0.,  0.,  0.,  0.],\n",
              "          [ 1.,  1.,  1.,  1.,  1.,  1.],\n",
              "          [ 0.,  0.,  0.,  0.,  0.,  0.],\n",
              "          [ 0.,  0.,  0.,  0.,  0.,  0.],\n",
              "          [ 0.,  0.,  0.,  0.,  0.,  0.],\n",
              "          [-1., -1., -1., -1., -1., -1.],\n",
              "          [ 0.,  0.,  0.,  0.,  0.,  0.]]]])"
            ]
          },
          "execution_count": 11,
          "metadata": {},
          "output_type": "execute_result"
        }
      ],
      "source": [
        "x_transp = x.T\n",
        "F.conv2d(x_transp.view(1, 1, x_transp.shape[0], x_transp.shape[1]), kernel_h.view(1, 1, kernel_h.shape[0], kernel_h.shape[1]))"
      ]
    },
    {
      "cell_type": "markdown",
      "metadata": {
        "id": "cnaqiq0Tahit"
      },
      "source": [
        "Diagonales"
      ]
    },
    {
      "cell_type": "code",
      "execution_count": null,
      "metadata": {
        "colab": {
          "base_uri": "https://localhost:8080/"
        },
        "id": "hSPGoQRbayvM",
        "outputId": "abb91239-0897-4a94-d504-059789f7cae1"
      },
      "outputs": [
        {
          "data": {
            "text/plain": [
              "tensor([[1., 0., 0., 0., 0., 0.],\n",
              "        [0., 1., 0., 0., 0., 0.],\n",
              "        [0., 0., 1., 0., 0., 0.],\n",
              "        [0., 0., 0., 1., 0., 0.],\n",
              "        [0., 0., 0., 0., 1., 0.],\n",
              "        [0., 0., 0., 0., 0., 1.]])"
            ]
          },
          "execution_count": 12,
          "metadata": {},
          "output_type": "execute_result"
        }
      ],
      "source": [
        "x_ident = torch.eye(6)\n",
        "x_ident"
      ]
    },
    {
      "cell_type": "code",
      "execution_count": null,
      "metadata": {
        "colab": {
          "base_uri": "https://localhost:8080/"
        },
        "id": "2k9GrutBa_MN",
        "outputId": "6c7ed471-db4e-4734-dd99-a3778540d3e2"
      },
      "outputs": [
        {
          "data": {
            "text/plain": [
              "tensor([[ 0.,  1.],\n",
              "        [-1.,  0.]])"
            ]
          },
          "execution_count": 13,
          "metadata": {},
          "output_type": "execute_result"
        }
      ],
      "source": [
        "kernel_d = torch.Tensor([[0, 1], [-1, 0]])\n",
        "kernel_d"
      ]
    },
    {
      "cell_type": "code",
      "execution_count": null,
      "metadata": {
        "colab": {
          "base_uri": "https://localhost:8080/"
        },
        "id": "qAMlwyR9bNyM",
        "outputId": "0aa3e33a-3ed0-4803-dc3a-916a1653122a"
      },
      "outputs": [
        {
          "data": {
            "text/plain": [
              "tensor([[[[ 0., -1.,  0.,  0.,  0.],\n",
              "          [ 1.,  0., -1.,  0.,  0.],\n",
              "          [ 0.,  1.,  0., -1.,  0.],\n",
              "          [ 0.,  0.,  1.,  0., -1.],\n",
              "          [ 0.,  0.,  0.,  1.,  0.]]]])"
            ]
          },
          "execution_count": 14,
          "metadata": {},
          "output_type": "execute_result"
        }
      ],
      "source": [
        "F.conv2d(x_ident.view(1, 1, x_ident.shape[0], x_ident.shape[1]), kernel_d.view(1, 1, kernel_d.shape[0], kernel_d.shape[1]))"
      ]
    },
    {
      "cell_type": "code",
      "execution_count": null,
      "metadata": {
        "colab": {
          "base_uri": "https://localhost:8080/",
          "height": 84,
          "referenced_widgets": [
            "8a6effae511549efb064aa06b517d29b",
            "28d5eeb23c1647c3a3dde26d2c48b001",
            "bc003d06c1624235abfd06a49e9b3601",
            "12edef14f4594c92a6502e6e840aaa3b",
            "088fe7d5bf00471aa95ce5b0f8f36cd5",
            "3643c1902cdf40a481b1a5c7ba080280",
            "9a92d38049104a6a8862de733ac3438d",
            "8a477ab3c2bc42258e93d5c78d67d91a",
            "777f0e35908d4d44b8ded3cecb50d0ac",
            "eaee232b52874080bf9b6f733093ea22",
            "4de0a680e727430eacf0baed5ea7e7e1"
          ]
        },
        "id": "XcjLXejMR-AU",
        "outputId": "927ded24-8190-4b26-b8ce-60381317f566"
      },
      "outputs": [
        {
          "name": "stdout",
          "output_type": "stream",
          "text": [
            "Downloading https://www.itl.nist.gov/iaui/vip/cs_links/EMNIST/gzip.zip to data/EMNIST/raw/gzip.zip\n"
          ]
        },
        {
          "data": {
            "application/vnd.jupyter.widget-view+json": {
              "model_id": "8a6effae511549efb064aa06b517d29b",
              "version_major": 2,
              "version_minor": 0
            },
            "text/plain": [
              "  0%|          | 0/561753746 [00:00<?, ?it/s]"
            ]
          },
          "metadata": {},
          "output_type": "display_data"
        },
        {
          "name": "stdout",
          "output_type": "stream",
          "text": [
            "Extracting data/EMNIST/raw/gzip.zip to data/EMNIST/raw\n"
          ]
        }
      ],
      "source": [
        "batch_size = 256\n",
        "\n",
        "transf = torchvision.transforms.Compose([\n",
        "    lambda img: torchvision.transforms.functional.rotate(img, -90),\n",
        "    lambda img: torchvision.transforms.functional.hflip(img),\n",
        "    torchvision.transforms.ToTensor()\n",
        "])\n",
        "\n",
        "emnist_train = torchvision.datasets.EMNIST(\n",
        "    root=\"data\", split='balanced', train=True, transform=transf, download=True)\n",
        "emnist_test = torchvision.datasets.EMNIST(\n",
        "    root=\"data\", split='balanced', train=False, transform=transf, download=True)\n",
        "\n",
        "train_dataloader = torch.utils.data.DataLoader(emnist_train, batch_size,\n",
        "                                               shuffle=True, num_workers=1)\n",
        "test_dataloader = torch.utils.data.DataLoader(emnist_test, batch_size,\n",
        "                                               shuffle=False, num_workers=1)\n",
        "\n",
        "labels = '0123456789ABCDEFGHIJKLMNOPQRSTUVWXYZabdefghnqrt'"
      ]
    },
    {
      "cell_type": "code",
      "execution_count": null,
      "metadata": {
        "id": "mqhNLAXxT8Zd"
      },
      "outputs": [],
      "source": [
        "x_train, y_train = next(iter(train_dataloader))"
      ]
    },
    {
      "cell_type": "code",
      "execution_count": null,
      "metadata": {
        "colab": {
          "base_uri": "https://localhost:8080/",
          "height": 282
        },
        "id": "yybxAttLXm4t",
        "outputId": "522cb423-4408-4f08-d87c-46550ccc48e9"
      },
      "outputs": [
        {
          "data": {
            "text/plain": [
              "<matplotlib.image.AxesImage at 0x7f43121a0650>"
            ]
          },
          "execution_count": 16,
          "metadata": {},
          "output_type": "execute_result"
        },
        {
          "data": {
            "image/png": "[encoded data removed]",
            "text/plain": [
              "<Figure size 432x288 with 1 Axes>"
            ]
          },
          "metadata": {
            "needs_background": "light"
          },
          "output_type": "display_data"
        }
      ],
      "source": [
        "plt.imshow(x_train[2, 0])"
      ]
    },
    {
      "cell_type": "code",
      "execution_count": null,
      "metadata": {
        "colab": {
          "base_uri": "https://localhost:8080/",
          "height": 282
        },
        "id": "YOhFKW_5brZ9",
        "outputId": "b737db38-4ca5-4eb8-effc-6568d9f96e34"
      },
      "outputs": [
        {
          "data": {
            "text/plain": [
              "<matplotlib.image.AxesImage at 0x7f431249afd0>"
            ]
          },
          "execution_count": 17,
          "metadata": {},
          "output_type": "execute_result"
        },
        {
          "data": {
            "image/png": "[encoded data removed]",
            "text/plain": [
              "<Figure size 432x288 with 1 Axes>"
            ]
          },
          "metadata": {
            "needs_background": "light"
          },
          "output_type": "display_data"
        }
      ],
      "source": [
        "img = F.conv2d(x_train[2, 0].view(1, 1, x_train[2, 0].shape[0], x_train[2, 0].shape[1]),\n",
        "               kernel_v.view(1, 1, kernel_v.shape[0], kernel_v.shape[1]))\n",
        "plt.imshow(img[0, 0])"
      ]
    },
    {
      "cell_type": "markdown",
      "metadata": {
        "id": "dG8cM96QXqsh"
      },
      "source": [
        "Trabajo individual: probar con diferentes valores del kernel\n",
        "Trabajo individual: probar detectar la punta superior de las letras"
      ]
    },
    {
      "cell_type": "markdown",
      "metadata": {
        "id": "UYuOyB2D1_9P"
      },
      "source": [
        "## Entrenamiento del kernel"
      ]
    },
    {
      "cell_type": "code",
      "execution_count": null,
      "metadata": {
        "id": "OIMgnONkVHg5"
      },
      "outputs": [],
      "source": [
        "def train(model, dataloader, optimizer, loss_fn, device):\n",
        "    train_loss = 0\n",
        "    for x, y in dataloader:\n",
        "        x, y = x.to(device), y.to(device)\n",
        "        optimizer.zero_grad()\n",
        "        y_pred = model(x)\n",
        "        loss = loss_fn(y_pred, y)\n",
        "        loss.backward()\n",
        "        train_loss += loss.sum()\n",
        "        optimizer.step()\n",
        "    \n",
        "    return train_loss"
      ]
    },
    {
      "cell_type": "code",
      "execution_count": null,
      "metadata": {
        "id": "70OL2GHuVHg6"
      },
      "outputs": [],
      "source": [
        "def test(model, dataloader, metrics_fn, loss_fn, device):\n",
        "    with torch.no_grad():\n",
        "        metrics_fn.reset()\n",
        "        test_loss = 0\n",
        "        for x, y in dataloader:\n",
        "            x, y = x.to(device), y.to(device)\n",
        "            y_pred = model(x)\n",
        "            loss = loss_fn(y_pred, y)\n",
        "            test_loss += loss.sum()\n",
        "            metrics = metrics_fn(y_pred, y)\n",
        "        metrics = metrics_fn.compute()\n",
        "    \n",
        "    return test_loss, metrics"
      ]
    },
    {
      "cell_type": "code",
      "execution_count": null,
      "metadata": {
        "id": "CdzLhYF8xRa6"
      },
      "outputs": [],
      "source": [
        "class ConvModel(nn.Module):\n",
        "    '''\n",
        "    Modelo Capas Convolucionales\n",
        "    '''\n",
        "    def __init__(self):\n",
        "        super().__init__()\n",
        "        self.conv1 = nn.Conv2d(1, 16, 5)\n",
        "        self.conv2 = nn.Conv2d(16, 64, 5)\n",
        "        self.conv3 = nn.Conv2d(64, 8, 5)\n",
        "        self.flat = nn.Flatten()\n",
        "        self.linear = nn.Linear(8*16*16, 47)\n",
        "\n",
        "    def forward(self, x):\n",
        "        x = F.relu(self.conv1(x))\n",
        "        x = F.relu(self.conv2(x))\n",
        "        x = F.relu(self.conv3(x))\n",
        "        x = self.flat(x)\n",
        "        x = self.linear(x)\n",
        "\n",
        "        return x"
      ]
    },
    {
      "cell_type": "code",
      "execution_count": null,
      "metadata": {
        "id": "svuanyp6PiWn"
      },
      "outputs": [],
      "source": [
        "batch_size = 64\n",
        "\n",
        "transf = torchvision.transforms.Compose([\n",
        "    torchvision.transforms.ToTensor()\n",
        "])\n",
        "\n",
        "emnist_train = torchvision.datasets.FashionMNIST(\n",
        "    root=\"data\", train=True, transform=transf, download=True)\n",
        "emnist_test = torchvision.datasets.FashionMNIST(\n",
        "    root=\"data\", train=False, transform=transf, download=True)\n",
        "\n",
        "train_dataloader = torch.utils.data.DataLoader(emnist_train, batch_size,\n",
        "                                               shuffle=True)\n",
        "test_dataloader = torch.utils.data.DataLoader(emnist_test, batch_size,\n",
        "                                               shuffle=False)\n",
        "\n",
        "labels = ['t-shirt', 'trouser', 'pullover', 'dress', 'coat',\n",
        "          'sandal', 'shirt', 'sneaker', 'bag', 'ankle boot']"
      ]
    },
    {
      "cell_type": "code",
      "execution_count": null,
      "metadata": {
        "colab": {
          "base_uri": "https://localhost:8080/",
          "height": 628,
          "referenced_widgets": [
            "d75e05b259874a17a913e4c31c7ca122",
            "9119c73e52e2483caa5037b6be8b9352",
            "31625aa9465c4e6c929a34363478a506",
            "3e9fb2541d87435090fc99b7a557042c",
            "4458b4a9a1c4401eb3ebfe4f2baf2882",
            "5d517c85dcee4df49bf9f7ec2580c658",
            "0768f7b234e048b0acbf4a5a26a3b6fd",
            "a0ab5ad0dde7438da7406524ac21a857"
          ]
        },
        "id": "m4gzmKZpfOIn",
        "outputId": "27213a62-6649-416b-82ea-5d99e0be4982"
      },
      "outputs": [
        {
          "data": {
            "text/html": [
              "Tracking run with wandb version 0.12.19"
            ],
            "text/plain": [
              "<IPython.core.display.HTML object>"
            ]
          },
          "metadata": {},
          "output_type": "display_data"
        },
        {
          "data": {
            "text/html": [
              "Run data is saved locally in <code>/content/wandb/run-20220628_181200-2d2np4tx</code>"
            ],
            "text/plain": [
              "<IPython.core.display.HTML object>"
            ]
          },
          "metadata": {},
          "output_type": "display_data"
        },
        {
          "data": {
            "text/html": [
              "Syncing run <strong><a href=\"https://wandb.ai/mil-madrid/Sesi%C3%B3n%202/runs/2d2np4tx\" target=\"_blank\">Redes convolucionales</a></strong> to <a href=\"https://wandb.ai/mil-madrid/Sesi%C3%B3n%202\" target=\"_blank\">Weights & Biases</a> (<a href=\"https://wandb.me/run\" target=\"_blank\">docs</a>)<br/>"
            ],
            "text/plain": [
              "<IPython.core.display.HTML object>"
            ]
          },
          "metadata": {},
          "output_type": "display_data"
        },
        {
          "name": "stdout",
          "output_type": "stream",
          "text": [
            "Epoch 0, Precisión (train): 0.8420, Loss (train): 0.4445\n",
            "Epoch 0, Precisión (test): 0.8295, Loss (test): 0.4780\n",
            " \n",
            "Epoch 1, Precisión (train): 0.8487, Loss (train): 0.4158\n",
            "Epoch 1, Precisión (test): 0.8359, Loss (test): 0.4581\n",
            " \n",
            "Epoch 2, Precisión (train): 0.8508, Loss (train): 0.4187\n",
            "Epoch 2, Precisión (test): 0.8390, Loss (test): 0.4602\n",
            " \n",
            "Epoch 3, Precisión (train): 0.8554, Loss (train): 0.3927\n",
            "Epoch 3, Precisión (test): 0.8398, Loss (test): 0.4412\n",
            " \n",
            "Epoch 4, Precisión (train): 0.8589, Loss (train): 0.3914\n",
            "Epoch 4, Precisión (test): 0.8452, Loss (test): 0.4425\n",
            " \n"
          ]
        },
        {
          "data": {
            "text/html": [
              "Waiting for W&B process to finish... <strong style=\"color:green\">(success).</strong>"
            ],
            "text/plain": [
              "<IPython.core.display.HTML object>"
            ]
          },
          "metadata": {},
          "output_type": "display_data"
        },
        {
          "data": {
            "application/vnd.jupyter.widget-view+json": {
              "model_id": "d75e05b259874a17a913e4c31c7ca122",
              "version_major": 2,
              "version_minor": 0
            },
            "text/plain": [
              "VBox(children=(Label(value='0.001 MB of 0.001 MB uploaded (0.000 MB deduped)\\r'), FloatProgress(value=1.0, max…"
            ]
          },
          "metadata": {},
          "output_type": "display_data"
        },
        {
          "data": {
            "text/html": [
              "<style>\n",
              "    table.wandb td:nth-child(1) { padding: 0 10px; text-align: left ; width: auto;} td:nth-child(2) {text-align: left ; width: 100%}\n",
              "    .wandb-row { display: flex; flex-direction: row; flex-wrap: wrap; justify-content: flex-start; width: 100% }\n",
              "    .wandb-col { display: flex; flex-direction: column; flex-basis: 100%; flex: 1; padding: 10px; }\n",
              "    </style>\n",
              "<div class=\"wandb-row\"><div class=\"wandb-col\"><h3>Run history:</h3><br/><table class=\"wandb\"><tr><td>Test accuracy</td><td>▁▄▅▆█</td></tr><tr><td>Test loss</td><td>█▄▅▁▁</td></tr><tr><td>Train accuracy</td><td>▁▄▅▇█</td></tr><tr><td>Train loss</td><td>█▄▅▁▁</td></tr></table><br/></div><div class=\"wandb-col\"><h3>Run summary:</h3><br/><table class=\"wandb\"><tr><td>Test accuracy</td><td>0.8452</td></tr><tr><td>Test loss</td><td>0.44254</td></tr><tr><td>Train accuracy</td><td>0.8589</td></tr><tr><td>Train loss</td><td>0.39143</td></tr></table><br/></div></div>"
            ],
            "text/plain": [
              "<IPython.core.display.HTML object>"
            ]
          },
          "metadata": {},
          "output_type": "display_data"
        },
        {
          "data": {
            "text/html": [
              "Synced <strong style=\"color:#cdcd00\">Redes convolucionales</strong>: <a href=\"https://wandb.ai/mil-madrid/Sesi%C3%B3n%202/runs/2d2np4tx\" target=\"_blank\">https://wandb.ai/mil-madrid/Sesi%C3%B3n%202/runs/2d2np4tx</a><br/>Synced 5 W&B file(s), 0 media file(s), 0 artifact file(s) and 0 other file(s)"
            ],
            "text/plain": [
              "<IPython.core.display.HTML object>"
            ]
          },
          "metadata": {},
          "output_type": "display_data"
        },
        {
          "data": {
            "text/html": [
              "Find logs at: <code>./wandb/run-20220628_181200-2d2np4tx/logs</code>"
            ],
            "text/plain": [
              "<IPython.core.display.HTML object>"
            ]
          },
          "metadata": {},
          "output_type": "display_data"
        }
      ],
      "source": [
        "device = torch.device('cuda' if torch.cuda.is_available() else 'cpu')\n",
        "# device = torch.device('cpu')\n",
        "model = ConvModel().to(device)\n",
        "\n",
        "lr = 1e-2\n",
        "\n",
        "# Función de pérdida\n",
        "loss_fn = nn.CrossEntropyLoss()\n",
        "# Optimizador\n",
        "optimizer = torch.optim.Adam(model.parameters(), lr=lr)\n",
        "# Métrica de evaluación\n",
        "metrics_fn = torchmetrics.Accuracy().to(device)\n",
        "# Número de epochs\n",
        "n_epochs = 5\n",
        "\n",
        "config = {\n",
        "  \"learning_rate\":lr,\n",
        "  \"epochs\": n_epochs,\n",
        "  \"batch_size\": batch_size,\n",
        "  'optimizer': optimizer.__class__.__name__\n",
        "}\n",
        "wandb.init(project=\"Sesión 2\", name='Redes convolucionales', config=config);\n",
        "\n",
        "\n",
        "best_accuracy = 0\n",
        "for epoch in range(n_epochs):\n",
        "    _ = train(model, train_dataloader, optimizer, loss_fn, device)\n",
        "    train_loss, train_metrics = test(model, train_dataloader, metrics_fn, loss_fn, device)\n",
        "    wandb.log({\"Train loss\": train_loss/len(train_dataloader)}, step=epoch)\n",
        "    wandb.log({\"Train accuracy\": train_metrics}, step=epoch)\n",
        "\n",
        "    print('Epoch {}, Precisión (train): {:.4f}, Loss (train): {:.4f}'.format(epoch,\n",
        "                                                        train_metrics,\n",
        "                                                        train_loss/len(train_dataloader)))\n",
        "        \n",
        "    test_loss, test_metrics = test(model, test_dataloader, metrics_fn, loss_fn, device)\n",
        "    wandb.log({\"Test loss\": test_loss/len(test_dataloader)}, step=epoch)\n",
        "    wandb.log({\"Test accuracy\": test_metrics}, step=epoch)\n",
        "\n",
        "    print('Epoch {}, Precisión (test): {:.4f}, Loss (test): {:.4f}'.format(epoch,\n",
        "                                                        test_metrics,\n",
        "                                                        test_loss/len(test_dataloader)))\n",
        "    \n",
        "    if test_metrics < best_accuracy:\n",
        "        best_accuracy = test_metrics\n",
        "\n",
        "    print(' ')\n",
        "\n",
        "wandb.finish()"
      ]
    },
    {
      "cell_type": "code",
      "execution_count": null,
      "metadata": {
        "id": "NQmxQxpfa_hv"
      },
      "outputs": [],
      "source": [
        "col = 5\n",
        "value = best_accuracy\n",
        "worksheet.get_worksheet(1).update_cell(row, col, float(value));"
      ]
    },
    {
      "cell_type": "markdown",
      "metadata": {
        "id": "BZW7pCv3Y7IE"
      },
      "source": [
        "## Optimización del entrenamiento"
      ]
    },
    {
      "cell_type": "markdown",
      "metadata": {
        "id": "DpP_AnaqY_e1"
      },
      "source": [
        "- GPU\n",
        "- num_workers\n",
        "- batch_size"
      ]
    },
    {
      "cell_type": "code",
      "execution_count": null,
      "metadata": {
        "id": "Yr800wvMZJXt"
      },
      "outputs": [],
      "source": [
        "batch_size = 256\n",
        "\n",
        "transf = torchvision.transforms.Compose([\n",
        "    lambda img: torchvision.transforms.functional.rotate(img, -90),\n",
        "    lambda img: torchvision.transforms.functional.hflip(img),\n",
        "    torchvision.transforms.ToTensor()\n",
        "])\n",
        "\n",
        "emnist_train = torchvision.datasets.EMNIST(\n",
        "    root=\"data\", split='balanced', train=True, transform=transf, download=True)\n",
        "emnist_test = torchvision.datasets.EMNIST(\n",
        "    root=\"data\", split='balanced', train=False, transform=transf, download=True)\n",
        "\n",
        "train_dataloader = torch.utils.data.DataLoader(emnist_train, batch_size,\n",
        "                                               shuffle=True, num_workers=1,\n",
        "                                               pin_memory=True)\n",
        "test_dataloader = torch.utils.data.DataLoader(emnist_test, batch_size,\n",
        "                                              shuffle=False, num_workers=1,\n",
        "                                              pin_memory=True)\n",
        "\n",
        "labels = '0123456789ABCDEFGHIJKLMNOPQRSTUVWXYZabdefghnqrt'"
      ]
    },
    {
      "cell_type": "markdown",
      "metadata": {
        "id": "woSEiIgPteHf"
      },
      "source": [
        "### CPU"
      ]
    },
    {
      "cell_type": "code",
      "execution_count": null,
      "metadata": {
        "colab": {
          "base_uri": "https://localhost:8080/"
        },
        "id": "ZZYLP54dZN88",
        "outputId": "1ddd4afe-838d-4b42-9294-a9c75ce70a73"
      },
      "outputs": [
        {
          "name": "stdout",
          "output_type": "stream",
          "text": [
            "1 loop, best of 1: 3min 21s per loop\n"
          ]
        }
      ],
      "source": [
        "%%timeit -n 1 -r 1\n",
        "# batch_size = 16, num_workers = 1\n",
        "for x, y in train_dataloader:\n",
        "    x, y = x.to(device), y.to(device)\n",
        "    optimizer.zero_grad()\n",
        "    y_pred = model(x)\n",
        "    l = loss(y_pred, y)\n",
        "    l.backward()\n",
        "    optimizer.step()"
      ]
    },
    {
      "cell_type": "code",
      "execution_count": null,
      "metadata": {
        "colab": {
          "base_uri": "https://localhost:8080/"
        },
        "id": "Ot7521jaZYle",
        "outputId": "1da2675a-612c-4e04-89ed-dc154f51eec4"
      },
      "outputs": [
        {
          "name": "stdout",
          "output_type": "stream",
          "text": [
            "1 loop, best of 1: 3min 18s per loop\n"
          ]
        }
      ],
      "source": [
        "%%timeit -n 1 -r 1\n",
        "# batch_size = 256, num_workers = 1\n",
        "for x, y in train_dataloader:\n",
        "    x, y = x.to(device), y.to(device)\n",
        "    optimizer.zero_grad()\n",
        "    y_pred = model(x)\n",
        "    l = loss(y_pred, y)\n",
        "    l.backward()\n",
        "    optimizer.step()"
      ]
    },
    {
      "cell_type": "markdown",
      "metadata": {
        "id": "AasmOYhKjxFl"
      },
      "source": [
        "Paralelización num_workers tortilla de patatas"
      ]
    },
    {
      "cell_type": "markdown",
      "metadata": {
        "id": "Bg6tXDWrttYO"
      },
      "source": [
        "### GPU"
      ]
    },
    {
      "cell_type": "code",
      "execution_count": null,
      "metadata": {
        "colab": {
          "base_uri": "https://localhost:8080/"
        },
        "id": "VeWDRAIavZ0Q",
        "outputId": "744031ef-f205-4f0e-c933-916218c35894"
      },
      "outputs": [
        {
          "name": "stdout",
          "output_type": "stream",
          "text": [
            "1 loop, best of 1: 41.7 s per loop\n"
          ]
        }
      ],
      "source": [
        "%%timeit -n 1 -r 1\n",
        "# batch_size = 16, num_workers = 1\n",
        "for x, y in train_dataloader:\n",
        "    x, y = x.to(device), y.to(device)\n",
        "    optimizer.zero_grad()\n",
        "    y_pred = model(x)\n",
        "    l = loss(y_pred, y)\n",
        "    l.backward()\n",
        "    optimizer.step()"
      ]
    },
    {
      "cell_type": "code",
      "execution_count": null,
      "metadata": {
        "colab": {
          "base_uri": "https://localhost:8080/"
        },
        "id": "TbKp0i7nvZ0b",
        "outputId": "07fcb43d-d070-42c8-aacb-d20cadc1bd8d"
      },
      "outputs": [
        {
          "name": "stdout",
          "output_type": "stream",
          "text": [
            "1 loop, best of 1: 17.3 s per loop\n"
          ]
        }
      ],
      "source": [
        "%%timeit -n 1 -r 1\n",
        "# batch_size = 256, num_workers = 1\n",
        "for x, y in train_dataloader:\n",
        "    x, y = x.to(device), y.to(device)\n",
        "    optimizer.zero_grad()\n",
        "    y_pred = model(x)\n",
        "    l = loss(y_pred, y)\n",
        "    l.backward()\n",
        "    optimizer.step()"
      ]
    },
    {
      "cell_type": "markdown",
      "metadata": {
        "id": "mhZA45Ho4xW_"
      },
      "source": [
        "### Número de parámetros"
      ]
    },
    {
      "cell_type": "code",
      "execution_count": null,
      "metadata": {
        "id": "7D6DnKFf48vQ"
      },
      "outputs": [],
      "source": [
        "class ConvModel(nn.Module):\n",
        "    def __init__(self):\n",
        "        super().__init__()\n",
        "        self.conv1 = nn.Conv2d(1, 16, 5)\n",
        "        self.conv2 = nn.Conv2d(16, 64, 5)\n",
        "        self.conv3 = nn.Conv2d(64, 8, 5)\n",
        "        self.flat = nn.Flatten()\n",
        "        self.linear = nn.Linear(8*16*16, 47)\n",
        "\n",
        "    def forward(self, x):\n",
        "        x = F.relu(self.conv1(x))\n",
        "        x = F.relu(self.conv2(x))\n",
        "        x = F.relu(self.conv3(x))\n",
        "        x = self.flat(x)\n",
        "        x = self.linear(x)\n",
        "\n",
        "        return x"
      ]
    },
    {
      "cell_type": "code",
      "execution_count": null,
      "metadata": {
        "id": "IO_n1_kV5FL2"
      },
      "outputs": [],
      "source": [
        "model = ConvModel()"
      ]
    },
    {
      "cell_type": "code",
      "execution_count": null,
      "metadata": {
        "colab": {
          "base_uri": "https://localhost:8080/"
        },
        "id": "xYOHxHF9473H",
        "outputId": "c6d58d03-0eff-48ad-da7f-917a4c28fbf0"
      },
      "outputs": [
        {
          "name": "stdout",
          "output_type": "stream",
          "text": [
            "----------------------------------------------------------------\n",
            "        Layer (type)               Output Shape         Param #\n",
            "================================================================\n",
            "            Conv2d-1           [-1, 16, 24, 24]             416\n",
            "            Conv2d-2           [-1, 64, 20, 20]          25,664\n",
            "            Conv2d-3            [-1, 8, 16, 16]          12,808\n",
            "           Flatten-4                 [-1, 2048]               0\n",
            "            Linear-5                   [-1, 47]          96,303\n",
            "================================================================\n",
            "Total params: 135,191\n",
            "Trainable params: 135,191\n",
            "Non-trainable params: 0\n",
            "----------------------------------------------------------------\n",
            "Input size (MB): 0.00\n",
            "Forward/backward pass size (MB): 0.30\n",
            "Params size (MB): 0.52\n",
            "Estimated Total Size (MB): 0.82\n",
            "----------------------------------------------------------------\n"
          ]
        }
      ],
      "source": [
        "summary(model.to(torch.device('cuda')), (1, 28, 28))"
      ]
    },
    {
      "cell_type": "code",
      "execution_count": null,
      "metadata": {
        "colab": {
          "base_uri": "https://localhost:8080/"
        },
        "id": "ErQfAhPUHQdB",
        "outputId": "c668e248-2d44-4fe9-b6c7-4665ebf9b240"
      },
      "outputs": [
        {
          "data": {
            "text/plain": [
              "416"
            ]
          },
          "execution_count": 19,
          "metadata": {},
          "output_type": "execute_result"
        }
      ],
      "source": [
        "w1 = 1*16*5*5 + 16\n",
        "w1"
      ]
    },
    {
      "cell_type": "code",
      "execution_count": null,
      "metadata": {
        "colab": {
          "base_uri": "https://localhost:8080/"
        },
        "id": "ZMgV38XoHiDX",
        "outputId": "328cd063-3f6a-41ff-93ff-e70307d4b969"
      },
      "outputs": [
        {
          "data": {
            "text/plain": [
              "25664"
            ]
          },
          "execution_count": 20,
          "metadata": {},
          "output_type": "execute_result"
        }
      ],
      "source": [
        "w2 = 16*64*5*5 + 64\n",
        "w2"
      ]
    },
    {
      "cell_type": "code",
      "execution_count": null,
      "metadata": {
        "colab": {
          "base_uri": "https://localhost:8080/"
        },
        "id": "tZdvHIzPH9Eu",
        "outputId": "302f066b-4443-42e5-d681-8b1535f51a15"
      },
      "outputs": [
        {
          "data": {
            "text/plain": [
              "12808"
            ]
          },
          "execution_count": 21,
          "metadata": {},
          "output_type": "execute_result"
        }
      ],
      "source": [
        "w3 = 64*8*5*5 + 8\n",
        "w3"
      ]
    },
    {
      "cell_type": "code",
      "execution_count": null,
      "metadata": {
        "colab": {
          "base_uri": "https://localhost:8080/"
        },
        "id": "EdIxEaGbIDHf",
        "outputId": "01566203-2c94-4990-e241-44e4a34ab22d"
      },
      "outputs": [
        {
          "data": {
            "text/plain": [
              "96303"
            ]
          },
          "execution_count": 22,
          "metadata": {},
          "output_type": "execute_result"
        }
      ],
      "source": [
        "w4 = 8*16*16*47 + 47\n",
        "w4"
      ]
    },
    {
      "cell_type": "code",
      "execution_count": null,
      "metadata": {
        "colab": {
          "base_uri": "https://localhost:8080/"
        },
        "id": "fa83zTmeItX_",
        "outputId": "ff22dea2-933f-4b83-85c8-946c54a794a5"
      },
      "outputs": [
        {
          "data": {
            "text/plain": [
              "135191"
            ]
          },
          "execution_count": 23,
          "metadata": {},
          "output_type": "execute_result"
        }
      ],
      "source": [
        "w1 + w2 + w3 + w4"
      ]
    },
    {
      "cell_type": "markdown",
      "metadata": {
        "id": "j8Mgajgo4ZR0"
      },
      "source": [
        "Normalmente, al procesar las imágenes, se busca reducir gradualmente la resolución espacial de las representaciones ocultas, agregando la información de forma que, cuanto más subimos en la red, mayor es el campo receptivo (en la entrada) al que es sensible cada neurona.\n",
        "\n",
        "- Feature map\n",
        "- Receptive field"
      ]
    },
    {
      "cell_type": "code",
      "execution_count": null,
      "metadata": {
        "id": "89LtnShoKG7g"
      },
      "outputs": [],
      "source": [
        "class ConvModel2(nn.Module):\n",
        "    def __init__(self):\n",
        "        super().__init__()\n",
        "        self.conv1 = nn.Conv2d(1, 16, 9)\n",
        "        self.conv2 = nn.Conv2d(16, 64, 9)\n",
        "        self.conv3 = nn.Conv2d(64, 8, 9)\n",
        "        self.flat = nn.Flatten()\n",
        "        self.linear = nn.Linear(8*4*4, 47)\n",
        "\n",
        "    def forward(self, x):\n",
        "        x = F.relu(self.conv1(x))\n",
        "        x = F.relu(self.conv2(x))\n",
        "        x = F.relu(self.conv3(x))\n",
        "        x = self.flat(x)\n",
        "        x = self.linear(x)\n",
        "\n",
        "        return x"
      ]
    },
    {
      "cell_type": "code",
      "execution_count": null,
      "metadata": {
        "id": "7exaz7PoKYNY"
      },
      "outputs": [],
      "source": [
        "model2 = ConvModel2()"
      ]
    },
    {
      "cell_type": "code",
      "execution_count": null,
      "metadata": {
        "colab": {
          "base_uri": "https://localhost:8080/"
        },
        "id": "sEip83JoKYNZ",
        "outputId": "20e55f96-060e-4122-bc73-cd52cfee8e92"
      },
      "outputs": [
        {
          "name": "stdout",
          "output_type": "stream",
          "text": [
            "----------------------------------------------------------------\n",
            "        Layer (type)               Output Shape         Param #\n",
            "================================================================\n",
            "            Conv2d-1           [-1, 16, 20, 20]           1,312\n",
            "            Conv2d-2           [-1, 64, 12, 12]          83,008\n",
            "            Conv2d-3              [-1, 8, 4, 4]          41,480\n",
            "           Flatten-4                  [-1, 128]               0\n",
            "            Linear-5                   [-1, 47]           6,063\n",
            "================================================================\n",
            "Total params: 131,863\n",
            "Trainable params: 131,863\n",
            "Non-trainable params: 0\n",
            "----------------------------------------------------------------\n",
            "Input size (MB): 0.00\n",
            "Forward/backward pass size (MB): 0.12\n",
            "Params size (MB): 0.50\n",
            "Estimated Total Size (MB): 0.63\n",
            "----------------------------------------------------------------\n"
          ]
        }
      ],
      "source": [
        "summary(model2.to(torch.device('cuda')), (1, 28, 28))"
      ]
    },
    {
      "cell_type": "markdown",
      "metadata": {
        "id": "Xq4H-gMhKSBT"
      },
      "source": [
        "## Padding"
      ]
    },
    {
      "cell_type": "code",
      "execution_count": null,
      "metadata": {
        "colab": {
          "base_uri": "https://localhost:8080/"
        },
        "id": "edglWAJDOYqQ",
        "outputId": "20d7ee2e-170b-4621-a519-4ed3683efd2c"
      },
      "outputs": [
        {
          "data": {
            "text/plain": [
              "tensor([[0, 1, 2],\n",
              "        [3, 4, 5],\n",
              "        [6, 7, 8]])"
            ]
          },
          "execution_count": 34,
          "metadata": {},
          "output_type": "execute_result"
        }
      ],
      "source": [
        "a = torch.arange(0, 9).reshape(3, 3)\n",
        "a"
      ]
    },
    {
      "cell_type": "code",
      "execution_count": null,
      "metadata": {
        "colab": {
          "base_uri": "https://localhost:8080/"
        },
        "id": "Zfh0UkgIOaa-",
        "outputId": "80aa011d-26ea-4c86-f655-68a21701f4d7"
      },
      "outputs": [
        {
          "data": {
            "text/plain": [
              "tensor([[0, 0, 0, 0, 0],\n",
              "        [0, 0, 1, 2, 0],\n",
              "        [0, 3, 4, 5, 0],\n",
              "        [0, 6, 7, 8, 0],\n",
              "        [0, 0, 0, 0, 0]])"
            ]
          },
          "execution_count": 43,
          "metadata": {},
          "output_type": "execute_result"
        }
      ],
      "source": [
        "# Left, right, up, down\n",
        "a_pad = F.pad(a, (1, 1, 1, 1))\n",
        "a_pad"
      ]
    },
    {
      "cell_type": "code",
      "execution_count": null,
      "metadata": {
        "colab": {
          "base_uri": "https://localhost:8080/"
        },
        "id": "gHCOKGHlOYqc",
        "outputId": "367fc415-3166-407f-be99-86709672a5e9"
      },
      "outputs": [
        {
          "data": {
            "text/plain": [
              "tensor([[0, 1],\n",
              "        [2, 3]])"
            ]
          },
          "execution_count": 44,
          "metadata": {},
          "output_type": "execute_result"
        }
      ],
      "source": [
        "kernel = torch.arange(0, 4).reshape(2, 2)\n",
        "kernel"
      ]
    },
    {
      "cell_type": "code",
      "execution_count": null,
      "metadata": {
        "colab": {
          "base_uri": "https://localhost:8080/"
        },
        "id": "EeOEWueiO7wA",
        "outputId": "787c82b4-cfb2-47f2-899f-73879ae4e278"
      },
      "outputs": [
        {
          "data": {
            "text/plain": [
              "tensor([[[[ 0,  3,  8,  4],\n",
              "          [ 9, 19, 25, 10],\n",
              "          [21, 37, 43, 16],\n",
              "          [ 6,  7,  8,  0]]]])"
            ]
          },
          "execution_count": 45,
          "metadata": {},
          "output_type": "execute_result"
        }
      ],
      "source": [
        "F.conv2d(a_pad.view(1, 1, a_pad.shape[0], a_pad.shape[1]), kernel.view(1, 1, kernel.shape[0], kernel.shape[1]))"
      ]
    },
    {
      "cell_type": "markdown",
      "metadata": {},
      "source": [
        "<img src=\"https://raw.githubusercontent.com/ramajoballester/UC3M-PIC/main/data/content/conv-pad.svg\"\n",
        "    width=\"50%\" style=\"background-color:white; display:block; margin-left:auto; margin-right:auto;\">"
      ]
    },
    {
      "cell_type": "code",
      "execution_count": null,
      "metadata": {
        "colab": {
          "base_uri": "https://localhost:8080/"
        },
        "id": "VC6qaWzxPGoH",
        "outputId": "77ce20d5-39cd-411e-f5fa-b7a24fbe410c"
      },
      "outputs": [
        {
          "data": {
            "text/plain": [
              "tensor([[[[ 0,  3,  8,  4],\n",
              "          [ 9, 19, 25, 10],\n",
              "          [21, 37, 43, 16],\n",
              "          [ 6,  7,  8,  0]]]])"
            ]
          },
          "execution_count": 52,
          "metadata": {},
          "output_type": "execute_result"
        }
      ],
      "source": [
        "F.conv2d(a.view(1, 1, a.shape[0], a.shape[1]), kernel.view(1, 1, kernel.shape[0], kernel.shape[1]),\n",
        "         padding=(1, 1))"
      ]
    },
    {
      "cell_type": "code",
      "execution_count": null,
      "metadata": {
        "colab": {
          "base_uri": "https://localhost:8080/"
        },
        "id": "MeNC0ptwPypZ",
        "outputId": "141e7ab5-e7aa-4d7d-dad2-fefe38eb8c0f"
      },
      "outputs": [
        {
          "data": {
            "text/plain": [
              "tensor([[[[19, 25, 10],\n",
              "          [37, 43, 16],\n",
              "          [ 7,  8,  0]]]])"
            ]
          },
          "execution_count": 53,
          "metadata": {},
          "output_type": "execute_result"
        }
      ],
      "source": [
        "F.conv2d(a.view(1, 1, a.shape[0], a.shape[1]), kernel.view(1, 1, kernel.shape[0], kernel.shape[1]),\n",
        "         padding='same')"
      ]
    },
    {
      "cell_type": "markdown",
      "metadata": {
        "id": "QM7P1WDrP6YO"
      },
      "source": [
        "## Stride"
      ]
    },
    {
      "cell_type": "code",
      "execution_count": null,
      "metadata": {
        "colab": {
          "base_uri": "https://localhost:8080/"
        },
        "id": "CqW6Gm8gSRFK",
        "outputId": "88196dc7-e582-4f01-a0a5-4a7b2b036c70"
      },
      "outputs": [
        {
          "data": {
            "text/plain": [
              "tensor([[[[0, 8],\n",
              "          [6, 8]]]])"
            ]
          },
          "execution_count": 58,
          "metadata": {},
          "output_type": "execute_result"
        }
      ],
      "source": [
        "F.conv2d(a_pad.view(1, 1, a_pad.shape[0], a_pad.shape[1]), kernel.view(1, 1, kernel.shape[0], kernel.shape[1]),\n",
        "         stride=(3, 2))"
      ]
    },
    {
      "cell_type": "markdown",
      "metadata": {},
      "source": [
        "<img src=\"https://raw.githubusercontent.com/ramajoballester/UC3M-PIC/main/data/content/conv-stride.svg\"\n",
        "    width=\"50%\" style=\"background-color:white; display:block; margin-left:auto; margin-right:auto;\">"
      ]
    },
    {
      "cell_type": "code",
      "execution_count": null,
      "metadata": {
        "id": "dPAmDISOTG_b"
      },
      "outputs": [],
      "source": [
        "class ConvModelStride(nn.Module):\n",
        "    def __init__(self):\n",
        "        super().__init__()\n",
        "        self.conv1 = nn.Conv2d(1, 16, 5, stride=2)\n",
        "        self.conv2 = nn.Conv2d(16, 64, 5, stride=2)\n",
        "        self.conv3 = nn.Conv2d(64, 8, 3)\n",
        "        self.flat = nn.Flatten()\n",
        "        self.linear = nn.Linear(8*2*2, 47)\n",
        "\n",
        "    def forward(self, x):\n",
        "        x = F.relu(self.conv1(x))\n",
        "        x = F.relu(self.conv2(x))\n",
        "        x = F.relu(self.conv3(x))\n",
        "        x = self.flat(x)\n",
        "        x = self.linear(x)\n",
        "\n",
        "        return x"
      ]
    },
    {
      "cell_type": "code",
      "execution_count": null,
      "metadata": {
        "id": "r8u9AFAPTB0H"
      },
      "outputs": [],
      "source": [
        "model_stride = ConvModelStride()"
      ]
    },
    {
      "cell_type": "code",
      "execution_count": null,
      "metadata": {
        "colab": {
          "base_uri": "https://localhost:8080/"
        },
        "id": "Va9t_g1kTBtn",
        "outputId": "979a844a-e5c1-4e95-f78a-b23fc77d65e6"
      },
      "outputs": [
        {
          "name": "stdout",
          "output_type": "stream",
          "text": [
            "----------------------------------------------------------------\n",
            "        Layer (type)               Output Shape         Param #\n",
            "================================================================\n",
            "            Conv2d-1           [-1, 16, 12, 12]             416\n",
            "            Conv2d-2             [-1, 64, 4, 4]          25,664\n",
            "            Conv2d-3              [-1, 8, 2, 2]           4,616\n",
            "           Flatten-4                   [-1, 32]               0\n",
            "            Linear-5                   [-1, 47]           1,551\n",
            "================================================================\n",
            "Total params: 32,247\n",
            "Trainable params: 32,247\n",
            "Non-trainable params: 0\n",
            "----------------------------------------------------------------\n",
            "Input size (MB): 0.00\n",
            "Forward/backward pass size (MB): 0.03\n",
            "Params size (MB): 0.12\n",
            "Estimated Total Size (MB): 0.15\n",
            "----------------------------------------------------------------\n"
          ]
        }
      ],
      "source": [
        "summary(model_stride.to(torch.device('cuda')), (1, 28, 28))"
      ]
    },
    {
      "cell_type": "markdown",
      "metadata": {
        "id": "u6fIiPDnaCjv"
      },
      "source": [
        "## Pooling"
      ]
    },
    {
      "cell_type": "code",
      "execution_count": null,
      "metadata": {
        "colab": {
          "base_uri": "https://localhost:8080/"
        },
        "id": "Gwx_JMm4aM-J",
        "outputId": "af8690f8-40bd-461d-8ada-d19db9e1e7af"
      },
      "outputs": [
        {
          "data": {
            "text/plain": [
              "tensor([[0., 1., 2.],\n",
              "        [3., 4., 5.],\n",
              "        [6., 7., 8.]])"
            ]
          },
          "execution_count": 103,
          "metadata": {},
          "output_type": "execute_result"
        }
      ],
      "source": [
        "a = torch.arange(0, 9, dtype=torch.float32).reshape(3, 3)\n",
        "a"
      ]
    },
    {
      "cell_type": "code",
      "execution_count": null,
      "metadata": {
        "colab": {
          "base_uri": "https://localhost:8080/"
        },
        "id": "r2KESpvWbEzh",
        "outputId": "fb7bc63a-897f-43fc-a567-6c404f80add7"
      },
      "outputs": [
        {
          "data": {
            "text/plain": [
              "tensor([[[4., 5.],\n",
              "         [7., 8.]]])"
            ]
          },
          "execution_count": 95,
          "metadata": {},
          "output_type": "execute_result"
        }
      ],
      "source": [
        "F.max_pool2d(a.unsqueeze(0), (2, 2), stride=1)"
      ]
    },
    {
      "cell_type": "markdown",
      "metadata": {},
      "source": [
        "<img src=\"https://raw.githubusercontent.com/ramajoballester/UC3M-PIC/main/data/content/pooling.svg\"\n",
        "    width=\"50%\" style=\"background-color:white; display:block; margin-left:auto; margin-right:auto;\">"
      ]
    },
    {
      "cell_type": "markdown",
      "metadata": {
        "id": "eEss9qEzTBlf"
      },
      "source": [
        "## Múltiples canales de entrada y salida"
      ]
    },
    {
      "cell_type": "code",
      "execution_count": null,
      "metadata": {
        "colab": {
          "base_uri": "https://localhost:8080/"
        },
        "id": "ab8bHChJX_Fp",
        "outputId": "5d3a5608-0a36-4fdf-ed74-c6a6a68c2c03"
      },
      "outputs": [
        {
          "data": {
            "text/plain": [
              "tensor([[[0, 1, 2],\n",
              "         [3, 4, 5],\n",
              "         [6, 7, 8]],\n",
              "\n",
              "        [[1, 2, 3],\n",
              "         [4, 5, 6],\n",
              "         [7, 8, 9]]])"
            ]
          },
          "execution_count": 124,
          "metadata": {},
          "output_type": "execute_result"
        }
      ],
      "source": [
        "a = torch.stack([torch.arange(0, 9).reshape(3, 3), torch.arange(1, 10).reshape(3, 3)])\n",
        "a"
      ]
    },
    {
      "cell_type": "code",
      "execution_count": null,
      "metadata": {
        "colab": {
          "base_uri": "https://localhost:8080/"
        },
        "id": "DvzqqIiyYH7y",
        "outputId": "ce65a4b1-2772-493b-a758-c0fd6e3c4a94"
      },
      "outputs": [
        {
          "data": {
            "text/plain": [
              "tensor([[[0, 1],\n",
              "         [2, 3]],\n",
              "\n",
              "        [[1, 2],\n",
              "         [3, 4]]])"
            ]
          },
          "execution_count": 125,
          "metadata": {},
          "output_type": "execute_result"
        }
      ],
      "source": [
        "kernel = torch.stack([torch.arange(0, 4).reshape(2, 2), torch.arange(1, 5).reshape(2, 2)])\n",
        "kernel"
      ]
    },
    {
      "cell_type": "code",
      "execution_count": null,
      "metadata": {
        "colab": {
          "base_uri": "https://localhost:8080/"
        },
        "id": "Rag5R3jKZYnZ",
        "outputId": "2ed3075b-e0cd-42fd-a8e3-b37c796502e0"
      },
      "outputs": [
        {
          "data": {
            "text/plain": [
              "tensor([[[[ 56,  72],\n",
              "          [104, 120]]]])"
            ]
          },
          "execution_count": 126,
          "metadata": {},
          "output_type": "execute_result"
        }
      ],
      "source": [
        "F.conv2d(a.unsqueeze(0), kernel.unsqueeze(0))"
      ]
    },
    {
      "cell_type": "code",
      "execution_count": null,
      "metadata": {},
      "outputs": [],
      "source": []
    },
    {
      "cell_type": "markdown",
      "metadata": {},
      "source": [
        "<img src=\"https://raw.githubusercontent.com/ramajoballester/UC3M-PIC/main/data/content/conv-multi-in.svg\"\n",
        "    width=\"50%\" style=\"background-color:white; display:block; margin-left:auto; margin-right:auto;\">"
      ]
    },
    {
      "cell_type": "markdown",
      "metadata": {
        "id": "9QjsbFZpdyYv"
      },
      "source": [
        "## Convolución 1x1"
      ]
    },
    {
      "cell_type": "code",
      "execution_count": null,
      "metadata": {
        "colab": {
          "base_uri": "https://localhost:8080/"
        },
        "id": "TPNo5UrOhIde",
        "outputId": "b4401160-6ab0-44b8-b761-d28bcdfe4d84"
      },
      "outputs": [
        {
          "data": {
            "text/plain": [
              "tensor([[[ 0,  1,  2],\n",
              "         [ 3,  4,  5],\n",
              "         [ 6,  7,  8]],\n",
              "\n",
              "        [[ 9, 10, 11],\n",
              "         [12, 13, 14],\n",
              "         [15, 16, 17]],\n",
              "\n",
              "        [[18, 19, 20],\n",
              "         [21, 22, 23],\n",
              "         [24, 25, 26]]])"
            ]
          },
          "execution_count": 135,
          "metadata": {},
          "output_type": "execute_result"
        }
      ],
      "source": [
        "a = torch.arange(0, 3*3*3).reshape(3, 3, 3)\n",
        "a"
      ]
    },
    {
      "cell_type": "code",
      "execution_count": null,
      "metadata": {
        "colab": {
          "base_uri": "https://localhost:8080/"
        },
        "id": "pzQTjdkYfPEe",
        "outputId": "9fe5539c-db32-43a9-c62e-ec983295c0b7"
      },
      "outputs": [
        {
          "data": {
            "text/plain": [
              "tensor([[[[0]],\n",
              "\n",
              "         [[1]],\n",
              "\n",
              "         [[2]]],\n",
              "\n",
              "\n",
              "        [[[3]],\n",
              "\n",
              "         [[4]],\n",
              "\n",
              "         [[5]]]])"
            ]
          },
          "execution_count": 138,
          "metadata": {},
          "output_type": "execute_result"
        }
      ],
      "source": [
        "kernel = torch.arange(0, 6).reshape(2, 3, 1, 1)\n",
        "kernel"
      ]
    },
    {
      "cell_type": "code",
      "execution_count": null,
      "metadata": {
        "colab": {
          "base_uri": "https://localhost:8080/"
        },
        "id": "5wRbz90FfW7u",
        "outputId": "678fd849-626f-464e-89d6-bc5ee72eb037"
      },
      "outputs": [
        {
          "data": {
            "text/plain": [
              "tensor([[[[ 45,  48,  51],\n",
              "          [ 54,  57,  60],\n",
              "          [ 63,  66,  69]],\n",
              "\n",
              "         [[126, 138, 150],\n",
              "          [162, 174, 186],\n",
              "          [198, 210, 222]]]])"
            ]
          },
          "execution_count": 139,
          "metadata": {},
          "output_type": "execute_result"
        }
      ],
      "source": [
        "F.conv2d(a.unsqueeze(0), kernel)"
      ]
    },
    {
      "cell_type": "markdown",
      "metadata": {},
      "source": [
        "<img src=\"https://raw.githubusercontent.com/ramajoballester/UC3M-PIC/main/data/content/conv-1x1.svg\"\n",
        "    width=\"50%\" style=\"background-color:white; display:block; margin-left:auto; margin-right:auto;\">"
      ]
    },
    {
      "cell_type": "markdown",
      "metadata": {
        "id": "41reqloQhYa_"
      },
      "source": [
        "## CNN completa"
      ]
    },
    {
      "cell_type": "code",
      "execution_count": null,
      "metadata": {
        "id": "nirF99NbbyN4"
      },
      "outputs": [],
      "source": [
        "class CNN(nn.Module):\n",
        "    def __init__(self):\n",
        "        super().__init__()\n",
        "        self.conv1 = nn.Conv2d(1, 16, 3, stride=1)\n",
        "        self.conv2 = nn.Conv2d(16, 256, 3, stride=1)\n",
        "        self.conv3 = nn.Conv2d(256, 16, 3, stride=2)\n",
        "        self.flat = nn.Flatten()\n",
        "        self.linear = nn.Linear(784, 47)\n",
        "\n",
        "    def forward(self, x):\n",
        "        x = F.relu(F.max_pool2d(self.conv1(x), kernel_size=(3, 3), stride=1))\n",
        "        x = F.relu(F.max_pool2d(self.conv2(x), kernel_size=(3, 3), stride=1))\n",
        "        x = F.relu(F.max_pool2d(self.conv3(x), kernel_size=(3, 3), stride=1))\n",
        "        x = self.flat(x)\n",
        "        x = self.linear(x)\n",
        "\n",
        "        return x"
      ]
    },
    {
      "cell_type": "code",
      "execution_count": null,
      "metadata": {
        "colab": {
          "base_uri": "https://localhost:8080/"
        },
        "id": "pFmnfzN1cSmX",
        "outputId": "680d847c-5af5-4ee0-fc4d-c042317e555f"
      },
      "outputs": [
        {
          "name": "stdout",
          "output_type": "stream",
          "text": [
            "----------------------------------------------------------------\n",
            "        Layer (type)               Output Shape         Param #\n",
            "================================================================\n",
            "            Conv2d-1           [-1, 16, 26, 26]             160\n",
            "            Conv2d-2          [-1, 256, 22, 22]          37,120\n",
            "            Conv2d-3             [-1, 16, 9, 9]          36,880\n",
            "           Flatten-4                  [-1, 784]               0\n",
            "            Linear-5                   [-1, 47]          36,895\n",
            "================================================================\n",
            "Total params: 111,055\n",
            "Trainable params: 111,055\n",
            "Non-trainable params: 0\n",
            "----------------------------------------------------------------\n",
            "Input size (MB): 0.00\n",
            "Forward/backward pass size (MB): 1.04\n",
            "Params size (MB): 0.42\n",
            "Estimated Total Size (MB): 1.47\n",
            "----------------------------------------------------------------\n"
          ]
        }
      ],
      "source": [
        "summary(CNN(), (1, 28, 28), device='cpu')"
      ]
    },
    {
      "cell_type": "code",
      "execution_count": null,
      "metadata": {
        "id": "nqPwq-cXh8Nk"
      },
      "outputs": [],
      "source": [
        "batch_size = 64\n",
        "\n",
        "transf = torchvision.transforms.Compose([\n",
        "    torchvision.transforms.ToTensor()\n",
        "])\n",
        "\n",
        "emnist_train = torchvision.datasets.FashionMNIST(\n",
        "    root=\"data\", train=True, transform=transf, download=True)\n",
        "emnist_test = torchvision.datasets.FashionMNIST(\n",
        "    root=\"data\", train=False, transform=transf, download=True)\n",
        "\n",
        "train_dataloader = torch.utils.data.DataLoader(emnist_train, batch_size,\n",
        "                                               shuffle=True)\n",
        "test_dataloader = torch.utils.data.DataLoader(emnist_test, batch_size,\n",
        "                                               shuffle=False)\n",
        "\n",
        "labels = ['t-shirt', 'trouser', 'pullover', 'dress', 'coat',\n",
        "          'sandal', 'shirt', 'sneaker', 'bag', 'ankle boot']"
      ]
    },
    {
      "cell_type": "code",
      "execution_count": null,
      "metadata": {
        "id": "SDwqQ8H5h8Nl"
      },
      "outputs": [],
      "source": [
        "device = torch.device('cuda' if torch.cuda.is_available() else 'cpu')\n",
        "# device = torch.device('cpu')\n",
        "model = ConvModel().to(device)\n",
        "\n",
        "lr = 1e-3\n",
        "\n",
        "# Función de pérdida\n",
        "loss_fn = nn.CrossEntropyLoss()\n",
        "# Optimizador\n",
        "optimizer = torch.optim.Adam(model.parameters(), lr=lr)\n",
        "# Métrica de evaluación\n",
        "metrics_fn = torchmetrics.Accuracy().to(device)\n",
        "# Número de epochs\n",
        "n_epochs = 5\n",
        "\n",
        "config = {\n",
        "  \"learning_rate\":lr,\n",
        "  \"epochs\": n_epochs,\n",
        "  \"batch_size\": batch_size,\n",
        "  'optimizer': optimizer.__class__.__name__\n",
        "}\n",
        "wandb.init(project=\"Sesión 2\", name='CNN completa', config=config);\n",
        "\n",
        "\n",
        "best_accuracy = 0\n",
        "for epoch in range(n_epochs):\n",
        "    _ = train(model, train_dataloader, optimizer, loss_fn, device)\n",
        "    train_loss, train_metrics = test(model, train_dataloader, metrics_fn, loss_fn, device)\n",
        "    wandb.log({\"Train loss\": train_loss/len(train_dataloader)}, step=epoch)\n",
        "    wandb.log({\"Train accuracy\": train_metrics}, step=epoch)\n",
        "\n",
        "    print('Epoch {}, Precisión (train): {:.4f}, Loss (train): {:.4f}'.format(epoch,\n",
        "                                                        train_metrics,\n",
        "                                                        train_loss/len(train_dataloader)))\n",
        "        \n",
        "    test_loss, test_metrics = test(model, test_dataloader, metrics_fn, loss_fn, device)\n",
        "    wandb.log({\"Test loss\": test_loss/len(test_dataloader)}, step=epoch)\n",
        "    wandb.log({\"Test accuracy\": test_metrics}, step=epoch)\n",
        "\n",
        "    print('Epoch {}, Precisión (test): {:.4f}, Loss (test): {:.4f}'.format(epoch,\n",
        "                                                        test_metrics,\n",
        "                                                        test_loss/len(test_dataloader)))\n",
        "    \n",
        "    if test_metrics < best_accuracy:\n",
        "        best_accuracy = test_metrics\n",
        "\n",
        "    print(' ')\n",
        "\n",
        "wandb.finish()"
      ]
    },
    {
      "cell_type": "markdown",
      "metadata": {
        "id": "Gbo-NbZLWLWO"
      },
      "source": [
        "# Mejora del rendimiento"
      ]
    },
    {
      "cell_type": "markdown",
      "metadata": {
        "id": "KswiYTTdWLJn"
      },
      "source": [
        "## LR scheduler"
      ]
    },
    {
      "cell_type": "markdown",
      "metadata": {
        "id": "9nhsbMnBvSmX"
      },
      "source": [
        "[LR scheduler Pytorch](https://pytorch.org/docs/stable/optim.html#how-to-adjust-learning-rate)"
      ]
    },
    {
      "cell_type": "code",
      "execution_count": null,
      "metadata": {
        "id": "IOuF3H5Dn-gv"
      },
      "outputs": [],
      "source": [
        "scheduler = torch.optim.lr_scheduler.StepLR()\n",
        "scheduler = torch.optim.lr_scheduler.ExponentialLR()"
      ]
    },
    {
      "cell_type": "markdown",
      "metadata": {
        "id": "qBe_omwtn6Tn"
      },
      "source": [
        "## Optimizadores "
      ]
    },
    {
      "cell_type": "markdown",
      "metadata": {
        "id": "nldZ4y0xsrPH"
      },
      "source": [
        "[Optimizadores Pytorch](https://pytorch.org/docs/stable/optim.html#algorithms)\n",
        "\n",
        "\n",
        "Choi, D., Shallue, C. J., Nado, Z., Lee, J., Maddison, C. J., & Dahl, G. E. (2019). **On empirical comparisons of optimizers for deep learning.**  arXiv preprint arXiv:1910.05446. [Paper](https://arxiv.org/pdf/1910.05446.pdf)"
      ]
    },
    {
      "cell_type": "markdown",
      "metadata": {},
      "source": [
        "<img src=\"https://raw.githubusercontent.com/ramajoballester/UC3M-PIC/main/data/content/optimizers.png\"\n",
        "    width=\"50%\" style=\"background-color:white; display:block; margin-left:auto; margin-right:auto;\">"
      ]
    },
    {
      "cell_type": "markdown",
      "metadata": {
        "id": "UANzHz-YXBDT"
      },
      "source": [
        "## Aumentación de datos"
      ]
    },
    {
      "cell_type": "code",
      "execution_count": null,
      "metadata": {
        "colab": {
          "base_uri": "https://localhost:8080/"
        },
        "id": "vIWuP1ozZVi3",
        "outputId": "9ecd238c-b05b-4a57-91a7-3c7e1f46d70f"
      },
      "outputs": [
        {
          "data": {
            "text/plain": [
              "Compose(\n",
              "    RandomResizedCrop(size=(18, 18), scale=(0.08, 1.0), ratio=(0.75, 1.3333), interpolation=bilinear)\n",
              "    RandomHorizontalFlip(p=0.25)\n",
              "    RandomVerticalFlip(p=0.25)\n",
              "    RandomAffine(degrees=[-15.0, 15.0])\n",
              "    Normalize(mean=[0.485, 0.456, 0.406], std=[0.229, 0.224, 0.225])\n",
              "    ToTensor()\n",
              ")"
            ]
          },
          "execution_count": 16,
          "metadata": {},
          "output_type": "execute_result"
        }
      ],
      "source": [
        "# Diferentes transforms en train y test\n",
        "torchvision.transforms.Compose([\n",
        "    torchvision.transforms.RandomResizedCrop(18),\n",
        "    torchvision.transforms.RandomHorizontalFlip(0.25),\n",
        "    torchvision.transforms.RandomVerticalFlip(0.25),\n",
        "    torchvision.transforms.RandomAffine(15),\n",
        "    torchvision.transforms.Normalize([0.485, 0.456, 0.406], [0.229, 0.224, 0.225]),\n",
        "    torchvision.transforms.ToTensor()\n",
        "])"
      ]
    },
    {
      "cell_type": "markdown",
      "metadata": {
        "id": "Tmp9jJ6-w3AV"
      },
      "source": [
        "# LeNet"
      ]
    },
    {
      "cell_type": "markdown",
      "metadata": {
        "id": "LY6mgB7sj5WM"
      },
      "source": [
        "Comentar Premio Príncipe de Asturias"
      ]
    },
    {
      "cell_type": "markdown",
      "metadata": {
        "id": "gOn8g82zxTAX"
      },
      "source": [
        "LeCun, Y., Bottou, L., Bengio, Y., & Haffner, P. (1998). Gradient-based learning applied to document recognition. Proceedings of the IEEE, 86(11), 2278-2324. [Paper](https://ieeexplore.ieee.org/stamp/stamp.jsp?arnumber=726791&casa_token=kyltN8hTCx0AAAAA:uFdBXu6A_S6S4cpFwgx2_d3tAosoljC-2VWHpvIB8nCIlUbHAaxNO_3iZkeNgEUDVbvmlGJeVQ&tag=1)"
      ]
    },
    {
      "cell_type": "markdown",
      "metadata": {},
      "source": [
        "<img src=\"https://raw.githubusercontent.com/ramajoballester/UC3M-PIC/main/data/content/lenet-vert.svg\"\n",
        "    width=\"50%\" style=\"background-color:white; display:block; margin-left:auto; margin-right:auto;\">"
      ]
    },
    {
      "cell_type": "markdown",
      "metadata": {
        "id": "IfxogzYW0AFH"
      },
      "source": [
        "- Entrada (28 x 28)\n",
        "- 6 filtros convolucionales, kernel 5 x 5, padding=2\n",
        " - Función de activación sigmoide\n",
        " - Average pooling 2 x 2, stride=2\n",
        "- 16 filtros convolucionales, kernel 5 x 5\n",
        " - Función de activación sigmoide\n",
        " - Average pooling 2 x 2, stride=2\n",
        "- Lineal 120 neuronas\n",
        "  - Función de activación sigmoide\n",
        "- Lineal 84 neuronas\n",
        "  - Función de activación sigmoide\n",
        "- Lineal num_clases neuronas"
      ]
    },
    {
      "cell_type": "code",
      "execution_count": null,
      "metadata": {
        "id": "PHg5kY8uygdq"
      },
      "outputs": [],
      "source": [
        "model = nn.Sequential(\n",
        "    nn.Conv2d(1, 6, kernel_size=5, padding=2), nn.Sigmoid(),\n",
        "    nn.AvgPool2d(kernel_size=2, stride=2),\n",
        "    nn.Conv2d(6, 16, kernel_size=5), nn.Sigmoid(),\n",
        "    nn.AvgPool2d(kernel_size=2, stride=2),\n",
        "    nn.Flatten(),\n",
        "    nn.Linear(16 * 5 * 5, 120), nn.Sigmoid(),\n",
        "    nn.Linear(120, 84), nn.Sigmoid(),\n",
        "    nn.Linear(84, 47)\n",
        ")"
      ]
    },
    {
      "cell_type": "code",
      "execution_count": null,
      "metadata": {
        "colab": {
          "base_uri": "https://localhost:8080/"
        },
        "id": "ewmpsBRFyuQS",
        "outputId": "8132fc67-430f-4c01-ad89-2a1e2db6f333"
      },
      "outputs": [
        {
          "name": "stdout",
          "output_type": "stream",
          "text": [
            "----------------------------------------------------------------\n",
            "        Layer (type)               Output Shape         Param #\n",
            "================================================================\n",
            "            Conv2d-1            [-1, 6, 28, 28]             156\n",
            "           Sigmoid-2            [-1, 6, 28, 28]               0\n",
            "         AvgPool2d-3            [-1, 6, 14, 14]               0\n",
            "            Conv2d-4           [-1, 16, 10, 10]           2,416\n",
            "           Sigmoid-5           [-1, 16, 10, 10]               0\n",
            "         AvgPool2d-6             [-1, 16, 5, 5]               0\n",
            "           Flatten-7                  [-1, 400]               0\n",
            "            Linear-8                  [-1, 120]          48,120\n",
            "           Sigmoid-9                  [-1, 120]               0\n",
            "           Linear-10                   [-1, 84]          10,164\n",
            "          Sigmoid-11                   [-1, 84]               0\n",
            "           Linear-12                   [-1, 47]           3,995\n",
            "================================================================\n",
            "Total params: 64,851\n",
            "Trainable params: 64,851\n",
            "Non-trainable params: 0\n",
            "----------------------------------------------------------------\n",
            "Input size (MB): 0.00\n",
            "Forward/backward pass size (MB): 0.11\n",
            "Params size (MB): 0.25\n",
            "Estimated Total Size (MB): 0.37\n",
            "----------------------------------------------------------------\n"
          ]
        }
      ],
      "source": [
        "summary(model, (1, 28, 28))"
      ]
    },
    {
      "cell_type": "code",
      "execution_count": null,
      "metadata": {
        "id": "5sHIeKag80Xo"
      },
      "outputs": [],
      "source": [
        "device = torch.device('cuda' if torch.cuda.is_available() else 'cpu')\n",
        "model.to(device)\n",
        "\n",
        "lr = 1e-3\n",
        "gamma = 0.8\n",
        "loss_fn = nn.CrossEntropyLoss()\n",
        "optimizer = torch.optim.Adam(model.parameters(), lr=lr)\n",
        "metrics_fn = torchmetrics.Accuracy().to(device)\n",
        "scheduler = torch.optim.lr_scheduler.ExponentialLR(optimizer, gamma=gamma)"
      ]
    },
    {
      "cell_type": "code",
      "execution_count": null,
      "metadata": {
        "id": "3v2khFnJ1VcZ"
      },
      "outputs": [],
      "source": [
        "n_epochs = 10\n",
        "\n",
        "for epoch in range(n_epochs):\n",
        "    train(model, train_dataloader, optimizer, loss_fn, device)\n",
        "\n",
        "    loss, metrics = test(model, train_dataloader, metrics_fn, loss_fn, device)\n",
        "    print('Epoch {}, Precisión (train): {:.3f}, Loss (train): {:.4f}'.format(epoch, metrics, loss.mean()))\n",
        "        \n",
        "    loss, metrics = test(model, test_dataloader, metrics_fn, loss_fn, device)\n",
        "    print('Epoch {}, Precisión (test): {:.3f}, Loss (test): {:.4f}\\n'.format(epoch, metrics, loss.mean()))\n",
        "\n",
        "    scheduler.step()"
      ]
    },
    {
      "cell_type": "code",
      "execution_count": null,
      "metadata": {
        "colab": {
          "base_uri": "https://localhost:8080/"
        },
        "id": "TqGB25Mz7XAf",
        "outputId": "679aec7e-60e5-45a7-fe90-3bda4e21fa0e"
      },
      "outputs": [
        {
          "name": "stderr",
          "output_type": "stream",
          "text": [
            "\"wget\" no se reconoce como un comando interno o externo,\n",
            "programa o archivo por lotes ejecutable.\n"
          ]
        }
      ],
      "source": [
        "!wget --load-cookies /tmp/cookies.txt \"https://docs.google.com/uc?export=download&confirm=$(wget --quiet --save-cookies /tmp/cookies.txt --keep-session-cookies --no-check-certificate 'https://docs.google.com/uc?export=download&id=0B7EVK8r0v71pZjFTYXZWM3FlRnM' -O- | sed -rn 's/.*confirm=([0-9A-Za-z_]+).*/\\1\\n/p')&id=0B7EVK8r0v71pZjFTYXZWM3FlRnM\" -O 'data/celeba/img_align_celeba.zip' && rm -rf /tmp/cookies.txt"
      ]
    },
    {
      "cell_type": "markdown",
      "metadata": {
        "id": "7leQiAnKwxd9"
      },
      "source": [
        "# CNN modernas"
      ]
    },
    {
      "cell_type": "markdown",
      "metadata": {
        "id": "GFK8Lb99kFwN"
      },
      "source": [
        "Hablar de Imagenet - Transfer Learning"
      ]
    },
    {
      "cell_type": "markdown",
      "metadata": {
        "id": "WBZEA6ldLwbE"
      },
      "source": [
        "## AlexNet"
      ]
    },
    {
      "cell_type": "markdown",
      "metadata": {
        "id": "me4vrwwwlFEY"
      },
      "source": [
        "Krizhevsky, A., Sutskever, I., & Hinton, G. E. (2012). Imagenet classification with deep convolutional neural networks. Advances in neural information processing systems, 25.\n",
        "\n",
        "[Paper](https://proceedings.neurips.cc/paper/2012/file/c399862d3b9d6b76c8436e924a68c45b-Paper.pdf)"
      ]
    },
    {
      "cell_type": "markdown",
      "metadata": {},
      "source": [
        "<img src=\"https://raw.githubusercontent.com/ramajoballester/UC3M-PIC/main/data/content/alexnet.svg\"\n",
        "    width=\"50%\" style=\"background-color:white; display:block; margin-left:auto; margin-right:auto;\">"
      ]
    },
    {
      "cell_type": "code",
      "execution_count": null,
      "metadata": {
        "id": "WFNDOng63e33"
      },
      "outputs": [],
      "source": [
        "batch_size = 64\n",
        "transf = torchvision.transforms.Compose([\n",
        "    torchvision.transforms.ToTensor(),\n",
        "    torchvision.transforms.Resize((224, 224))\n",
        "])\n",
        "\n",
        "gtsrb_train = torchvision.datasets.GTSRB(\n",
        "    root=\"data\", split='train', transform=transf, download=True)\n",
        "gtsrb_test = torchvision.datasets.GTSRB(\n",
        "    root=\"data\", split='test', transform=transf, download=True)\n",
        "\n",
        "train_dataloader = torch.utils.data.DataLoader(gtsrb_train, batch_size,\n",
        "                                               shuffle=True, num_workers=1)\n",
        "test_dataloader = torch.utils.data.DataLoader(gtsrb_test, batch_size,\n",
        "                                               shuffle=False, num_workers=1)"
      ]
    },
    {
      "cell_type": "code",
      "execution_count": null,
      "metadata": {
        "id": "ZuATBuFTDKmU"
      },
      "outputs": [],
      "source": [
        "model = torchvision.models.AlexNet(num_classes=43).to(device)"
      ]
    },
    {
      "cell_type": "code",
      "execution_count": null,
      "metadata": {
        "colab": {
          "base_uri": "https://localhost:8080/"
        },
        "id": "ONZjj_M-kSX3",
        "outputId": "bdc4eba4-968c-40d5-a719-a07c98eab1e5"
      },
      "outputs": [
        {
          "name": "stdout",
          "output_type": "stream",
          "text": [
            "----------------------------------------------------------------\n",
            "        Layer (type)               Output Shape         Param #\n",
            "================================================================\n",
            "            Conv2d-1           [-1, 64, 55, 55]          23,296\n",
            "              ReLU-2           [-1, 64, 55, 55]               0\n",
            "         MaxPool2d-3           [-1, 64, 27, 27]               0\n",
            "            Conv2d-4          [-1, 192, 27, 27]         307,392\n",
            "              ReLU-5          [-1, 192, 27, 27]               0\n",
            "         MaxPool2d-6          [-1, 192, 13, 13]               0\n",
            "            Conv2d-7          [-1, 384, 13, 13]         663,936\n",
            "              ReLU-8          [-1, 384, 13, 13]               0\n",
            "            Conv2d-9          [-1, 256, 13, 13]         884,992\n",
            "             ReLU-10          [-1, 256, 13, 13]               0\n",
            "           Conv2d-11          [-1, 256, 13, 13]         590,080\n",
            "             ReLU-12          [-1, 256, 13, 13]               0\n",
            "        MaxPool2d-13            [-1, 256, 6, 6]               0\n",
            "AdaptiveAvgPool2d-14            [-1, 256, 6, 6]               0\n",
            "          Dropout-15                 [-1, 9216]               0\n",
            "           Linear-16                 [-1, 4096]      37,752,832\n",
            "             ReLU-17                 [-1, 4096]               0\n",
            "          Dropout-18                 [-1, 4096]               0\n",
            "           Linear-19                 [-1, 4096]      16,781,312\n",
            "             ReLU-20                 [-1, 4096]               0\n",
            "           Linear-21                   [-1, 43]         176,171\n",
            "================================================================\n",
            "Total params: 57,180,011\n",
            "Trainable params: 57,180,011\n",
            "Non-trainable params: 0\n",
            "----------------------------------------------------------------\n",
            "Input size (MB): 0.57\n",
            "Forward/backward pass size (MB): 8.37\n",
            "Params size (MB): 218.12\n",
            "Estimated Total Size (MB): 227.07\n",
            "----------------------------------------------------------------\n"
          ]
        }
      ],
      "source": [
        "summary(model.to(device), (3, 224, 224))"
      ]
    },
    {
      "cell_type": "code",
      "execution_count": null,
      "metadata": {
        "id": "nOCy5VdJOJED"
      },
      "outputs": [],
      "source": [
        "model = nn.Sequential(\n",
        "    # Aquí, utilizamos una ventana más grande de 11 x 11 para capturar \n",
        "    # los objetos. Al mismo tiempo, utilizamos un stride de 4 para reducir\n",
        "    # en gran medida la altura y la anchura de la salida. Aquí, el número \n",
        "    # de canales de salida es mucho mayor que en LeNet\n",
        "    nn.Conv2d(3, 96, kernel_size=11, stride=4, padding=1), nn.ReLU(),\n",
        "    nn.MaxPool2d(kernel_size=3, stride=2),\n",
        "\n",
        "    # Hacemos la ventana de convolución más pequeña, con un padding de 2\n",
        "    # para que sea consistente el alto y ancho de la entrada y la salida,\n",
        "    #  y aumentar el número de canales de salida\n",
        "    nn.Conv2d(96, 256, kernel_size=5, padding=2), nn.ReLU(),\n",
        "    nn.MaxPool2d(kernel_size=3, stride=2),\n",
        "\n",
        "    # Usamos tres capas convolucionales sucesivas y una ventana de convolución\n",
        "    # más pequeña. Excepto en la última capa convolucional, el número de canales\n",
        "    # de salida se incrementa. Las capas de pooling no se utilizan para reducir\n",
        "    # el alto y ancho de la entrada después de las dos primeras capas convolucionales\n",
        "    nn.Conv2d(256, 384, kernel_size=3, padding=1), nn.ReLU(),\n",
        "    nn.Conv2d(384, 384, kernel_size=3, padding=1), nn.ReLU(),\n",
        "    nn.Conv2d(384, 256, kernel_size=3, padding=1), nn.ReLU(),\n",
        "    nn.MaxPool2d(kernel_size=3, stride=2),\n",
        "    nn.Flatten(),\n",
        "\n",
        "    # El número de salidas de la capa lineal es órdenes de magnitud más grande \n",
        "    # que en LeNet. Se emplea el dropout para reducir el overfitting\n",
        "    nn.Linear(6400, 4096), nn.ReLU(),\n",
        "    nn.Dropout(p=0.5),\n",
        "    nn.Linear(4096, 4096), nn.ReLU(),\n",
        "    nn.Dropout(p=0.5),\n",
        "\n",
        "    # Capa de salida, el número de canales de salida debe ser el número de\n",
        "    # clases del dataset\n",
        "    nn.Linear(4096, 43))"
      ]
    },
    {
      "cell_type": "code",
      "execution_count": null,
      "metadata": {
        "id": "H8C2B4IRDS9M"
      },
      "outputs": [],
      "source": [
        "x, y = next(iter(train_dataloader))"
      ]
    },
    {
      "cell_type": "code",
      "execution_count": null,
      "metadata": {
        "colab": {
          "base_uri": "https://localhost:8080/",
          "height": 287
        },
        "id": "UE2tqJLADltF",
        "outputId": "e70b373d-318d-4658-d5e3-ab6c37640ef5"
      },
      "outputs": [
        {
          "data": {
            "text/plain": [
              "<matplotlib.image.AxesImage at 0x7fd22ec8dcc0>"
            ]
          },
          "execution_count": 9,
          "metadata": {},
          "output_type": "execute_result"
        },
        {
          "data": {
            "image/png": "[encoded data removed]",
            "text/plain": [
              "<Figure size 432x288 with 1 Axes>"
            ]
          },
          "metadata": {
            "needs_background": "light"
          },
          "output_type": "display_data"
        }
      ],
      "source": [
        "plt.imshow(x[0].permute(1, 2, 0))"
      ]
    },
    {
      "cell_type": "code",
      "execution_count": null,
      "metadata": {
        "id": "2d-UaOZfSLcj"
      },
      "outputs": [],
      "source": [
        "device = torch.device('cuda' if torch.cuda.is_available() else 'cpu')\n",
        "model.to(device)\n",
        "\n",
        "lr = 1e-3\n",
        "gamma = 0.8\n",
        "loss_fn = nn.CrossEntropyLoss()\n",
        "optimizer = torch.optim.Adam(model.parameters(), lr=lr)\n",
        "metrics_fn = torchmetrics.Accuracy().to(device)\n",
        "scheduler = torch.optim.lr_scheduler.ExponentialLR(optimizer, gamma=gamma)"
      ]
    },
    {
      "cell_type": "code",
      "execution_count": null,
      "metadata": {
        "colab": {
          "base_uri": "https://localhost:8080/"
        },
        "id": "D9ZjL8ykND6D",
        "outputId": "0cb0b4c2-bd7e-4dc9-f94c-825b593be621"
      },
      "outputs": [
        {
          "name": "stdout",
          "output_type": "stream",
          "text": [
            "Epoch 0, Precisión (train): 0.601, Loss (train): 1.4727\n",
            "Epoch 0, Precisión (test): 0.520, Loss (test): 2.5482\n",
            "\n",
            "Epoch 1, Precisión (train): 0.905, Loss (train): 0.0602\n",
            "Epoch 1, Precisión (test): 0.803, Loss (test): 1.4694\n",
            "\n",
            "Epoch 2, Precisión (train): 0.941, Loss (train): 0.0915\n",
            "Epoch 2, Precisión (test): 0.833, Loss (test): 1.4653\n",
            "\n",
            "Epoch 3, Precisión (train): 0.975, Loss (train): 0.0041\n",
            "Epoch 3, Precisión (test): 0.864, Loss (test): 1.8084\n",
            "\n",
            "Epoch 4, Precisión (train): 0.984, Loss (train): 0.0291\n",
            "Epoch 4, Precisión (test): 0.879, Loss (test): 1.4687\n",
            "\n",
            "Epoch 5, Precisión (train): 0.989, Loss (train): 0.1985\n",
            "Epoch 5, Precisión (test): 0.876, Loss (test): 1.4062\n",
            "\n",
            "Epoch 6, Precisión (train): 0.995, Loss (train): 0.0004\n",
            "Epoch 6, Precisión (test): 0.897, Loss (test): 1.1950\n",
            "\n",
            "Epoch 7, Precisión (train): 0.993, Loss (train): 0.0001\n",
            "Epoch 7, Precisión (test): 0.893, Loss (test): 1.7245\n",
            "\n",
            "Epoch 8, Precisión (train): 0.995, Loss (train): 0.0114\n",
            "Epoch 8, Precisión (test): 0.892, Loss (test): 2.0889\n",
            "\n",
            "Epoch 9, Precisión (train): 0.998, Loss (train): 0.0000\n",
            "Epoch 9, Precisión (test): 0.895, Loss (test): 1.3986\n",
            "\n"
          ]
        }
      ],
      "source": [
        "n_epochs = 10\n",
        "\n",
        "for epoch in range(n_epochs):\n",
        "    train(model, train_dataloader, optimizer, loss_fn, device)\n",
        "\n",
        "    loss, metrics = test(model, train_dataloader, metrics_fn, loss_fn, device)\n",
        "    print('Epoch {}, Precisión (train): {:.3f}, Loss (train): {:.4f}'.format(epoch, metrics, loss.mean()))\n",
        "        \n",
        "    loss, metrics = test(model, test_dataloader, metrics_fn, loss_fn, device)\n",
        "    print('Epoch {}, Precisión (test): {:.3f}, Loss (test): {:.4f}\\n'.format(epoch, metrics, loss.mean()))\n",
        "\n",
        "    scheduler.step()"
      ]
    },
    {
      "cell_type": "markdown",
      "metadata": {
        "id": "4FeQmUThDunT"
      },
      "source": [
        "## VGG (transfer learning)"
      ]
    },
    {
      "cell_type": "markdown",
      "metadata": {},
      "source": [
        "<img src=\"https://raw.githubusercontent.com/ramajoballester/UC3M-PIC/main/data/content/vgg.svg\"\n",
        "    width=\"50%\" style=\"background-color:white; display:block; margin-left:auto; margin-right:auto;\">"
      ]
    },
    {
      "cell_type": "code",
      "execution_count": null,
      "metadata": {
        "colab": {
          "base_uri": "https://localhost:8080/",
          "height": 67,
          "referenced_widgets": [
            "94f7994d8f2b43b0a0241bcfb55e91f3",
            "d518c1d4e82c41aeb83003fd4b6c9e7c",
            "05c2a8064b2b4159aec6ecf70f75a03f",
            "41da8e50a117413dace193ee6cfda16f",
            "ab0fac12e6114cfe91728cae6f1a232f",
            "8ee1ccbddbba4fca9ab1f6702143fd09",
            "407e2e26f7954dc69eced74f6f86a9bf",
            "2dadfb0f7fff4ec3927c3d1eaceeb411",
            "88f1e5979675429d82976df59eeddf93",
            "212d1ac3f01b48c5986baf606a9e16b9",
            "0bccde76a82c4e29b256f2f5c3870af4"
          ]
        },
        "id": "OK6cbFxXiFI8",
        "outputId": "abe0c80b-df1d-43b7-f451-bf5da4fbed73"
      },
      "outputs": [
        {
          "name": "stderr",
          "output_type": "stream",
          "text": [
            "Downloading: \"https://download.pytorch.org/models/vgg16-397923af.pth\" to /home/ansu/.cache/torch/hub/checkpoints/vgg16-397923af.pth\n"
          ]
        },
        {
          "data": {
            "application/vnd.jupyter.widget-view+json": {
              "model_id": "94f7994d8f2b43b0a0241bcfb55e91f3",
              "version_major": 2,
              "version_minor": 0
            },
            "text/plain": [
              "  0%|          | 0.00/528M [00:00<?, ?B/s]"
            ]
          },
          "metadata": {},
          "output_type": "display_data"
        }
      ],
      "source": [
        "model = torchvision.models.vgg16(pretrained=True)"
      ]
    },
    {
      "cell_type": "code",
      "execution_count": null,
      "metadata": {
        "colab": {
          "base_uri": "https://localhost:8080/"
        },
        "id": "WaXuvbJ1qF2H",
        "outputId": "d16b22e9-7c14-4162-e7ed-0136a57a4bbb"
      },
      "outputs": [
        {
          "name": "stdout",
          "output_type": "stream",
          "text": [
            "----------------------------------------------------------------\n",
            "        Layer (type)               Output Shape         Param #\n",
            "================================================================\n",
            "            Conv2d-1         [-1, 64, 224, 224]           1,792\n",
            "              ReLU-2         [-1, 64, 224, 224]               0\n",
            "            Conv2d-3         [-1, 64, 224, 224]          36,928\n",
            "              ReLU-4         [-1, 64, 224, 224]               0\n",
            "         MaxPool2d-5         [-1, 64, 112, 112]               0\n",
            "            Conv2d-6        [-1, 128, 112, 112]          73,856\n",
            "              ReLU-7        [-1, 128, 112, 112]               0\n",
            "            Conv2d-8        [-1, 128, 112, 112]         147,584\n",
            "              ReLU-9        [-1, 128, 112, 112]               0\n",
            "        MaxPool2d-10          [-1, 128, 56, 56]               0\n",
            "           Conv2d-11          [-1, 256, 56, 56]         295,168\n",
            "             ReLU-12          [-1, 256, 56, 56]               0\n",
            "           Conv2d-13          [-1, 256, 56, 56]         590,080\n",
            "             ReLU-14          [-1, 256, 56, 56]               0\n",
            "           Conv2d-15          [-1, 256, 56, 56]         590,080\n",
            "             ReLU-16          [-1, 256, 56, 56]               0\n",
            "        MaxPool2d-17          [-1, 256, 28, 28]               0\n",
            "           Conv2d-18          [-1, 512, 28, 28]       1,180,160\n",
            "             ReLU-19          [-1, 512, 28, 28]               0\n",
            "           Conv2d-20          [-1, 512, 28, 28]       2,359,808\n",
            "             ReLU-21          [-1, 512, 28, 28]               0\n",
            "           Conv2d-22          [-1, 512, 28, 28]       2,359,808\n",
            "             ReLU-23          [-1, 512, 28, 28]               0\n",
            "        MaxPool2d-24          [-1, 512, 14, 14]               0\n",
            "           Conv2d-25          [-1, 512, 14, 14]       2,359,808\n",
            "             ReLU-26          [-1, 512, 14, 14]               0\n",
            "           Conv2d-27          [-1, 512, 14, 14]       2,359,808\n",
            "             ReLU-28          [-1, 512, 14, 14]               0\n",
            "           Conv2d-29          [-1, 512, 14, 14]       2,359,808\n",
            "             ReLU-30          [-1, 512, 14, 14]               0\n",
            "        MaxPool2d-31            [-1, 512, 7, 7]               0\n",
            "AdaptiveAvgPool2d-32            [-1, 512, 7, 7]               0\n",
            "           Linear-33                 [-1, 4096]     102,764,544\n",
            "             ReLU-34                 [-1, 4096]               0\n",
            "          Dropout-35                 [-1, 4096]               0\n",
            "           Linear-36                 [-1, 4096]      16,781,312\n",
            "             ReLU-37                 [-1, 4096]               0\n",
            "          Dropout-38                 [-1, 4096]               0\n",
            "           Linear-39                 [-1, 1000]       4,097,000\n",
            "================================================================\n",
            "Total params: 138,357,544\n",
            "Trainable params: 138,357,544\n",
            "Non-trainable params: 0\n",
            "----------------------------------------------------------------\n",
            "Input size (MB): 0.57\n",
            "Forward/backward pass size (MB): 218.78\n",
            "Params size (MB): 527.79\n",
            "Estimated Total Size (MB): 747.15\n",
            "----------------------------------------------------------------\n"
          ]
        }
      ],
      "source": [
        "summary(model.to(device), (3, 224, 224))"
      ]
    },
    {
      "cell_type": "markdown",
      "metadata": {
        "id": "isbARKQIl8u4"
      },
      "source": [
        "Eliminar última capa y añadir capa propia con 43 clases"
      ]
    },
    {
      "cell_type": "markdown",
      "metadata": {
        "id": "Rt6jPToYqrE3"
      },
      "source": [
        "## ResNet"
      ]
    },
    {
      "cell_type": "code",
      "execution_count": null,
      "metadata": {
        "colab": {
          "base_uri": "https://localhost:8080/",
          "height": 67,
          "referenced_widgets": [
            "c3b80ec2a7bb4f8b9dc922900fdce9b4",
            "ba1a7787ef4e44688aea67b81b07ddd4",
            "de9ae309f7374bcc8d789b16b17094b5",
            "437adbdb0cb449a0aa0d082f47a8d0f7",
            "4ec3a133b54842d792849092d868f434",
            "412d5ef16d3a4ab7b1a23995f1a26036",
            "535bfc8fdd1844f2bb12579e78d849a3",
            "56fece85c87644318e58fb4c697d6033",
            "43ffcff9ee0845f49a2d183e9995cdf1",
            "460249cf03454225a0484c282b1867f6",
            "c7a64d9169814e6691280a9fde9c619d"
          ]
        },
        "id": "rCcO6PeXqobx",
        "outputId": "f6854b36-8dff-441a-f914-ccc762c81076"
      },
      "outputs": [
        {
          "name": "stderr",
          "output_type": "stream",
          "text": [
            "Downloading: \"https://download.pytorch.org/models/resnet152-394f9c45.pth\" to /home/ansu/.cache/torch/hub/checkpoints/resnet152-394f9c45.pth\n"
          ]
        },
        {
          "data": {
            "application/vnd.jupyter.widget-view+json": {
              "model_id": "c3b80ec2a7bb4f8b9dc922900fdce9b4",
              "version_major": 2,
              "version_minor": 0
            },
            "text/plain": [
              "  0%|          | 0.00/230M [00:00<?, ?B/s]"
            ]
          },
          "metadata": {},
          "output_type": "display_data"
        }
      ],
      "source": [
        "model = torchvision.models.resnet152(pretrained=True)"
      ]
    },
    {
      "cell_type": "code",
      "execution_count": null,
      "metadata": {
        "colab": {
          "base_uri": "https://localhost:8080/"
        },
        "id": "gW0t5-F-qp12",
        "outputId": "09c953a7-664b-4166-e1f8-085613a62106"
      },
      "outputs": [
        {
          "name": "stdout",
          "output_type": "stream",
          "text": [
            "----------------------------------------------------------------\n",
            "        Layer (type)               Output Shape         Param #\n",
            "================================================================\n",
            "            Conv2d-1         [-1, 64, 112, 112]           9,408\n",
            "       BatchNorm2d-2         [-1, 64, 112, 112]             128\n",
            "              ReLU-3         [-1, 64, 112, 112]               0\n",
            "         MaxPool2d-4           [-1, 64, 56, 56]               0\n",
            "            Conv2d-5           [-1, 64, 56, 56]           4,096\n",
            "       BatchNorm2d-6           [-1, 64, 56, 56]             128\n",
            "              ReLU-7           [-1, 64, 56, 56]               0\n",
            "            Conv2d-8           [-1, 64, 56, 56]          36,864\n",
            "       BatchNorm2d-9           [-1, 64, 56, 56]             128\n",
            "             ReLU-10           [-1, 64, 56, 56]               0\n",
            "           Conv2d-11          [-1, 256, 56, 56]          16,384\n",
            "      BatchNorm2d-12          [-1, 256, 56, 56]             512\n",
            "           Conv2d-13          [-1, 256, 56, 56]          16,384\n",
            "      BatchNorm2d-14          [-1, 256, 56, 56]             512\n",
            "             ReLU-15          [-1, 256, 56, 56]               0\n",
            "       Bottleneck-16          [-1, 256, 56, 56]               0\n",
            "           Conv2d-17           [-1, 64, 56, 56]          16,384\n",
            "      BatchNorm2d-18           [-1, 64, 56, 56]             128\n",
            "             ReLU-19           [-1, 64, 56, 56]               0\n",
            "           Conv2d-20           [-1, 64, 56, 56]          36,864\n",
            "      BatchNorm2d-21           [-1, 64, 56, 56]             128\n",
            "             ReLU-22           [-1, 64, 56, 56]               0\n",
            "           Conv2d-23          [-1, 256, 56, 56]          16,384\n",
            "      BatchNorm2d-24          [-1, 256, 56, 56]             512\n",
            "             ReLU-25          [-1, 256, 56, 56]               0\n",
            "       Bottleneck-26          [-1, 256, 56, 56]               0\n",
            "           Conv2d-27           [-1, 64, 56, 56]          16,384\n",
            "      BatchNorm2d-28           [-1, 64, 56, 56]             128\n",
            "             ReLU-29           [-1, 64, 56, 56]               0\n",
            "           Conv2d-30           [-1, 64, 56, 56]          36,864\n",
            "      BatchNorm2d-31           [-1, 64, 56, 56]             128\n",
            "             ReLU-32           [-1, 64, 56, 56]               0\n",
            "           Conv2d-33          [-1, 256, 56, 56]          16,384\n",
            "      BatchNorm2d-34          [-1, 256, 56, 56]             512\n",
            "             ReLU-35          [-1, 256, 56, 56]               0\n",
            "       Bottleneck-36          [-1, 256, 56, 56]               0\n",
            "           Conv2d-37          [-1, 128, 56, 56]          32,768\n",
            "      BatchNorm2d-38          [-1, 128, 56, 56]             256\n",
            "             ReLU-39          [-1, 128, 56, 56]               0\n",
            "           Conv2d-40          [-1, 128, 28, 28]         147,456\n",
            "      BatchNorm2d-41          [-1, 128, 28, 28]             256\n",
            "             ReLU-42          [-1, 128, 28, 28]               0\n",
            "           Conv2d-43          [-1, 512, 28, 28]          65,536\n",
            "      BatchNorm2d-44          [-1, 512, 28, 28]           1,024\n",
            "           Conv2d-45          [-1, 512, 28, 28]         131,072\n",
            "      BatchNorm2d-46          [-1, 512, 28, 28]           1,024\n",
            "             ReLU-47          [-1, 512, 28, 28]               0\n",
            "       Bottleneck-48          [-1, 512, 28, 28]               0\n",
            "           Conv2d-49          [-1, 128, 28, 28]          65,536\n",
            "      BatchNorm2d-50          [-1, 128, 28, 28]             256\n",
            "             ReLU-51          [-1, 128, 28, 28]               0\n",
            "           Conv2d-52          [-1, 128, 28, 28]         147,456\n",
            "      BatchNorm2d-53          [-1, 128, 28, 28]             256\n",
            "             ReLU-54          [-1, 128, 28, 28]               0\n",
            "           Conv2d-55          [-1, 512, 28, 28]          65,536\n",
            "      BatchNorm2d-56          [-1, 512, 28, 28]           1,024\n",
            "             ReLU-57          [-1, 512, 28, 28]               0\n",
            "       Bottleneck-58          [-1, 512, 28, 28]               0\n",
            "           Conv2d-59          [-1, 128, 28, 28]          65,536\n",
            "      BatchNorm2d-60          [-1, 128, 28, 28]             256\n",
            "             ReLU-61          [-1, 128, 28, 28]               0\n",
            "           Conv2d-62          [-1, 128, 28, 28]         147,456\n",
            "      BatchNorm2d-63          [-1, 128, 28, 28]             256\n",
            "             ReLU-64          [-1, 128, 28, 28]               0\n",
            "           Conv2d-65          [-1, 512, 28, 28]          65,536\n",
            "      BatchNorm2d-66          [-1, 512, 28, 28]           1,024\n",
            "             ReLU-67          [-1, 512, 28, 28]               0\n",
            "       Bottleneck-68          [-1, 512, 28, 28]               0\n",
            "           Conv2d-69          [-1, 128, 28, 28]          65,536\n",
            "      BatchNorm2d-70          [-1, 128, 28, 28]             256\n",
            "             ReLU-71          [-1, 128, 28, 28]               0\n",
            "           Conv2d-72          [-1, 128, 28, 28]         147,456\n",
            "      BatchNorm2d-73          [-1, 128, 28, 28]             256\n",
            "             ReLU-74          [-1, 128, 28, 28]               0\n",
            "           Conv2d-75          [-1, 512, 28, 28]          65,536\n",
            "      BatchNorm2d-76          [-1, 512, 28, 28]           1,024\n",
            "             ReLU-77          [-1, 512, 28, 28]               0\n",
            "       Bottleneck-78          [-1, 512, 28, 28]               0\n",
            "           Conv2d-79          [-1, 128, 28, 28]          65,536\n",
            "      BatchNorm2d-80          [-1, 128, 28, 28]             256\n",
            "             ReLU-81          [-1, 128, 28, 28]               0\n",
            "           Conv2d-82          [-1, 128, 28, 28]         147,456\n",
            "      BatchNorm2d-83          [-1, 128, 28, 28]             256\n",
            "             ReLU-84          [-1, 128, 28, 28]               0\n",
            "           Conv2d-85          [-1, 512, 28, 28]          65,536\n",
            "      BatchNorm2d-86          [-1, 512, 28, 28]           1,024\n",
            "             ReLU-87          [-1, 512, 28, 28]               0\n",
            "       Bottleneck-88          [-1, 512, 28, 28]               0\n",
            "           Conv2d-89          [-1, 128, 28, 28]          65,536\n",
            "      BatchNorm2d-90          [-1, 128, 28, 28]             256\n",
            "             ReLU-91          [-1, 128, 28, 28]               0\n",
            "           Conv2d-92          [-1, 128, 28, 28]         147,456\n",
            "      BatchNorm2d-93          [-1, 128, 28, 28]             256\n",
            "             ReLU-94          [-1, 128, 28, 28]               0\n",
            "           Conv2d-95          [-1, 512, 28, 28]          65,536\n",
            "      BatchNorm2d-96          [-1, 512, 28, 28]           1,024\n",
            "             ReLU-97          [-1, 512, 28, 28]               0\n",
            "       Bottleneck-98          [-1, 512, 28, 28]               0\n",
            "           Conv2d-99          [-1, 128, 28, 28]          65,536\n",
            "     BatchNorm2d-100          [-1, 128, 28, 28]             256\n",
            "            ReLU-101          [-1, 128, 28, 28]               0\n",
            "          Conv2d-102          [-1, 128, 28, 28]         147,456\n",
            "     BatchNorm2d-103          [-1, 128, 28, 28]             256\n",
            "            ReLU-104          [-1, 128, 28, 28]               0\n",
            "          Conv2d-105          [-1, 512, 28, 28]          65,536\n",
            "     BatchNorm2d-106          [-1, 512, 28, 28]           1,024\n",
            "            ReLU-107          [-1, 512, 28, 28]               0\n",
            "      Bottleneck-108          [-1, 512, 28, 28]               0\n",
            "          Conv2d-109          [-1, 128, 28, 28]          65,536\n",
            "     BatchNorm2d-110          [-1, 128, 28, 28]             256\n",
            "            ReLU-111          [-1, 128, 28, 28]               0\n",
            "          Conv2d-112          [-1, 128, 28, 28]         147,456\n",
            "     BatchNorm2d-113          [-1, 128, 28, 28]             256\n",
            "            ReLU-114          [-1, 128, 28, 28]               0\n",
            "          Conv2d-115          [-1, 512, 28, 28]          65,536\n",
            "     BatchNorm2d-116          [-1, 512, 28, 28]           1,024\n",
            "            ReLU-117          [-1, 512, 28, 28]               0\n",
            "      Bottleneck-118          [-1, 512, 28, 28]               0\n",
            "          Conv2d-119          [-1, 256, 28, 28]         131,072\n",
            "     BatchNorm2d-120          [-1, 256, 28, 28]             512\n",
            "            ReLU-121          [-1, 256, 28, 28]               0\n",
            "          Conv2d-122          [-1, 256, 14, 14]         589,824\n",
            "     BatchNorm2d-123          [-1, 256, 14, 14]             512\n",
            "            ReLU-124          [-1, 256, 14, 14]               0\n",
            "          Conv2d-125         [-1, 1024, 14, 14]         262,144\n",
            "     BatchNorm2d-126         [-1, 1024, 14, 14]           2,048\n",
            "          Conv2d-127         [-1, 1024, 14, 14]         524,288\n",
            "     BatchNorm2d-128         [-1, 1024, 14, 14]           2,048\n",
            "            ReLU-129         [-1, 1024, 14, 14]               0\n",
            "      Bottleneck-130         [-1, 1024, 14, 14]               0\n",
            "          Conv2d-131          [-1, 256, 14, 14]         262,144\n",
            "     BatchNorm2d-132          [-1, 256, 14, 14]             512\n",
            "            ReLU-133          [-1, 256, 14, 14]               0\n",
            "          Conv2d-134          [-1, 256, 14, 14]         589,824\n",
            "     BatchNorm2d-135          [-1, 256, 14, 14]             512\n",
            "            ReLU-136          [-1, 256, 14, 14]               0\n",
            "          Conv2d-137         [-1, 1024, 14, 14]         262,144\n",
            "     BatchNorm2d-138         [-1, 1024, 14, 14]           2,048\n",
            "            ReLU-139         [-1, 1024, 14, 14]               0\n",
            "      Bottleneck-140         [-1, 1024, 14, 14]               0\n",
            "          Conv2d-141          [-1, 256, 14, 14]         262,144\n",
            "     BatchNorm2d-142          [-1, 256, 14, 14]             512\n",
            "            ReLU-143          [-1, 256, 14, 14]               0\n",
            "          Conv2d-144          [-1, 256, 14, 14]         589,824\n",
            "     BatchNorm2d-145          [-1, 256, 14, 14]             512\n",
            "            ReLU-146          [-1, 256, 14, 14]               0\n",
            "          Conv2d-147         [-1, 1024, 14, 14]         262,144\n",
            "     BatchNorm2d-148         [-1, 1024, 14, 14]           2,048\n",
            "            ReLU-149         [-1, 1024, 14, 14]               0\n",
            "      Bottleneck-150         [-1, 1024, 14, 14]               0\n",
            "          Conv2d-151          [-1, 256, 14, 14]         262,144\n",
            "     BatchNorm2d-152          [-1, 256, 14, 14]             512\n",
            "            ReLU-153          [-1, 256, 14, 14]               0\n",
            "          Conv2d-154          [-1, 256, 14, 14]         589,824\n",
            "     BatchNorm2d-155          [-1, 256, 14, 14]             512\n",
            "            ReLU-156          [-1, 256, 14, 14]               0\n",
            "          Conv2d-157         [-1, 1024, 14, 14]         262,144\n",
            "     BatchNorm2d-158         [-1, 1024, 14, 14]           2,048\n",
            "            ReLU-159         [-1, 1024, 14, 14]               0\n",
            "      Bottleneck-160         [-1, 1024, 14, 14]               0\n",
            "          Conv2d-161          [-1, 256, 14, 14]         262,144\n",
            "     BatchNorm2d-162          [-1, 256, 14, 14]             512\n",
            "            ReLU-163          [-1, 256, 14, 14]               0\n",
            "          Conv2d-164          [-1, 256, 14, 14]         589,824\n",
            "     BatchNorm2d-165          [-1, 256, 14, 14]             512\n",
            "            ReLU-166          [-1, 256, 14, 14]               0\n",
            "          Conv2d-167         [-1, 1024, 14, 14]         262,144\n",
            "     BatchNorm2d-168         [-1, 1024, 14, 14]           2,048\n",
            "            ReLU-169         [-1, 1024, 14, 14]               0\n",
            "      Bottleneck-170         [-1, 1024, 14, 14]               0\n",
            "          Conv2d-171          [-1, 256, 14, 14]         262,144\n",
            "     BatchNorm2d-172          [-1, 256, 14, 14]             512\n",
            "            ReLU-173          [-1, 256, 14, 14]               0\n",
            "          Conv2d-174          [-1, 256, 14, 14]         589,824\n",
            "     BatchNorm2d-175          [-1, 256, 14, 14]             512\n",
            "            ReLU-176          [-1, 256, 14, 14]               0\n",
            "          Conv2d-177         [-1, 1024, 14, 14]         262,144\n",
            "     BatchNorm2d-178         [-1, 1024, 14, 14]           2,048\n",
            "            ReLU-179         [-1, 1024, 14, 14]               0\n",
            "      Bottleneck-180         [-1, 1024, 14, 14]               0\n",
            "          Conv2d-181          [-1, 256, 14, 14]         262,144\n",
            "     BatchNorm2d-182          [-1, 256, 14, 14]             512\n",
            "            ReLU-183          [-1, 256, 14, 14]               0\n",
            "          Conv2d-184          [-1, 256, 14, 14]         589,824\n",
            "     BatchNorm2d-185          [-1, 256, 14, 14]             512\n",
            "            ReLU-186          [-1, 256, 14, 14]               0\n",
            "          Conv2d-187         [-1, 1024, 14, 14]         262,144\n",
            "     BatchNorm2d-188         [-1, 1024, 14, 14]           2,048\n",
            "            ReLU-189         [-1, 1024, 14, 14]               0\n",
            "      Bottleneck-190         [-1, 1024, 14, 14]               0\n",
            "          Conv2d-191          [-1, 256, 14, 14]         262,144\n",
            "     BatchNorm2d-192          [-1, 256, 14, 14]             512\n",
            "            ReLU-193          [-1, 256, 14, 14]               0\n",
            "          Conv2d-194          [-1, 256, 14, 14]         589,824\n",
            "     BatchNorm2d-195          [-1, 256, 14, 14]             512\n",
            "            ReLU-196          [-1, 256, 14, 14]               0\n",
            "          Conv2d-197         [-1, 1024, 14, 14]         262,144\n",
            "     BatchNorm2d-198         [-1, 1024, 14, 14]           2,048\n",
            "            ReLU-199         [-1, 1024, 14, 14]               0\n",
            "      Bottleneck-200         [-1, 1024, 14, 14]               0\n",
            "          Conv2d-201          [-1, 256, 14, 14]         262,144\n",
            "     BatchNorm2d-202          [-1, 256, 14, 14]             512\n",
            "            ReLU-203          [-1, 256, 14, 14]               0\n",
            "          Conv2d-204          [-1, 256, 14, 14]         589,824\n",
            "     BatchNorm2d-205          [-1, 256, 14, 14]             512\n",
            "            ReLU-206          [-1, 256, 14, 14]               0\n",
            "          Conv2d-207         [-1, 1024, 14, 14]         262,144\n",
            "     BatchNorm2d-208         [-1, 1024, 14, 14]           2,048\n",
            "            ReLU-209         [-1, 1024, 14, 14]               0\n",
            "      Bottleneck-210         [-1, 1024, 14, 14]               0\n",
            "          Conv2d-211          [-1, 256, 14, 14]         262,144\n",
            "     BatchNorm2d-212          [-1, 256, 14, 14]             512\n",
            "            ReLU-213          [-1, 256, 14, 14]               0\n",
            "          Conv2d-214          [-1, 256, 14, 14]         589,824\n",
            "     BatchNorm2d-215          [-1, 256, 14, 14]             512\n",
            "            ReLU-216          [-1, 256, 14, 14]               0\n",
            "          Conv2d-217         [-1, 1024, 14, 14]         262,144\n",
            "     BatchNorm2d-218         [-1, 1024, 14, 14]           2,048\n",
            "            ReLU-219         [-1, 1024, 14, 14]               0\n",
            "      Bottleneck-220         [-1, 1024, 14, 14]               0\n",
            "          Conv2d-221          [-1, 256, 14, 14]         262,144\n",
            "     BatchNorm2d-222          [-1, 256, 14, 14]             512\n",
            "            ReLU-223          [-1, 256, 14, 14]               0\n",
            "          Conv2d-224          [-1, 256, 14, 14]         589,824\n",
            "     BatchNorm2d-225          [-1, 256, 14, 14]             512\n",
            "            ReLU-226          [-1, 256, 14, 14]               0\n",
            "          Conv2d-227         [-1, 1024, 14, 14]         262,144\n",
            "     BatchNorm2d-228         [-1, 1024, 14, 14]           2,048\n",
            "            ReLU-229         [-1, 1024, 14, 14]               0\n",
            "      Bottleneck-230         [-1, 1024, 14, 14]               0\n",
            "          Conv2d-231          [-1, 256, 14, 14]         262,144\n",
            "     BatchNorm2d-232          [-1, 256, 14, 14]             512\n",
            "            ReLU-233          [-1, 256, 14, 14]               0\n",
            "          Conv2d-234          [-1, 256, 14, 14]         589,824\n",
            "     BatchNorm2d-235          [-1, 256, 14, 14]             512\n",
            "            ReLU-236          [-1, 256, 14, 14]               0\n",
            "          Conv2d-237         [-1, 1024, 14, 14]         262,144\n",
            "     BatchNorm2d-238         [-1, 1024, 14, 14]           2,048\n",
            "            ReLU-239         [-1, 1024, 14, 14]               0\n",
            "      Bottleneck-240         [-1, 1024, 14, 14]               0\n",
            "          Conv2d-241          [-1, 256, 14, 14]         262,144\n",
            "     BatchNorm2d-242          [-1, 256, 14, 14]             512\n",
            "            ReLU-243          [-1, 256, 14, 14]               0\n",
            "          Conv2d-244          [-1, 256, 14, 14]         589,824\n",
            "     BatchNorm2d-245          [-1, 256, 14, 14]             512\n",
            "            ReLU-246          [-1, 256, 14, 14]               0\n",
            "          Conv2d-247         [-1, 1024, 14, 14]         262,144\n",
            "     BatchNorm2d-248         [-1, 1024, 14, 14]           2,048\n",
            "            ReLU-249         [-1, 1024, 14, 14]               0\n",
            "      Bottleneck-250         [-1, 1024, 14, 14]               0\n",
            "          Conv2d-251          [-1, 256, 14, 14]         262,144\n",
            "     BatchNorm2d-252          [-1, 256, 14, 14]             512\n",
            "            ReLU-253          [-1, 256, 14, 14]               0\n",
            "          Conv2d-254          [-1, 256, 14, 14]         589,824\n",
            "     BatchNorm2d-255          [-1, 256, 14, 14]             512\n",
            "            ReLU-256          [-1, 256, 14, 14]               0\n",
            "          Conv2d-257         [-1, 1024, 14, 14]         262,144\n",
            "     BatchNorm2d-258         [-1, 1024, 14, 14]           2,048\n",
            "            ReLU-259         [-1, 1024, 14, 14]               0\n",
            "      Bottleneck-260         [-1, 1024, 14, 14]               0\n",
            "          Conv2d-261          [-1, 256, 14, 14]         262,144\n",
            "     BatchNorm2d-262          [-1, 256, 14, 14]             512\n",
            "            ReLU-263          [-1, 256, 14, 14]               0\n",
            "          Conv2d-264          [-1, 256, 14, 14]         589,824\n",
            "     BatchNorm2d-265          [-1, 256, 14, 14]             512\n",
            "            ReLU-266          [-1, 256, 14, 14]               0\n",
            "          Conv2d-267         [-1, 1024, 14, 14]         262,144\n",
            "     BatchNorm2d-268         [-1, 1024, 14, 14]           2,048\n",
            "            ReLU-269         [-1, 1024, 14, 14]               0\n",
            "      Bottleneck-270         [-1, 1024, 14, 14]               0\n",
            "          Conv2d-271          [-1, 256, 14, 14]         262,144\n",
            "     BatchNorm2d-272          [-1, 256, 14, 14]             512\n",
            "            ReLU-273          [-1, 256, 14, 14]               0\n",
            "          Conv2d-274          [-1, 256, 14, 14]         589,824\n",
            "     BatchNorm2d-275          [-1, 256, 14, 14]             512\n",
            "            ReLU-276          [-1, 256, 14, 14]               0\n",
            "          Conv2d-277         [-1, 1024, 14, 14]         262,144\n",
            "     BatchNorm2d-278         [-1, 1024, 14, 14]           2,048\n",
            "            ReLU-279         [-1, 1024, 14, 14]               0\n",
            "      Bottleneck-280         [-1, 1024, 14, 14]               0\n",
            "          Conv2d-281          [-1, 256, 14, 14]         262,144\n",
            "     BatchNorm2d-282          [-1, 256, 14, 14]             512\n",
            "            ReLU-283          [-1, 256, 14, 14]               0\n",
            "          Conv2d-284          [-1, 256, 14, 14]         589,824\n",
            "     BatchNorm2d-285          [-1, 256, 14, 14]             512\n",
            "            ReLU-286          [-1, 256, 14, 14]               0\n",
            "          Conv2d-287         [-1, 1024, 14, 14]         262,144\n",
            "     BatchNorm2d-288         [-1, 1024, 14, 14]           2,048\n",
            "            ReLU-289         [-1, 1024, 14, 14]               0\n",
            "      Bottleneck-290         [-1, 1024, 14, 14]               0\n",
            "          Conv2d-291          [-1, 256, 14, 14]         262,144\n",
            "     BatchNorm2d-292          [-1, 256, 14, 14]             512\n",
            "            ReLU-293          [-1, 256, 14, 14]               0\n",
            "          Conv2d-294          [-1, 256, 14, 14]         589,824\n",
            "     BatchNorm2d-295          [-1, 256, 14, 14]             512\n",
            "            ReLU-296          [-1, 256, 14, 14]               0\n",
            "          Conv2d-297         [-1, 1024, 14, 14]         262,144\n",
            "     BatchNorm2d-298         [-1, 1024, 14, 14]           2,048\n",
            "            ReLU-299         [-1, 1024, 14, 14]               0\n",
            "      Bottleneck-300         [-1, 1024, 14, 14]               0\n",
            "          Conv2d-301          [-1, 256, 14, 14]         262,144\n",
            "     BatchNorm2d-302          [-1, 256, 14, 14]             512\n",
            "            ReLU-303          [-1, 256, 14, 14]               0\n",
            "          Conv2d-304          [-1, 256, 14, 14]         589,824\n",
            "     BatchNorm2d-305          [-1, 256, 14, 14]             512\n",
            "            ReLU-306          [-1, 256, 14, 14]               0\n",
            "          Conv2d-307         [-1, 1024, 14, 14]         262,144\n",
            "     BatchNorm2d-308         [-1, 1024, 14, 14]           2,048\n",
            "            ReLU-309         [-1, 1024, 14, 14]               0\n",
            "      Bottleneck-310         [-1, 1024, 14, 14]               0\n",
            "          Conv2d-311          [-1, 256, 14, 14]         262,144\n",
            "     BatchNorm2d-312          [-1, 256, 14, 14]             512\n",
            "            ReLU-313          [-1, 256, 14, 14]               0\n",
            "          Conv2d-314          [-1, 256, 14, 14]         589,824\n",
            "     BatchNorm2d-315          [-1, 256, 14, 14]             512\n",
            "            ReLU-316          [-1, 256, 14, 14]               0\n",
            "          Conv2d-317         [-1, 1024, 14, 14]         262,144\n",
            "     BatchNorm2d-318         [-1, 1024, 14, 14]           2,048\n",
            "            ReLU-319         [-1, 1024, 14, 14]               0\n",
            "      Bottleneck-320         [-1, 1024, 14, 14]               0\n",
            "          Conv2d-321          [-1, 256, 14, 14]         262,144\n",
            "     BatchNorm2d-322          [-1, 256, 14, 14]             512\n",
            "            ReLU-323          [-1, 256, 14, 14]               0\n",
            "          Conv2d-324          [-1, 256, 14, 14]         589,824\n",
            "     BatchNorm2d-325          [-1, 256, 14, 14]             512\n",
            "            ReLU-326          [-1, 256, 14, 14]               0\n",
            "          Conv2d-327         [-1, 1024, 14, 14]         262,144\n",
            "     BatchNorm2d-328         [-1, 1024, 14, 14]           2,048\n",
            "            ReLU-329         [-1, 1024, 14, 14]               0\n",
            "      Bottleneck-330         [-1, 1024, 14, 14]               0\n",
            "          Conv2d-331          [-1, 256, 14, 14]         262,144\n",
            "     BatchNorm2d-332          [-1, 256, 14, 14]             512\n",
            "            ReLU-333          [-1, 256, 14, 14]               0\n",
            "          Conv2d-334          [-1, 256, 14, 14]         589,824\n",
            "     BatchNorm2d-335          [-1, 256, 14, 14]             512\n",
            "            ReLU-336          [-1, 256, 14, 14]               0\n",
            "          Conv2d-337         [-1, 1024, 14, 14]         262,144\n",
            "     BatchNorm2d-338         [-1, 1024, 14, 14]           2,048\n",
            "            ReLU-339         [-1, 1024, 14, 14]               0\n",
            "      Bottleneck-340         [-1, 1024, 14, 14]               0\n",
            "          Conv2d-341          [-1, 256, 14, 14]         262,144\n",
            "     BatchNorm2d-342          [-1, 256, 14, 14]             512\n",
            "            ReLU-343          [-1, 256, 14, 14]               0\n",
            "          Conv2d-344          [-1, 256, 14, 14]         589,824\n",
            "     BatchNorm2d-345          [-1, 256, 14, 14]             512\n",
            "            ReLU-346          [-1, 256, 14, 14]               0\n",
            "          Conv2d-347         [-1, 1024, 14, 14]         262,144\n",
            "     BatchNorm2d-348         [-1, 1024, 14, 14]           2,048\n",
            "            ReLU-349         [-1, 1024, 14, 14]               0\n",
            "      Bottleneck-350         [-1, 1024, 14, 14]               0\n",
            "          Conv2d-351          [-1, 256, 14, 14]         262,144\n",
            "     BatchNorm2d-352          [-1, 256, 14, 14]             512\n",
            "            ReLU-353          [-1, 256, 14, 14]               0\n",
            "          Conv2d-354          [-1, 256, 14, 14]         589,824\n",
            "     BatchNorm2d-355          [-1, 256, 14, 14]             512\n",
            "            ReLU-356          [-1, 256, 14, 14]               0\n",
            "          Conv2d-357         [-1, 1024, 14, 14]         262,144\n",
            "     BatchNorm2d-358         [-1, 1024, 14, 14]           2,048\n",
            "            ReLU-359         [-1, 1024, 14, 14]               0\n",
            "      Bottleneck-360         [-1, 1024, 14, 14]               0\n",
            "          Conv2d-361          [-1, 256, 14, 14]         262,144\n",
            "     BatchNorm2d-362          [-1, 256, 14, 14]             512\n",
            "            ReLU-363          [-1, 256, 14, 14]               0\n",
            "          Conv2d-364          [-1, 256, 14, 14]         589,824\n",
            "     BatchNorm2d-365          [-1, 256, 14, 14]             512\n",
            "            ReLU-366          [-1, 256, 14, 14]               0\n",
            "          Conv2d-367         [-1, 1024, 14, 14]         262,144\n",
            "     BatchNorm2d-368         [-1, 1024, 14, 14]           2,048\n",
            "            ReLU-369         [-1, 1024, 14, 14]               0\n",
            "      Bottleneck-370         [-1, 1024, 14, 14]               0\n",
            "          Conv2d-371          [-1, 256, 14, 14]         262,144\n",
            "     BatchNorm2d-372          [-1, 256, 14, 14]             512\n",
            "            ReLU-373          [-1, 256, 14, 14]               0\n",
            "          Conv2d-374          [-1, 256, 14, 14]         589,824\n",
            "     BatchNorm2d-375          [-1, 256, 14, 14]             512\n",
            "            ReLU-376          [-1, 256, 14, 14]               0\n",
            "          Conv2d-377         [-1, 1024, 14, 14]         262,144\n",
            "     BatchNorm2d-378         [-1, 1024, 14, 14]           2,048\n",
            "            ReLU-379         [-1, 1024, 14, 14]               0\n",
            "      Bottleneck-380         [-1, 1024, 14, 14]               0\n",
            "          Conv2d-381          [-1, 256, 14, 14]         262,144\n",
            "     BatchNorm2d-382          [-1, 256, 14, 14]             512\n",
            "            ReLU-383          [-1, 256, 14, 14]               0\n",
            "          Conv2d-384          [-1, 256, 14, 14]         589,824\n",
            "     BatchNorm2d-385          [-1, 256, 14, 14]             512\n",
            "            ReLU-386          [-1, 256, 14, 14]               0\n",
            "          Conv2d-387         [-1, 1024, 14, 14]         262,144\n",
            "     BatchNorm2d-388         [-1, 1024, 14, 14]           2,048\n",
            "            ReLU-389         [-1, 1024, 14, 14]               0\n",
            "      Bottleneck-390         [-1, 1024, 14, 14]               0\n",
            "          Conv2d-391          [-1, 256, 14, 14]         262,144\n",
            "     BatchNorm2d-392          [-1, 256, 14, 14]             512\n",
            "            ReLU-393          [-1, 256, 14, 14]               0\n",
            "          Conv2d-394          [-1, 256, 14, 14]         589,824\n",
            "     BatchNorm2d-395          [-1, 256, 14, 14]             512\n",
            "            ReLU-396          [-1, 256, 14, 14]               0\n",
            "          Conv2d-397         [-1, 1024, 14, 14]         262,144\n",
            "     BatchNorm2d-398         [-1, 1024, 14, 14]           2,048\n",
            "            ReLU-399         [-1, 1024, 14, 14]               0\n",
            "      Bottleneck-400         [-1, 1024, 14, 14]               0\n",
            "          Conv2d-401          [-1, 256, 14, 14]         262,144\n",
            "     BatchNorm2d-402          [-1, 256, 14, 14]             512\n",
            "            ReLU-403          [-1, 256, 14, 14]               0\n",
            "          Conv2d-404          [-1, 256, 14, 14]         589,824\n",
            "     BatchNorm2d-405          [-1, 256, 14, 14]             512\n",
            "            ReLU-406          [-1, 256, 14, 14]               0\n",
            "          Conv2d-407         [-1, 1024, 14, 14]         262,144\n",
            "     BatchNorm2d-408         [-1, 1024, 14, 14]           2,048\n",
            "            ReLU-409         [-1, 1024, 14, 14]               0\n",
            "      Bottleneck-410         [-1, 1024, 14, 14]               0\n",
            "          Conv2d-411          [-1, 256, 14, 14]         262,144\n",
            "     BatchNorm2d-412          [-1, 256, 14, 14]             512\n",
            "            ReLU-413          [-1, 256, 14, 14]               0\n",
            "          Conv2d-414          [-1, 256, 14, 14]         589,824\n",
            "     BatchNorm2d-415          [-1, 256, 14, 14]             512\n",
            "            ReLU-416          [-1, 256, 14, 14]               0\n",
            "          Conv2d-417         [-1, 1024, 14, 14]         262,144\n",
            "     BatchNorm2d-418         [-1, 1024, 14, 14]           2,048\n",
            "            ReLU-419         [-1, 1024, 14, 14]               0\n",
            "      Bottleneck-420         [-1, 1024, 14, 14]               0\n",
            "          Conv2d-421          [-1, 256, 14, 14]         262,144\n",
            "     BatchNorm2d-422          [-1, 256, 14, 14]             512\n",
            "            ReLU-423          [-1, 256, 14, 14]               0\n",
            "          Conv2d-424          [-1, 256, 14, 14]         589,824\n",
            "     BatchNorm2d-425          [-1, 256, 14, 14]             512\n",
            "            ReLU-426          [-1, 256, 14, 14]               0\n",
            "          Conv2d-427         [-1, 1024, 14, 14]         262,144\n",
            "     BatchNorm2d-428         [-1, 1024, 14, 14]           2,048\n",
            "            ReLU-429         [-1, 1024, 14, 14]               0\n",
            "      Bottleneck-430         [-1, 1024, 14, 14]               0\n",
            "          Conv2d-431          [-1, 256, 14, 14]         262,144\n",
            "     BatchNorm2d-432          [-1, 256, 14, 14]             512\n",
            "            ReLU-433          [-1, 256, 14, 14]               0\n",
            "          Conv2d-434          [-1, 256, 14, 14]         589,824\n",
            "     BatchNorm2d-435          [-1, 256, 14, 14]             512\n",
            "            ReLU-436          [-1, 256, 14, 14]               0\n",
            "          Conv2d-437         [-1, 1024, 14, 14]         262,144\n",
            "     BatchNorm2d-438         [-1, 1024, 14, 14]           2,048\n",
            "            ReLU-439         [-1, 1024, 14, 14]               0\n",
            "      Bottleneck-440         [-1, 1024, 14, 14]               0\n",
            "          Conv2d-441          [-1, 256, 14, 14]         262,144\n",
            "     BatchNorm2d-442          [-1, 256, 14, 14]             512\n",
            "            ReLU-443          [-1, 256, 14, 14]               0\n",
            "          Conv2d-444          [-1, 256, 14, 14]         589,824\n",
            "     BatchNorm2d-445          [-1, 256, 14, 14]             512\n",
            "            ReLU-446          [-1, 256, 14, 14]               0\n",
            "          Conv2d-447         [-1, 1024, 14, 14]         262,144\n",
            "     BatchNorm2d-448         [-1, 1024, 14, 14]           2,048\n",
            "            ReLU-449         [-1, 1024, 14, 14]               0\n",
            "      Bottleneck-450         [-1, 1024, 14, 14]               0\n",
            "          Conv2d-451          [-1, 256, 14, 14]         262,144\n",
            "     BatchNorm2d-452          [-1, 256, 14, 14]             512\n",
            "            ReLU-453          [-1, 256, 14, 14]               0\n",
            "          Conv2d-454          [-1, 256, 14, 14]         589,824\n",
            "     BatchNorm2d-455          [-1, 256, 14, 14]             512\n",
            "            ReLU-456          [-1, 256, 14, 14]               0\n",
            "          Conv2d-457         [-1, 1024, 14, 14]         262,144\n",
            "     BatchNorm2d-458         [-1, 1024, 14, 14]           2,048\n",
            "            ReLU-459         [-1, 1024, 14, 14]               0\n",
            "      Bottleneck-460         [-1, 1024, 14, 14]               0\n",
            "          Conv2d-461          [-1, 256, 14, 14]         262,144\n",
            "     BatchNorm2d-462          [-1, 256, 14, 14]             512\n",
            "            ReLU-463          [-1, 256, 14, 14]               0\n",
            "          Conv2d-464          [-1, 256, 14, 14]         589,824\n",
            "     BatchNorm2d-465          [-1, 256, 14, 14]             512\n",
            "            ReLU-466          [-1, 256, 14, 14]               0\n",
            "          Conv2d-467         [-1, 1024, 14, 14]         262,144\n",
            "     BatchNorm2d-468         [-1, 1024, 14, 14]           2,048\n",
            "            ReLU-469         [-1, 1024, 14, 14]               0\n",
            "      Bottleneck-470         [-1, 1024, 14, 14]               0\n",
            "          Conv2d-471          [-1, 256, 14, 14]         262,144\n",
            "     BatchNorm2d-472          [-1, 256, 14, 14]             512\n",
            "            ReLU-473          [-1, 256, 14, 14]               0\n",
            "          Conv2d-474          [-1, 256, 14, 14]         589,824\n",
            "     BatchNorm2d-475          [-1, 256, 14, 14]             512\n",
            "            ReLU-476          [-1, 256, 14, 14]               0\n",
            "          Conv2d-477         [-1, 1024, 14, 14]         262,144\n",
            "     BatchNorm2d-478         [-1, 1024, 14, 14]           2,048\n",
            "            ReLU-479         [-1, 1024, 14, 14]               0\n",
            "      Bottleneck-480         [-1, 1024, 14, 14]               0\n",
            "          Conv2d-481          [-1, 512, 14, 14]         524,288\n",
            "     BatchNorm2d-482          [-1, 512, 14, 14]           1,024\n",
            "            ReLU-483          [-1, 512, 14, 14]               0\n",
            "          Conv2d-484            [-1, 512, 7, 7]       2,359,296\n",
            "     BatchNorm2d-485            [-1, 512, 7, 7]           1,024\n",
            "            ReLU-486            [-1, 512, 7, 7]               0\n",
            "          Conv2d-487           [-1, 2048, 7, 7]       1,048,576\n",
            "     BatchNorm2d-488           [-1, 2048, 7, 7]           4,096\n",
            "          Conv2d-489           [-1, 2048, 7, 7]       2,097,152\n",
            "     BatchNorm2d-490           [-1, 2048, 7, 7]           4,096\n",
            "            ReLU-491           [-1, 2048, 7, 7]               0\n",
            "      Bottleneck-492           [-1, 2048, 7, 7]               0\n",
            "          Conv2d-493            [-1, 512, 7, 7]       1,048,576\n",
            "     BatchNorm2d-494            [-1, 512, 7, 7]           1,024\n",
            "            ReLU-495            [-1, 512, 7, 7]               0\n",
            "          Conv2d-496            [-1, 512, 7, 7]       2,359,296\n",
            "     BatchNorm2d-497            [-1, 512, 7, 7]           1,024\n",
            "            ReLU-498            [-1, 512, 7, 7]               0\n",
            "          Conv2d-499           [-1, 2048, 7, 7]       1,048,576\n",
            "     BatchNorm2d-500           [-1, 2048, 7, 7]           4,096\n",
            "            ReLU-501           [-1, 2048, 7, 7]               0\n",
            "      Bottleneck-502           [-1, 2048, 7, 7]               0\n",
            "          Conv2d-503            [-1, 512, 7, 7]       1,048,576\n",
            "     BatchNorm2d-504            [-1, 512, 7, 7]           1,024\n",
            "            ReLU-505            [-1, 512, 7, 7]               0\n",
            "          Conv2d-506            [-1, 512, 7, 7]       2,359,296\n",
            "     BatchNorm2d-507            [-1, 512, 7, 7]           1,024\n",
            "            ReLU-508            [-1, 512, 7, 7]               0\n",
            "          Conv2d-509           [-1, 2048, 7, 7]       1,048,576\n",
            "     BatchNorm2d-510           [-1, 2048, 7, 7]           4,096\n",
            "            ReLU-511           [-1, 2048, 7, 7]               0\n",
            "      Bottleneck-512           [-1, 2048, 7, 7]               0\n",
            "AdaptiveAvgPool2d-513           [-1, 2048, 1, 1]               0\n",
            "          Linear-514                 [-1, 1000]       2,049,000\n",
            "================================================================\n",
            "Total params: 60,192,808\n",
            "Trainable params: 60,192,808\n",
            "Non-trainable params: 0\n",
            "----------------------------------------------------------------\n",
            "Input size (MB): 0.57\n",
            "Forward/backward pass size (MB): 606.59\n",
            "Params size (MB): 229.62\n",
            "Estimated Total Size (MB): 836.78\n",
            "----------------------------------------------------------------\n"
          ]
        }
      ],
      "source": [
        "summary(model.to(device), (3, 224, 224))"
      ]
    },
    {
      "cell_type": "markdown",
      "metadata": {
        "id": "YZ0SxxOQnVZu"
      },
      "source": [
        "## EfficientNet (B0 - B7)"
      ]
    },
    {
      "cell_type": "code",
      "execution_count": null,
      "metadata": {
        "colab": {
          "base_uri": "https://localhost:8080/",
          "height": 87,
          "referenced_widgets": [
            "83948899de4a4719bb7684822259542b",
            "03d9019bef854090a210fe43e0498b7c",
            "747fc31f4ac64a26a66a960d38bb2fc5",
            "c00851dc71364a298918ab2fdf5d7f2a",
            "63c2e10cc74a431d86f81aa372504853",
            "063465cad6674a4ab822346cb0b60e8c",
            "7c64348a7a27470eac71492806834a43",
            "f3d4fef44ff9447fa26f06cf72e33f26",
            "7f479cb92f0d412ca8f7103f9f134b9e",
            "45bd2e39efdd4fb19f319e37480e4488",
            "43e10b35a65f45ef947c39ef9c92178a"
          ]
        },
        "id": "herAtUlIqTy7",
        "outputId": "0503b727-960f-4c5d-9dbe-8ad30c87a6b8"
      },
      "outputs": [
        {
          "name": "stderr",
          "output_type": "stream",
          "text": [
            "Downloading: \"https://download.pytorch.org/models/efficientnet_b7_lukemelas-dcc49843.pth\" to /home/ansu/.cache/torch/hub/checkpoints/efficientnet_b7_lukemelas-dcc49843.pth\n"
          ]
        },
        {
          "data": {
            "application/vnd.jupyter.widget-view+json": {
              "model_id": "83948899de4a4719bb7684822259542b",
              "version_major": 2,
              "version_minor": 0
            },
            "text/plain": [
              "  0%|          | 0.00/255M [00:00<?, ?B/s]"
            ]
          },
          "metadata": {},
          "output_type": "display_data"
        }
      ],
      "source": [
        "model = torchvision.models.efficientnet_b7(pretrained=True)"
      ]
    },
    {
      "cell_type": "code",
      "execution_count": null,
      "metadata": {
        "colab": {
          "base_uri": "https://localhost:8080/"
        },
        "id": "3kEku6xnqVQv",
        "outputId": "54f2ec8b-ae53-4914-c63c-fbbb8ab77c32"
      },
      "outputs": [
        {
          "name": "stdout",
          "output_type": "stream",
          "text": [
            "----------------------------------------------------------------\n",
            "        Layer (type)               Output Shape         Param #\n",
            "================================================================\n",
            "            Conv2d-1         [-1, 64, 112, 112]           1,728\n",
            "       BatchNorm2d-2         [-1, 64, 112, 112]             128\n",
            "              SiLU-3         [-1, 64, 112, 112]               0\n",
            "            Conv2d-4         [-1, 64, 112, 112]             576\n",
            "       BatchNorm2d-5         [-1, 64, 112, 112]             128\n",
            "              SiLU-6         [-1, 64, 112, 112]               0\n",
            " AdaptiveAvgPool2d-7             [-1, 64, 1, 1]               0\n",
            "            Conv2d-8             [-1, 16, 1, 1]           1,040\n",
            "              SiLU-9             [-1, 16, 1, 1]               0\n",
            "           Conv2d-10             [-1, 64, 1, 1]           1,088\n",
            "          Sigmoid-11             [-1, 64, 1, 1]               0\n",
            "SqueezeExcitation-12         [-1, 64, 112, 112]               0\n",
            "           Conv2d-13         [-1, 32, 112, 112]           2,048\n",
            "      BatchNorm2d-14         [-1, 32, 112, 112]              64\n",
            "           MBConv-15         [-1, 32, 112, 112]               0\n",
            "           Conv2d-16         [-1, 32, 112, 112]             288\n",
            "      BatchNorm2d-17         [-1, 32, 112, 112]              64\n",
            "             SiLU-18         [-1, 32, 112, 112]               0\n",
            "AdaptiveAvgPool2d-19             [-1, 32, 1, 1]               0\n",
            "           Conv2d-20              [-1, 8, 1, 1]             264\n",
            "             SiLU-21              [-1, 8, 1, 1]               0\n",
            "           Conv2d-22             [-1, 32, 1, 1]             288\n",
            "          Sigmoid-23             [-1, 32, 1, 1]               0\n",
            "SqueezeExcitation-24         [-1, 32, 112, 112]               0\n",
            "           Conv2d-25         [-1, 32, 112, 112]           1,024\n",
            "      BatchNorm2d-26         [-1, 32, 112, 112]              64\n",
            "  StochasticDepth-27         [-1, 32, 112, 112]               0\n",
            "           MBConv-28         [-1, 32, 112, 112]               0\n",
            "           Conv2d-29         [-1, 32, 112, 112]             288\n",
            "      BatchNorm2d-30         [-1, 32, 112, 112]              64\n",
            "             SiLU-31         [-1, 32, 112, 112]               0\n",
            "AdaptiveAvgPool2d-32             [-1, 32, 1, 1]               0\n",
            "           Conv2d-33              [-1, 8, 1, 1]             264\n",
            "             SiLU-34              [-1, 8, 1, 1]               0\n",
            "           Conv2d-35             [-1, 32, 1, 1]             288\n",
            "          Sigmoid-36             [-1, 32, 1, 1]               0\n",
            "SqueezeExcitation-37         [-1, 32, 112, 112]               0\n",
            "           Conv2d-38         [-1, 32, 112, 112]           1,024\n",
            "      BatchNorm2d-39         [-1, 32, 112, 112]              64\n",
            "  StochasticDepth-40         [-1, 32, 112, 112]               0\n",
            "           MBConv-41         [-1, 32, 112, 112]               0\n",
            "           Conv2d-42         [-1, 32, 112, 112]             288\n",
            "      BatchNorm2d-43         [-1, 32, 112, 112]              64\n",
            "             SiLU-44         [-1, 32, 112, 112]               0\n",
            "AdaptiveAvgPool2d-45             [-1, 32, 1, 1]               0\n",
            "           Conv2d-46              [-1, 8, 1, 1]             264\n",
            "             SiLU-47              [-1, 8, 1, 1]               0\n",
            "           Conv2d-48             [-1, 32, 1, 1]             288\n",
            "          Sigmoid-49             [-1, 32, 1, 1]               0\n",
            "SqueezeExcitation-50         [-1, 32, 112, 112]               0\n",
            "           Conv2d-51         [-1, 32, 112, 112]           1,024\n",
            "      BatchNorm2d-52         [-1, 32, 112, 112]              64\n",
            "  StochasticDepth-53         [-1, 32, 112, 112]               0\n",
            "           MBConv-54         [-1, 32, 112, 112]               0\n",
            "           Conv2d-55        [-1, 192, 112, 112]           6,144\n",
            "      BatchNorm2d-56        [-1, 192, 112, 112]             384\n",
            "             SiLU-57        [-1, 192, 112, 112]               0\n",
            "           Conv2d-58          [-1, 192, 56, 56]           1,728\n",
            "      BatchNorm2d-59          [-1, 192, 56, 56]             384\n",
            "             SiLU-60          [-1, 192, 56, 56]               0\n",
            "AdaptiveAvgPool2d-61            [-1, 192, 1, 1]               0\n",
            "           Conv2d-62              [-1, 8, 1, 1]           1,544\n",
            "             SiLU-63              [-1, 8, 1, 1]               0\n",
            "           Conv2d-64            [-1, 192, 1, 1]           1,728\n",
            "          Sigmoid-65            [-1, 192, 1, 1]               0\n",
            "SqueezeExcitation-66          [-1, 192, 56, 56]               0\n",
            "           Conv2d-67           [-1, 48, 56, 56]           9,216\n",
            "      BatchNorm2d-68           [-1, 48, 56, 56]              96\n",
            "           MBConv-69           [-1, 48, 56, 56]               0\n",
            "           Conv2d-70          [-1, 288, 56, 56]          13,824\n",
            "      BatchNorm2d-71          [-1, 288, 56, 56]             576\n",
            "             SiLU-72          [-1, 288, 56, 56]               0\n",
            "           Conv2d-73          [-1, 288, 56, 56]           2,592\n",
            "      BatchNorm2d-74          [-1, 288, 56, 56]             576\n",
            "             SiLU-75          [-1, 288, 56, 56]               0\n",
            "AdaptiveAvgPool2d-76            [-1, 288, 1, 1]               0\n",
            "           Conv2d-77             [-1, 12, 1, 1]           3,468\n",
            "             SiLU-78             [-1, 12, 1, 1]               0\n",
            "           Conv2d-79            [-1, 288, 1, 1]           3,744\n",
            "          Sigmoid-80            [-1, 288, 1, 1]               0\n",
            "SqueezeExcitation-81          [-1, 288, 56, 56]               0\n",
            "           Conv2d-82           [-1, 48, 56, 56]          13,824\n",
            "      BatchNorm2d-83           [-1, 48, 56, 56]              96\n",
            "  StochasticDepth-84           [-1, 48, 56, 56]               0\n",
            "           MBConv-85           [-1, 48, 56, 56]               0\n",
            "           Conv2d-86          [-1, 288, 56, 56]          13,824\n",
            "      BatchNorm2d-87          [-1, 288, 56, 56]             576\n",
            "             SiLU-88          [-1, 288, 56, 56]               0\n",
            "           Conv2d-89          [-1, 288, 56, 56]           2,592\n",
            "      BatchNorm2d-90          [-1, 288, 56, 56]             576\n",
            "             SiLU-91          [-1, 288, 56, 56]               0\n",
            "AdaptiveAvgPool2d-92            [-1, 288, 1, 1]               0\n",
            "           Conv2d-93             [-1, 12, 1, 1]           3,468\n",
            "             SiLU-94             [-1, 12, 1, 1]               0\n",
            "           Conv2d-95            [-1, 288, 1, 1]           3,744\n",
            "          Sigmoid-96            [-1, 288, 1, 1]               0\n",
            "SqueezeExcitation-97          [-1, 288, 56, 56]               0\n",
            "           Conv2d-98           [-1, 48, 56, 56]          13,824\n",
            "      BatchNorm2d-99           [-1, 48, 56, 56]              96\n",
            " StochasticDepth-100           [-1, 48, 56, 56]               0\n",
            "          MBConv-101           [-1, 48, 56, 56]               0\n",
            "          Conv2d-102          [-1, 288, 56, 56]          13,824\n",
            "     BatchNorm2d-103          [-1, 288, 56, 56]             576\n",
            "            SiLU-104          [-1, 288, 56, 56]               0\n",
            "          Conv2d-105          [-1, 288, 56, 56]           2,592\n",
            "     BatchNorm2d-106          [-1, 288, 56, 56]             576\n",
            "            SiLU-107          [-1, 288, 56, 56]               0\n",
            "AdaptiveAvgPool2d-108            [-1, 288, 1, 1]               0\n",
            "          Conv2d-109             [-1, 12, 1, 1]           3,468\n",
            "            SiLU-110             [-1, 12, 1, 1]               0\n",
            "          Conv2d-111            [-1, 288, 1, 1]           3,744\n",
            "         Sigmoid-112            [-1, 288, 1, 1]               0\n",
            "SqueezeExcitation-113          [-1, 288, 56, 56]               0\n",
            "          Conv2d-114           [-1, 48, 56, 56]          13,824\n",
            "     BatchNorm2d-115           [-1, 48, 56, 56]              96\n",
            " StochasticDepth-116           [-1, 48, 56, 56]               0\n",
            "          MBConv-117           [-1, 48, 56, 56]               0\n",
            "          Conv2d-118          [-1, 288, 56, 56]          13,824\n",
            "     BatchNorm2d-119          [-1, 288, 56, 56]             576\n",
            "            SiLU-120          [-1, 288, 56, 56]               0\n",
            "          Conv2d-121          [-1, 288, 56, 56]           2,592\n",
            "     BatchNorm2d-122          [-1, 288, 56, 56]             576\n",
            "            SiLU-123          [-1, 288, 56, 56]               0\n",
            "AdaptiveAvgPool2d-124            [-1, 288, 1, 1]               0\n",
            "          Conv2d-125             [-1, 12, 1, 1]           3,468\n",
            "            SiLU-126             [-1, 12, 1, 1]               0\n",
            "          Conv2d-127            [-1, 288, 1, 1]           3,744\n",
            "         Sigmoid-128            [-1, 288, 1, 1]               0\n",
            "SqueezeExcitation-129          [-1, 288, 56, 56]               0\n",
            "          Conv2d-130           [-1, 48, 56, 56]          13,824\n",
            "     BatchNorm2d-131           [-1, 48, 56, 56]              96\n",
            " StochasticDepth-132           [-1, 48, 56, 56]               0\n",
            "          MBConv-133           [-1, 48, 56, 56]               0\n",
            "          Conv2d-134          [-1, 288, 56, 56]          13,824\n",
            "     BatchNorm2d-135          [-1, 288, 56, 56]             576\n",
            "            SiLU-136          [-1, 288, 56, 56]               0\n",
            "          Conv2d-137          [-1, 288, 56, 56]           2,592\n",
            "     BatchNorm2d-138          [-1, 288, 56, 56]             576\n",
            "            SiLU-139          [-1, 288, 56, 56]               0\n",
            "AdaptiveAvgPool2d-140            [-1, 288, 1, 1]               0\n",
            "          Conv2d-141             [-1, 12, 1, 1]           3,468\n",
            "            SiLU-142             [-1, 12, 1, 1]               0\n",
            "          Conv2d-143            [-1, 288, 1, 1]           3,744\n",
            "         Sigmoid-144            [-1, 288, 1, 1]               0\n",
            "SqueezeExcitation-145          [-1, 288, 56, 56]               0\n",
            "          Conv2d-146           [-1, 48, 56, 56]          13,824\n",
            "     BatchNorm2d-147           [-1, 48, 56, 56]              96\n",
            " StochasticDepth-148           [-1, 48, 56, 56]               0\n",
            "          MBConv-149           [-1, 48, 56, 56]               0\n",
            "          Conv2d-150          [-1, 288, 56, 56]          13,824\n",
            "     BatchNorm2d-151          [-1, 288, 56, 56]             576\n",
            "            SiLU-152          [-1, 288, 56, 56]               0\n",
            "          Conv2d-153          [-1, 288, 56, 56]           2,592\n",
            "     BatchNorm2d-154          [-1, 288, 56, 56]             576\n",
            "            SiLU-155          [-1, 288, 56, 56]               0\n",
            "AdaptiveAvgPool2d-156            [-1, 288, 1, 1]               0\n",
            "          Conv2d-157             [-1, 12, 1, 1]           3,468\n",
            "            SiLU-158             [-1, 12, 1, 1]               0\n",
            "          Conv2d-159            [-1, 288, 1, 1]           3,744\n",
            "         Sigmoid-160            [-1, 288, 1, 1]               0\n",
            "SqueezeExcitation-161          [-1, 288, 56, 56]               0\n",
            "          Conv2d-162           [-1, 48, 56, 56]          13,824\n",
            "     BatchNorm2d-163           [-1, 48, 56, 56]              96\n",
            " StochasticDepth-164           [-1, 48, 56, 56]               0\n",
            "          MBConv-165           [-1, 48, 56, 56]               0\n",
            "          Conv2d-166          [-1, 288, 56, 56]          13,824\n",
            "     BatchNorm2d-167          [-1, 288, 56, 56]             576\n",
            "            SiLU-168          [-1, 288, 56, 56]               0\n",
            "          Conv2d-169          [-1, 288, 28, 28]           7,200\n",
            "     BatchNorm2d-170          [-1, 288, 28, 28]             576\n",
            "            SiLU-171          [-1, 288, 28, 28]               0\n",
            "AdaptiveAvgPool2d-172            [-1, 288, 1, 1]               0\n",
            "          Conv2d-173             [-1, 12, 1, 1]           3,468\n",
            "            SiLU-174             [-1, 12, 1, 1]               0\n",
            "          Conv2d-175            [-1, 288, 1, 1]           3,744\n",
            "         Sigmoid-176            [-1, 288, 1, 1]               0\n",
            "SqueezeExcitation-177          [-1, 288, 28, 28]               0\n",
            "          Conv2d-178           [-1, 80, 28, 28]          23,040\n",
            "     BatchNorm2d-179           [-1, 80, 28, 28]             160\n",
            "          MBConv-180           [-1, 80, 28, 28]               0\n",
            "          Conv2d-181          [-1, 480, 28, 28]          38,400\n",
            "     BatchNorm2d-182          [-1, 480, 28, 28]             960\n",
            "            SiLU-183          [-1, 480, 28, 28]               0\n",
            "          Conv2d-184          [-1, 480, 28, 28]          12,000\n",
            "     BatchNorm2d-185          [-1, 480, 28, 28]             960\n",
            "            SiLU-186          [-1, 480, 28, 28]               0\n",
            "AdaptiveAvgPool2d-187            [-1, 480, 1, 1]               0\n",
            "          Conv2d-188             [-1, 20, 1, 1]           9,620\n",
            "            SiLU-189             [-1, 20, 1, 1]               0\n",
            "          Conv2d-190            [-1, 480, 1, 1]          10,080\n",
            "         Sigmoid-191            [-1, 480, 1, 1]               0\n",
            "SqueezeExcitation-192          [-1, 480, 28, 28]               0\n",
            "          Conv2d-193           [-1, 80, 28, 28]          38,400\n",
            "     BatchNorm2d-194           [-1, 80, 28, 28]             160\n",
            " StochasticDepth-195           [-1, 80, 28, 28]               0\n",
            "          MBConv-196           [-1, 80, 28, 28]               0\n",
            "          Conv2d-197          [-1, 480, 28, 28]          38,400\n",
            "     BatchNorm2d-198          [-1, 480, 28, 28]             960\n",
            "            SiLU-199          [-1, 480, 28, 28]               0\n",
            "          Conv2d-200          [-1, 480, 28, 28]          12,000\n",
            "     BatchNorm2d-201          [-1, 480, 28, 28]             960\n",
            "            SiLU-202          [-1, 480, 28, 28]               0\n",
            "AdaptiveAvgPool2d-203            [-1, 480, 1, 1]               0\n",
            "          Conv2d-204             [-1, 20, 1, 1]           9,620\n",
            "            SiLU-205             [-1, 20, 1, 1]               0\n",
            "          Conv2d-206            [-1, 480, 1, 1]          10,080\n",
            "         Sigmoid-207            [-1, 480, 1, 1]               0\n",
            "SqueezeExcitation-208          [-1, 480, 28, 28]               0\n",
            "          Conv2d-209           [-1, 80, 28, 28]          38,400\n",
            "     BatchNorm2d-210           [-1, 80, 28, 28]             160\n",
            " StochasticDepth-211           [-1, 80, 28, 28]               0\n",
            "          MBConv-212           [-1, 80, 28, 28]               0\n",
            "          Conv2d-213          [-1, 480, 28, 28]          38,400\n",
            "     BatchNorm2d-214          [-1, 480, 28, 28]             960\n",
            "            SiLU-215          [-1, 480, 28, 28]               0\n",
            "          Conv2d-216          [-1, 480, 28, 28]          12,000\n",
            "     BatchNorm2d-217          [-1, 480, 28, 28]             960\n",
            "            SiLU-218          [-1, 480, 28, 28]               0\n",
            "AdaptiveAvgPool2d-219            [-1, 480, 1, 1]               0\n",
            "          Conv2d-220             [-1, 20, 1, 1]           9,620\n",
            "            SiLU-221             [-1, 20, 1, 1]               0\n",
            "          Conv2d-222            [-1, 480, 1, 1]          10,080\n",
            "         Sigmoid-223            [-1, 480, 1, 1]               0\n",
            "SqueezeExcitation-224          [-1, 480, 28, 28]               0\n",
            "          Conv2d-225           [-1, 80, 28, 28]          38,400\n",
            "     BatchNorm2d-226           [-1, 80, 28, 28]             160\n",
            " StochasticDepth-227           [-1, 80, 28, 28]               0\n",
            "          MBConv-228           [-1, 80, 28, 28]               0\n",
            "          Conv2d-229          [-1, 480, 28, 28]          38,400\n",
            "     BatchNorm2d-230          [-1, 480, 28, 28]             960\n",
            "            SiLU-231          [-1, 480, 28, 28]               0\n",
            "          Conv2d-232          [-1, 480, 28, 28]          12,000\n",
            "     BatchNorm2d-233          [-1, 480, 28, 28]             960\n",
            "            SiLU-234          [-1, 480, 28, 28]               0\n",
            "AdaptiveAvgPool2d-235            [-1, 480, 1, 1]               0\n",
            "          Conv2d-236             [-1, 20, 1, 1]           9,620\n",
            "            SiLU-237             [-1, 20, 1, 1]               0\n",
            "          Conv2d-238            [-1, 480, 1, 1]          10,080\n",
            "         Sigmoid-239            [-1, 480, 1, 1]               0\n",
            "SqueezeExcitation-240          [-1, 480, 28, 28]               0\n",
            "          Conv2d-241           [-1, 80, 28, 28]          38,400\n",
            "     BatchNorm2d-242           [-1, 80, 28, 28]             160\n",
            " StochasticDepth-243           [-1, 80, 28, 28]               0\n",
            "          MBConv-244           [-1, 80, 28, 28]               0\n",
            "          Conv2d-245          [-1, 480, 28, 28]          38,400\n",
            "     BatchNorm2d-246          [-1, 480, 28, 28]             960\n",
            "            SiLU-247          [-1, 480, 28, 28]               0\n",
            "          Conv2d-248          [-1, 480, 28, 28]          12,000\n",
            "     BatchNorm2d-249          [-1, 480, 28, 28]             960\n",
            "            SiLU-250          [-1, 480, 28, 28]               0\n",
            "AdaptiveAvgPool2d-251            [-1, 480, 1, 1]               0\n",
            "          Conv2d-252             [-1, 20, 1, 1]           9,620\n",
            "            SiLU-253             [-1, 20, 1, 1]               0\n",
            "          Conv2d-254            [-1, 480, 1, 1]          10,080\n",
            "         Sigmoid-255            [-1, 480, 1, 1]               0\n",
            "SqueezeExcitation-256          [-1, 480, 28, 28]               0\n",
            "          Conv2d-257           [-1, 80, 28, 28]          38,400\n",
            "     BatchNorm2d-258           [-1, 80, 28, 28]             160\n",
            " StochasticDepth-259           [-1, 80, 28, 28]               0\n",
            "          MBConv-260           [-1, 80, 28, 28]               0\n",
            "          Conv2d-261          [-1, 480, 28, 28]          38,400\n",
            "     BatchNorm2d-262          [-1, 480, 28, 28]             960\n",
            "            SiLU-263          [-1, 480, 28, 28]               0\n",
            "          Conv2d-264          [-1, 480, 28, 28]          12,000\n",
            "     BatchNorm2d-265          [-1, 480, 28, 28]             960\n",
            "            SiLU-266          [-1, 480, 28, 28]               0\n",
            "AdaptiveAvgPool2d-267            [-1, 480, 1, 1]               0\n",
            "          Conv2d-268             [-1, 20, 1, 1]           9,620\n",
            "            SiLU-269             [-1, 20, 1, 1]               0\n",
            "          Conv2d-270            [-1, 480, 1, 1]          10,080\n",
            "         Sigmoid-271            [-1, 480, 1, 1]               0\n",
            "SqueezeExcitation-272          [-1, 480, 28, 28]               0\n",
            "          Conv2d-273           [-1, 80, 28, 28]          38,400\n",
            "     BatchNorm2d-274           [-1, 80, 28, 28]             160\n",
            " StochasticDepth-275           [-1, 80, 28, 28]               0\n",
            "          MBConv-276           [-1, 80, 28, 28]               0\n",
            "          Conv2d-277          [-1, 480, 28, 28]          38,400\n",
            "     BatchNorm2d-278          [-1, 480, 28, 28]             960\n",
            "            SiLU-279          [-1, 480, 28, 28]               0\n",
            "          Conv2d-280          [-1, 480, 14, 14]           4,320\n",
            "     BatchNorm2d-281          [-1, 480, 14, 14]             960\n",
            "            SiLU-282          [-1, 480, 14, 14]               0\n",
            "AdaptiveAvgPool2d-283            [-1, 480, 1, 1]               0\n",
            "          Conv2d-284             [-1, 20, 1, 1]           9,620\n",
            "            SiLU-285             [-1, 20, 1, 1]               0\n",
            "          Conv2d-286            [-1, 480, 1, 1]          10,080\n",
            "         Sigmoid-287            [-1, 480, 1, 1]               0\n",
            "SqueezeExcitation-288          [-1, 480, 14, 14]               0\n",
            "          Conv2d-289          [-1, 160, 14, 14]          76,800\n",
            "     BatchNorm2d-290          [-1, 160, 14, 14]             320\n",
            "          MBConv-291          [-1, 160, 14, 14]               0\n",
            "          Conv2d-292          [-1, 960, 14, 14]         153,600\n",
            "     BatchNorm2d-293          [-1, 960, 14, 14]           1,920\n",
            "            SiLU-294          [-1, 960, 14, 14]               0\n",
            "          Conv2d-295          [-1, 960, 14, 14]           8,640\n",
            "     BatchNorm2d-296          [-1, 960, 14, 14]           1,920\n",
            "            SiLU-297          [-1, 960, 14, 14]               0\n",
            "AdaptiveAvgPool2d-298            [-1, 960, 1, 1]               0\n",
            "          Conv2d-299             [-1, 40, 1, 1]          38,440\n",
            "            SiLU-300             [-1, 40, 1, 1]               0\n",
            "          Conv2d-301            [-1, 960, 1, 1]          39,360\n",
            "         Sigmoid-302            [-1, 960, 1, 1]               0\n",
            "SqueezeExcitation-303          [-1, 960, 14, 14]               0\n",
            "          Conv2d-304          [-1, 160, 14, 14]         153,600\n",
            "     BatchNorm2d-305          [-1, 160, 14, 14]             320\n",
            " StochasticDepth-306          [-1, 160, 14, 14]               0\n",
            "          MBConv-307          [-1, 160, 14, 14]               0\n",
            "          Conv2d-308          [-1, 960, 14, 14]         153,600\n",
            "     BatchNorm2d-309          [-1, 960, 14, 14]           1,920\n",
            "            SiLU-310          [-1, 960, 14, 14]               0\n",
            "          Conv2d-311          [-1, 960, 14, 14]           8,640\n",
            "     BatchNorm2d-312          [-1, 960, 14, 14]           1,920\n",
            "            SiLU-313          [-1, 960, 14, 14]               0\n",
            "AdaptiveAvgPool2d-314            [-1, 960, 1, 1]               0\n",
            "          Conv2d-315             [-1, 40, 1, 1]          38,440\n",
            "            SiLU-316             [-1, 40, 1, 1]               0\n",
            "          Conv2d-317            [-1, 960, 1, 1]          39,360\n",
            "         Sigmoid-318            [-1, 960, 1, 1]               0\n",
            "SqueezeExcitation-319          [-1, 960, 14, 14]               0\n",
            "          Conv2d-320          [-1, 160, 14, 14]         153,600\n",
            "     BatchNorm2d-321          [-1, 160, 14, 14]             320\n",
            " StochasticDepth-322          [-1, 160, 14, 14]               0\n",
            "          MBConv-323          [-1, 160, 14, 14]               0\n",
            "          Conv2d-324          [-1, 960, 14, 14]         153,600\n",
            "     BatchNorm2d-325          [-1, 960, 14, 14]           1,920\n",
            "            SiLU-326          [-1, 960, 14, 14]               0\n",
            "          Conv2d-327          [-1, 960, 14, 14]           8,640\n",
            "     BatchNorm2d-328          [-1, 960, 14, 14]           1,920\n",
            "            SiLU-329          [-1, 960, 14, 14]               0\n",
            "AdaptiveAvgPool2d-330            [-1, 960, 1, 1]               0\n",
            "          Conv2d-331             [-1, 40, 1, 1]          38,440\n",
            "            SiLU-332             [-1, 40, 1, 1]               0\n",
            "          Conv2d-333            [-1, 960, 1, 1]          39,360\n",
            "         Sigmoid-334            [-1, 960, 1, 1]               0\n",
            "SqueezeExcitation-335          [-1, 960, 14, 14]               0\n",
            "          Conv2d-336          [-1, 160, 14, 14]         153,600\n",
            "     BatchNorm2d-337          [-1, 160, 14, 14]             320\n",
            " StochasticDepth-338          [-1, 160, 14, 14]               0\n",
            "          MBConv-339          [-1, 160, 14, 14]               0\n",
            "          Conv2d-340          [-1, 960, 14, 14]         153,600\n",
            "     BatchNorm2d-341          [-1, 960, 14, 14]           1,920\n",
            "            SiLU-342          [-1, 960, 14, 14]               0\n",
            "          Conv2d-343          [-1, 960, 14, 14]           8,640\n",
            "     BatchNorm2d-344          [-1, 960, 14, 14]           1,920\n",
            "            SiLU-345          [-1, 960, 14, 14]               0\n",
            "AdaptiveAvgPool2d-346            [-1, 960, 1, 1]               0\n",
            "          Conv2d-347             [-1, 40, 1, 1]          38,440\n",
            "            SiLU-348             [-1, 40, 1, 1]               0\n",
            "          Conv2d-349            [-1, 960, 1, 1]          39,360\n",
            "         Sigmoid-350            [-1, 960, 1, 1]               0\n",
            "SqueezeExcitation-351          [-1, 960, 14, 14]               0\n",
            "          Conv2d-352          [-1, 160, 14, 14]         153,600\n",
            "     BatchNorm2d-353          [-1, 160, 14, 14]             320\n",
            " StochasticDepth-354          [-1, 160, 14, 14]               0\n",
            "          MBConv-355          [-1, 160, 14, 14]               0\n",
            "          Conv2d-356          [-1, 960, 14, 14]         153,600\n",
            "     BatchNorm2d-357          [-1, 960, 14, 14]           1,920\n",
            "            SiLU-358          [-1, 960, 14, 14]               0\n",
            "          Conv2d-359          [-1, 960, 14, 14]           8,640\n",
            "     BatchNorm2d-360          [-1, 960, 14, 14]           1,920\n",
            "            SiLU-361          [-1, 960, 14, 14]               0\n",
            "AdaptiveAvgPool2d-362            [-1, 960, 1, 1]               0\n",
            "          Conv2d-363             [-1, 40, 1, 1]          38,440\n",
            "            SiLU-364             [-1, 40, 1, 1]               0\n",
            "          Conv2d-365            [-1, 960, 1, 1]          39,360\n",
            "         Sigmoid-366            [-1, 960, 1, 1]               0\n",
            "SqueezeExcitation-367          [-1, 960, 14, 14]               0\n",
            "          Conv2d-368          [-1, 160, 14, 14]         153,600\n",
            "     BatchNorm2d-369          [-1, 160, 14, 14]             320\n",
            " StochasticDepth-370          [-1, 160, 14, 14]               0\n",
            "          MBConv-371          [-1, 160, 14, 14]               0\n",
            "          Conv2d-372          [-1, 960, 14, 14]         153,600\n",
            "     BatchNorm2d-373          [-1, 960, 14, 14]           1,920\n",
            "            SiLU-374          [-1, 960, 14, 14]               0\n",
            "          Conv2d-375          [-1, 960, 14, 14]           8,640\n",
            "     BatchNorm2d-376          [-1, 960, 14, 14]           1,920\n",
            "            SiLU-377          [-1, 960, 14, 14]               0\n",
            "AdaptiveAvgPool2d-378            [-1, 960, 1, 1]               0\n",
            "          Conv2d-379             [-1, 40, 1, 1]          38,440\n",
            "            SiLU-380             [-1, 40, 1, 1]               0\n",
            "          Conv2d-381            [-1, 960, 1, 1]          39,360\n",
            "         Sigmoid-382            [-1, 960, 1, 1]               0\n",
            "SqueezeExcitation-383          [-1, 960, 14, 14]               0\n",
            "          Conv2d-384          [-1, 160, 14, 14]         153,600\n",
            "     BatchNorm2d-385          [-1, 160, 14, 14]             320\n",
            " StochasticDepth-386          [-1, 160, 14, 14]               0\n",
            "          MBConv-387          [-1, 160, 14, 14]               0\n",
            "          Conv2d-388          [-1, 960, 14, 14]         153,600\n",
            "     BatchNorm2d-389          [-1, 960, 14, 14]           1,920\n",
            "            SiLU-390          [-1, 960, 14, 14]               0\n",
            "          Conv2d-391          [-1, 960, 14, 14]           8,640\n",
            "     BatchNorm2d-392          [-1, 960, 14, 14]           1,920\n",
            "            SiLU-393          [-1, 960, 14, 14]               0\n",
            "AdaptiveAvgPool2d-394            [-1, 960, 1, 1]               0\n",
            "          Conv2d-395             [-1, 40, 1, 1]          38,440\n",
            "            SiLU-396             [-1, 40, 1, 1]               0\n",
            "          Conv2d-397            [-1, 960, 1, 1]          39,360\n",
            "         Sigmoid-398            [-1, 960, 1, 1]               0\n",
            "SqueezeExcitation-399          [-1, 960, 14, 14]               0\n",
            "          Conv2d-400          [-1, 160, 14, 14]         153,600\n",
            "     BatchNorm2d-401          [-1, 160, 14, 14]             320\n",
            " StochasticDepth-402          [-1, 160, 14, 14]               0\n",
            "          MBConv-403          [-1, 160, 14, 14]               0\n",
            "          Conv2d-404          [-1, 960, 14, 14]         153,600\n",
            "     BatchNorm2d-405          [-1, 960, 14, 14]           1,920\n",
            "            SiLU-406          [-1, 960, 14, 14]               0\n",
            "          Conv2d-407          [-1, 960, 14, 14]           8,640\n",
            "     BatchNorm2d-408          [-1, 960, 14, 14]           1,920\n",
            "            SiLU-409          [-1, 960, 14, 14]               0\n",
            "AdaptiveAvgPool2d-410            [-1, 960, 1, 1]               0\n",
            "          Conv2d-411             [-1, 40, 1, 1]          38,440\n",
            "            SiLU-412             [-1, 40, 1, 1]               0\n",
            "          Conv2d-413            [-1, 960, 1, 1]          39,360\n",
            "         Sigmoid-414            [-1, 960, 1, 1]               0\n",
            "SqueezeExcitation-415          [-1, 960, 14, 14]               0\n",
            "          Conv2d-416          [-1, 160, 14, 14]         153,600\n",
            "     BatchNorm2d-417          [-1, 160, 14, 14]             320\n",
            " StochasticDepth-418          [-1, 160, 14, 14]               0\n",
            "          MBConv-419          [-1, 160, 14, 14]               0\n",
            "          Conv2d-420          [-1, 960, 14, 14]         153,600\n",
            "     BatchNorm2d-421          [-1, 960, 14, 14]           1,920\n",
            "            SiLU-422          [-1, 960, 14, 14]               0\n",
            "          Conv2d-423          [-1, 960, 14, 14]           8,640\n",
            "     BatchNorm2d-424          [-1, 960, 14, 14]           1,920\n",
            "            SiLU-425          [-1, 960, 14, 14]               0\n",
            "AdaptiveAvgPool2d-426            [-1, 960, 1, 1]               0\n",
            "          Conv2d-427             [-1, 40, 1, 1]          38,440\n",
            "            SiLU-428             [-1, 40, 1, 1]               0\n",
            "          Conv2d-429            [-1, 960, 1, 1]          39,360\n",
            "         Sigmoid-430            [-1, 960, 1, 1]               0\n",
            "SqueezeExcitation-431          [-1, 960, 14, 14]               0\n",
            "          Conv2d-432          [-1, 160, 14, 14]         153,600\n",
            "     BatchNorm2d-433          [-1, 160, 14, 14]             320\n",
            " StochasticDepth-434          [-1, 160, 14, 14]               0\n",
            "          MBConv-435          [-1, 160, 14, 14]               0\n",
            "          Conv2d-436          [-1, 960, 14, 14]         153,600\n",
            "     BatchNorm2d-437          [-1, 960, 14, 14]           1,920\n",
            "            SiLU-438          [-1, 960, 14, 14]               0\n",
            "          Conv2d-439          [-1, 960, 14, 14]          24,000\n",
            "     BatchNorm2d-440          [-1, 960, 14, 14]           1,920\n",
            "            SiLU-441          [-1, 960, 14, 14]               0\n",
            "AdaptiveAvgPool2d-442            [-1, 960, 1, 1]               0\n",
            "          Conv2d-443             [-1, 40, 1, 1]          38,440\n",
            "            SiLU-444             [-1, 40, 1, 1]               0\n",
            "          Conv2d-445            [-1, 960, 1, 1]          39,360\n",
            "         Sigmoid-446            [-1, 960, 1, 1]               0\n",
            "SqueezeExcitation-447          [-1, 960, 14, 14]               0\n",
            "          Conv2d-448          [-1, 224, 14, 14]         215,040\n",
            "     BatchNorm2d-449          [-1, 224, 14, 14]             448\n",
            "          MBConv-450          [-1, 224, 14, 14]               0\n",
            "          Conv2d-451         [-1, 1344, 14, 14]         301,056\n",
            "     BatchNorm2d-452         [-1, 1344, 14, 14]           2,688\n",
            "            SiLU-453         [-1, 1344, 14, 14]               0\n",
            "          Conv2d-454         [-1, 1344, 14, 14]          33,600\n",
            "     BatchNorm2d-455         [-1, 1344, 14, 14]           2,688\n",
            "            SiLU-456         [-1, 1344, 14, 14]               0\n",
            "AdaptiveAvgPool2d-457           [-1, 1344, 1, 1]               0\n",
            "          Conv2d-458             [-1, 56, 1, 1]          75,320\n",
            "            SiLU-459             [-1, 56, 1, 1]               0\n",
            "          Conv2d-460           [-1, 1344, 1, 1]          76,608\n",
            "         Sigmoid-461           [-1, 1344, 1, 1]               0\n",
            "SqueezeExcitation-462         [-1, 1344, 14, 14]               0\n",
            "          Conv2d-463          [-1, 224, 14, 14]         301,056\n",
            "     BatchNorm2d-464          [-1, 224, 14, 14]             448\n",
            " StochasticDepth-465          [-1, 224, 14, 14]               0\n",
            "          MBConv-466          [-1, 224, 14, 14]               0\n",
            "          Conv2d-467         [-1, 1344, 14, 14]         301,056\n",
            "     BatchNorm2d-468         [-1, 1344, 14, 14]           2,688\n",
            "            SiLU-469         [-1, 1344, 14, 14]               0\n",
            "          Conv2d-470         [-1, 1344, 14, 14]          33,600\n",
            "     BatchNorm2d-471         [-1, 1344, 14, 14]           2,688\n",
            "            SiLU-472         [-1, 1344, 14, 14]               0\n",
            "AdaptiveAvgPool2d-473           [-1, 1344, 1, 1]               0\n",
            "          Conv2d-474             [-1, 56, 1, 1]          75,320\n",
            "            SiLU-475             [-1, 56, 1, 1]               0\n",
            "          Conv2d-476           [-1, 1344, 1, 1]          76,608\n",
            "         Sigmoid-477           [-1, 1344, 1, 1]               0\n",
            "SqueezeExcitation-478         [-1, 1344, 14, 14]               0\n",
            "          Conv2d-479          [-1, 224, 14, 14]         301,056\n",
            "     BatchNorm2d-480          [-1, 224, 14, 14]             448\n",
            " StochasticDepth-481          [-1, 224, 14, 14]               0\n",
            "          MBConv-482          [-1, 224, 14, 14]               0\n",
            "          Conv2d-483         [-1, 1344, 14, 14]         301,056\n",
            "     BatchNorm2d-484         [-1, 1344, 14, 14]           2,688\n",
            "            SiLU-485         [-1, 1344, 14, 14]               0\n",
            "          Conv2d-486         [-1, 1344, 14, 14]          33,600\n",
            "     BatchNorm2d-487         [-1, 1344, 14, 14]           2,688\n",
            "            SiLU-488         [-1, 1344, 14, 14]               0\n",
            "AdaptiveAvgPool2d-489           [-1, 1344, 1, 1]               0\n",
            "          Conv2d-490             [-1, 56, 1, 1]          75,320\n",
            "            SiLU-491             [-1, 56, 1, 1]               0\n",
            "          Conv2d-492           [-1, 1344, 1, 1]          76,608\n",
            "         Sigmoid-493           [-1, 1344, 1, 1]               0\n",
            "SqueezeExcitation-494         [-1, 1344, 14, 14]               0\n",
            "          Conv2d-495          [-1, 224, 14, 14]         301,056\n",
            "     BatchNorm2d-496          [-1, 224, 14, 14]             448\n",
            " StochasticDepth-497          [-1, 224, 14, 14]               0\n",
            "          MBConv-498          [-1, 224, 14, 14]               0\n",
            "          Conv2d-499         [-1, 1344, 14, 14]         301,056\n",
            "     BatchNorm2d-500         [-1, 1344, 14, 14]           2,688\n",
            "            SiLU-501         [-1, 1344, 14, 14]               0\n",
            "          Conv2d-502         [-1, 1344, 14, 14]          33,600\n",
            "     BatchNorm2d-503         [-1, 1344, 14, 14]           2,688\n",
            "            SiLU-504         [-1, 1344, 14, 14]               0\n",
            "AdaptiveAvgPool2d-505           [-1, 1344, 1, 1]               0\n",
            "          Conv2d-506             [-1, 56, 1, 1]          75,320\n",
            "            SiLU-507             [-1, 56, 1, 1]               0\n",
            "          Conv2d-508           [-1, 1344, 1, 1]          76,608\n",
            "         Sigmoid-509           [-1, 1344, 1, 1]               0\n",
            "SqueezeExcitation-510         [-1, 1344, 14, 14]               0\n",
            "          Conv2d-511          [-1, 224, 14, 14]         301,056\n",
            "     BatchNorm2d-512          [-1, 224, 14, 14]             448\n",
            " StochasticDepth-513          [-1, 224, 14, 14]               0\n",
            "          MBConv-514          [-1, 224, 14, 14]               0\n",
            "          Conv2d-515         [-1, 1344, 14, 14]         301,056\n",
            "     BatchNorm2d-516         [-1, 1344, 14, 14]           2,688\n",
            "            SiLU-517         [-1, 1344, 14, 14]               0\n",
            "          Conv2d-518         [-1, 1344, 14, 14]          33,600\n",
            "     BatchNorm2d-519         [-1, 1344, 14, 14]           2,688\n",
            "            SiLU-520         [-1, 1344, 14, 14]               0\n",
            "AdaptiveAvgPool2d-521           [-1, 1344, 1, 1]               0\n",
            "          Conv2d-522             [-1, 56, 1, 1]          75,320\n",
            "            SiLU-523             [-1, 56, 1, 1]               0\n",
            "          Conv2d-524           [-1, 1344, 1, 1]          76,608\n",
            "         Sigmoid-525           [-1, 1344, 1, 1]               0\n",
            "SqueezeExcitation-526         [-1, 1344, 14, 14]               0\n",
            "          Conv2d-527          [-1, 224, 14, 14]         301,056\n",
            "     BatchNorm2d-528          [-1, 224, 14, 14]             448\n",
            " StochasticDepth-529          [-1, 224, 14, 14]               0\n",
            "          MBConv-530          [-1, 224, 14, 14]               0\n",
            "          Conv2d-531         [-1, 1344, 14, 14]         301,056\n",
            "     BatchNorm2d-532         [-1, 1344, 14, 14]           2,688\n",
            "            SiLU-533         [-1, 1344, 14, 14]               0\n",
            "          Conv2d-534         [-1, 1344, 14, 14]          33,600\n",
            "     BatchNorm2d-535         [-1, 1344, 14, 14]           2,688\n",
            "            SiLU-536         [-1, 1344, 14, 14]               0\n",
            "AdaptiveAvgPool2d-537           [-1, 1344, 1, 1]               0\n",
            "          Conv2d-538             [-1, 56, 1, 1]          75,320\n",
            "            SiLU-539             [-1, 56, 1, 1]               0\n",
            "          Conv2d-540           [-1, 1344, 1, 1]          76,608\n",
            "         Sigmoid-541           [-1, 1344, 1, 1]               0\n",
            "SqueezeExcitation-542         [-1, 1344, 14, 14]               0\n",
            "          Conv2d-543          [-1, 224, 14, 14]         301,056\n",
            "     BatchNorm2d-544          [-1, 224, 14, 14]             448\n",
            " StochasticDepth-545          [-1, 224, 14, 14]               0\n",
            "          MBConv-546          [-1, 224, 14, 14]               0\n",
            "          Conv2d-547         [-1, 1344, 14, 14]         301,056\n",
            "     BatchNorm2d-548         [-1, 1344, 14, 14]           2,688\n",
            "            SiLU-549         [-1, 1344, 14, 14]               0\n",
            "          Conv2d-550         [-1, 1344, 14, 14]          33,600\n",
            "     BatchNorm2d-551         [-1, 1344, 14, 14]           2,688\n",
            "            SiLU-552         [-1, 1344, 14, 14]               0\n",
            "AdaptiveAvgPool2d-553           [-1, 1344, 1, 1]               0\n",
            "          Conv2d-554             [-1, 56, 1, 1]          75,320\n",
            "            SiLU-555             [-1, 56, 1, 1]               0\n",
            "          Conv2d-556           [-1, 1344, 1, 1]          76,608\n",
            "         Sigmoid-557           [-1, 1344, 1, 1]               0\n",
            "SqueezeExcitation-558         [-1, 1344, 14, 14]               0\n",
            "          Conv2d-559          [-1, 224, 14, 14]         301,056\n",
            "     BatchNorm2d-560          [-1, 224, 14, 14]             448\n",
            " StochasticDepth-561          [-1, 224, 14, 14]               0\n",
            "          MBConv-562          [-1, 224, 14, 14]               0\n",
            "          Conv2d-563         [-1, 1344, 14, 14]         301,056\n",
            "     BatchNorm2d-564         [-1, 1344, 14, 14]           2,688\n",
            "            SiLU-565         [-1, 1344, 14, 14]               0\n",
            "          Conv2d-566         [-1, 1344, 14, 14]          33,600\n",
            "     BatchNorm2d-567         [-1, 1344, 14, 14]           2,688\n",
            "            SiLU-568         [-1, 1344, 14, 14]               0\n",
            "AdaptiveAvgPool2d-569           [-1, 1344, 1, 1]               0\n",
            "          Conv2d-570             [-1, 56, 1, 1]          75,320\n",
            "            SiLU-571             [-1, 56, 1, 1]               0\n",
            "          Conv2d-572           [-1, 1344, 1, 1]          76,608\n",
            "         Sigmoid-573           [-1, 1344, 1, 1]               0\n",
            "SqueezeExcitation-574         [-1, 1344, 14, 14]               0\n",
            "          Conv2d-575          [-1, 224, 14, 14]         301,056\n",
            "     BatchNorm2d-576          [-1, 224, 14, 14]             448\n",
            " StochasticDepth-577          [-1, 224, 14, 14]               0\n",
            "          MBConv-578          [-1, 224, 14, 14]               0\n",
            "          Conv2d-579         [-1, 1344, 14, 14]         301,056\n",
            "     BatchNorm2d-580         [-1, 1344, 14, 14]           2,688\n",
            "            SiLU-581         [-1, 1344, 14, 14]               0\n",
            "          Conv2d-582         [-1, 1344, 14, 14]          33,600\n",
            "     BatchNorm2d-583         [-1, 1344, 14, 14]           2,688\n",
            "            SiLU-584         [-1, 1344, 14, 14]               0\n",
            "AdaptiveAvgPool2d-585           [-1, 1344, 1, 1]               0\n",
            "          Conv2d-586             [-1, 56, 1, 1]          75,320\n",
            "            SiLU-587             [-1, 56, 1, 1]               0\n",
            "          Conv2d-588           [-1, 1344, 1, 1]          76,608\n",
            "         Sigmoid-589           [-1, 1344, 1, 1]               0\n",
            "SqueezeExcitation-590         [-1, 1344, 14, 14]               0\n",
            "          Conv2d-591          [-1, 224, 14, 14]         301,056\n",
            "     BatchNorm2d-592          [-1, 224, 14, 14]             448\n",
            " StochasticDepth-593          [-1, 224, 14, 14]               0\n",
            "          MBConv-594          [-1, 224, 14, 14]               0\n",
            "          Conv2d-595         [-1, 1344, 14, 14]         301,056\n",
            "     BatchNorm2d-596         [-1, 1344, 14, 14]           2,688\n",
            "            SiLU-597         [-1, 1344, 14, 14]               0\n",
            "          Conv2d-598           [-1, 1344, 7, 7]          33,600\n",
            "     BatchNorm2d-599           [-1, 1344, 7, 7]           2,688\n",
            "            SiLU-600           [-1, 1344, 7, 7]               0\n",
            "AdaptiveAvgPool2d-601           [-1, 1344, 1, 1]               0\n",
            "          Conv2d-602             [-1, 56, 1, 1]          75,320\n",
            "            SiLU-603             [-1, 56, 1, 1]               0\n",
            "          Conv2d-604           [-1, 1344, 1, 1]          76,608\n",
            "         Sigmoid-605           [-1, 1344, 1, 1]               0\n",
            "SqueezeExcitation-606           [-1, 1344, 7, 7]               0\n",
            "          Conv2d-607            [-1, 384, 7, 7]         516,096\n",
            "     BatchNorm2d-608            [-1, 384, 7, 7]             768\n",
            "          MBConv-609            [-1, 384, 7, 7]               0\n",
            "          Conv2d-610           [-1, 2304, 7, 7]         884,736\n",
            "     BatchNorm2d-611           [-1, 2304, 7, 7]           4,608\n",
            "            SiLU-612           [-1, 2304, 7, 7]               0\n",
            "          Conv2d-613           [-1, 2304, 7, 7]          57,600\n",
            "     BatchNorm2d-614           [-1, 2304, 7, 7]           4,608\n",
            "            SiLU-615           [-1, 2304, 7, 7]               0\n",
            "AdaptiveAvgPool2d-616           [-1, 2304, 1, 1]               0\n",
            "          Conv2d-617             [-1, 96, 1, 1]         221,280\n",
            "            SiLU-618             [-1, 96, 1, 1]               0\n",
            "          Conv2d-619           [-1, 2304, 1, 1]         223,488\n",
            "         Sigmoid-620           [-1, 2304, 1, 1]               0\n",
            "SqueezeExcitation-621           [-1, 2304, 7, 7]               0\n",
            "          Conv2d-622            [-1, 384, 7, 7]         884,736\n",
            "     BatchNorm2d-623            [-1, 384, 7, 7]             768\n",
            " StochasticDepth-624            [-1, 384, 7, 7]               0\n",
            "          MBConv-625            [-1, 384, 7, 7]               0\n",
            "          Conv2d-626           [-1, 2304, 7, 7]         884,736\n",
            "     BatchNorm2d-627           [-1, 2304, 7, 7]           4,608\n",
            "            SiLU-628           [-1, 2304, 7, 7]               0\n",
            "          Conv2d-629           [-1, 2304, 7, 7]          57,600\n",
            "     BatchNorm2d-630           [-1, 2304, 7, 7]           4,608\n",
            "            SiLU-631           [-1, 2304, 7, 7]               0\n",
            "AdaptiveAvgPool2d-632           [-1, 2304, 1, 1]               0\n",
            "          Conv2d-633             [-1, 96, 1, 1]         221,280\n",
            "            SiLU-634             [-1, 96, 1, 1]               0\n",
            "          Conv2d-635           [-1, 2304, 1, 1]         223,488\n",
            "         Sigmoid-636           [-1, 2304, 1, 1]               0\n",
            "SqueezeExcitation-637           [-1, 2304, 7, 7]               0\n",
            "          Conv2d-638            [-1, 384, 7, 7]         884,736\n",
            "     BatchNorm2d-639            [-1, 384, 7, 7]             768\n",
            " StochasticDepth-640            [-1, 384, 7, 7]               0\n",
            "          MBConv-641            [-1, 384, 7, 7]               0\n",
            "          Conv2d-642           [-1, 2304, 7, 7]         884,736\n",
            "     BatchNorm2d-643           [-1, 2304, 7, 7]           4,608\n",
            "            SiLU-644           [-1, 2304, 7, 7]               0\n",
            "          Conv2d-645           [-1, 2304, 7, 7]          57,600\n",
            "     BatchNorm2d-646           [-1, 2304, 7, 7]           4,608\n",
            "            SiLU-647           [-1, 2304, 7, 7]               0\n",
            "AdaptiveAvgPool2d-648           [-1, 2304, 1, 1]               0\n",
            "          Conv2d-649             [-1, 96, 1, 1]         221,280\n",
            "            SiLU-650             [-1, 96, 1, 1]               0\n",
            "          Conv2d-651           [-1, 2304, 1, 1]         223,488\n",
            "         Sigmoid-652           [-1, 2304, 1, 1]               0\n",
            "SqueezeExcitation-653           [-1, 2304, 7, 7]               0\n",
            "          Conv2d-654            [-1, 384, 7, 7]         884,736\n",
            "     BatchNorm2d-655            [-1, 384, 7, 7]             768\n",
            " StochasticDepth-656            [-1, 384, 7, 7]               0\n",
            "          MBConv-657            [-1, 384, 7, 7]               0\n",
            "          Conv2d-658           [-1, 2304, 7, 7]         884,736\n",
            "     BatchNorm2d-659           [-1, 2304, 7, 7]           4,608\n",
            "            SiLU-660           [-1, 2304, 7, 7]               0\n",
            "          Conv2d-661           [-1, 2304, 7, 7]          57,600\n",
            "     BatchNorm2d-662           [-1, 2304, 7, 7]           4,608\n",
            "            SiLU-663           [-1, 2304, 7, 7]               0\n",
            "AdaptiveAvgPool2d-664           [-1, 2304, 1, 1]               0\n",
            "          Conv2d-665             [-1, 96, 1, 1]         221,280\n",
            "            SiLU-666             [-1, 96, 1, 1]               0\n",
            "          Conv2d-667           [-1, 2304, 1, 1]         223,488\n",
            "         Sigmoid-668           [-1, 2304, 1, 1]               0\n",
            "SqueezeExcitation-669           [-1, 2304, 7, 7]               0\n",
            "          Conv2d-670            [-1, 384, 7, 7]         884,736\n",
            "     BatchNorm2d-671            [-1, 384, 7, 7]             768\n",
            " StochasticDepth-672            [-1, 384, 7, 7]               0\n",
            "          MBConv-673            [-1, 384, 7, 7]               0\n",
            "          Conv2d-674           [-1, 2304, 7, 7]         884,736\n",
            "     BatchNorm2d-675           [-1, 2304, 7, 7]           4,608\n",
            "            SiLU-676           [-1, 2304, 7, 7]               0\n",
            "          Conv2d-677           [-1, 2304, 7, 7]          57,600\n",
            "     BatchNorm2d-678           [-1, 2304, 7, 7]           4,608\n",
            "            SiLU-679           [-1, 2304, 7, 7]               0\n",
            "AdaptiveAvgPool2d-680           [-1, 2304, 1, 1]               0\n",
            "          Conv2d-681             [-1, 96, 1, 1]         221,280\n",
            "            SiLU-682             [-1, 96, 1, 1]               0\n",
            "          Conv2d-683           [-1, 2304, 1, 1]         223,488\n",
            "         Sigmoid-684           [-1, 2304, 1, 1]               0\n",
            "SqueezeExcitation-685           [-1, 2304, 7, 7]               0\n",
            "          Conv2d-686            [-1, 384, 7, 7]         884,736\n",
            "     BatchNorm2d-687            [-1, 384, 7, 7]             768\n",
            " StochasticDepth-688            [-1, 384, 7, 7]               0\n",
            "          MBConv-689            [-1, 384, 7, 7]               0\n",
            "          Conv2d-690           [-1, 2304, 7, 7]         884,736\n",
            "     BatchNorm2d-691           [-1, 2304, 7, 7]           4,608\n",
            "            SiLU-692           [-1, 2304, 7, 7]               0\n",
            "          Conv2d-693           [-1, 2304, 7, 7]          57,600\n",
            "     BatchNorm2d-694           [-1, 2304, 7, 7]           4,608\n",
            "            SiLU-695           [-1, 2304, 7, 7]               0\n",
            "AdaptiveAvgPool2d-696           [-1, 2304, 1, 1]               0\n",
            "          Conv2d-697             [-1, 96, 1, 1]         221,280\n",
            "            SiLU-698             [-1, 96, 1, 1]               0\n",
            "          Conv2d-699           [-1, 2304, 1, 1]         223,488\n",
            "         Sigmoid-700           [-1, 2304, 1, 1]               0\n",
            "SqueezeExcitation-701           [-1, 2304, 7, 7]               0\n",
            "          Conv2d-702            [-1, 384, 7, 7]         884,736\n",
            "     BatchNorm2d-703            [-1, 384, 7, 7]             768\n",
            " StochasticDepth-704            [-1, 384, 7, 7]               0\n",
            "          MBConv-705            [-1, 384, 7, 7]               0\n",
            "          Conv2d-706           [-1, 2304, 7, 7]         884,736\n",
            "     BatchNorm2d-707           [-1, 2304, 7, 7]           4,608\n",
            "            SiLU-708           [-1, 2304, 7, 7]               0\n",
            "          Conv2d-709           [-1, 2304, 7, 7]          57,600\n",
            "     BatchNorm2d-710           [-1, 2304, 7, 7]           4,608\n",
            "            SiLU-711           [-1, 2304, 7, 7]               0\n",
            "AdaptiveAvgPool2d-712           [-1, 2304, 1, 1]               0\n",
            "          Conv2d-713             [-1, 96, 1, 1]         221,280\n",
            "            SiLU-714             [-1, 96, 1, 1]               0\n",
            "          Conv2d-715           [-1, 2304, 1, 1]         223,488\n",
            "         Sigmoid-716           [-1, 2304, 1, 1]               0\n",
            "SqueezeExcitation-717           [-1, 2304, 7, 7]               0\n",
            "          Conv2d-718            [-1, 384, 7, 7]         884,736\n",
            "     BatchNorm2d-719            [-1, 384, 7, 7]             768\n",
            " StochasticDepth-720            [-1, 384, 7, 7]               0\n",
            "          MBConv-721            [-1, 384, 7, 7]               0\n",
            "          Conv2d-722           [-1, 2304, 7, 7]         884,736\n",
            "     BatchNorm2d-723           [-1, 2304, 7, 7]           4,608\n",
            "            SiLU-724           [-1, 2304, 7, 7]               0\n",
            "          Conv2d-725           [-1, 2304, 7, 7]          57,600\n",
            "     BatchNorm2d-726           [-1, 2304, 7, 7]           4,608\n",
            "            SiLU-727           [-1, 2304, 7, 7]               0\n",
            "AdaptiveAvgPool2d-728           [-1, 2304, 1, 1]               0\n",
            "          Conv2d-729             [-1, 96, 1, 1]         221,280\n",
            "            SiLU-730             [-1, 96, 1, 1]               0\n",
            "          Conv2d-731           [-1, 2304, 1, 1]         223,488\n",
            "         Sigmoid-732           [-1, 2304, 1, 1]               0\n",
            "SqueezeExcitation-733           [-1, 2304, 7, 7]               0\n",
            "          Conv2d-734            [-1, 384, 7, 7]         884,736\n",
            "     BatchNorm2d-735            [-1, 384, 7, 7]             768\n",
            " StochasticDepth-736            [-1, 384, 7, 7]               0\n",
            "          MBConv-737            [-1, 384, 7, 7]               0\n",
            "          Conv2d-738           [-1, 2304, 7, 7]         884,736\n",
            "     BatchNorm2d-739           [-1, 2304, 7, 7]           4,608\n",
            "            SiLU-740           [-1, 2304, 7, 7]               0\n",
            "          Conv2d-741           [-1, 2304, 7, 7]          57,600\n",
            "     BatchNorm2d-742           [-1, 2304, 7, 7]           4,608\n",
            "            SiLU-743           [-1, 2304, 7, 7]               0\n",
            "AdaptiveAvgPool2d-744           [-1, 2304, 1, 1]               0\n",
            "          Conv2d-745             [-1, 96, 1, 1]         221,280\n",
            "            SiLU-746             [-1, 96, 1, 1]               0\n",
            "          Conv2d-747           [-1, 2304, 1, 1]         223,488\n",
            "         Sigmoid-748           [-1, 2304, 1, 1]               0\n",
            "SqueezeExcitation-749           [-1, 2304, 7, 7]               0\n",
            "          Conv2d-750            [-1, 384, 7, 7]         884,736\n",
            "     BatchNorm2d-751            [-1, 384, 7, 7]             768\n",
            " StochasticDepth-752            [-1, 384, 7, 7]               0\n",
            "          MBConv-753            [-1, 384, 7, 7]               0\n",
            "          Conv2d-754           [-1, 2304, 7, 7]         884,736\n",
            "     BatchNorm2d-755           [-1, 2304, 7, 7]           4,608\n",
            "            SiLU-756           [-1, 2304, 7, 7]               0\n",
            "          Conv2d-757           [-1, 2304, 7, 7]          57,600\n",
            "     BatchNorm2d-758           [-1, 2304, 7, 7]           4,608\n",
            "            SiLU-759           [-1, 2304, 7, 7]               0\n",
            "AdaptiveAvgPool2d-760           [-1, 2304, 1, 1]               0\n",
            "          Conv2d-761             [-1, 96, 1, 1]         221,280\n",
            "            SiLU-762             [-1, 96, 1, 1]               0\n",
            "          Conv2d-763           [-1, 2304, 1, 1]         223,488\n",
            "         Sigmoid-764           [-1, 2304, 1, 1]               0\n",
            "SqueezeExcitation-765           [-1, 2304, 7, 7]               0\n",
            "          Conv2d-766            [-1, 384, 7, 7]         884,736\n",
            "     BatchNorm2d-767            [-1, 384, 7, 7]             768\n",
            " StochasticDepth-768            [-1, 384, 7, 7]               0\n",
            "          MBConv-769            [-1, 384, 7, 7]               0\n",
            "          Conv2d-770           [-1, 2304, 7, 7]         884,736\n",
            "     BatchNorm2d-771           [-1, 2304, 7, 7]           4,608\n",
            "            SiLU-772           [-1, 2304, 7, 7]               0\n",
            "          Conv2d-773           [-1, 2304, 7, 7]          57,600\n",
            "     BatchNorm2d-774           [-1, 2304, 7, 7]           4,608\n",
            "            SiLU-775           [-1, 2304, 7, 7]               0\n",
            "AdaptiveAvgPool2d-776           [-1, 2304, 1, 1]               0\n",
            "          Conv2d-777             [-1, 96, 1, 1]         221,280\n",
            "            SiLU-778             [-1, 96, 1, 1]               0\n",
            "          Conv2d-779           [-1, 2304, 1, 1]         223,488\n",
            "         Sigmoid-780           [-1, 2304, 1, 1]               0\n",
            "SqueezeExcitation-781           [-1, 2304, 7, 7]               0\n",
            "          Conv2d-782            [-1, 384, 7, 7]         884,736\n",
            "     BatchNorm2d-783            [-1, 384, 7, 7]             768\n",
            " StochasticDepth-784            [-1, 384, 7, 7]               0\n",
            "          MBConv-785            [-1, 384, 7, 7]               0\n",
            "          Conv2d-786           [-1, 2304, 7, 7]         884,736\n",
            "     BatchNorm2d-787           [-1, 2304, 7, 7]           4,608\n",
            "            SiLU-788           [-1, 2304, 7, 7]               0\n",
            "          Conv2d-789           [-1, 2304, 7, 7]          57,600\n",
            "     BatchNorm2d-790           [-1, 2304, 7, 7]           4,608\n",
            "            SiLU-791           [-1, 2304, 7, 7]               0\n",
            "AdaptiveAvgPool2d-792           [-1, 2304, 1, 1]               0\n",
            "          Conv2d-793             [-1, 96, 1, 1]         221,280\n",
            "            SiLU-794             [-1, 96, 1, 1]               0\n",
            "          Conv2d-795           [-1, 2304, 1, 1]         223,488\n",
            "         Sigmoid-796           [-1, 2304, 1, 1]               0\n",
            "SqueezeExcitation-797           [-1, 2304, 7, 7]               0\n",
            "          Conv2d-798            [-1, 384, 7, 7]         884,736\n",
            "     BatchNorm2d-799            [-1, 384, 7, 7]             768\n",
            " StochasticDepth-800            [-1, 384, 7, 7]               0\n",
            "          MBConv-801            [-1, 384, 7, 7]               0\n",
            "          Conv2d-802           [-1, 2304, 7, 7]         884,736\n",
            "     BatchNorm2d-803           [-1, 2304, 7, 7]           4,608\n",
            "            SiLU-804           [-1, 2304, 7, 7]               0\n",
            "          Conv2d-805           [-1, 2304, 7, 7]          20,736\n",
            "     BatchNorm2d-806           [-1, 2304, 7, 7]           4,608\n",
            "            SiLU-807           [-1, 2304, 7, 7]               0\n",
            "AdaptiveAvgPool2d-808           [-1, 2304, 1, 1]               0\n",
            "          Conv2d-809             [-1, 96, 1, 1]         221,280\n",
            "            SiLU-810             [-1, 96, 1, 1]               0\n",
            "          Conv2d-811           [-1, 2304, 1, 1]         223,488\n",
            "         Sigmoid-812           [-1, 2304, 1, 1]               0\n",
            "SqueezeExcitation-813           [-1, 2304, 7, 7]               0\n",
            "          Conv2d-814            [-1, 640, 7, 7]       1,474,560\n",
            "     BatchNorm2d-815            [-1, 640, 7, 7]           1,280\n",
            "          MBConv-816            [-1, 640, 7, 7]               0\n",
            "          Conv2d-817           [-1, 3840, 7, 7]       2,457,600\n",
            "     BatchNorm2d-818           [-1, 3840, 7, 7]           7,680\n",
            "            SiLU-819           [-1, 3840, 7, 7]               0\n",
            "          Conv2d-820           [-1, 3840, 7, 7]          34,560\n",
            "     BatchNorm2d-821           [-1, 3840, 7, 7]           7,680\n",
            "            SiLU-822           [-1, 3840, 7, 7]               0\n",
            "AdaptiveAvgPool2d-823           [-1, 3840, 1, 1]               0\n",
            "          Conv2d-824            [-1, 160, 1, 1]         614,560\n",
            "            SiLU-825            [-1, 160, 1, 1]               0\n",
            "          Conv2d-826           [-1, 3840, 1, 1]         618,240\n",
            "         Sigmoid-827           [-1, 3840, 1, 1]               0\n",
            "SqueezeExcitation-828           [-1, 3840, 7, 7]               0\n",
            "          Conv2d-829            [-1, 640, 7, 7]       2,457,600\n",
            "     BatchNorm2d-830            [-1, 640, 7, 7]           1,280\n",
            " StochasticDepth-831            [-1, 640, 7, 7]               0\n",
            "          MBConv-832            [-1, 640, 7, 7]               0\n",
            "          Conv2d-833           [-1, 3840, 7, 7]       2,457,600\n",
            "     BatchNorm2d-834           [-1, 3840, 7, 7]           7,680\n",
            "            SiLU-835           [-1, 3840, 7, 7]               0\n",
            "          Conv2d-836           [-1, 3840, 7, 7]          34,560\n",
            "     BatchNorm2d-837           [-1, 3840, 7, 7]           7,680\n",
            "            SiLU-838           [-1, 3840, 7, 7]               0\n",
            "AdaptiveAvgPool2d-839           [-1, 3840, 1, 1]               0\n",
            "          Conv2d-840            [-1, 160, 1, 1]         614,560\n",
            "            SiLU-841            [-1, 160, 1, 1]               0\n",
            "          Conv2d-842           [-1, 3840, 1, 1]         618,240\n",
            "         Sigmoid-843           [-1, 3840, 1, 1]               0\n",
            "SqueezeExcitation-844           [-1, 3840, 7, 7]               0\n",
            "          Conv2d-845            [-1, 640, 7, 7]       2,457,600\n",
            "     BatchNorm2d-846            [-1, 640, 7, 7]           1,280\n",
            " StochasticDepth-847            [-1, 640, 7, 7]               0\n",
            "          MBConv-848            [-1, 640, 7, 7]               0\n",
            "          Conv2d-849           [-1, 3840, 7, 7]       2,457,600\n",
            "     BatchNorm2d-850           [-1, 3840, 7, 7]           7,680\n",
            "            SiLU-851           [-1, 3840, 7, 7]               0\n",
            "          Conv2d-852           [-1, 3840, 7, 7]          34,560\n",
            "     BatchNorm2d-853           [-1, 3840, 7, 7]           7,680\n",
            "            SiLU-854           [-1, 3840, 7, 7]               0\n",
            "AdaptiveAvgPool2d-855           [-1, 3840, 1, 1]               0\n",
            "          Conv2d-856            [-1, 160, 1, 1]         614,560\n",
            "            SiLU-857            [-1, 160, 1, 1]               0\n",
            "          Conv2d-858           [-1, 3840, 1, 1]         618,240\n",
            "         Sigmoid-859           [-1, 3840, 1, 1]               0\n",
            "SqueezeExcitation-860           [-1, 3840, 7, 7]               0\n",
            "          Conv2d-861            [-1, 640, 7, 7]       2,457,600\n",
            "     BatchNorm2d-862            [-1, 640, 7, 7]           1,280\n",
            " StochasticDepth-863            [-1, 640, 7, 7]               0\n",
            "          MBConv-864            [-1, 640, 7, 7]               0\n",
            "          Conv2d-865           [-1, 2560, 7, 7]       1,638,400\n",
            "     BatchNorm2d-866           [-1, 2560, 7, 7]           5,120\n",
            "            SiLU-867           [-1, 2560, 7, 7]               0\n",
            "AdaptiveAvgPool2d-868           [-1, 2560, 1, 1]               0\n",
            "         Dropout-869                 [-1, 2560]               0\n",
            "          Linear-870                 [-1, 1000]       2,561,000\n",
            "================================================================\n",
            "Total params: 66,347,960\n",
            "Trainable params: 66,347,960\n",
            "Non-trainable params: 0\n",
            "----------------------------------------------------------------\n",
            "Input size (MB): 0.57\n",
            "Forward/backward pass size (MB): 1073.57\n",
            "Params size (MB): 253.10\n",
            "Estimated Total Size (MB): 1327.25\n",
            "----------------------------------------------------------------\n"
          ]
        }
      ],
      "source": [
        "summary(model.to(device), (3, 224, 224))"
      ]
    }
  ],
  "metadata": {
    "accelerator": "GPU",
    "colab": {
      "authorship_tag": "ABX9TyPAGounG7+eQv7lZ2W0w6RO",
      "collapsed_sections": [],
      "include_colab_link": true,
      "name": "2_CNN.ipynb",
      "provenance": [],
      "toc_visible": true
    },
    "gpuClass": "standard",
    "kernelspec": {
      "display_name": "Python 3",
      "name": "python3"
    },
    "language_info": {
      "name": "python",
      "version": "3.11.4"
    },
    "widgets": {
      "application/vnd.jupyter.widget-state+json": {
        "03d9019bef854090a210fe43e0498b7c": {
          "model_module": "@jupyter-widgets/controls",
          "model_module_version": "1.5.0",
          "model_name": "HTMLModel",
          "state": {
            "_dom_classes": [],
            "_model_module": "@jupyter-widgets/controls",
            "_model_module_version": "1.5.0",
            "_model_name": "HTMLModel",
            "_view_count": null,
            "_view_module": "@jupyter-widgets/controls",
            "_view_module_version": "1.5.0",
            "_view_name": "HTMLView",
            "description": "",
            "description_tooltip": null,
            "layout": "IPY_MODEL_063465cad6674a4ab822346cb0b60e8c",
            "placeholder": "​",
            "style": "IPY_MODEL_7c64348a7a27470eac71492806834a43",
            "value": "100%"
          }
        },
        "05c2a8064b2b4159aec6ecf70f75a03f": {
          "model_module": "@jupyter-widgets/controls",
          "model_module_version": "1.5.0",
          "model_name": "FloatProgressModel",
          "state": {
            "_dom_classes": [],
            "_model_module": "@jupyter-widgets/controls",
            "_model_module_version": "1.5.0",
            "_model_name": "FloatProgressModel",
            "_view_count": null,
            "_view_module": "@jupyter-widgets/controls",
            "_view_module_version": "1.5.0",
            "_view_name": "ProgressView",
            "bar_style": "success",
            "description": "",
            "description_tooltip": null,
            "layout": "IPY_MODEL_2dadfb0f7fff4ec3927c3d1eaceeb411",
            "max": 553433881,
            "min": 0,
            "orientation": "horizontal",
            "style": "IPY_MODEL_88f1e5979675429d82976df59eeddf93",
            "value": 553433881
          }
        },
        "063465cad6674a4ab822346cb0b60e8c": {
          "model_module": "@jupyter-widgets/base",
          "model_module_version": "1.2.0",
          "model_name": "LayoutModel",
          "state": {
            "_model_module": "@jupyter-widgets/base",
            "_model_module_version": "1.2.0",
            "_model_name": "LayoutModel",
            "_view_count": null,
            "_view_module": "@jupyter-widgets/base",
            "_view_module_version": "1.2.0",
            "_view_name": "LayoutView",
            "align_content": null,
            "align_items": null,
            "align_self": null,
            "border": null,
            "bottom": null,
            "display": null,
            "flex": null,
            "flex_flow": null,
            "grid_area": null,
            "grid_auto_columns": null,
            "grid_auto_flow": null,
            "grid_auto_rows": null,
            "grid_column": null,
            "grid_gap": null,
            "grid_row": null,
            "grid_template_areas": null,
            "grid_template_columns": null,
            "grid_template_rows": null,
            "height": null,
            "justify_content": null,
            "justify_items": null,
            "left": null,
            "margin": null,
            "max_height": null,
            "max_width": null,
            "min_height": null,
            "min_width": null,
            "object_fit": null,
            "object_position": null,
            "order": null,
            "overflow": null,
            "overflow_x": null,
            "overflow_y": null,
            "padding": null,
            "right": null,
            "top": null,
            "visibility": null,
            "width": null
          }
        },
        "0768f7b234e048b0acbf4a5a26a3b6fd": {
          "model_module": "@jupyter-widgets/base",
          "model_module_version": "1.2.0",
          "model_name": "LayoutModel",
          "state": {
            "_model_module": "@jupyter-widgets/base",
            "_model_module_version": "1.2.0",
            "_model_name": "LayoutModel",
            "_view_count": null,
            "_view_module": "@jupyter-widgets/base",
            "_view_module_version": "1.2.0",
            "_view_name": "LayoutView",
            "align_content": null,
            "align_items": null,
            "align_self": null,
            "border": null,
            "bottom": null,
            "display": null,
            "flex": null,
            "flex_flow": null,
            "grid_area": null,
            "grid_auto_columns": null,
            "grid_auto_flow": null,
            "grid_auto_rows": null,
            "grid_column": null,
            "grid_gap": null,
            "grid_row": null,
            "grid_template_areas": null,
            "grid_template_columns": null,
            "grid_template_rows": null,
            "height": null,
            "justify_content": null,
            "justify_items": null,
            "left": null,
            "margin": null,
            "max_height": null,
            "max_width": null,
            "min_height": null,
            "min_width": null,
            "object_fit": null,
            "object_position": null,
            "order": null,
            "overflow": null,
            "overflow_x": null,
            "overflow_y": null,
            "padding": null,
            "right": null,
            "top": null,
            "visibility": null,
            "width": null
          }
        },
        "088fe7d5bf00471aa95ce5b0f8f36cd5": {
          "model_module": "@jupyter-widgets/base",
          "model_module_version": "1.2.0",
          "model_name": "LayoutModel",
          "state": {
            "_model_module": "@jupyter-widgets/base",
            "_model_module_version": "1.2.0",
            "_model_name": "LayoutModel",
            "_view_count": null,
            "_view_module": "@jupyter-widgets/base",
            "_view_module_version": "1.2.0",
            "_view_name": "LayoutView",
            "align_content": null,
            "align_items": null,
            "align_self": null,
            "border": null,
            "bottom": null,
            "display": null,
            "flex": null,
            "flex_flow": null,
            "grid_area": null,
            "grid_auto_columns": null,
            "grid_auto_flow": null,
            "grid_auto_rows": null,
            "grid_column": null,
            "grid_gap": null,
            "grid_row": null,
            "grid_template_areas": null,
            "grid_template_columns": null,
            "grid_template_rows": null,
            "height": null,
            "justify_content": null,
            "justify_items": null,
            "left": null,
            "margin": null,
            "max_height": null,
            "max_width": null,
            "min_height": null,
            "min_width": null,
            "object_fit": null,
            "object_position": null,
            "order": null,
            "overflow": null,
            "overflow_x": null,
            "overflow_y": null,
            "padding": null,
            "right": null,
            "top": null,
            "visibility": null,
            "width": null
          }
        },
        "0bccde76a82c4e29b256f2f5c3870af4": {
          "model_module": "@jupyter-widgets/controls",
          "model_module_version": "1.5.0",
          "model_name": "DescriptionStyleModel",
          "state": {
            "_model_module": "@jupyter-widgets/controls",
            "_model_module_version": "1.5.0",
            "_model_name": "DescriptionStyleModel",
            "_view_count": null,
            "_view_module": "@jupyter-widgets/base",
            "_view_module_version": "1.2.0",
            "_view_name": "StyleView",
            "description_width": ""
          }
        },
        "12edef14f4594c92a6502e6e840aaa3b": {
          "model_module": "@jupyter-widgets/controls",
          "model_module_version": "1.5.0",
          "model_name": "HTMLModel",
          "state": {
            "_dom_classes": [],
            "_model_module": "@jupyter-widgets/controls",
            "_model_module_version": "1.5.0",
            "_model_name": "HTMLModel",
            "_view_count": null,
            "_view_module": "@jupyter-widgets/controls",
            "_view_module_version": "1.5.0",
            "_view_name": "HTMLView",
            "description": "",
            "description_tooltip": null,
            "layout": "IPY_MODEL_eaee232b52874080bf9b6f733093ea22",
            "placeholder": "​",
            "style": "IPY_MODEL_4de0a680e727430eacf0baed5ea7e7e1",
            "value": " 561754112/? [00:07&lt;00:00, 37152261.60it/s]"
          }
        },
        "212d1ac3f01b48c5986baf606a9e16b9": {
          "model_module": "@jupyter-widgets/base",
          "model_module_version": "1.2.0",
          "model_name": "LayoutModel",
          "state": {
            "_model_module": "@jupyter-widgets/base",
            "_model_module_version": "1.2.0",
            "_model_name": "LayoutModel",
            "_view_count": null,
            "_view_module": "@jupyter-widgets/base",
            "_view_module_version": "1.2.0",
            "_view_name": "LayoutView",
            "align_content": null,
            "align_items": null,
            "align_self": null,
            "border": null,
            "bottom": null,
            "display": null,
            "flex": null,
            "flex_flow": null,
            "grid_area": null,
            "grid_auto_columns": null,
            "grid_auto_flow": null,
            "grid_auto_rows": null,
            "grid_column": null,
            "grid_gap": null,
            "grid_row": null,
            "grid_template_areas": null,
            "grid_template_columns": null,
            "grid_template_rows": null,
            "height": null,
            "justify_content": null,
            "justify_items": null,
            "left": null,
            "margin": null,
            "max_height": null,
            "max_width": null,
            "min_height": null,
            "min_width": null,
            "object_fit": null,
            "object_position": null,
            "order": null,
            "overflow": null,
            "overflow_x": null,
            "overflow_y": null,
            "padding": null,
            "right": null,
            "top": null,
            "visibility": null,
            "width": null
          }
        },
        "28d5eeb23c1647c3a3dde26d2c48b001": {
          "model_module": "@jupyter-widgets/controls",
          "model_module_version": "1.5.0",
          "model_name": "HTMLModel",
          "state": {
            "_dom_classes": [],
            "_model_module": "@jupyter-widgets/controls",
            "_model_module_version": "1.5.0",
            "_model_name": "HTMLModel",
            "_view_count": null,
            "_view_module": "@jupyter-widgets/controls",
            "_view_module_version": "1.5.0",
            "_view_name": "HTMLView",
            "description": "",
            "description_tooltip": null,
            "layout": "IPY_MODEL_3643c1902cdf40a481b1a5c7ba080280",
            "placeholder": "​",
            "style": "IPY_MODEL_9a92d38049104a6a8862de733ac3438d",
            "value": ""
          }
        },
        "2dadfb0f7fff4ec3927c3d1eaceeb411": {
          "model_module": "@jupyter-widgets/base",
          "model_module_version": "1.2.0",
          "model_name": "LayoutModel",
          "state": {
            "_model_module": "@jupyter-widgets/base",
            "_model_module_version": "1.2.0",
            "_model_name": "LayoutModel",
            "_view_count": null,
            "_view_module": "@jupyter-widgets/base",
            "_view_module_version": "1.2.0",
            "_view_name": "LayoutView",
            "align_content": null,
            "align_items": null,
            "align_self": null,
            "border": null,
            "bottom": null,
            "display": null,
            "flex": null,
            "flex_flow": null,
            "grid_area": null,
            "grid_auto_columns": null,
            "grid_auto_flow": null,
            "grid_auto_rows": null,
            "grid_column": null,
            "grid_gap": null,
            "grid_row": null,
            "grid_template_areas": null,
            "grid_template_columns": null,
            "grid_template_rows": null,
            "height": null,
            "justify_content": null,
            "justify_items": null,
            "left": null,
            "margin": null,
            "max_height": null,
            "max_width": null,
            "min_height": null,
            "min_width": null,
            "object_fit": null,
            "object_position": null,
            "order": null,
            "overflow": null,
            "overflow_x": null,
            "overflow_y": null,
            "padding": null,
            "right": null,
            "top": null,
            "visibility": null,
            "width": null
          }
        },
        "31625aa9465c4e6c929a34363478a506": {
          "model_module": "@jupyter-widgets/controls",
          "model_module_version": "1.5.0",
          "model_name": "FloatProgressModel",
          "state": {
            "_dom_classes": [],
            "_model_module": "@jupyter-widgets/controls",
            "_model_module_version": "1.5.0",
            "_model_name": "FloatProgressModel",
            "_view_count": null,
            "_view_module": "@jupyter-widgets/controls",
            "_view_module_version": "1.5.0",
            "_view_name": "ProgressView",
            "bar_style": "",
            "description": "",
            "description_tooltip": null,
            "layout": "IPY_MODEL_0768f7b234e048b0acbf4a5a26a3b6fd",
            "max": 1,
            "min": 0,
            "orientation": "horizontal",
            "style": "IPY_MODEL_a0ab5ad0dde7438da7406524ac21a857",
            "value": 1
          }
        },
        "3643c1902cdf40a481b1a5c7ba080280": {
          "model_module": "@jupyter-widgets/base",
          "model_module_version": "1.2.0",
          "model_name": "LayoutModel",
          "state": {
            "_model_module": "@jupyter-widgets/base",
            "_model_module_version": "1.2.0",
            "_model_name": "LayoutModel",
            "_view_count": null,
            "_view_module": "@jupyter-widgets/base",
            "_view_module_version": "1.2.0",
            "_view_name": "LayoutView",
            "align_content": null,
            "align_items": null,
            "align_self": null,
            "border": null,
            "bottom": null,
            "display": null,
            "flex": null,
            "flex_flow": null,
            "grid_area": null,
            "grid_auto_columns": null,
            "grid_auto_flow": null,
            "grid_auto_rows": null,
            "grid_column": null,
            "grid_gap": null,
            "grid_row": null,
            "grid_template_areas": null,
            "grid_template_columns": null,
            "grid_template_rows": null,
            "height": null,
            "justify_content": null,
            "justify_items": null,
            "left": null,
            "margin": null,
            "max_height": null,
            "max_width": null,
            "min_height": null,
            "min_width": null,
            "object_fit": null,
            "object_position": null,
            "order": null,
            "overflow": null,
            "overflow_x": null,
            "overflow_y": null,
            "padding": null,
            "right": null,
            "top": null,
            "visibility": null,
            "width": null
          }
        },
        "3e9fb2541d87435090fc99b7a557042c": {
          "model_module": "@jupyter-widgets/base",
          "model_module_version": "1.2.0",
          "model_name": "LayoutModel",
          "state": {
            "_model_module": "@jupyter-widgets/base",
            "_model_module_version": "1.2.0",
            "_model_name": "LayoutModel",
            "_view_count": null,
            "_view_module": "@jupyter-widgets/base",
            "_view_module_version": "1.2.0",
            "_view_name": "LayoutView",
            "align_content": null,
            "align_items": null,
            "align_self": null,
            "border": null,
            "bottom": null,
            "display": null,
            "flex": null,
            "flex_flow": null,
            "grid_area": null,
            "grid_auto_columns": null,
            "grid_auto_flow": null,
            "grid_auto_rows": null,
            "grid_column": null,
            "grid_gap": null,
            "grid_row": null,
            "grid_template_areas": null,
            "grid_template_columns": null,
            "grid_template_rows": null,
            "height": null,
            "justify_content": null,
            "justify_items": null,
            "left": null,
            "margin": null,
            "max_height": null,
            "max_width": null,
            "min_height": null,
            "min_width": null,
            "object_fit": null,
            "object_position": null,
            "order": null,
            "overflow": null,
            "overflow_x": null,
            "overflow_y": null,
            "padding": null,
            "right": null,
            "top": null,
            "visibility": null,
            "width": null
          }
        },
        "407e2e26f7954dc69eced74f6f86a9bf": {
          "model_module": "@jupyter-widgets/controls",
          "model_module_version": "1.5.0",
          "model_name": "DescriptionStyleModel",
          "state": {
            "_model_module": "@jupyter-widgets/controls",
            "_model_module_version": "1.5.0",
            "_model_name": "DescriptionStyleModel",
            "_view_count": null,
            "_view_module": "@jupyter-widgets/base",
            "_view_module_version": "1.2.0",
            "_view_name": "StyleView",
            "description_width": ""
          }
        },
        "412d5ef16d3a4ab7b1a23995f1a26036": {
          "model_module": "@jupyter-widgets/base",
          "model_module_version": "1.2.0",
          "model_name": "LayoutModel",
          "state": {
            "_model_module": "@jupyter-widgets/base",
            "_model_module_version": "1.2.0",
            "_model_name": "LayoutModel",
            "_view_count": null,
            "_view_module": "@jupyter-widgets/base",
            "_view_module_version": "1.2.0",
            "_view_name": "LayoutView",
            "align_content": null,
            "align_items": null,
            "align_self": null,
            "border": null,
            "bottom": null,
            "display": null,
            "flex": null,
            "flex_flow": null,
            "grid_area": null,
            "grid_auto_columns": null,
            "grid_auto_flow": null,
            "grid_auto_rows": null,
            "grid_column": null,
            "grid_gap": null,
            "grid_row": null,
            "grid_template_areas": null,
            "grid_template_columns": null,
            "grid_template_rows": null,
            "height": null,
            "justify_content": null,
            "justify_items": null,
            "left": null,
            "margin": null,
            "max_height": null,
            "max_width": null,
            "min_height": null,
            "min_width": null,
            "object_fit": null,
            "object_position": null,
            "order": null,
            "overflow": null,
            "overflow_x": null,
            "overflow_y": null,
            "padding": null,
            "right": null,
            "top": null,
            "visibility": null,
            "width": null
          }
        },
        "41da8e50a117413dace193ee6cfda16f": {
          "model_module": "@jupyter-widgets/controls",
          "model_module_version": "1.5.0",
          "model_name": "HTMLModel",
          "state": {
            "_dom_classes": [],
            "_model_module": "@jupyter-widgets/controls",
            "_model_module_version": "1.5.0",
            "_model_name": "HTMLModel",
            "_view_count": null,
            "_view_module": "@jupyter-widgets/controls",
            "_view_module_version": "1.5.0",
            "_view_name": "HTMLView",
            "description": "",
            "description_tooltip": null,
            "layout": "IPY_MODEL_212d1ac3f01b48c5986baf606a9e16b9",
            "placeholder": "​",
            "style": "IPY_MODEL_0bccde76a82c4e29b256f2f5c3870af4",
            "value": " 528M/528M [00:16&lt;00:00, 35.2MB/s]"
          }
        },
        "437adbdb0cb449a0aa0d082f47a8d0f7": {
          "model_module": "@jupyter-widgets/controls",
          "model_module_version": "1.5.0",
          "model_name": "HTMLModel",
          "state": {
            "_dom_classes": [],
            "_model_module": "@jupyter-widgets/controls",
            "_model_module_version": "1.5.0",
            "_model_name": "HTMLModel",
            "_view_count": null,
            "_view_module": "@jupyter-widgets/controls",
            "_view_module_version": "1.5.0",
            "_view_name": "HTMLView",
            "description": "",
            "description_tooltip": null,
            "layout": "IPY_MODEL_460249cf03454225a0484c282b1867f6",
            "placeholder": "​",
            "style": "IPY_MODEL_c7a64d9169814e6691280a9fde9c619d",
            "value": " 230M/230M [00:07&lt;00:00, 35.1MB/s]"
          }
        },
        "43e10b35a65f45ef947c39ef9c92178a": {
          "model_module": "@jupyter-widgets/controls",
          "model_module_version": "1.5.0",
          "model_name": "DescriptionStyleModel",
          "state": {
            "_model_module": "@jupyter-widgets/controls",
            "_model_module_version": "1.5.0",
            "_model_name": "DescriptionStyleModel",
            "_view_count": null,
            "_view_module": "@jupyter-widgets/base",
            "_view_module_version": "1.2.0",
            "_view_name": "StyleView",
            "description_width": ""
          }
        },
        "43ffcff9ee0845f49a2d183e9995cdf1": {
          "model_module": "@jupyter-widgets/controls",
          "model_module_version": "1.5.0",
          "model_name": "ProgressStyleModel",
          "state": {
            "_model_module": "@jupyter-widgets/controls",
            "_model_module_version": "1.5.0",
            "_model_name": "ProgressStyleModel",
            "_view_count": null,
            "_view_module": "@jupyter-widgets/base",
            "_view_module_version": "1.2.0",
            "_view_name": "StyleView",
            "bar_color": null,
            "description_width": ""
          }
        },
        "4458b4a9a1c4401eb3ebfe4f2baf2882": {
          "model_module": "@jupyter-widgets/base",
          "model_module_version": "1.2.0",
          "model_name": "LayoutModel",
          "state": {
            "_model_module": "@jupyter-widgets/base",
            "_model_module_version": "1.2.0",
            "_model_name": "LayoutModel",
            "_view_count": null,
            "_view_module": "@jupyter-widgets/base",
            "_view_module_version": "1.2.0",
            "_view_name": "LayoutView",
            "align_content": null,
            "align_items": null,
            "align_self": null,
            "border": null,
            "bottom": null,
            "display": null,
            "flex": null,
            "flex_flow": null,
            "grid_area": null,
            "grid_auto_columns": null,
            "grid_auto_flow": null,
            "grid_auto_rows": null,
            "grid_column": null,
            "grid_gap": null,
            "grid_row": null,
            "grid_template_areas": null,
            "grid_template_columns": null,
            "grid_template_rows": null,
            "height": null,
            "justify_content": null,
            "justify_items": null,
            "left": null,
            "margin": null,
            "max_height": null,
            "max_width": null,
            "min_height": null,
            "min_width": null,
            "object_fit": null,
            "object_position": null,
            "order": null,
            "overflow": null,
            "overflow_x": null,
            "overflow_y": null,
            "padding": null,
            "right": null,
            "top": null,
            "visibility": null,
            "width": null
          }
        },
        "45bd2e39efdd4fb19f319e37480e4488": {
          "model_module": "@jupyter-widgets/base",
          "model_module_version": "1.2.0",
          "model_name": "LayoutModel",
          "state": {
            "_model_module": "@jupyter-widgets/base",
            "_model_module_version": "1.2.0",
            "_model_name": "LayoutModel",
            "_view_count": null,
            "_view_module": "@jupyter-widgets/base",
            "_view_module_version": "1.2.0",
            "_view_name": "LayoutView",
            "align_content": null,
            "align_items": null,
            "align_self": null,
            "border": null,
            "bottom": null,
            "display": null,
            "flex": null,
            "flex_flow": null,
            "grid_area": null,
            "grid_auto_columns": null,
            "grid_auto_flow": null,
            "grid_auto_rows": null,
            "grid_column": null,
            "grid_gap": null,
            "grid_row": null,
            "grid_template_areas": null,
            "grid_template_columns": null,
            "grid_template_rows": null,
            "height": null,
            "justify_content": null,
            "justify_items": null,
            "left": null,
            "margin": null,
            "max_height": null,
            "max_width": null,
            "min_height": null,
            "min_width": null,
            "object_fit": null,
            "object_position": null,
            "order": null,
            "overflow": null,
            "overflow_x": null,
            "overflow_y": null,
            "padding": null,
            "right": null,
            "top": null,
            "visibility": null,
            "width": null
          }
        },
        "460249cf03454225a0484c282b1867f6": {
          "model_module": "@jupyter-widgets/base",
          "model_module_version": "1.2.0",
          "model_name": "LayoutModel",
          "state": {
            "_model_module": "@jupyter-widgets/base",
            "_model_module_version": "1.2.0",
            "_model_name": "LayoutModel",
            "_view_count": null,
            "_view_module": "@jupyter-widgets/base",
            "_view_module_version": "1.2.0",
            "_view_name": "LayoutView",
            "align_content": null,
            "align_items": null,
            "align_self": null,
            "border": null,
            "bottom": null,
            "display": null,
            "flex": null,
            "flex_flow": null,
            "grid_area": null,
            "grid_auto_columns": null,
            "grid_auto_flow": null,
            "grid_auto_rows": null,
            "grid_column": null,
            "grid_gap": null,
            "grid_row": null,
            "grid_template_areas": null,
            "grid_template_columns": null,
            "grid_template_rows": null,
            "height": null,
            "justify_content": null,
            "justify_items": null,
            "left": null,
            "margin": null,
            "max_height": null,
            "max_width": null,
            "min_height": null,
            "min_width": null,
            "object_fit": null,
            "object_position": null,
            "order": null,
            "overflow": null,
            "overflow_x": null,
            "overflow_y": null,
            "padding": null,
            "right": null,
            "top": null,
            "visibility": null,
            "width": null
          }
        },
        "4de0a680e727430eacf0baed5ea7e7e1": {
          "model_module": "@jupyter-widgets/controls",
          "model_module_version": "1.5.0",
          "model_name": "DescriptionStyleModel",
          "state": {
            "_model_module": "@jupyter-widgets/controls",
            "_model_module_version": "1.5.0",
            "_model_name": "DescriptionStyleModel",
            "_view_count": null,
            "_view_module": "@jupyter-widgets/base",
            "_view_module_version": "1.2.0",
            "_view_name": "StyleView",
            "description_width": ""
          }
        },
        "4ec3a133b54842d792849092d868f434": {
          "model_module": "@jupyter-widgets/base",
          "model_module_version": "1.2.0",
          "model_name": "LayoutModel",
          "state": {
            "_model_module": "@jupyter-widgets/base",
            "_model_module_version": "1.2.0",
            "_model_name": "LayoutModel",
            "_view_count": null,
            "_view_module": "@jupyter-widgets/base",
            "_view_module_version": "1.2.0",
            "_view_name": "LayoutView",
            "align_content": null,
            "align_items": null,
            "align_self": null,
            "border": null,
            "bottom": null,
            "display": null,
            "flex": null,
            "flex_flow": null,
            "grid_area": null,
            "grid_auto_columns": null,
            "grid_auto_flow": null,
            "grid_auto_rows": null,
            "grid_column": null,
            "grid_gap": null,
            "grid_row": null,
            "grid_template_areas": null,
            "grid_template_columns": null,
            "grid_template_rows": null,
            "height": null,
            "justify_content": null,
            "justify_items": null,
            "left": null,
            "margin": null,
            "max_height": null,
            "max_width": null,
            "min_height": null,
            "min_width": null,
            "object_fit": null,
            "object_position": null,
            "order": null,
            "overflow": null,
            "overflow_x": null,
            "overflow_y": null,
            "padding": null,
            "right": null,
            "top": null,
            "visibility": null,
            "width": null
          }
        },
        "535bfc8fdd1844f2bb12579e78d849a3": {
          "model_module": "@jupyter-widgets/controls",
          "model_module_version": "1.5.0",
          "model_name": "DescriptionStyleModel",
          "state": {
            "_model_module": "@jupyter-widgets/controls",
            "_model_module_version": "1.5.0",
            "_model_name": "DescriptionStyleModel",
            "_view_count": null,
            "_view_module": "@jupyter-widgets/base",
            "_view_module_version": "1.2.0",
            "_view_name": "StyleView",
            "description_width": ""
          }
        },
        "56fece85c87644318e58fb4c697d6033": {
          "model_module": "@jupyter-widgets/base",
          "model_module_version": "1.2.0",
          "model_name": "LayoutModel",
          "state": {
            "_model_module": "@jupyter-widgets/base",
            "_model_module_version": "1.2.0",
            "_model_name": "LayoutModel",
            "_view_count": null,
            "_view_module": "@jupyter-widgets/base",
            "_view_module_version": "1.2.0",
            "_view_name": "LayoutView",
            "align_content": null,
            "align_items": null,
            "align_self": null,
            "border": null,
            "bottom": null,
            "display": null,
            "flex": null,
            "flex_flow": null,
            "grid_area": null,
            "grid_auto_columns": null,
            "grid_auto_flow": null,
            "grid_auto_rows": null,
            "grid_column": null,
            "grid_gap": null,
            "grid_row": null,
            "grid_template_areas": null,
            "grid_template_columns": null,
            "grid_template_rows": null,
            "height": null,
            "justify_content": null,
            "justify_items": null,
            "left": null,
            "margin": null,
            "max_height": null,
            "max_width": null,
            "min_height": null,
            "min_width": null,
            "object_fit": null,
            "object_position": null,
            "order": null,
            "overflow": null,
            "overflow_x": null,
            "overflow_y": null,
            "padding": null,
            "right": null,
            "top": null,
            "visibility": null,
            "width": null
          }
        },
        "5d517c85dcee4df49bf9f7ec2580c658": {
          "model_module": "@jupyter-widgets/controls",
          "model_module_version": "1.5.0",
          "model_name": "DescriptionStyleModel",
          "state": {
            "_model_module": "@jupyter-widgets/controls",
            "_model_module_version": "1.5.0",
            "_model_name": "DescriptionStyleModel",
            "_view_count": null,
            "_view_module": "@jupyter-widgets/base",
            "_view_module_version": "1.2.0",
            "_view_name": "StyleView",
            "description_width": ""
          }
        },
        "63c2e10cc74a431d86f81aa372504853": {
          "model_module": "@jupyter-widgets/base",
          "model_module_version": "1.2.0",
          "model_name": "LayoutModel",
          "state": {
            "_model_module": "@jupyter-widgets/base",
            "_model_module_version": "1.2.0",
            "_model_name": "LayoutModel",
            "_view_count": null,
            "_view_module": "@jupyter-widgets/base",
            "_view_module_version": "1.2.0",
            "_view_name": "LayoutView",
            "align_content": null,
            "align_items": null,
            "align_self": null,
            "border": null,
            "bottom": null,
            "display": null,
            "flex": null,
            "flex_flow": null,
            "grid_area": null,
            "grid_auto_columns": null,
            "grid_auto_flow": null,
            "grid_auto_rows": null,
            "grid_column": null,
            "grid_gap": null,
            "grid_row": null,
            "grid_template_areas": null,
            "grid_template_columns": null,
            "grid_template_rows": null,
            "height": null,
            "justify_content": null,
            "justify_items": null,
            "left": null,
            "margin": null,
            "max_height": null,
            "max_width": null,
            "min_height": null,
            "min_width": null,
            "object_fit": null,
            "object_position": null,
            "order": null,
            "overflow": null,
            "overflow_x": null,
            "overflow_y": null,
            "padding": null,
            "right": null,
            "top": null,
            "visibility": null,
            "width": null
          }
        },
        "747fc31f4ac64a26a66a960d38bb2fc5": {
          "model_module": "@jupyter-widgets/controls",
          "model_module_version": "1.5.0",
          "model_name": "FloatProgressModel",
          "state": {
            "_dom_classes": [],
            "_model_module": "@jupyter-widgets/controls",
            "_model_module_version": "1.5.0",
            "_model_name": "FloatProgressModel",
            "_view_count": null,
            "_view_module": "@jupyter-widgets/controls",
            "_view_module_version": "1.5.0",
            "_view_name": "ProgressView",
            "bar_style": "success",
            "description": "",
            "description_tooltip": null,
            "layout": "IPY_MODEL_f3d4fef44ff9447fa26f06cf72e33f26",
            "max": 267046505,
            "min": 0,
            "orientation": "horizontal",
            "style": "IPY_MODEL_7f479cb92f0d412ca8f7103f9f134b9e",
            "value": 267046505
          }
        },
        "777f0e35908d4d44b8ded3cecb50d0ac": {
          "model_module": "@jupyter-widgets/controls",
          "model_module_version": "1.5.0",
          "model_name": "ProgressStyleModel",
          "state": {
            "_model_module": "@jupyter-widgets/controls",
            "_model_module_version": "1.5.0",
            "_model_name": "ProgressStyleModel",
            "_view_count": null,
            "_view_module": "@jupyter-widgets/base",
            "_view_module_version": "1.2.0",
            "_view_name": "StyleView",
            "bar_color": null,
            "description_width": ""
          }
        },
        "7c64348a7a27470eac71492806834a43": {
          "model_module": "@jupyter-widgets/controls",
          "model_module_version": "1.5.0",
          "model_name": "DescriptionStyleModel",
          "state": {
            "_model_module": "@jupyter-widgets/controls",
            "_model_module_version": "1.5.0",
            "_model_name": "DescriptionStyleModel",
            "_view_count": null,
            "_view_module": "@jupyter-widgets/base",
            "_view_module_version": "1.2.0",
            "_view_name": "StyleView",
            "description_width": ""
          }
        },
        "7f479cb92f0d412ca8f7103f9f134b9e": {
          "model_module": "@jupyter-widgets/controls",
          "model_module_version": "1.5.0",
          "model_name": "ProgressStyleModel",
          "state": {
            "_model_module": "@jupyter-widgets/controls",
            "_model_module_version": "1.5.0",
            "_model_name": "ProgressStyleModel",
            "_view_count": null,
            "_view_module": "@jupyter-widgets/base",
            "_view_module_version": "1.2.0",
            "_view_name": "StyleView",
            "bar_color": null,
            "description_width": ""
          }
        },
        "83948899de4a4719bb7684822259542b": {
          "model_module": "@jupyter-widgets/controls",
          "model_module_version": "1.5.0",
          "model_name": "HBoxModel",
          "state": {
            "_dom_classes": [],
            "_model_module": "@jupyter-widgets/controls",
            "_model_module_version": "1.5.0",
            "_model_name": "HBoxModel",
            "_view_count": null,
            "_view_module": "@jupyter-widgets/controls",
            "_view_module_version": "1.5.0",
            "_view_name": "HBoxView",
            "box_style": "",
            "children": [
              "IPY_MODEL_03d9019bef854090a210fe43e0498b7c",
              "IPY_MODEL_747fc31f4ac64a26a66a960d38bb2fc5",
              "IPY_MODEL_c00851dc71364a298918ab2fdf5d7f2a"
            ],
            "layout": "IPY_MODEL_63c2e10cc74a431d86f81aa372504853"
          }
        },
        "88f1e5979675429d82976df59eeddf93": {
          "model_module": "@jupyter-widgets/controls",
          "model_module_version": "1.5.0",
          "model_name": "ProgressStyleModel",
          "state": {
            "_model_module": "@jupyter-widgets/controls",
            "_model_module_version": "1.5.0",
            "_model_name": "ProgressStyleModel",
            "_view_count": null,
            "_view_module": "@jupyter-widgets/base",
            "_view_module_version": "1.2.0",
            "_view_name": "StyleView",
            "bar_color": null,
            "description_width": ""
          }
        },
        "8a477ab3c2bc42258e93d5c78d67d91a": {
          "model_module": "@jupyter-widgets/base",
          "model_module_version": "1.2.0",
          "model_name": "LayoutModel",
          "state": {
            "_model_module": "@jupyter-widgets/base",
            "_model_module_version": "1.2.0",
            "_model_name": "LayoutModel",
            "_view_count": null,
            "_view_module": "@jupyter-widgets/base",
            "_view_module_version": "1.2.0",
            "_view_name": "LayoutView",
            "align_content": null,
            "align_items": null,
            "align_self": null,
            "border": null,
            "bottom": null,
            "display": null,
            "flex": null,
            "flex_flow": null,
            "grid_area": null,
            "grid_auto_columns": null,
            "grid_auto_flow": null,
            "grid_auto_rows": null,
            "grid_column": null,
            "grid_gap": null,
            "grid_row": null,
            "grid_template_areas": null,
            "grid_template_columns": null,
            "grid_template_rows": null,
            "height": null,
            "justify_content": null,
            "justify_items": null,
            "left": null,
            "margin": null,
            "max_height": null,
            "max_width": null,
            "min_height": null,
            "min_width": null,
            "object_fit": null,
            "object_position": null,
            "order": null,
            "overflow": null,
            "overflow_x": null,
            "overflow_y": null,
            "padding": null,
            "right": null,
            "top": null,
            "visibility": null,
            "width": null
          }
        },
        "8a6effae511549efb064aa06b517d29b": {
          "model_module": "@jupyter-widgets/controls",
          "model_module_version": "1.5.0",
          "model_name": "HBoxModel",
          "state": {
            "_dom_classes": [],
            "_model_module": "@jupyter-widgets/controls",
            "_model_module_version": "1.5.0",
            "_model_name": "HBoxModel",
            "_view_count": null,
            "_view_module": "@jupyter-widgets/controls",
            "_view_module_version": "1.5.0",
            "_view_name": "HBoxView",
            "box_style": "",
            "children": [
              "IPY_MODEL_28d5eeb23c1647c3a3dde26d2c48b001",
              "IPY_MODEL_bc003d06c1624235abfd06a49e9b3601",
              "IPY_MODEL_12edef14f4594c92a6502e6e840aaa3b"
            ],
            "layout": "IPY_MODEL_088fe7d5bf00471aa95ce5b0f8f36cd5"
          }
        },
        "8ee1ccbddbba4fca9ab1f6702143fd09": {
          "model_module": "@jupyter-widgets/base",
          "model_module_version": "1.2.0",
          "model_name": "LayoutModel",
          "state": {
            "_model_module": "@jupyter-widgets/base",
            "_model_module_version": "1.2.0",
            "_model_name": "LayoutModel",
            "_view_count": null,
            "_view_module": "@jupyter-widgets/base",
            "_view_module_version": "1.2.0",
            "_view_name": "LayoutView",
            "align_content": null,
            "align_items": null,
            "align_self": null,
            "border": null,
            "bottom": null,
            "display": null,
            "flex": null,
            "flex_flow": null,
            "grid_area": null,
            "grid_auto_columns": null,
            "grid_auto_flow": null,
            "grid_auto_rows": null,
            "grid_column": null,
            "grid_gap": null,
            "grid_row": null,
            "grid_template_areas": null,
            "grid_template_columns": null,
            "grid_template_rows": null,
            "height": null,
            "justify_content": null,
            "justify_items": null,
            "left": null,
            "margin": null,
            "max_height": null,
            "max_width": null,
            "min_height": null,
            "min_width": null,
            "object_fit": null,
            "object_position": null,
            "order": null,
            "overflow": null,
            "overflow_x": null,
            "overflow_y": null,
            "padding": null,
            "right": null,
            "top": null,
            "visibility": null,
            "width": null
          }
        },
        "9119c73e52e2483caa5037b6be8b9352": {
          "model_module": "@jupyter-widgets/controls",
          "model_module_version": "1.5.0",
          "model_name": "LabelModel",
          "state": {
            "_dom_classes": [],
            "_model_module": "@jupyter-widgets/controls",
            "_model_module_version": "1.5.0",
            "_model_name": "LabelModel",
            "_view_count": null,
            "_view_module": "@jupyter-widgets/controls",
            "_view_module_version": "1.5.0",
            "_view_name": "LabelView",
            "description": "",
            "description_tooltip": null,
            "layout": "IPY_MODEL_4458b4a9a1c4401eb3ebfe4f2baf2882",
            "placeholder": "​",
            "style": "IPY_MODEL_5d517c85dcee4df49bf9f7ec2580c658",
            "value": "0.009 MB of 0.009 MB uploaded (0.000 MB deduped)\r"
          }
        },
        "94f7994d8f2b43b0a0241bcfb55e91f3": {
          "model_module": "@jupyter-widgets/controls",
          "model_module_version": "1.5.0",
          "model_name": "HBoxModel",
          "state": {
            "_dom_classes": [],
            "_model_module": "@jupyter-widgets/controls",
            "_model_module_version": "1.5.0",
            "_model_name": "HBoxModel",
            "_view_count": null,
            "_view_module": "@jupyter-widgets/controls",
            "_view_module_version": "1.5.0",
            "_view_name": "HBoxView",
            "box_style": "",
            "children": [
              "IPY_MODEL_d518c1d4e82c41aeb83003fd4b6c9e7c",
              "IPY_MODEL_05c2a8064b2b4159aec6ecf70f75a03f",
              "IPY_MODEL_41da8e50a117413dace193ee6cfda16f"
            ],
            "layout": "IPY_MODEL_ab0fac12e6114cfe91728cae6f1a232f"
          }
        },
        "9a92d38049104a6a8862de733ac3438d": {
          "model_module": "@jupyter-widgets/controls",
          "model_module_version": "1.5.0",
          "model_name": "DescriptionStyleModel",
          "state": {
            "_model_module": "@jupyter-widgets/controls",
            "_model_module_version": "1.5.0",
            "_model_name": "DescriptionStyleModel",
            "_view_count": null,
            "_view_module": "@jupyter-widgets/base",
            "_view_module_version": "1.2.0",
            "_view_name": "StyleView",
            "description_width": ""
          }
        },
        "a0ab5ad0dde7438da7406524ac21a857": {
          "model_module": "@jupyter-widgets/controls",
          "model_module_version": "1.5.0",
          "model_name": "ProgressStyleModel",
          "state": {
            "_model_module": "@jupyter-widgets/controls",
            "_model_module_version": "1.5.0",
            "_model_name": "ProgressStyleModel",
            "_view_count": null,
            "_view_module": "@jupyter-widgets/base",
            "_view_module_version": "1.2.0",
            "_view_name": "StyleView",
            "bar_color": null,
            "description_width": ""
          }
        },
        "ab0fac12e6114cfe91728cae6f1a232f": {
          "model_module": "@jupyter-widgets/base",
          "model_module_version": "1.2.0",
          "model_name": "LayoutModel",
          "state": {
            "_model_module": "@jupyter-widgets/base",
            "_model_module_version": "1.2.0",
            "_model_name": "LayoutModel",
            "_view_count": null,
            "_view_module": "@jupyter-widgets/base",
            "_view_module_version": "1.2.0",
            "_view_name": "LayoutView",
            "align_content": null,
            "align_items": null,
            "align_self": null,
            "border": null,
            "bottom": null,
            "display": null,
            "flex": null,
            "flex_flow": null,
            "grid_area": null,
            "grid_auto_columns": null,
            "grid_auto_flow": null,
            "grid_auto_rows": null,
            "grid_column": null,
            "grid_gap": null,
            "grid_row": null,
            "grid_template_areas": null,
            "grid_template_columns": null,
            "grid_template_rows": null,
            "height": null,
            "justify_content": null,
            "justify_items": null,
            "left": null,
            "margin": null,
            "max_height": null,
            "max_width": null,
            "min_height": null,
            "min_width": null,
            "object_fit": null,
            "object_position": null,
            "order": null,
            "overflow": null,
            "overflow_x": null,
            "overflow_y": null,
            "padding": null,
            "right": null,
            "top": null,
            "visibility": null,
            "width": null
          }
        },
        "ba1a7787ef4e44688aea67b81b07ddd4": {
          "model_module": "@jupyter-widgets/controls",
          "model_module_version": "1.5.0",
          "model_name": "HTMLModel",
          "state": {
            "_dom_classes": [],
            "_model_module": "@jupyter-widgets/controls",
            "_model_module_version": "1.5.0",
            "_model_name": "HTMLModel",
            "_view_count": null,
            "_view_module": "@jupyter-widgets/controls",
            "_view_module_version": "1.5.0",
            "_view_name": "HTMLView",
            "description": "",
            "description_tooltip": null,
            "layout": "IPY_MODEL_412d5ef16d3a4ab7b1a23995f1a26036",
            "placeholder": "​",
            "style": "IPY_MODEL_535bfc8fdd1844f2bb12579e78d849a3",
            "value": "100%"
          }
        },
        "bc003d06c1624235abfd06a49e9b3601": {
          "model_module": "@jupyter-widgets/controls",
          "model_module_version": "1.5.0",
          "model_name": "FloatProgressModel",
          "state": {
            "_dom_classes": [],
            "_model_module": "@jupyter-widgets/controls",
            "_model_module_version": "1.5.0",
            "_model_name": "FloatProgressModel",
            "_view_count": null,
            "_view_module": "@jupyter-widgets/controls",
            "_view_module_version": "1.5.0",
            "_view_name": "ProgressView",
            "bar_style": "success",
            "description": "",
            "description_tooltip": null,
            "layout": "IPY_MODEL_8a477ab3c2bc42258e93d5c78d67d91a",
            "max": 561753746,
            "min": 0,
            "orientation": "horizontal",
            "style": "IPY_MODEL_777f0e35908d4d44b8ded3cecb50d0ac",
            "value": 561753746
          }
        },
        "c00851dc71364a298918ab2fdf5d7f2a": {
          "model_module": "@jupyter-widgets/controls",
          "model_module_version": "1.5.0",
          "model_name": "HTMLModel",
          "state": {
            "_dom_classes": [],
            "_model_module": "@jupyter-widgets/controls",
            "_model_module_version": "1.5.0",
            "_model_name": "HTMLModel",
            "_view_count": null,
            "_view_module": "@jupyter-widgets/controls",
            "_view_module_version": "1.5.0",
            "_view_name": "HTMLView",
            "description": "",
            "description_tooltip": null,
            "layout": "IPY_MODEL_45bd2e39efdd4fb19f319e37480e4488",
            "placeholder": "​",
            "style": "IPY_MODEL_43e10b35a65f45ef947c39ef9c92178a",
            "value": " 255M/255M [00:07&lt;00:00, 35.1MB/s]"
          }
        },
        "c3b80ec2a7bb4f8b9dc922900fdce9b4": {
          "model_module": "@jupyter-widgets/controls",
          "model_module_version": "1.5.0",
          "model_name": "HBoxModel",
          "state": {
            "_dom_classes": [],
            "_model_module": "@jupyter-widgets/controls",
            "_model_module_version": "1.5.0",
            "_model_name": "HBoxModel",
            "_view_count": null,
            "_view_module": "@jupyter-widgets/controls",
            "_view_module_version": "1.5.0",
            "_view_name": "HBoxView",
            "box_style": "",
            "children": [
              "IPY_MODEL_ba1a7787ef4e44688aea67b81b07ddd4",
              "IPY_MODEL_de9ae309f7374bcc8d789b16b17094b5",
              "IPY_MODEL_437adbdb0cb449a0aa0d082f47a8d0f7"
            ],
            "layout": "IPY_MODEL_4ec3a133b54842d792849092d868f434"
          }
        },
        "c7a64d9169814e6691280a9fde9c619d": {
          "model_module": "@jupyter-widgets/controls",
          "model_module_version": "1.5.0",
          "model_name": "DescriptionStyleModel",
          "state": {
            "_model_module": "@jupyter-widgets/controls",
            "_model_module_version": "1.5.0",
            "_model_name": "DescriptionStyleModel",
            "_view_count": null,
            "_view_module": "@jupyter-widgets/base",
            "_view_module_version": "1.2.0",
            "_view_name": "StyleView",
            "description_width": ""
          }
        },
        "d518c1d4e82c41aeb83003fd4b6c9e7c": {
          "model_module": "@jupyter-widgets/controls",
          "model_module_version": "1.5.0",
          "model_name": "HTMLModel",
          "state": {
            "_dom_classes": [],
            "_model_module": "@jupyter-widgets/controls",
            "_model_module_version": "1.5.0",
            "_model_name": "HTMLModel",
            "_view_count": null,
            "_view_module": "@jupyter-widgets/controls",
            "_view_module_version": "1.5.0",
            "_view_name": "HTMLView",
            "description": "",
            "description_tooltip": null,
            "layout": "IPY_MODEL_8ee1ccbddbba4fca9ab1f6702143fd09",
            "placeholder": "​",
            "style": "IPY_MODEL_407e2e26f7954dc69eced74f6f86a9bf",
            "value": "100%"
          }
        },
        "d75e05b259874a17a913e4c31c7ca122": {
          "model_module": "@jupyter-widgets/controls",
          "model_module_version": "1.5.0",
          "model_name": "VBoxModel",
          "state": {
            "_dom_classes": [],
            "_model_module": "@jupyter-widgets/controls",
            "_model_module_version": "1.5.0",
            "_model_name": "VBoxModel",
            "_view_count": null,
            "_view_module": "@jupyter-widgets/controls",
            "_view_module_version": "1.5.0",
            "_view_name": "VBoxView",
            "box_style": "",
            "children": [
              "IPY_MODEL_9119c73e52e2483caa5037b6be8b9352",
              "IPY_MODEL_31625aa9465c4e6c929a34363478a506"
            ],
            "layout": "IPY_MODEL_3e9fb2541d87435090fc99b7a557042c"
          }
        },
        "de9ae309f7374bcc8d789b16b17094b5": {
          "model_module": "@jupyter-widgets/controls",
          "model_module_version": "1.5.0",
          "model_name": "FloatProgressModel",
          "state": {
            "_dom_classes": [],
            "_model_module": "@jupyter-widgets/controls",
            "_model_module_version": "1.5.0",
            "_model_name": "FloatProgressModel",
            "_view_count": null,
            "_view_module": "@jupyter-widgets/controls",
            "_view_module_version": "1.5.0",
            "_view_name": "ProgressView",
            "bar_style": "success",
            "description": "",
            "description_tooltip": null,
            "layout": "IPY_MODEL_56fece85c87644318e58fb4c697d6033",
            "max": 241627721,
            "min": 0,
            "orientation": "horizontal",
            "style": "IPY_MODEL_43ffcff9ee0845f49a2d183e9995cdf1",
            "value": 241627721
          }
        },
        "eaee232b52874080bf9b6f733093ea22": {
          "model_module": "@jupyter-widgets/base",
          "model_module_version": "1.2.0",
          "model_name": "LayoutModel",
          "state": {
            "_model_module": "@jupyter-widgets/base",
            "_model_module_version": "1.2.0",
            "_model_name": "LayoutModel",
            "_view_count": null,
            "_view_module": "@jupyter-widgets/base",
            "_view_module_version": "1.2.0",
            "_view_name": "LayoutView",
            "align_content": null,
            "align_items": null,
            "align_self": null,
            "border": null,
            "bottom": null,
            "display": null,
            "flex": null,
            "flex_flow": null,
            "grid_area": null,
            "grid_auto_columns": null,
            "grid_auto_flow": null,
            "grid_auto_rows": null,
            "grid_column": null,
            "grid_gap": null,
            "grid_row": null,
            "grid_template_areas": null,
            "grid_template_columns": null,
            "grid_template_rows": null,
            "height": null,
            "justify_content": null,
            "justify_items": null,
            "left": null,
            "margin": null,
            "max_height": null,
            "max_width": null,
            "min_height": null,
            "min_width": null,
            "object_fit": null,
            "object_position": null,
            "order": null,
            "overflow": null,
            "overflow_x": null,
            "overflow_y": null,
            "padding": null,
            "right": null,
            "top": null,
            "visibility": null,
            "width": null
          }
        },
        "f3d4fef44ff9447fa26f06cf72e33f26": {
          "model_module": "@jupyter-widgets/base",
          "model_module_version": "1.2.0",
          "model_name": "LayoutModel",
          "state": {
            "_model_module": "@jupyter-widgets/base",
            "_model_module_version": "1.2.0",
            "_model_name": "LayoutModel",
            "_view_count": null,
            "_view_module": "@jupyter-widgets/base",
            "_view_module_version": "1.2.0",
            "_view_name": "LayoutView",
            "align_content": null,
            "align_items": null,
            "align_self": null,
            "border": null,
            "bottom": null,
            "display": null,
            "flex": null,
            "flex_flow": null,
            "grid_area": null,
            "grid_auto_columns": null,
            "grid_auto_flow": null,
            "grid_auto_rows": null,
            "grid_column": null,
            "grid_gap": null,
            "grid_row": null,
            "grid_template_areas": null,
            "grid_template_columns": null,
            "grid_template_rows": null,
            "height": null,
            "justify_content": null,
            "justify_items": null,
            "left": null,
            "margin": null,
            "max_height": null,
            "max_width": null,
            "min_height": null,
            "min_width": null,
            "object_fit": null,
            "object_position": null,
            "order": null,
            "overflow": null,
            "overflow_x": null,
            "overflow_y": null,
            "padding": null,
            "right": null,
            "top": null,
            "visibility": null,
            "width": null
          }
        }
      }
    }
  },
  "nbformat": 4,
  "nbformat_minor": 0
}
