{
 "cells": [
  {
   "cell_type": "code",
   "execution_count": 1,
   "metadata": {},
   "outputs": [],
   "source": [
    "import uc3m_pic"
   ]
  },
  {
   "cell_type": "code",
   "execution_count": 2,
   "metadata": {},
   "outputs": [],
   "source": [
    "import torch\n",
    "# import uc3m_pic\n",
    "# import numpy as np"
   ]
  },
  {
   "cell_type": "code",
   "execution_count": 3,
   "metadata": {},
   "outputs": [],
   "source": [
    "# Create sequential model with torch with 2 layers of 20 convoluional filters \n",
    "# of size 5x5, 2x2 max pooling and relu activation function. Final layer is softmax.\n",
    "# Input image is 3x224x224\n",
    "\n",
    "model = torch.nn.Sequential(\n",
    "    torch.nn.Conv2d(3, 20, 5),\n",
    "    torch.nn.ReLU(),\n",
    "    torch.nn.MaxPool2d(2, stride=2),\n",
    "    torch.nn.Conv2d(20, 20, 5),\n",
    "    torch.nn.ReLU(),\n",
    "    torch.nn.MaxPool2d(2, stride=2),\n",
    "    torch.nn.Flatten(),\n",
    "    torch.nn.Linear(20 * 53 * 53, 2),\n",
    "    torch.nn.Softmax(dim=1)\n",
    ")\n",
    "device = torch.device('cuda' if torch.cuda.is_available() else 'cpu')\n",
    "model.to(device);"
   ]
  },
  {
   "cell_type": "code",
   "execution_count": 3,
   "metadata": {},
   "outputs": [],
   "source": [
    "# Create dummy input data for testing\n",
    "\n",
    "x = torch.randn(1, 3, 224, 224, requires_grad=True).to(device)\n",
    "\n",
    "# Forward pass\n",
    "y = model(x)"
   ]
  },
  {
   "cell_type": "code",
   "execution_count": 4,
   "metadata": {},
   "outputs": [],
   "source": [
    "import torchsummary"
   ]
  },
  {
   "cell_type": "code",
   "execution_count": 5,
   "metadata": {},
   "outputs": [
    {
     "name": "stdout",
     "output_type": "stream",
     "text": [
      "----------------------------------------------------------------\n",
      "        Layer (type)               Output Shape         Param #\n",
      "================================================================\n",
      "            Conv2d-1         [-1, 20, 220, 220]           1,520\n",
      "              ReLU-2         [-1, 20, 220, 220]               0\n",
      "         MaxPool2d-3         [-1, 20, 110, 110]               0\n",
      "            Conv2d-4         [-1, 20, 106, 106]          10,020\n",
      "              ReLU-5         [-1, 20, 106, 106]               0\n",
      "         MaxPool2d-6           [-1, 20, 53, 53]               0\n",
      "           Flatten-7                [-1, 56180]               0\n",
      "            Linear-8                    [-1, 2]         112,362\n",
      "           Softmax-9                    [-1, 2]               0\n",
      "================================================================\n",
      "Total params: 123,902\n",
      "Trainable params: 123,902\n",
      "Non-trainable params: 0\n",
      "----------------------------------------------------------------\n",
      "Input size (MB): 0.57\n",
      "Forward/backward pass size (MB): 20.90\n",
      "Params size (MB): 0.47\n",
      "Estimated Total Size (MB): 21.95\n",
      "----------------------------------------------------------------\n"
     ]
    }
   ],
   "source": [
    "torchsummary.summary(model, (3, 224, 224))"
   ]
  },
  {
   "cell_type": "code",
   "execution_count": 12,
   "metadata": {},
   "outputs": [],
   "source": [
    "import gspread\n",
    "import torch\n",
    "import os\n",
    "import json"
   ]
  },
  {
   "cell_type": "code",
   "execution_count": null,
   "metadata": {},
   "outputs": [],
   "source": [
    "json_path = os.path.join(uc3m_pic.__path__[0], '..', 'gsheets', 'creds.json')"
   ]
  },
  {
   "cell_type": "code",
   "execution_count": null,
   "metadata": {},
   "outputs": [],
   "source": [
    "gs = gspread.oauth(credentials_filename=json_path, \n",
    "        scopes=['https://www.googleapis.com/auth/spreadsheets'])"
   ]
  },
  {
   "cell_type": "code",
   "execution_count": 11,
   "metadata": {},
   "outputs": [
    {
     "name": "stdout",
     "output_type": "stream",
     "text": [
      "Please visit this URL: https://accounts.google.com/o/oauth2/auth?response_type=code&client_id=692297904568-btise90r64eqgku08bm84dvabmgf8n2a.apps.googleusercontent.com&redirect_uri=http%3A%2F%2Flocalhost%3A8182%2F&scope=https%3A%2F%2Fwww.googleapis.com%2Fauth%2Fspreadsheets&state=6mR9hJJulrF71LdiKbVaacF23NMXoE&access_type=offline\n"
     ]
    }
   ],
   "source": [
    "from google_auth_oauthlib.flow import InstalledAppFlow\n",
    "\n",
    "flow = InstalledAppFlow.from_client_config(\n",
    "    client_config=json.load(open(json_path)),\n",
    "    scopes=[\"https://www.googleapis.com/auth/spreadsheets\"])\n",
    "\n",
    "gs = flow.run_local_server(\n",
    "    host=\"localhost\",\n",
    "    port=8182,\n",
    "    authorization_prompt_message=\"Please visit this URL: {url}\",\n",
    "    success_message=\"The auth flow is complete; you may close this window.\",\n",
    ")"
   ]
  },
  {
   "cell_type": "code",
   "execution_count": null,
   "metadata": {},
   "outputs": [],
   "source": []
  }
 ],
 "metadata": {
  "kernelspec": {
   "display_name": "pic",
   "language": "python",
   "name": "python3"
  },
  "language_info": {
   "codemirror_mode": {
    "name": "ipython",
    "version": 3
   },
   "file_extension": ".py",
   "mimetype": "text/x-python",
   "name": "python",
   "nbconvert_exporter": "python",
   "pygments_lexer": "ipython3",
   "version": "3.11.4"
  },
  "orig_nbformat": 4
 },
 "nbformat": 4,
 "nbformat_minor": 2
}
