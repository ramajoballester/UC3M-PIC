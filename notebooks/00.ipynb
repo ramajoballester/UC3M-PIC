{
 "cells": [
  {
   "cell_type": "code",
   "execution_count": 13,
   "metadata": {},
   "outputs": [
    {
     "name": "stdout",
     "output_type": "stream",
     "text": [
      "The autoreload extension is already loaded. To reload it, use:\n",
      "  %reload_ext autoreload\n"
     ]
    }
   ],
   "source": [
    "%load_ext autoreload\n",
    "%autoreload 2\n",
    "\n",
    "import torch\n",
    "import uc3m_pic\n",
    "import uc3m_pic_enc\n",
    "import torchsummary\n",
    "import json\n",
    "import os\n",
    "import gspread\n",
    "import hashlib"
   ]
  },
  {
   "cell_type": "code",
   "execution_count": 3,
   "metadata": {},
   "outputs": [],
   "source": [
    "# Create sequential model with torch with 2 layers of 20 convoluional filters \n",
    "# of size 5x5, 2x2 max pooling and relu activation function. Final layer is softmax.\n",
    "# Input image is 3x224x224\n",
    "\n",
    "model = torch.nn.Sequential(\n",
    "    torch.nn.Conv2d(3, 20, 5),\n",
    "    torch.nn.ReLU(),\n",
    "    torch.nn.MaxPool2d(2, stride=2),\n",
    "    torch.nn.Conv2d(20, 20, 5),\n",
    "    torch.nn.ReLU(),\n",
    "    torch.nn.MaxPool2d(2, stride=2),\n",
    "    torch.nn.Flatten(),\n",
    "    torch.nn.Linear(20 * 53 * 53, 2),\n",
    "    torch.nn.Softmax(dim=1)\n",
    ")\n",
    "device = torch.device('cuda' if torch.cuda.is_available() else 'cpu')\n",
    "model.to(device);"
   ]
  },
  {
   "cell_type": "code",
   "execution_count": 3,
   "metadata": {},
   "outputs": [],
   "source": [
    "# Create dummy input data for testing\n",
    "\n",
    "x = torch.randn(1, 3, 224, 224, requires_grad=True).to(device)\n",
    "\n",
    "# Forward pass\n",
    "y = model(x)"
   ]
  },
  {
   "cell_type": "code",
   "execution_count": 5,
   "metadata": {},
   "outputs": [
    {
     "name": "stdout",
     "output_type": "stream",
     "text": [
      "----------------------------------------------------------------\n",
      "        Layer (type)               Output Shape         Param #\n",
      "================================================================\n",
      "            Conv2d-1         [-1, 20, 220, 220]           1,520\n",
      "              ReLU-2         [-1, 20, 220, 220]               0\n",
      "         MaxPool2d-3         [-1, 20, 110, 110]               0\n",
      "            Conv2d-4         [-1, 20, 106, 106]          10,020\n",
      "              ReLU-5         [-1, 20, 106, 106]               0\n",
      "         MaxPool2d-6           [-1, 20, 53, 53]               0\n",
      "           Flatten-7                [-1, 56180]               0\n",
      "            Linear-8                    [-1, 2]         112,362\n",
      "           Softmax-9                    [-1, 2]               0\n",
      "================================================================\n",
      "Total params: 123,902\n",
      "Trainable params: 123,902\n",
      "Non-trainable params: 0\n",
      "----------------------------------------------------------------\n",
      "Input size (MB): 0.57\n",
      "Forward/backward pass size (MB): 20.90\n",
      "Params size (MB): 0.47\n",
      "Estimated Total Size (MB): 21.95\n",
      "----------------------------------------------------------------\n"
     ]
    }
   ],
   "source": [
    "torchsummary.summary(model, (3, 224, 224))"
   ]
  },
  {
   "cell_type": "code",
   "execution_count": 6,
   "metadata": {},
   "outputs": [],
   "source": [
    "from google.auth import default"
   ]
  },
  {
   "cell_type": "code",
   "execution_count": 7,
   "metadata": {},
   "outputs": [
    {
     "name": "stderr",
     "output_type": "stream",
     "text": [
      "/home/messi/anaconda3/envs/pic/lib/python3.11/site-packages/google/auth/_default.py:78: UserWarning: Your application has authenticated using end user credentials from Google Cloud SDK without a quota project. You might receive a \"quota exceeded\" or \"API not enabled\" error. See the following page for troubleshooting: https://cloud.google.com/docs/authentication/adc-troubleshooting/user-creds. \n",
      "  warnings.warn(_CLOUD_SDK_CREDENTIALS_WARNING)\n"
     ]
    }
   ],
   "source": [
    "creds, _ = default(scopes=['https://www.googleapis.com/auth/spreadsheets'])"
   ]
  },
  {
   "cell_type": "code",
   "execution_count": 10,
   "metadata": {},
   "outputs": [],
   "source": [
    "creds.scopes"
   ]
  },
  {
   "cell_type": "markdown",
   "metadata": {},
   "source": [
    "# OAuth"
   ]
  },
  {
   "cell_type": "code",
   "execution_count": 2,
   "metadata": {},
   "outputs": [],
   "source": [
    "user = uc3m_pic_enc.eval.User('100440462')"
   ]
  },
  {
   "cell_type": "code",
   "execution_count": 3,
   "metadata": {},
   "outputs": [
    {
     "name": "stdout",
     "output_type": "stream",
     "text": [
      "Please visit this URL: https://accounts.google.com/o/oauth2/auth?response_type=code&client_id=692297904568-btise90r64eqgku08bm84dvabmgf8n2a.apps.googleusercontent.com&redirect_uri=http%3A%2F%2Flocalhost%3A8157%2F&scope=https%3A%2F%2Fwww.googleapis.com%2Fauth%2Fspreadsheets&state=iQOX0UWAMJE5Ht9k1EYa7o3cEgPZCz&access_type=offline\n"
     ]
    }
   ],
   "source": [
    "json_path = os.path.join(uc3m_pic_enc.__path__[0], '..', 'gsheets', 'creds.json')\n",
    "user.login_remote(json_path=json_path)"
   ]
  },
  {
   "cell_type": "code",
   "execution_count": 5,
   "metadata": {},
   "outputs": [],
   "source": [
    "user.open_by_url('https://docs.google.com/spreadsheets/d/1sGXOQo0WgKjllJSdE778EBhU63f-wmSrazeINSnl1a0/edit#gid=0')"
   ]
  },
  {
   "cell_type": "code",
   "execution_count": null,
   "metadata": {},
   "outputs": [],
   "source": [
    "user.leaderboard.update_cell(2, user.row, '1.0')"
   ]
  },
  {
   "cell_type": "code",
   "execution_count": 12,
   "metadata": {},
   "outputs": [
    {
     "data": {
      "text/plain": [
       "<Worksheet 'Leaderboard' id:0>"
      ]
     },
     "execution_count": 12,
     "metadata": {},
     "output_type": "execute_result"
    }
   ],
   "source": [
    "user.leaderboard"
   ]
  },
  {
   "cell_type": "code",
   "execution_count": 15,
   "metadata": {},
   "outputs": [
    {
     "name": "stdout",
     "output_type": "stream",
     "text": [
      "Generated Hash Code: 58b44e6c9c7aad511db44bd9208f3f44ee0d9bd1144125ef1528daef434a436e\n",
      "Is Valid: True\n"
     ]
    }
   ],
   "source": [
    "# Example usage\n",
    "user_id = \"user123\"\n",
    "score = 95.5\n",
    "secret_key = \"mysecretkey\"\n",
    "\n",
    "# Generate hash code\n",
    "hash_code = generate_hash(user_id, score, secret_key)\n",
    "print(\"Generated Hash Code:\", hash_code)\n",
    "\n",
    "# Verify hash code\n",
    "is_valid = verify_hash(user_id, score, secret_key, hash_code)\n",
    "print(\"Is Valid:\", is_valid)"
   ]
  }
 ],
 "metadata": {
  "kernelspec": {
   "display_name": "pic",
   "language": "python",
   "name": "python3"
  },
  "language_info": {
   "codemirror_mode": {
    "name": "ipython",
    "version": 3
   },
   "file_extension": ".py",
   "mimetype": "text/x-python",
   "name": "python",
   "nbconvert_exporter": "python",
   "pygments_lexer": "ipython3",
   "version": "3.11.4"
  },
  "orig_nbformat": 4
 },
 "nbformat": 4,
 "nbformat_minor": 2
}
